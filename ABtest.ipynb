{
 "cells": [
  {
   "cell_type": "markdown",
   "metadata": {},
   "source": [
    "# Описание проекта"
   ]
  },
  {
   "cell_type": "markdown",
   "metadata": {},
   "source": [
    "<div style=\"border: 1px solid; padding: 20px\">\n",
    "<i>Вы — аналитик крупного интернет-магазина. Вместе с отделом маркетинга вы подготовили список гипотез для увеличения выручки.\n",
    "Приоритизируйте гипотезы, запустите A/B-тест и проанализируйте результаты.<i>\n",
    "</div>"
   ]
  },
  {
   "cell_type": "markdown",
   "metadata": {},
   "source": [
    "# Описание данных"
   ]
  },
  {
   "cell_type": "markdown",
   "metadata": {},
   "source": [
    "**Данные для первой части**\n",
    "\n",
    "Файл `/datasets/hypothesis.csv`\n",
    "- `Hypothesis` — краткое описание гипотезы;\n",
    "- `Reach` — охват пользователей по 10-балльной шкале;\n",
    "- `Impact` — влияние на пользователей по 10-балльной шкале;\n",
    "- `Confidence` — уверенность в гипотезе по 10-балльной шкале;\n",
    "- `Efforts` — затраты ресурсов на проверку гипотезы по 10-балльной шкале. Чем больше значение Efforts, тем дороже проверка гипотезы.\n",
    "***\n",
    "**Данные для второй части**\n",
    "\n",
    "Файл `/datasets/orders.csv`\n",
    "- `transactionId` — идентификатор заказа;\n",
    "- `visitorId` — идентификатор пользователя, совершившего заказ;\n",
    "- `date` — дата, когда был совершён заказ;\n",
    "- `revenue` — выручка заказа;\n",
    "- `group` — группа A/B-теста, в которую попал заказ.\n",
    "\n",
    "Файл `/datasets/visitors.csv`\n",
    "- `date` — дата;\n",
    "- `group` — группа A/B-теста;\n",
    "- `visitors` — количество пользователей в указанную дату в указанной группе A/B-теста"
   ]
  },
  {
   "cell_type": "markdown",
   "metadata": {},
   "source": [
    "## Часть 1. Приоритизация гипотез."
   ]
  },
  {
   "cell_type": "code",
   "execution_count": 1,
   "metadata": {},
   "outputs": [],
   "source": [
    "import os\n",
    "import pandas as pd\n",
    "import numpy as np\n",
    "import scipy.stats as stats\n",
    "import datetime as dt\n",
    "import matplotlib.pyplot as plt"
   ]
  },
  {
   "cell_type": "code",
   "execution_count": 2,
   "metadata": {},
   "outputs": [
    {
     "data": {
      "text/html": [
       "<div>\n",
       "<style scoped>\n",
       "    .dataframe tbody tr th:only-of-type {\n",
       "        vertical-align: middle;\n",
       "    }\n",
       "\n",
       "    .dataframe tbody tr th {\n",
       "        vertical-align: top;\n",
       "    }\n",
       "\n",
       "    .dataframe thead th {\n",
       "        text-align: right;\n",
       "    }\n",
       "</style>\n",
       "<table border=\"1\" class=\"dataframe\">\n",
       "  <thead>\n",
       "    <tr style=\"text-align: right;\">\n",
       "      <th></th>\n",
       "      <th>Hypothesis</th>\n",
       "      <th>Reach</th>\n",
       "      <th>Impact</th>\n",
       "      <th>Confidence</th>\n",
       "      <th>Efforts</th>\n",
       "    </tr>\n",
       "  </thead>\n",
       "  <tbody>\n",
       "    <tr>\n",
       "      <th>0</th>\n",
       "      <td>Добавить два новых канала привлечения трафика, что позволит привлекать на 30% больше пользователей</td>\n",
       "      <td>3</td>\n",
       "      <td>10</td>\n",
       "      <td>8</td>\n",
       "      <td>6</td>\n",
       "    </tr>\n",
       "    <tr>\n",
       "      <th>1</th>\n",
       "      <td>Запустить собственную службу доставки, что сократит срок доставки заказов</td>\n",
       "      <td>2</td>\n",
       "      <td>5</td>\n",
       "      <td>4</td>\n",
       "      <td>10</td>\n",
       "    </tr>\n",
       "    <tr>\n",
       "      <th>2</th>\n",
       "      <td>Добавить блоки рекомендаций товаров на сайт интернет магазина, чтобы повысить конверсию и средний чек заказа</td>\n",
       "      <td>8</td>\n",
       "      <td>3</td>\n",
       "      <td>7</td>\n",
       "      <td>3</td>\n",
       "    </tr>\n",
       "    <tr>\n",
       "      <th>3</th>\n",
       "      <td>Изменить структура категорий, что увеличит конверсию, т.к. пользователи быстрее найдут нужный товар</td>\n",
       "      <td>8</td>\n",
       "      <td>3</td>\n",
       "      <td>3</td>\n",
       "      <td>8</td>\n",
       "    </tr>\n",
       "    <tr>\n",
       "      <th>4</th>\n",
       "      <td>Изменить цвет фона главной страницы, чтобы увеличить вовлеченность пользователей</td>\n",
       "      <td>3</td>\n",
       "      <td>1</td>\n",
       "      <td>1</td>\n",
       "      <td>1</td>\n",
       "    </tr>\n",
       "    <tr>\n",
       "      <th>5</th>\n",
       "      <td>Добавить страницу отзывов клиентов о магазине, что позволит увеличить количество заказов</td>\n",
       "      <td>3</td>\n",
       "      <td>2</td>\n",
       "      <td>2</td>\n",
       "      <td>3</td>\n",
       "    </tr>\n",
       "    <tr>\n",
       "      <th>6</th>\n",
       "      <td>Показать на главной странице баннеры с актуальными акциями и распродажами, чтобы увеличить конверсию</td>\n",
       "      <td>5</td>\n",
       "      <td>3</td>\n",
       "      <td>8</td>\n",
       "      <td>3</td>\n",
       "    </tr>\n",
       "    <tr>\n",
       "      <th>7</th>\n",
       "      <td>Добавить форму подписки на все основные страницы, чтобы собрать базу клиентов для email-рассылок</td>\n",
       "      <td>10</td>\n",
       "      <td>7</td>\n",
       "      <td>8</td>\n",
       "      <td>5</td>\n",
       "    </tr>\n",
       "    <tr>\n",
       "      <th>8</th>\n",
       "      <td>Запустить акцию, дающую скидку на товар в день рождения</td>\n",
       "      <td>1</td>\n",
       "      <td>9</td>\n",
       "      <td>9</td>\n",
       "      <td>5</td>\n",
       "    </tr>\n",
       "  </tbody>\n",
       "</table>\n",
       "</div>"
      ],
      "text/plain": [
       "                                                                                                     Hypothesis  \\\n",
       "0            Добавить два новых канала привлечения трафика, что позволит привлекать на 30% больше пользователей   \n",
       "1                                     Запустить собственную службу доставки, что сократит срок доставки заказов   \n",
       "2  Добавить блоки рекомендаций товаров на сайт интернет магазина, чтобы повысить конверсию и средний чек заказа   \n",
       "3           Изменить структура категорий, что увеличит конверсию, т.к. пользователи быстрее найдут нужный товар   \n",
       "4                              Изменить цвет фона главной страницы, чтобы увеличить вовлеченность пользователей   \n",
       "5                      Добавить страницу отзывов клиентов о магазине, что позволит увеличить количество заказов   \n",
       "6          Показать на главной странице баннеры с актуальными акциями и распродажами, чтобы увеличить конверсию   \n",
       "7              Добавить форму подписки на все основные страницы, чтобы собрать базу клиентов для email-рассылок   \n",
       "8                                                       Запустить акцию, дающую скидку на товар в день рождения   \n",
       "\n",
       "   Reach  Impact  Confidence  Efforts  \n",
       "0      3      10           8        6  \n",
       "1      2       5           4       10  \n",
       "2      8       3           7        3  \n",
       "3      8       3           3        8  \n",
       "4      3       1           1        1  \n",
       "5      3       2           2        3  \n",
       "6      5       3           8        3  \n",
       "7     10       7           8        5  \n",
       "8      1       9           9        5  "
      ]
     },
     "metadata": {},
     "output_type": "display_data"
    }
   ],
   "source": [
    "pth1 = '/datasets/hypothesis.csv'\n",
    "\n",
    "if os.path.exists(pth1):\n",
    "    hypothesis = pd.read_csv(pth1)\n",
    "else:\n",
    "    try:\n",
    "        hypothesis = pd.read_csv('https://code.s3.yandex.net/datasets/hypothesis.csv')\n",
    "    except:\n",
    "        print('Что-то пошло не так...')\n",
    "\n",
    "pd.options.display.max_colwidth = 110\n",
    "display(hypothesis)"
   ]
  },
  {
   "cell_type": "code",
   "execution_count": 3,
   "metadata": {},
   "outputs": [
    {
     "name": "stdout",
     "output_type": "stream",
     "text": [
      "<class 'pandas.core.frame.DataFrame'>\n",
      "RangeIndex: 9 entries, 0 to 8\n",
      "Data columns (total 5 columns):\n",
      " #   Column      Non-Null Count  Dtype \n",
      "---  ------      --------------  ----- \n",
      " 0   Hypothesis  9 non-null      object\n",
      " 1   Reach       9 non-null      int64 \n",
      " 2   Impact      9 non-null      int64 \n",
      " 3   Confidence  9 non-null      int64 \n",
      " 4   Efforts     9 non-null      int64 \n",
      "dtypes: int64(4), object(1)\n",
      "memory usage: 488.0+ bytes\n"
     ]
    }
   ],
   "source": [
    "hypothesis.info()"
   ]
  },
  {
   "cell_type": "markdown",
   "metadata": {},
   "source": [
    "Названия колонок датафрейма начинаются с заглавных букв, что не соответсвует стандарту оформления, однако, данный факт никак не повлияет на дальнейшую работу. По этой причине не будем переименовывать столбцы."
   ]
  },
  {
   "cell_type": "markdown",
   "metadata": {},
   "source": [
    "### Примените фреймворк `ICE` для приоритизации гипотез"
   ]
  },
  {
   "cell_type": "code",
   "execution_count": 4,
   "metadata": {},
   "outputs": [
    {
     "data": {
      "text/html": [
       "<div>\n",
       "<style scoped>\n",
       "    .dataframe tbody tr th:only-of-type {\n",
       "        vertical-align: middle;\n",
       "    }\n",
       "\n",
       "    .dataframe tbody tr th {\n",
       "        vertical-align: top;\n",
       "    }\n",
       "\n",
       "    .dataframe thead th {\n",
       "        text-align: right;\n",
       "    }\n",
       "</style>\n",
       "<table border=\"1\" class=\"dataframe\">\n",
       "  <thead>\n",
       "    <tr style=\"text-align: right;\">\n",
       "      <th></th>\n",
       "      <th>Hypothesis №</th>\n",
       "      <th>Hypothesis</th>\n",
       "      <th>ICE</th>\n",
       "    </tr>\n",
       "  </thead>\n",
       "  <tbody>\n",
       "    <tr>\n",
       "      <th>0</th>\n",
       "      <td>9</td>\n",
       "      <td>Запустить акцию, дающую скидку на товар в день рождения</td>\n",
       "      <td>16.2</td>\n",
       "    </tr>\n",
       "    <tr>\n",
       "      <th>1</th>\n",
       "      <td>1</td>\n",
       "      <td>Добавить два новых канала привлечения трафика, что позволит привлекать на 30% больше пользователей</td>\n",
       "      <td>13.3</td>\n",
       "    </tr>\n",
       "    <tr>\n",
       "      <th>2</th>\n",
       "      <td>8</td>\n",
       "      <td>Добавить форму подписки на все основные страницы, чтобы собрать базу клиентов для email-рассылок</td>\n",
       "      <td>11.2</td>\n",
       "    </tr>\n",
       "    <tr>\n",
       "      <th>3</th>\n",
       "      <td>7</td>\n",
       "      <td>Показать на главной странице баннеры с актуальными акциями и распродажами, чтобы увеличить конверсию</td>\n",
       "      <td>8.0</td>\n",
       "    </tr>\n",
       "    <tr>\n",
       "      <th>4</th>\n",
       "      <td>3</td>\n",
       "      <td>Добавить блоки рекомендаций товаров на сайт интернет магазина, чтобы повысить конверсию и средний чек заказа</td>\n",
       "      <td>7.0</td>\n",
       "    </tr>\n",
       "    <tr>\n",
       "      <th>5</th>\n",
       "      <td>2</td>\n",
       "      <td>Запустить собственную службу доставки, что сократит срок доставки заказов</td>\n",
       "      <td>2.0</td>\n",
       "    </tr>\n",
       "    <tr>\n",
       "      <th>6</th>\n",
       "      <td>6</td>\n",
       "      <td>Добавить страницу отзывов клиентов о магазине, что позволит увеличить количество заказов</td>\n",
       "      <td>1.3</td>\n",
       "    </tr>\n",
       "    <tr>\n",
       "      <th>7</th>\n",
       "      <td>4</td>\n",
       "      <td>Изменить структура категорий, что увеличит конверсию, т.к. пользователи быстрее найдут нужный товар</td>\n",
       "      <td>1.1</td>\n",
       "    </tr>\n",
       "    <tr>\n",
       "      <th>8</th>\n",
       "      <td>5</td>\n",
       "      <td>Изменить цвет фона главной страницы, чтобы увеличить вовлеченность пользователей</td>\n",
       "      <td>1.0</td>\n",
       "    </tr>\n",
       "  </tbody>\n",
       "</table>\n",
       "</div>"
      ],
      "text/plain": [
       "   Hypothesis №  \\\n",
       "0             9   \n",
       "1             1   \n",
       "2             8   \n",
       "3             7   \n",
       "4             3   \n",
       "5             2   \n",
       "6             6   \n",
       "7             4   \n",
       "8             5   \n",
       "\n",
       "                                                                                                     Hypothesis  \\\n",
       "0                                                       Запустить акцию, дающую скидку на товар в день рождения   \n",
       "1            Добавить два новых канала привлечения трафика, что позволит привлекать на 30% больше пользователей   \n",
       "2              Добавить форму подписки на все основные страницы, чтобы собрать базу клиентов для email-рассылок   \n",
       "3          Показать на главной странице баннеры с актуальными акциями и распродажами, чтобы увеличить конверсию   \n",
       "4  Добавить блоки рекомендаций товаров на сайт интернет магазина, чтобы повысить конверсию и средний чек заказа   \n",
       "5                                     Запустить собственную службу доставки, что сократит срок доставки заказов   \n",
       "6                      Добавить страницу отзывов клиентов о магазине, что позволит увеличить количество заказов   \n",
       "7           Изменить структура категорий, что увеличит конверсию, т.к. пользователи быстрее найдут нужный товар   \n",
       "8                              Изменить цвет фона главной страницы, чтобы увеличить вовлеченность пользователей   \n",
       "\n",
       "    ICE  \n",
       "0  16.2  \n",
       "1  13.3  \n",
       "2  11.2  \n",
       "3   8.0  \n",
       "4   7.0  \n",
       "5   2.0  \n",
       "6   1.3  \n",
       "7   1.1  \n",
       "8   1.0  "
      ]
     },
     "metadata": {},
     "output_type": "display_data"
    }
   ],
   "source": [
    "hypothesis['ICE'] = (hypothesis['Confidence'] * hypothesis['Impact'] / hypothesis['Efforts']).round(1)\n",
    "ICE = hypothesis[['Hypothesis', 'ICE']]\\\n",
    "                                    .sort_values(by='ICE', ascending=False)\\\n",
    "                                    .reset_index()\\\n",
    "                                    .rename(columns={'index':'Hypothesis №'})\n",
    "ICE['Hypothesis №'] = ICE['Hypothesis №'] + 1\n",
    "display(ICE)"
   ]
  },
  {
   "cell_type": "markdown",
   "metadata": {},
   "source": [
    "### Примените фреймворк `RICE` для приоритизации гипотез"
   ]
  },
  {
   "cell_type": "code",
   "execution_count": 5,
   "metadata": {},
   "outputs": [
    {
     "data": {
      "text/html": [
       "<div>\n",
       "<style scoped>\n",
       "    .dataframe tbody tr th:only-of-type {\n",
       "        vertical-align: middle;\n",
       "    }\n",
       "\n",
       "    .dataframe tbody tr th {\n",
       "        vertical-align: top;\n",
       "    }\n",
       "\n",
       "    .dataframe thead th {\n",
       "        text-align: right;\n",
       "    }\n",
       "</style>\n",
       "<table border=\"1\" class=\"dataframe\">\n",
       "  <thead>\n",
       "    <tr style=\"text-align: right;\">\n",
       "      <th></th>\n",
       "      <th>Hypothesis №</th>\n",
       "      <th>Hypothesis</th>\n",
       "      <th>RICE</th>\n",
       "    </tr>\n",
       "  </thead>\n",
       "  <tbody>\n",
       "    <tr>\n",
       "      <th>0</th>\n",
       "      <td>8</td>\n",
       "      <td>Добавить форму подписки на все основные страницы, чтобы собрать базу клиентов для email-рассылок</td>\n",
       "      <td>112.0</td>\n",
       "    </tr>\n",
       "    <tr>\n",
       "      <th>1</th>\n",
       "      <td>3</td>\n",
       "      <td>Добавить блоки рекомендаций товаров на сайт интернет магазина, чтобы повысить конверсию и средний чек заказа</td>\n",
       "      <td>56.0</td>\n",
       "    </tr>\n",
       "    <tr>\n",
       "      <th>2</th>\n",
       "      <td>1</td>\n",
       "      <td>Добавить два новых канала привлечения трафика, что позволит привлекать на 30% больше пользователей</td>\n",
       "      <td>40.0</td>\n",
       "    </tr>\n",
       "    <tr>\n",
       "      <th>3</th>\n",
       "      <td>7</td>\n",
       "      <td>Показать на главной странице баннеры с актуальными акциями и распродажами, чтобы увеличить конверсию</td>\n",
       "      <td>40.0</td>\n",
       "    </tr>\n",
       "    <tr>\n",
       "      <th>4</th>\n",
       "      <td>9</td>\n",
       "      <td>Запустить акцию, дающую скидку на товар в день рождения</td>\n",
       "      <td>16.2</td>\n",
       "    </tr>\n",
       "    <tr>\n",
       "      <th>5</th>\n",
       "      <td>4</td>\n",
       "      <td>Изменить структура категорий, что увеличит конверсию, т.к. пользователи быстрее найдут нужный товар</td>\n",
       "      <td>9.0</td>\n",
       "    </tr>\n",
       "    <tr>\n",
       "      <th>6</th>\n",
       "      <td>2</td>\n",
       "      <td>Запустить собственную службу доставки, что сократит срок доставки заказов</td>\n",
       "      <td>4.0</td>\n",
       "    </tr>\n",
       "    <tr>\n",
       "      <th>7</th>\n",
       "      <td>6</td>\n",
       "      <td>Добавить страницу отзывов клиентов о магазине, что позволит увеличить количество заказов</td>\n",
       "      <td>4.0</td>\n",
       "    </tr>\n",
       "    <tr>\n",
       "      <th>8</th>\n",
       "      <td>5</td>\n",
       "      <td>Изменить цвет фона главной страницы, чтобы увеличить вовлеченность пользователей</td>\n",
       "      <td>3.0</td>\n",
       "    </tr>\n",
       "  </tbody>\n",
       "</table>\n",
       "</div>"
      ],
      "text/plain": [
       "   Hypothesis №  \\\n",
       "0             8   \n",
       "1             3   \n",
       "2             1   \n",
       "3             7   \n",
       "4             9   \n",
       "5             4   \n",
       "6             2   \n",
       "7             6   \n",
       "8             5   \n",
       "\n",
       "                                                                                                     Hypothesis  \\\n",
       "0              Добавить форму подписки на все основные страницы, чтобы собрать базу клиентов для email-рассылок   \n",
       "1  Добавить блоки рекомендаций товаров на сайт интернет магазина, чтобы повысить конверсию и средний чек заказа   \n",
       "2            Добавить два новых канала привлечения трафика, что позволит привлекать на 30% больше пользователей   \n",
       "3          Показать на главной странице баннеры с актуальными акциями и распродажами, чтобы увеличить конверсию   \n",
       "4                                                       Запустить акцию, дающую скидку на товар в день рождения   \n",
       "5           Изменить структура категорий, что увеличит конверсию, т.к. пользователи быстрее найдут нужный товар   \n",
       "6                                     Запустить собственную службу доставки, что сократит срок доставки заказов   \n",
       "7                      Добавить страницу отзывов клиентов о магазине, что позволит увеличить количество заказов   \n",
       "8                              Изменить цвет фона главной страницы, чтобы увеличить вовлеченность пользователей   \n",
       "\n",
       "    RICE  \n",
       "0  112.0  \n",
       "1   56.0  \n",
       "2   40.0  \n",
       "3   40.0  \n",
       "4   16.2  \n",
       "5    9.0  \n",
       "6    4.0  \n",
       "7    4.0  \n",
       "8    3.0  "
      ]
     },
     "metadata": {},
     "output_type": "display_data"
    }
   ],
   "source": [
    "hypothesis['RICE'] = (hypothesis['Confidence'] * hypothesis['Impact'] * hypothesis['Reach']/ hypothesis['Efforts']).round(1)\n",
    "RICE = hypothesis[['Hypothesis', 'RICE']]\\\n",
    "                                    .sort_values(by='RICE', ascending=False)\\\n",
    "                                    .reset_index()\\\n",
    "                                    .rename(columns={'index':'Hypothesis №'})\n",
    "RICE['Hypothesis №'] = RICE['Hypothesis №'] + 1\n",
    "display(RICE)"
   ]
  },
  {
   "cell_type": "markdown",
   "metadata": {},
   "source": [
    "<div style=\"border-radius: 15px; background:BlanchedAlmond; padding: 20px\">\n",
    "    \n",
    "📜 Итог:\n",
    "    \n",
    "+ Наиболее перспективные гипотезы по ICE: 9, 1 и 8.    \n",
    "+ Наиболее перспективные гипотезы по RICE: 8, 3, 1 и 7.\n",
    "+ При учете параметра `Reach` гипотезы 3 (\"Добавить блоки рекомендаций товаров\") и 7 (\"Показать баннеры на главной странице\") приобретают больший приоритет, так как они затрагивают множество пользователей. В свою очередь, гипотеза 9 (\"Запустить скидочную акцию\") перестает быть на столько перспективной.\n",
    "+ Гипотезы 8 (\"Добавить форму подписки\") и 1 (\"Добавить каналы привлечения трафика\") являются перспективными как согласно методу ICE, так и согласно методу RICE.\n",
    "    \n",
    "</div>"
   ]
  },
  {
   "cell_type": "markdown",
   "metadata": {},
   "source": [
    "## Часть 2. Анализ A/B-теста"
   ]
  },
  {
   "cell_type": "code",
   "execution_count": 6,
   "metadata": {},
   "outputs": [
    {
     "data": {
      "text/html": [
       "<div>\n",
       "<style scoped>\n",
       "    .dataframe tbody tr th:only-of-type {\n",
       "        vertical-align: middle;\n",
       "    }\n",
       "\n",
       "    .dataframe tbody tr th {\n",
       "        vertical-align: top;\n",
       "    }\n",
       "\n",
       "    .dataframe thead th {\n",
       "        text-align: right;\n",
       "    }\n",
       "</style>\n",
       "<table border=\"1\" class=\"dataframe\">\n",
       "  <thead>\n",
       "    <tr style=\"text-align: right;\">\n",
       "      <th></th>\n",
       "      <th>transactionId</th>\n",
       "      <th>visitorId</th>\n",
       "      <th>date</th>\n",
       "      <th>revenue</th>\n",
       "      <th>group</th>\n",
       "    </tr>\n",
       "  </thead>\n",
       "  <tbody>\n",
       "    <tr>\n",
       "      <th>0</th>\n",
       "      <td>3667963787</td>\n",
       "      <td>3312258926</td>\n",
       "      <td>2019-08-15</td>\n",
       "      <td>1650</td>\n",
       "      <td>B</td>\n",
       "    </tr>\n",
       "    <tr>\n",
       "      <th>1</th>\n",
       "      <td>2804400009</td>\n",
       "      <td>3642806036</td>\n",
       "      <td>2019-08-15</td>\n",
       "      <td>730</td>\n",
       "      <td>B</td>\n",
       "    </tr>\n",
       "    <tr>\n",
       "      <th>2</th>\n",
       "      <td>2961555356</td>\n",
       "      <td>4069496402</td>\n",
       "      <td>2019-08-15</td>\n",
       "      <td>400</td>\n",
       "      <td>A</td>\n",
       "    </tr>\n",
       "    <tr>\n",
       "      <th>3</th>\n",
       "      <td>3797467345</td>\n",
       "      <td>1196621759</td>\n",
       "      <td>2019-08-15</td>\n",
       "      <td>9759</td>\n",
       "      <td>B</td>\n",
       "    </tr>\n",
       "    <tr>\n",
       "      <th>4</th>\n",
       "      <td>2282983706</td>\n",
       "      <td>2322279887</td>\n",
       "      <td>2019-08-15</td>\n",
       "      <td>2308</td>\n",
       "      <td>B</td>\n",
       "    </tr>\n",
       "  </tbody>\n",
       "</table>\n",
       "</div>"
      ],
      "text/plain": [
       "   transactionId   visitorId        date  revenue group\n",
       "0     3667963787  3312258926  2019-08-15     1650     B\n",
       "1     2804400009  3642806036  2019-08-15      730     B\n",
       "2     2961555356  4069496402  2019-08-15      400     A\n",
       "3     3797467345  1196621759  2019-08-15     9759     B\n",
       "4     2282983706  2322279887  2019-08-15     2308     B"
      ]
     },
     "metadata": {},
     "output_type": "display_data"
    },
    {
     "data": {
      "text/html": [
       "<div>\n",
       "<style scoped>\n",
       "    .dataframe tbody tr th:only-of-type {\n",
       "        vertical-align: middle;\n",
       "    }\n",
       "\n",
       "    .dataframe tbody tr th {\n",
       "        vertical-align: top;\n",
       "    }\n",
       "\n",
       "    .dataframe thead th {\n",
       "        text-align: right;\n",
       "    }\n",
       "</style>\n",
       "<table border=\"1\" class=\"dataframe\">\n",
       "  <thead>\n",
       "    <tr style=\"text-align: right;\">\n",
       "      <th></th>\n",
       "      <th>date</th>\n",
       "      <th>group</th>\n",
       "      <th>visitors</th>\n",
       "    </tr>\n",
       "  </thead>\n",
       "  <tbody>\n",
       "    <tr>\n",
       "      <th>0</th>\n",
       "      <td>2019-08-01</td>\n",
       "      <td>A</td>\n",
       "      <td>719</td>\n",
       "    </tr>\n",
       "    <tr>\n",
       "      <th>1</th>\n",
       "      <td>2019-08-02</td>\n",
       "      <td>A</td>\n",
       "      <td>619</td>\n",
       "    </tr>\n",
       "    <tr>\n",
       "      <th>2</th>\n",
       "      <td>2019-08-03</td>\n",
       "      <td>A</td>\n",
       "      <td>507</td>\n",
       "    </tr>\n",
       "    <tr>\n",
       "      <th>3</th>\n",
       "      <td>2019-08-04</td>\n",
       "      <td>A</td>\n",
       "      <td>717</td>\n",
       "    </tr>\n",
       "    <tr>\n",
       "      <th>4</th>\n",
       "      <td>2019-08-05</td>\n",
       "      <td>A</td>\n",
       "      <td>756</td>\n",
       "    </tr>\n",
       "  </tbody>\n",
       "</table>\n",
       "</div>"
      ],
      "text/plain": [
       "         date group  visitors\n",
       "0  2019-08-01     A       719\n",
       "1  2019-08-02     A       619\n",
       "2  2019-08-03     A       507\n",
       "3  2019-08-04     A       717\n",
       "4  2019-08-05     A       756"
      ]
     },
     "metadata": {},
     "output_type": "display_data"
    }
   ],
   "source": [
    "pth2 = '/datasets/orders.csv'\n",
    "pth3 = '/datasets/visitors.csv'\n",
    "\n",
    "if os.path.exists(pth2) and os.path.exists(pth3):\n",
    "    orders = pd.read_csv(pth2)\n",
    "    visitors = pd.read_csv(pth3)\n",
    "else:\n",
    "    try:\n",
    "        orders = pd.read_csv('https://code.s3.yandex.net/datasets/orders.csv')\n",
    "        visitors = pd.read_csv('https://code.s3.yandex.net/datasets/visitors.csv')\n",
    "    except:\n",
    "        print('Что-то пошло не так...')\n",
    "        \n",
    "display(orders.head(5), visitors.head(5))"
   ]
  },
  {
   "cell_type": "code",
   "execution_count": 7,
   "metadata": {},
   "outputs": [
    {
     "name": "stdout",
     "output_type": "stream",
     "text": [
      "<class 'pandas.core.frame.DataFrame'>\n",
      "RangeIndex: 1197 entries, 0 to 1196\n",
      "Data columns (total 5 columns):\n",
      " #   Column         Non-Null Count  Dtype \n",
      "---  ------         --------------  ----- \n",
      " 0   transactionId  1197 non-null   int64 \n",
      " 1   visitorId      1197 non-null   int64 \n",
      " 2   date           1197 non-null   object\n",
      " 3   revenue        1197 non-null   int64 \n",
      " 4   group          1197 non-null   object\n",
      "dtypes: int64(3), object(2)\n",
      "memory usage: 46.9+ KB\n"
     ]
    }
   ],
   "source": [
    "orders.info()"
   ]
  },
  {
   "cell_type": "code",
   "execution_count": 8,
   "metadata": {},
   "outputs": [
    {
     "name": "stdout",
     "output_type": "stream",
     "text": [
      "<class 'pandas.core.frame.DataFrame'>\n",
      "RangeIndex: 62 entries, 0 to 61\n",
      "Data columns (total 3 columns):\n",
      " #   Column    Non-Null Count  Dtype \n",
      "---  ------    --------------  ----- \n",
      " 0   date      62 non-null     object\n",
      " 1   group     62 non-null     object\n",
      " 2   visitors  62 non-null     int64 \n",
      "dtypes: int64(1), object(2)\n",
      "memory usage: 1.6+ KB\n"
     ]
    }
   ],
   "source": [
    "visitors.info()"
   ]
  },
  {
   "cell_type": "code",
   "execution_count": 9,
   "metadata": {},
   "outputs": [],
   "source": [
    "# приведем столбцы date в таблицах orders и visitors к формату datetime64 \n",
    "orders['date'] = orders['date'].map(lambda x: dt.datetime.strptime(x, '%Y-%m-%d'))\n",
    "visitors['date'] = visitors['date'].map(lambda x: dt.datetime.strptime(x, '%Y-%m-%d'))"
   ]
  },
  {
   "cell_type": "code",
   "execution_count": 10,
   "metadata": {},
   "outputs": [
    {
     "name": "stdout",
     "output_type": "stream",
     "text": [
      "Общее количество дубликатов в таблице orders: 0\n",
      "Общее количество дубликатов в таблице visitors: 0\n"
     ]
    }
   ],
   "source": [
    "# проверим наличие явнях дубликатов в данных\n",
    "print('Общее количество дубликатов в таблице orders: {}'.format(orders.duplicated().sum()))\n",
    "print('Общее количество дубликатов в таблице visitors: {}'.format(visitors.duplicated().sum()))"
   ]
  },
  {
   "cell_type": "code",
   "execution_count": 11,
   "metadata": {},
   "outputs": [
    {
     "data": {
      "text/html": [
       "<div>\n",
       "<style scoped>\n",
       "    .dataframe tbody tr th:only-of-type {\n",
       "        vertical-align: middle;\n",
       "    }\n",
       "\n",
       "    .dataframe tbody tr th {\n",
       "        vertical-align: top;\n",
       "    }\n",
       "\n",
       "    .dataframe thead th {\n",
       "        text-align: right;\n",
       "    }\n",
       "</style>\n",
       "<table border=\"1\" class=\"dataframe\">\n",
       "  <thead>\n",
       "    <tr style=\"text-align: right;\">\n",
       "      <th></th>\n",
       "      <th></th>\n",
       "      <th>orders</th>\n",
       "    </tr>\n",
       "    <tr>\n",
       "      <th>visitorId</th>\n",
       "      <th>group</th>\n",
       "      <th></th>\n",
       "    </tr>\n",
       "  </thead>\n",
       "  <tbody>\n",
       "    <tr>\n",
       "      <th rowspan=\"2\" valign=\"top\">8300375</th>\n",
       "      <th>A</th>\n",
       "      <td>1</td>\n",
       "    </tr>\n",
       "    <tr>\n",
       "      <th>B</th>\n",
       "      <td>1</td>\n",
       "    </tr>\n",
       "    <tr>\n",
       "      <th rowspan=\"2\" valign=\"top\">199603092</th>\n",
       "      <th>A</th>\n",
       "      <td>4</td>\n",
       "    </tr>\n",
       "    <tr>\n",
       "      <th>B</th>\n",
       "      <td>1</td>\n",
       "    </tr>\n",
       "    <tr>\n",
       "      <th>232979603</th>\n",
       "      <th>A</th>\n",
       "      <td>1</td>\n",
       "    </tr>\n",
       "    <tr>\n",
       "      <th>...</th>\n",
       "      <th>...</th>\n",
       "      <td>...</td>\n",
       "    </tr>\n",
       "    <tr>\n",
       "      <th>4186807279</th>\n",
       "      <th>B</th>\n",
       "      <td>2</td>\n",
       "    </tr>\n",
       "    <tr>\n",
       "      <th rowspan=\"2\" valign=\"top\">4256040402</th>\n",
       "      <th>A</th>\n",
       "      <td>7</td>\n",
       "    </tr>\n",
       "    <tr>\n",
       "      <th>B</th>\n",
       "      <td>4</td>\n",
       "    </tr>\n",
       "    <tr>\n",
       "      <th rowspan=\"2\" valign=\"top\">4266935830</th>\n",
       "      <th>A</th>\n",
       "      <td>1</td>\n",
       "    </tr>\n",
       "    <tr>\n",
       "      <th>B</th>\n",
       "      <td>1</td>\n",
       "    </tr>\n",
       "  </tbody>\n",
       "</table>\n",
       "<p>116 rows × 1 columns</p>\n",
       "</div>"
      ],
      "text/plain": [
       "                  orders\n",
       "visitorId  group        \n",
       "8300375    A           1\n",
       "           B           1\n",
       "199603092  A           4\n",
       "           B           1\n",
       "232979603  A           1\n",
       "...                  ...\n",
       "4186807279 B           2\n",
       "4256040402 A           7\n",
       "           B           4\n",
       "4266935830 A           1\n",
       "           B           1\n",
       "\n",
       "[116 rows x 1 columns]"
      ]
     },
     "metadata": {},
     "output_type": "display_data"
    }
   ],
   "source": [
    "# проверим, не попали ли одни и те же пользователи в разные группы А/В-теста \n",
    "IdByGroup = orders[['visitorId', 'group']]\\\n",
    "                                    .groupby('visitorId', as_index=False)\\\n",
    "                                    .agg({'group': 'nunique'})\n",
    "IdByGroup = IdByGroup[IdByGroup['group'] == 2].reset_index(drop=True)\n",
    "visitorId_list = IdByGroup['visitorId'].tolist()\n",
    "visitorIdToFix = orders.query('visitorId in @visitorId_list')\\\n",
    "                        .groupby(['visitorId', 'group'])\\\n",
    "                        .agg({'date': 'count'})\\\n",
    "                        .rename(columns = {'date': 'orders'})\n",
    "display(visitorIdToFix)"
   ]
  },
  {
   "cell_type": "code",
   "execution_count": 12,
   "metadata": {},
   "outputs": [
    {
     "name": "stdout",
     "output_type": "stream",
     "text": [
      "Пользователей в ходе проведения А/В-теста попали в обе группы: 58\n"
     ]
    }
   ],
   "source": [
    "print('Пользователей в ходе проведения А/В-теста попали в обе группы: {}'.format(IdByGroup['visitorId'].nunique()))"
   ]
  },
  {
   "cell_type": "markdown",
   "metadata": {},
   "source": [
    "В ходе проведения эксперимента на группы разделялись не пользователи оп visitorId, а пользовательские сессии, по этой причине одни и те же пользователи могли попасть в различные группы при тестировании. В идеальном случа, таких пользователей пришлось бы исключить из анализа, но так как мы не знаем желаемых размеров групп для проведения А/В-теста, то в данном случае оставим всех пользователей."
   ]
  },
  {
   "cell_type": "code",
   "execution_count": 13,
   "metadata": {},
   "outputs": [
    {
     "name": "stdout",
     "output_type": "stream",
     "text": [
      "В А/В-тесте присутствуют следующие группы: ['B' 'A']\n"
     ]
    }
   ],
   "source": [
    "print('В А/В-тесте присутствуют следующие группы: {}'.format(orders['group'].unique()))"
   ]
  },
  {
   "cell_type": "code",
   "execution_count": 14,
   "metadata": {},
   "outputs": [
    {
     "name": "stdout",
     "output_type": "stream",
     "text": [
      "В группу А попало: 503 пользователя\n",
      "В группу В попало: 586 пользователей\n"
     ]
    }
   ],
   "source": [
    "print('В группу А попало: {} пользователя'.format(orders[orders['group'] == \"A\"]['visitorId'].nunique()))\n",
    "print('В группу В попало: {} пользователей'.format(orders[orders['group'] == \"B\"]['visitorId'].nunique()))"
   ]
  },
  {
   "cell_type": "code",
   "execution_count": 15,
   "metadata": {},
   "outputs": [
    {
     "name": "stdout",
     "output_type": "stream",
     "text": [
      "Дата начала теста: 2019-08-01 00:00:00\n",
      "Дата окончания теста: 2019-08-31 00:00:00\n"
     ]
    }
   ],
   "source": [
    "print('Дата начала теста: {}'.format(orders['date'].min()))\n",
    "print('Дата окончания теста: {}'.format(orders['date'].max()))"
   ]
  },
  {
   "cell_type": "code",
   "execution_count": 16,
   "metadata": {},
   "outputs": [],
   "source": [
    "# соберем таблицы visitorsADaily и visitorsACummulative для группы \"А\"\n",
    "visitorsADaily = visitors[visitors['group'] == 'A'][['date', 'visitors']]\\\n",
    "                        .rename(columns ={'visitors': 'visitorsPerDateA'})\n",
    "\n",
    "visitorsACummulative = visitorsADaily\\\n",
    "                            .apply(lambda x: visitorsADaily[visitorsADaily['date'] <= x['date']]\\\n",
    "                                                    .agg({'date': 'max', \n",
    "                                                          'visitorsPerDateA': 'sum'}), axis=1)\\\n",
    "                            .rename(columns = {'visitorsPerDateA': 'visitorsCummulativeA'})\n",
    "\n",
    "# соберем таблицы visitorsBDaily и visitorsBCummulative для группы \"B\"\n",
    "visitorsBDaily = visitors[visitors['group'] == 'B'][['date', 'visitors']]\\\n",
    "                        .rename(columns ={'visitors': 'visitorsPerDateB'})\n",
    "\n",
    "visitorsBCummulative = visitorsBDaily\\\n",
    "                            .apply(lambda x: visitorsBDaily[visitorsBDaily['date'] <= x['date']]\\\n",
    "                                                    .agg({'date': 'max', \n",
    "                                                          'visitorsPerDateB': 'sum'}), axis=1)\\\n",
    "                            .rename(columns = {'visitorsPerDateB': 'visitorsCummulativeB'})\n",
    "\n",
    "# соберем таблицы ordersADaily и ordersACummulative для группы \"А\"\n",
    "ordersADaily = orders[orders['group'] == 'A'][['date', 'transactionId', 'visitorId', 'revenue']]\\\n",
    "                    .groupby('date', as_index=False)\\\n",
    "                    .agg({'transactionId': 'nunique',\n",
    "                          'revenue': 'sum'})\\\n",
    "                    .rename(columns = {'transactionId': 'ordersPerDateA',\n",
    "                                       'revenue': 'revenuePerDateA'})\n",
    "\n",
    "ordersACummulative = ordersADaily\\\n",
    "                             .apply(lambda x: ordersADaily[ordersADaily['date'] <= x['date']]\\\n",
    "                                                    .agg({'date': 'max', \n",
    "                                                          'ordersPerDateA': 'sum', \n",
    "                                                          'revenuePerDateA': 'sum'}), axis=1)\\\n",
    "                             .sort_values(by=['date'])\\\n",
    "                             .rename(columns = {'ordersPerDateA': 'ordersCummulativeA',\n",
    "                                                'revenuePerDateA': 'revenueCummulativeA'})\n",
    "                         \n",
    "# соберем таблицы ordersBDaily и ordersBCummulative для группы \"B\"\n",
    "ordersBDaily = orders[orders['group'] == 'B'][['date', 'transactionId', 'visitorId', 'revenue']]\\\n",
    "                    .groupby('date', as_index=False)\\\n",
    "                    .agg({'transactionId': 'nunique',\n",
    "                          'revenue': 'sum'})\\\n",
    "                    .rename(columns = {'transactionId': 'ordersPerDateB',\n",
    "                                       'revenue': 'revenuePerDateB'})\n",
    "\n",
    "ordersBCummulative = ordersBDaily\\\n",
    "                             .apply(lambda x: ordersBDaily[ordersBDaily['date'] <= x['date']]\\\n",
    "                                                    .agg({'date': 'max', \n",
    "                                                          'ordersPerDateB': 'sum', \n",
    "                                                          'revenuePerDateB': 'sum'}), axis=1)\\\n",
    "                             .sort_values(by=['date'])\\\n",
    "                             .rename(columns = {'ordersPerDateB': 'ordersCummulativeB',\n",
    "                                                'revenuePerDateB': 'revenueCummulativeB'})"
   ]
  },
  {
   "cell_type": "code",
   "execution_count": 17,
   "metadata": {},
   "outputs": [
    {
     "data": {
      "text/html": [
       "<div>\n",
       "<style scoped>\n",
       "    .dataframe tbody tr th:only-of-type {\n",
       "        vertical-align: middle;\n",
       "    }\n",
       "\n",
       "    .dataframe tbody tr th {\n",
       "        vertical-align: top;\n",
       "    }\n",
       "\n",
       "    .dataframe thead th {\n",
       "        text-align: right;\n",
       "    }\n",
       "</style>\n",
       "<table border=\"1\" class=\"dataframe\">\n",
       "  <thead>\n",
       "    <tr style=\"text-align: right;\">\n",
       "      <th></th>\n",
       "      <th>date</th>\n",
       "      <th>ordersPerDateA</th>\n",
       "      <th>revenuePerDateA</th>\n",
       "      <th>ordersCummulativeA</th>\n",
       "      <th>revenueCummulativeA</th>\n",
       "      <th>visitorsPerDateA</th>\n",
       "      <th>visitorsCummulativeA</th>\n",
       "      <th>ordersPerDateB</th>\n",
       "      <th>revenuePerDateB</th>\n",
       "      <th>ordersCummulativeB</th>\n",
       "      <th>revenueCummulativeB</th>\n",
       "      <th>visitorsPerDateB</th>\n",
       "      <th>visitorsCummulativeB</th>\n",
       "    </tr>\n",
       "  </thead>\n",
       "  <tbody>\n",
       "    <tr>\n",
       "      <th>0</th>\n",
       "      <td>2019-08-01</td>\n",
       "      <td>24</td>\n",
       "      <td>148579</td>\n",
       "      <td>24</td>\n",
       "      <td>148579</td>\n",
       "      <td>719</td>\n",
       "      <td>719</td>\n",
       "      <td>21</td>\n",
       "      <td>101217</td>\n",
       "      <td>21</td>\n",
       "      <td>101217</td>\n",
       "      <td>713</td>\n",
       "      <td>713</td>\n",
       "    </tr>\n",
       "    <tr>\n",
       "      <th>1</th>\n",
       "      <td>2019-08-02</td>\n",
       "      <td>20</td>\n",
       "      <td>93822</td>\n",
       "      <td>44</td>\n",
       "      <td>242401</td>\n",
       "      <td>619</td>\n",
       "      <td>1338</td>\n",
       "      <td>24</td>\n",
       "      <td>165531</td>\n",
       "      <td>45</td>\n",
       "      <td>266748</td>\n",
       "      <td>581</td>\n",
       "      <td>1294</td>\n",
       "    </tr>\n",
       "    <tr>\n",
       "      <th>2</th>\n",
       "      <td>2019-08-03</td>\n",
       "      <td>24</td>\n",
       "      <td>112473</td>\n",
       "      <td>68</td>\n",
       "      <td>354874</td>\n",
       "      <td>507</td>\n",
       "      <td>1845</td>\n",
       "      <td>16</td>\n",
       "      <td>114248</td>\n",
       "      <td>61</td>\n",
       "      <td>380996</td>\n",
       "      <td>509</td>\n",
       "      <td>1803</td>\n",
       "    </tr>\n",
       "    <tr>\n",
       "      <th>3</th>\n",
       "      <td>2019-08-04</td>\n",
       "      <td>16</td>\n",
       "      <td>70825</td>\n",
       "      <td>84</td>\n",
       "      <td>425699</td>\n",
       "      <td>717</td>\n",
       "      <td>2562</td>\n",
       "      <td>17</td>\n",
       "      <td>108571</td>\n",
       "      <td>78</td>\n",
       "      <td>489567</td>\n",
       "      <td>770</td>\n",
       "      <td>2573</td>\n",
       "    </tr>\n",
       "    <tr>\n",
       "      <th>4</th>\n",
       "      <td>2019-08-05</td>\n",
       "      <td>25</td>\n",
       "      <td>124218</td>\n",
       "      <td>109</td>\n",
       "      <td>549917</td>\n",
       "      <td>756</td>\n",
       "      <td>3318</td>\n",
       "      <td>23</td>\n",
       "      <td>92428</td>\n",
       "      <td>101</td>\n",
       "      <td>581995</td>\n",
       "      <td>707</td>\n",
       "      <td>3280</td>\n",
       "    </tr>\n",
       "  </tbody>\n",
       "</table>\n",
       "</div>"
      ],
      "text/plain": [
       "        date  ordersPerDateA  revenuePerDateA  ordersCummulativeA  \\\n",
       "0 2019-08-01              24           148579                  24   \n",
       "1 2019-08-02              20            93822                  44   \n",
       "2 2019-08-03              24           112473                  68   \n",
       "3 2019-08-04              16            70825                  84   \n",
       "4 2019-08-05              25           124218                 109   \n",
       "\n",
       "   revenueCummulativeA  visitorsPerDateA  visitorsCummulativeA  \\\n",
       "0               148579               719                   719   \n",
       "1               242401               619                  1338   \n",
       "2               354874               507                  1845   \n",
       "3               425699               717                  2562   \n",
       "4               549917               756                  3318   \n",
       "\n",
       "   ordersPerDateB  revenuePerDateB  ordersCummulativeB  revenueCummulativeB  \\\n",
       "0              21           101217                  21               101217   \n",
       "1              24           165531                  45               266748   \n",
       "2              16           114248                  61               380996   \n",
       "3              17           108571                  78               489567   \n",
       "4              23            92428                 101               581995   \n",
       "\n",
       "   visitorsPerDateB  visitorsCummulativeB  \n",
       "0               713                   713  \n",
       "1               581                  1294  \n",
       "2               509                  1803  \n",
       "3               770                  2573  \n",
       "4               707                  3280  "
      ]
     },
     "metadata": {},
     "output_type": "display_data"
    }
   ],
   "source": [
    "# соберем все данные в одну таблицу\n",
    "data = ordersADaily\\\n",
    "            .merge(ordersACummulative, left_on='date', right_on='date', how='left')\\\n",
    "            .merge(visitorsADaily, left_on='date', right_on='date', how='left')\\\n",
    "            .merge(visitorsACummulative, left_on='date', right_on='date', how='left')\\\n",
    "            .merge(ordersBDaily, left_on='date', right_on='date', how='left')\\\n",
    "            .merge(ordersBCummulative, left_on='date', right_on='date', how='left')\\\n",
    "            .merge(visitorsBDaily, left_on='date', right_on='date', how='left')\\\n",
    "            .merge(visitorsBCummulative, left_on='date', right_on='date', how='left')\n",
    "\n",
    "display(data.head(5))"
   ]
  },
  {
   "cell_type": "markdown",
   "metadata": {},
   "source": [
    "Описание данных таблицы `data`:\n",
    "\n",
    "- `date` — дата;\n",
    "- `ordersPerDateA` — количество заказов в выбранную дату в группе A;\n",
    "- `revenuePerDateA` — суммарная выручка в выбранную дату в группе A;\n",
    "- `ordersCummulativeA` — суммарное число заказов до выбранной даты включительно в группе A;\n",
    "- `revenueCummulativeA` — суммарная выручка до выбранной даты включительно в группе A;\n",
    "- `visitorsPerDateA` — количество пользователей в выбранную дату в группе A;\n",
    "- `visitorsCummulativeA` — количество пользователей до выбранной даты включительно в группе A;\n",
    "- `ordersPerDateB` — количество заказов в выбранную дату в группе B;\n",
    "- `revenuePerDateB` — суммарная выручка в выбранную дату в группе B;\n",
    "- `ordersCummulativeB` — суммарное количество заказов до выбранной даты включительно в группе B;\n",
    "- `revenueCummulativeB` — суммарная выручка до выбранной даты включительно в группе B;\n",
    "- `visitorsPerDateB` — количество пользователей в выбранную дату в группе B;\n",
    "- `visitorsCummulativeB` — количество пользователей до выбранной даты включительно в группе B."
   ]
  },
  {
   "cell_type": "markdown",
   "metadata": {},
   "source": [
    "### Постройте график кумулятивной выручки по группам"
   ]
  },
  {
   "cell_type": "code",
   "execution_count": 18,
   "metadata": {},
   "outputs": [
    {
     "data": {
      "image/png": "[encoded data removed]",
      "text/plain": [
       "<Figure size 432x288 with 1 Axes>"
      ]
     },
     "metadata": {
      "needs_background": "light"
     },
     "output_type": "display_data"
    }
   ],
   "source": [
    "plt.plot(data['date'], data['revenueCummulativeA'], label='A', color='g')\n",
    "plt.plot(data['date'], data['revenueCummulativeB'], label='B', color='m')\n",
    "plt.xticks(rotation=45, ha='right')\n",
    "plt.ylabel('Выручка, млн.')\n",
    "plt.legend();"
   ]
  },
  {
   "cell_type": "markdown",
   "metadata": {},
   "source": [
    "<div style=\"border-radius: 15px; background:BlanchedAlmond; padding: 20px\">\n",
    "    \n",
    "📜 Итог:\n",
    "    \n",
    "+ Выручка обоих групп почти равномерно увеличивается в течение всего теста, однако для группы В значения стабильно выше.\n",
    "+ Для графика группы В выручка в одной точке резко возростает. Скорее всего, это связано с появлением очень дорогих заказов (выбросов) в выборке.\n",
    "    \n",
    "</div>"
   ]
  },
  {
   "cell_type": "markdown",
   "metadata": {},
   "source": [
    "### Постройте график кумулятивного среднего чека по группам"
   ]
  },
  {
   "cell_type": "code",
   "execution_count": 19,
   "metadata": {},
   "outputs": [
    {
     "data": {
      "image/png": "[encoded data removed]",
      "text/plain": [
       "<Figure size 432x288 with 1 Axes>"
      ]
     },
     "metadata": {
      "needs_background": "light"
     },
     "output_type": "display_data"
    }
   ],
   "source": [
    "plt.plot(data['date'], data['revenueCummulativeA']/data['ordersCummulativeA'], label='A', color='g')\n",
    "plt.plot(data['date'], data['revenueCummulativeB']/data['ordersCummulativeB'], label='B', color='m')\n",
    "plt.xticks(rotation=45, ha='right')\n",
    "plt.ylabel('Средний чек')\n",
    "plt.legend();"
   ]
  },
  {
   "cell_type": "markdown",
   "metadata": {},
   "source": [
    "<div style=\"border-radius: 15px; background:BlanchedAlmond; padding: 20px\">\n",
    "    \n",
    "📜 Итог:\n",
    "    \n",
    "+ Значения среденего чека для обоих групп растут в течение всего времени теста.\n",
    "+ Средний чек для группы В стабильно больше.\n",
    "+ В группу B попали крупные заказы (видим резкий всплеск на графике), что исказило результат. После резкого взлета параметра видим тренд на снижение среднего чека. Для оценки реальных значений среднего чека группы В нужно больше данных, чтобы линия на графике установилась на истинном уровне.\n",
    "    \n",
    "</div>"
   ]
  },
  {
   "cell_type": "code",
   "execution_count": 20,
   "metadata": {},
   "outputs": [
    {
     "data": {
      "text/html": [
       "<div>\n",
       "<style scoped>\n",
       "    .dataframe tbody tr th:only-of-type {\n",
       "        vertical-align: middle;\n",
       "    }\n",
       "\n",
       "    .dataframe tbody tr th {\n",
       "        vertical-align: top;\n",
       "    }\n",
       "\n",
       "    .dataframe thead th {\n",
       "        text-align: right;\n",
       "    }\n",
       "</style>\n",
       "<table border=\"1\" class=\"dataframe\">\n",
       "  <thead>\n",
       "    <tr style=\"text-align: right;\">\n",
       "      <th></th>\n",
       "      <th>revenue</th>\n",
       "    </tr>\n",
       "    <tr>\n",
       "      <th>date</th>\n",
       "      <th></th>\n",
       "    </tr>\n",
       "  </thead>\n",
       "  <tbody>\n",
       "    <tr>\n",
       "      <th>2019-08-17</th>\n",
       "      <td>132016</td>\n",
       "    </tr>\n",
       "    <tr>\n",
       "      <th>2019-08-18</th>\n",
       "      <td>138229</td>\n",
       "    </tr>\n",
       "    <tr>\n",
       "      <th>2019-08-19</th>\n",
       "      <td>1619663</td>\n",
       "    </tr>\n",
       "    <tr>\n",
       "      <th>2019-08-20</th>\n",
       "      <td>224893</td>\n",
       "    </tr>\n",
       "    <tr>\n",
       "      <th>2019-08-21</th>\n",
       "      <td>337386</td>\n",
       "    </tr>\n",
       "  </tbody>\n",
       "</table>\n",
       "</div>"
      ],
      "text/plain": [
       "            revenue\n",
       "date               \n",
       "2019-08-17   132016\n",
       "2019-08-18   138229\n",
       "2019-08-19  1619663\n",
       "2019-08-20   224893\n",
       "2019-08-21   337386"
      ]
     },
     "execution_count": 20,
     "metadata": {},
     "output_type": "execute_result"
    }
   ],
   "source": [
    "# посмотрим повнимательнее на выручку между 2019-08-17 и 2019-08-21\n",
    "orders\\\n",
    "    .query('\"2019-08-17\" <= date <= \"2019-08-21\"')\\\n",
    "    .groupby('date')\\\n",
    "    .agg({'revenue': 'sum'})"
   ]
  },
  {
   "cell_type": "markdown",
   "metadata": {},
   "source": [
    "Как и предполагалось, необычайно дорогие заказы были сделаны 2019-08-19. Сумманрая прибыль за этот день в несколько раз выше таковой для других дней месяца. Это и является причиной резких скачков на анализируемых графиках."
   ]
  },
  {
   "cell_type": "markdown",
   "metadata": {},
   "source": [
    "### Постройте график относительного изменения кумулятивного среднего чека группы B к группе A"
   ]
  },
  {
   "cell_type": "code",
   "execution_count": 21,
   "metadata": {},
   "outputs": [
    {
     "data": {
      "image/png": "[encoded data removed]",
      "text/plain": [
       "<Figure size 432x288 with 1 Axes>"
      ]
     },
     "metadata": {
      "needs_background": "light"
     },
     "output_type": "display_data"
    }
   ],
   "source": [
    "plt.plot(data['date'], \n",
    "         (data['revenueCummulativeB']/data['ordersCummulativeB'])/(data['revenueCummulativeA']/data['ordersCummulativeA'])-1,\n",
    "         color='c')\n",
    "plt.axhline(y=0, color='black', linestyle='--')\n",
    "plt.xticks(rotation=45, ha='right');"
   ]
  },
  {
   "cell_type": "markdown",
   "metadata": {},
   "source": [
    "<div style=\"border-radius: 15px; background:BlanchedAlmond; padding: 20px\">\n",
    "    \n",
    "📜 Итог:\n",
    "    \n",
    "+ В начале эксперимента средний чек для группы В стбильно превышает таковой для группы А на 20-30%.\n",
    "+ В районе 2019-08-13 средний чек для группы А был выше, однако всего в течение нескольких дней.\n",
    "+ Как уже отмечалось, 2019-08-19 из-за аномально дорогих заказов значение среднего чека для группы В резко возрастает, что приводит к резкому скачку относительных значений на графике.\n",
    "+ После 2019-08-19 относительный средний чек группы В постепенно снижается.\n",
    "    \n",
    "</div>"
   ]
  },
  {
   "cell_type": "markdown",
   "metadata": {},
   "source": [
    "### Постройте график кумулятивной конверсии по группам"
   ]
  },
  {
   "cell_type": "code",
   "execution_count": 22,
   "metadata": {},
   "outputs": [
    {
     "data": {
      "image/png": "[encoded data removed]",
      "text/plain": [
       "<Figure size 432x288 with 1 Axes>"
      ]
     },
     "metadata": {
      "needs_background": "light"
     },
     "output_type": "display_data"
    }
   ],
   "source": [
    "plt.plot(data['date'], data['ordersCummulativeA']/data['visitorsCummulativeA'], label='A', color='g')\n",
    "plt.plot(data['date'], data['ordersCummulativeB']/data['visitorsCummulativeB'], label='B', color='m')\n",
    "plt.xticks(rotation=45, ha='right')\n",
    "plt.ylabel('Конверсия')\n",
    "plt.legend();"
   ]
  },
  {
   "cell_type": "markdown",
   "metadata": {},
   "source": [
    "<div style=\"border-radius: 15px; background:BlanchedAlmond; padding: 20px\">\n",
    "    \n",
    "📜 Итог:\n",
    "    \n",
    "+ В первые дни эксперимента значения для обоих групп сильно колеблются, затем конверсия группы В вырвалась вперёд и зафиксировалась, а конверсия группы А просела и также зафиксировалась.\n",
    "    \n",
    "</div>"
   ]
  },
  {
   "cell_type": "markdown",
   "metadata": {},
   "source": [
    "### Постройте график относительного изменения кумулятивной конверсии группы B к группе A"
   ]
  },
  {
   "cell_type": "code",
   "execution_count": 23,
   "metadata": {},
   "outputs": [
    {
     "data": {
      "image/png": "[encoded data removed]",
      "text/plain": [
       "<Figure size 432x288 with 1 Axes>"
      ]
     },
     "metadata": {
      "needs_background": "light"
     },
     "output_type": "display_data"
    }
   ],
   "source": [
    "plt.plot(data['date'], \n",
    "         (data['ordersCummulativeB']/data['visitorsCummulativeB'])/(data['ordersCummulativeA']/data['visitorsCummulativeA'])-1,\n",
    "         color='c')\n",
    "plt.axhline(y=0, color='black', linestyle='--')\n",
    "plt.xticks(rotation=45, ha='right');"
   ]
  },
  {
   "cell_type": "markdown",
   "metadata": {},
   "source": [
    "<div style=\"border-radius: 15px; background:BlanchedAlmond; padding: 20px\">\n",
    "    \n",
    "📜 Итог:\n",
    "    \n",
    "+ Конверсия группы В в течение практически всего эксперимента примерно на 10-15% выше, чем конверсия группы А.\n",
    "    \n",
    "</div>"
   ]
  },
  {
   "cell_type": "markdown",
   "metadata": {},
   "source": [
    "### Постройте точечный график количества заказов по пользователям"
   ]
  },
  {
   "cell_type": "code",
   "execution_count": 24,
   "metadata": {},
   "outputs": [
    {
     "data": {
      "image/png": "[encoded data removed]",
      "text/plain": [
       "<Figure size 432x288 with 1 Axes>"
      ]
     },
     "metadata": {
      "needs_background": "light"
     },
     "output_type": "display_data"
    }
   ],
   "source": [
    "ordersByUsers = orders\\\n",
    "                    .groupby('visitorId', as_index=False)\\\n",
    "                    .agg({'transactionId': 'nunique'})\\\n",
    "                    .rename(columns={'transactionId': 'orders'})\n",
    "\n",
    "x_values = pd.Series(range(0,len(ordersByUsers)))\n",
    "plt.scatter(x_values, ordersByUsers['orders'], color='c', alpha=0.3)\n",
    "plt.ylabel('Количество заказов');"
   ]
  },
  {
   "cell_type": "markdown",
   "metadata": {},
   "source": [
    "<div style=\"border-radius: 15px; background:BlanchedAlmond; padding: 20px\">\n",
    "    \n",
    "📜 Итог:\n",
    "    \n",
    "+ Большинство пользователей совершили 1-2 заказа.\n",
    "+ Есть небольшое количество пользователей, которые совершили от 3 до 5 заказов, и четыре пользователя, которые делали заказы более 8 раз.\n",
    "    \n",
    "</div>"
   ]
  },
  {
   "cell_type": "markdown",
   "metadata": {},
   "source": [
    "### Посчитайте 95-й и 99-й перцентили количества заказов на пользователя и выберите границу для определения аномальных пользователей"
   ]
  },
  {
   "cell_type": "code",
   "execution_count": 25,
   "metadata": {},
   "outputs": [
    {
     "name": "stdout",
     "output_type": "stream",
     "text": [
      "95-й перцентиль количества заказов на пользователя: 2.0\n",
      "99-й перцентиль количества заказов на пользователя: 4.0\n"
     ]
    }
   ],
   "source": [
    "print('95-й перцентиль количества заказов на пользователя: {}'.format(np.percentile(ordersByUsers['orders'], 95).round(1)))\n",
    "print('99-й перцентиль количества заказов на пользователя: {}'.format(np.percentile(ordersByUsers['orders'], 99).round(1)))"
   ]
  },
  {
   "cell_type": "markdown",
   "metadata": {},
   "source": [
    "<div style=\"border-radius: 15px; background:BlanchedAlmond; padding: 20px\">\n",
    "    \n",
    "📜 Итог:\n",
    "    \n",
    "+ 95% пользователей совершило не более 2 заказов.\n",
    "+ В качестве границы для отсечения аномальных пользователей возьмем 3 заказа.\n",
    "    \n",
    "</div>"
   ]
  },
  {
   "cell_type": "markdown",
   "metadata": {},
   "source": [
    "### Постройте точечный график стоимостей заказов"
   ]
  },
  {
   "cell_type": "code",
   "execution_count": 26,
   "metadata": {},
   "outputs": [
    {
     "data": {
      "image/png": "[encoded data removed]",
      "text/plain": [
       "<Figure size 864x288 with 2 Axes>"
      ]
     },
     "metadata": {
      "needs_background": "light"
     },
     "output_type": "display_data"
    }
   ],
   "source": [
    "fig, axs = plt.subplots(1, 2, figsize=(12, 4))\n",
    "\n",
    "x_values = pd.Series(range(0,len(orders['revenue'])))\n",
    "axs[0].scatter(x_values, orders['revenue'], color='c', alpha=0.3)\n",
    "axs[1].scatter(x_values, orders['revenue'], color='c', alpha=0.3)\n",
    "plt.ylim((0, 60000))\n",
    "fig.supylabel('Стоимость заказа');"
   ]
  },
  {
   "cell_type": "markdown",
   "metadata": {},
   "source": [
    "<div style=\"border-radius: 15px; background:BlanchedAlmond; padding: 20px\">\n",
    "    \n",
    "📜 Итог:\n",
    "    \n",
    "+  Есть один аномально дорогой заказ. Исходя из ранее представленных данных, можно сделать вывод, что он как раз и приходится на дату 2019-08-19.\n",
    "+ Большая часть заказов не превышает 30 тыс.\n",
    "    \n",
    "</div>"
   ]
  },
  {
   "cell_type": "markdown",
   "metadata": {},
   "source": [
    "### Посчитайте 95-й и 99-й перцентили стоимости заказов и выберите границу для определения аномальных заказов."
   ]
  },
  {
   "cell_type": "code",
   "execution_count": 27,
   "metadata": {},
   "outputs": [
    {
     "name": "stdout",
     "output_type": "stream",
     "text": [
      "95-й перцентиль стоимости заказа: 28000.0\n",
      "99-й перцентиль стоимости заказа: 58233.2\n"
     ]
    }
   ],
   "source": [
    "print('95-й перцентиль стоимости заказа: {}'.format(np.percentile(orders['revenue'], 95).round(1)))\n",
    "print('99-й перцентиль стоимости заказа: {}'.format(np.percentile(orders['revenue'], 99).round(1)))"
   ]
  },
  {
   "cell_type": "markdown",
   "metadata": {},
   "source": [
    "<div style=\"border-radius: 15px; background:BlanchedAlmond; padding: 20px\">\n",
    "    \n",
    "📜 Итог:\n",
    "    \n",
    "+ 95% пользователей совершили заказы на сумму не более 28 тыс.\n",
    "+ В качестве границы для отсечения аномальных заказов возьмем 30 тыс.\n",
    "    \n",
    "</div>"
   ]
  },
  {
   "cell_type": "markdown",
   "metadata": {},
   "source": [
    "### Посчитайте статистическую значимость различий в количестве заказов, сделанных пользователями, между группами по «сырым» данным"
   ]
  },
  {
   "cell_type": "code",
   "execution_count": 28,
   "metadata": {},
   "outputs": [],
   "source": [
    "# посчитаем число заказов каждого пользователя из группы \"А\"\n",
    "ordersByUsersA = orders[orders['group'] == 'A']\\\n",
    "                    .groupby('visitorId', as_index=False)\\\n",
    "                    .agg({'transactionId': 'nunique'})\\\n",
    "                    .rename(columns={'transactionId': 'orders'})\n",
    "\n",
    "# посчитаем число заказов каждого пользователя из группы \"В\"\n",
    "ordersByUsersB = orders[orders['group'] == 'B']\\\n",
    "                    .groupby('visitorId', as_index=False)\\\n",
    "                    .agg({'transactionId': 'nunique'})\\\n",
    "                    .rename(columns={'transactionId': 'orders'})"
   ]
  },
  {
   "cell_type": "markdown",
   "metadata": {},
   "source": [
    "***\n",
    "**H0:** Количество заказов для группы \"А\" = количество заказов для группы \"В\" (по «сырым» данным)\n",
    "<br>**H1:** Количество заказов для группы \"А\" ≠ количество заказов для группы \"В\" (по «сырым» данным)\n",
    "\n",
    "alpha = 0.05\n",
    "***"
   ]
  },
  {
   "cell_type": "code",
   "execution_count": 29,
   "metadata": {},
   "outputs": [
    {
     "name": "stdout",
     "output_type": "stream",
     "text": [
      "p-value для сравнения количества заказов между группами по «сырым» данным: 0.017\n",
      "Отвергаем нулевую гипотезу\n",
      "Относительное изменение количества заказов группы B: 13.81%\n"
     ]
    }
   ],
   "source": [
    "sampleA = pd.concat([ordersByUsersA['orders'],\n",
    "                     pd.Series(0, index=np.arange(data['visitorsPerDateA'].sum() - len(ordersByUsersA['orders'])), name='orders')],\n",
    "                    axis=0)\n",
    "\n",
    "sampleB = pd.concat([ordersByUsersB['orders'],\n",
    "                     pd.Series(0, index=np.arange(data['visitorsPerDateB'].sum() - len(ordersByUsersB['orders'])), name='orders')],\n",
    "                    axis=0)\n",
    "\n",
    "\n",
    "alpha = 0.05\n",
    "results = stats.mannwhitneyu(sampleA, sampleB)\n",
    "print('p-value для сравнения количества заказов между группами по «сырым» данным: {0:.3f}'.format(results.pvalue))\n",
    "\n",
    "if results.pvalue < alpha:\n",
    "    print('Отвергаем нулевую гипотезу')\n",
    "else:\n",
    "    print('Не получилось отвергнуть нулевую гипотезу')\n",
    "    \n",
    "print('Относительное изменение количества заказов группы B: {0:.2%}'.format(sampleB.mean()/sampleA.mean()-1))"
   ]
  },
  {
   "cell_type": "markdown",
   "metadata": {},
   "source": [
    "### Посчитайте статистическую значимость различий в среднем чеке заказа между группами по «сырым» данным"
   ]
  },
  {
   "cell_type": "markdown",
   "metadata": {},
   "source": [
    "***\n",
    "**H0:** Cредний чек покупателей группы \"А\" = cредний чек покупателей группы \"В\" (по «сырым» данным)\n",
    "<br>**H1:** Cредний чек покупателей группы \"А\" ≠ cредний чек покупателей группы \"В\" (по «сырым» данным)\n",
    "\n",
    "alpha = 0.05\n",
    "***"
   ]
  },
  {
   "cell_type": "code",
   "execution_count": 30,
   "metadata": {},
   "outputs": [
    {
     "name": "stdout",
     "output_type": "stream",
     "text": [
      "p-value для сравнения cредних чеков между группами по «сырым» данным: 0.729\n",
      "Не получилось отвергнуть нулевую гипотезу\n",
      "Относительное изменение cреднего чека группы B: 25.87%\n"
     ]
    }
   ],
   "source": [
    "alpha = 0.05\n",
    "\n",
    "results = stats.mannwhitneyu(orders[orders['group']=='A']['revenue'], orders[orders['group']=='B']['revenue'])\n",
    "print('p-value для сравнения cредних чеков между группами по «сырым» данным: {0:.3f}'.format(results.pvalue))\n",
    "\n",
    "if results.pvalue < alpha:\n",
    "    print('Отвергаем нулевую гипотезу')\n",
    "else:\n",
    "    print('Не получилось отвергнуть нулевую гипотезу')\n",
    "\n",
    "print('Относительное изменение cреднего чека группы B: {0:.2%}'.format(orders[orders['group']=='B']['revenue'].mean()/\n",
    "                                                                     orders[orders['group']=='A']['revenue'].mean()-1))"
   ]
  },
  {
   "cell_type": "markdown",
   "metadata": {},
   "source": [
    "### Посчитайте статистическую значимость различий в количестве заказов, сделанных пользователями, между группами по «очищенным» данным"
   ]
  },
  {
   "cell_type": "code",
   "execution_count": 31,
   "metadata": {},
   "outputs": [],
   "source": [
    "# создадим переменные для фильтрации данных\n",
    "maxOrders = 3\n",
    "maxPrice = 30000"
   ]
  },
  {
   "cell_type": "code",
   "execution_count": 32,
   "metadata": {},
   "outputs": [],
   "source": [
    "# отфильтруем пользователей с аномальным числом заказов\n",
    "usersWithManyOrders = pd.concat([ordersByUsersA[ordersByUsersA['orders'] > maxOrders]['visitorId'],\\\n",
    "                                 ordersByUsersB[ordersByUsersB['orders'] > maxOrders]['visitorId']], axis=0)\n",
    "\n",
    "# отфильтруем пользователей с аномально высокой ценой заказа\n",
    "usersWithExpensiveOrders = orders[orders['revenue'] > maxPrice]['visitorId']\n",
    "\n",
    "# соберем список с идентификаторами аномальных пользователей\n",
    "abnormalUsers = pd.concat([usersWithManyOrders, usersWithExpensiveOrders], axis=0)\\\n",
    "                    .drop_duplicates()\\\n",
    "                    .sort_values()"
   ]
  },
  {
   "cell_type": "markdown",
   "metadata": {},
   "source": [
    "***\n",
    "**H0:** Количество заказов для группы \"А\" = количество заказов для группы \"В\" (по «очищенным» данным)\n",
    "<br>**H1:** Количество заказов для группы \"А\" ≠ количество заказов для группы \"В\" (по «очищенным» данным)\n",
    "\n",
    "alpha = 0.05\n",
    "***"
   ]
  },
  {
   "cell_type": "code",
   "execution_count": 33,
   "metadata": {},
   "outputs": [
    {
     "name": "stdout",
     "output_type": "stream",
     "text": [
      "p-value для сравнения количества заказов между группами по «очищенным» данным: 0.018\n",
      "Отвергаем нулевую гипотезу\n",
      "Относительное изменение количества заказов группы B: 14.75%\n"
     ]
    }
   ],
   "source": [
    "sampleA = pd.concat([ordersByUsersA[np.logical_not(ordersByUsersA['visitorId'].isin(abnormalUsers))]['orders'],\n",
    "                     pd.Series(0, index=np.arange(data['visitorsPerDateA'].sum() - len(ordersByUsersA['orders'])), name='orders')],\n",
    "                    axis=0)\n",
    "\n",
    "sampleB = pd.concat([ordersByUsersB[np.logical_not(ordersByUsersB['visitorId'].isin(abnormalUsers))]['orders'],\n",
    "                     pd.Series(0, index=np.arange(data['visitorsPerDateB'].sum() - len(ordersByUsersB['orders'])), name='orders')],\n",
    "                    axis=0)\n",
    "\n",
    "\n",
    "alpha = 0.05\n",
    "results = stats.mannwhitneyu(sampleA, sampleB)\n",
    "print('p-value для сравнения количества заказов между группами по «очищенным» данным: {0:.3f}'.format(results.pvalue))\n",
    "\n",
    "if results.pvalue < alpha:\n",
    "    print('Отвергаем нулевую гипотезу')\n",
    "else:\n",
    "    print('Не получилось отвергнуть нулевую гипотезу')\n",
    "    \n",
    "print('Относительное изменение количества заказов группы B: {0:.2%}'.format(sampleB.mean()/sampleA.mean()-1))"
   ]
  },
  {
   "cell_type": "markdown",
   "metadata": {},
   "source": [
    "<div style=\"border-radius: 15px; background:BlanchedAlmond; padding: 20px\">\n",
    "    \n",
    "📜 Итог:\n",
    "    \n",
    "+ Как по «сырым», так и по «очищенным» данным, мы отвергаем нулевую гипотезу о равенстве средних для количества сделанных заказов в группах А и В.\n",
    "+ Согласно «очищенным» данным, относительно группы А группа В совершает на 14.75% заказов больше.\n",
    "    \n",
    "</div>"
   ]
  },
  {
   "cell_type": "markdown",
   "metadata": {},
   "source": [
    "### Посчитайте статистическую значимость различий в среднем чеке заказа между группами по «очищенным» данным"
   ]
  },
  {
   "cell_type": "markdown",
   "metadata": {},
   "source": [
    "***\n",
    "**H0:** Cредний чек покупателей группы \"А\" = cредний чек покупателей группы \"В\" (по «очищенным» данным)\n",
    "<br>**H1:** Cредний чек покупателей группы \"А\" ≠ cредний чек покупателей группы \"В\" (по «очищенным» данным)\n",
    "\n",
    "alpha = 0.05\n",
    "***"
   ]
  },
  {
   "cell_type": "code",
   "execution_count": 34,
   "metadata": {},
   "outputs": [
    {
     "name": "stdout",
     "output_type": "stream",
     "text": [
      "p-value для сравнения cредних чеков между группами по «очищенным» данным: 0.958\n",
      "Не получилось отвергнуть нулевую гипотезу\n",
      "Относительное изменение среднего чека группы B: -1.97%\n"
     ]
    }
   ],
   "source": [
    "alpha = 0.05\n",
    "results = stats.mannwhitneyu(\n",
    "                    orders[np.logical_and(orders['group'] == 'A', \n",
    "                            np.logical_not(orders['visitorId'].isin(abnormalUsers)))]['revenue'],\n",
    "                    orders[np.logical_and(orders['group'] == 'B', \n",
    "                            np.logical_not(orders['visitorId'].isin(abnormalUsers)))]['revenue'])\n",
    "print('p-value для сравнения cредних чеков между группами по «очищенным» данным: {0:.3f}'.format(results.pvalue))\n",
    "\n",
    "if results.pvalue < alpha:\n",
    "    print('Отвергаем нулевую гипотезу')\n",
    "else:\n",
    "    print('Не получилось отвергнуть нулевую гипотезу')\n",
    "    \n",
    "print('Относительное изменение среднего чека группы B: {0:.2%}'.format(orders[np.logical_and(orders['group'] == 'B', \n",
    "                            np.logical_not(orders['visitorId'].isin(abnormalUsers)))]['revenue'].mean()/\n",
    "                                                                     orders[np.logical_and(orders['group'] == 'A', \n",
    "                            np.logical_not(orders['visitorId'].isin(abnormalUsers)))]['revenue'].mean()-1))"
   ]
  },
  {
   "cell_type": "markdown",
   "metadata": {},
   "source": [
    "<div style=\"border-radius: 15px; background:BlanchedAlmond; padding: 20px\">\n",
    "    \n",
    "📜 Итог:\n",
    "    \n",
    "+ Как по «сырым», так и по «очищенным» данным, мы не можем достоверно утверждать о различиях в среднем чеке для групп А и В.\n",
    "+ В связи с присутствием в «сырых» данных аномально дорогого заказа, относительное изменение cреднего чека группы B составило +25.87%, что не соответствует действительности.\n",
    "+ Согласно «очищенным» данным, относительно группы А средний чек для группы В на 1.97% меньше.\n",
    "    \n",
    "</div>"
   ]
  },
  {
   "cell_type": "markdown",
   "metadata": {},
   "source": [
    "## Вывод"
   ]
  },
  {
   "cell_type": "markdown",
   "metadata": {},
   "source": [
    "**Варианты решений:** \n",
    "1. Остановить тест, зафиксировать победу одной из групп. \n",
    "2. Остановить тест, зафиксировать отсутствие различий между группами. \n",
    "3. Продолжить тест."
   ]
  },
  {
   "cell_type": "markdown",
   "metadata": {},
   "source": [
    "<div style=\"border-radius: 15px; background:BlanchedAlmond; padding: 20px\">\n",
    "    \n",
    "📜 Итог:\n",
    "    \n",
    "+ Все кумулятивные метрики показывают, что значения группы В стабильно выше, чем значения группы А.\n",
    "+ Аномалии в данных искажают реальную картину происходящего, что отражается на графиках кумулятивных мертик и относительных измерениях для группы В по отношению к группе А.\n",
    "+ Статистический анализ «очищенных» данных показывает значимые различия в средних для количества сделанных заказов, фиксируя победу группы В.\n",
    "+ Статистический анализ «очищенных» данных показывает отсутствие различий в среднем чеке для групп А и В, не смотря на то, что средний чек для группы В немного меньше.\n",
    "<br>\n",
    "\n",
    "**РЕЗУЛЬТАТ: Остановливаем тест и фиксируем победу группы B**\n",
    "    \n",
    "</div>"
   ]
  }
 ],
 "metadata": {
  "ExecuteTimeLog": [
   {
    "duration": 28980,
    "start_time": "2022-10-11T08:57:19.583Z"
   },
   {
    "duration": 74,
    "start_time": "2022-10-11T08:58:06.237Z"
   },
   {
    "duration": 32,
    "start_time": "2022-10-11T08:58:30.673Z"
   },
   {
    "duration": 27,
    "start_time": "2022-10-11T08:58:48.804Z"
   },
   {
    "duration": 31,
    "start_time": "2022-10-11T08:58:59.652Z"
   },
   {
    "duration": 99,
    "start_time": "2022-10-11T09:03:21.815Z"
   },
   {
    "duration": 3623,
    "start_time": "2022-10-11T09:03:29.213Z"
   },
   {
    "duration": 42,
    "start_time": "2022-10-11T09:03:32.838Z"
   },
   {
    "duration": 10,
    "start_time": "2022-10-11T09:03:32.882Z"
   },
   {
    "duration": 14,
    "start_time": "2022-10-11T09:03:32.894Z"
   },
   {
    "duration": 13,
    "start_time": "2022-10-11T09:03:32.909Z"
   },
   {
    "duration": 147,
    "start_time": "2022-10-11T09:03:32.923Z"
   },
   {
    "duration": 8,
    "start_time": "2022-10-11T09:03:33.072Z"
   },
   {
    "duration": 13,
    "start_time": "2022-10-11T09:03:33.082Z"
   },
   {
    "duration": 19,
    "start_time": "2022-10-11T09:03:33.096Z"
   },
   {
    "duration": 8,
    "start_time": "2022-10-11T09:03:33.117Z"
   },
   {
    "duration": 22,
    "start_time": "2022-10-11T09:03:33.127Z"
   },
   {
    "duration": 3,
    "start_time": "2022-10-11T09:03:33.150Z"
   },
   {
    "duration": 5,
    "start_time": "2022-10-11T09:03:33.155Z"
   },
   {
    "duration": 184,
    "start_time": "2022-10-11T09:03:33.162Z"
   },
   {
    "duration": 29,
    "start_time": "2022-10-11T09:03:33.348Z"
   },
   {
    "duration": 461,
    "start_time": "2022-10-11T09:03:33.378Z"
   },
   {
    "duration": 282,
    "start_time": "2022-10-11T09:03:33.840Z"
   },
   {
    "duration": 11,
    "start_time": "2022-10-11T09:03:34.124Z"
   },
   {
    "duration": 351,
    "start_time": "2022-10-11T09:03:34.137Z"
   },
   {
    "duration": 321,
    "start_time": "2022-10-11T09:03:34.489Z"
   },
   {
    "duration": 371,
    "start_time": "2022-10-11T09:03:34.812Z"
   },
   {
    "duration": 278,
    "start_time": "2022-10-11T09:03:35.185Z"
   },
   {
    "duration": 5,
    "start_time": "2022-10-11T09:03:35.465Z"
   },
   {
    "duration": 406,
    "start_time": "2022-10-11T09:03:35.472Z"
   },
   {
    "duration": 5,
    "start_time": "2022-10-11T09:03:35.879Z"
   },
   {
    "duration": 26,
    "start_time": "2022-10-11T09:03:35.885Z"
   },
   {
    "duration": 24,
    "start_time": "2022-10-11T09:03:35.912Z"
   },
   {
    "duration": 9,
    "start_time": "2022-10-11T09:03:35.939Z"
   },
   {
    "duration": 7,
    "start_time": "2022-10-11T09:03:35.950Z"
   },
   {
    "duration": 52,
    "start_time": "2022-10-11T09:03:35.959Z"
   },
   {
    "duration": 14,
    "start_time": "2022-10-11T09:03:36.012Z"
   },
   {
    "duration": 4,
    "start_time": "2022-10-11T09:05:23.677Z"
   },
   {
    "duration": 4,
    "start_time": "2022-10-11T09:06:02.241Z"
   },
   {
    "duration": 5,
    "start_time": "2022-10-11T09:08:29.294Z"
   },
   {
    "duration": 113,
    "start_time": "2022-10-11T09:13:20.257Z"
   },
   {
    "duration": 9,
    "start_time": "2022-10-11T09:13:53.145Z"
   },
   {
    "duration": 10,
    "start_time": "2022-10-11T09:14:18.262Z"
   },
   {
    "duration": 112,
    "start_time": "2022-10-11T09:14:56.137Z"
   },
   {
    "duration": 11,
    "start_time": "2022-10-11T09:15:01.817Z"
   },
   {
    "duration": 10,
    "start_time": "2022-10-11T09:18:23.529Z"
   },
   {
    "duration": 13,
    "start_time": "2022-10-11T09:18:31.723Z"
   },
   {
    "duration": 5,
    "start_time": "2022-10-11T09:18:54.320Z"
   },
   {
    "duration": 7,
    "start_time": "2022-10-11T09:19:22.937Z"
   },
   {
    "duration": 3,
    "start_time": "2022-10-11T09:24:05.085Z"
   },
   {
    "duration": 99,
    "start_time": "2022-10-11T09:26:59.165Z"
   },
   {
    "duration": 5,
    "start_time": "2022-10-11T09:27:18.271Z"
   },
   {
    "duration": 4,
    "start_time": "2022-10-11T09:27:24.235Z"
   },
   {
    "duration": 4,
    "start_time": "2022-10-11T09:27:32.318Z"
   },
   {
    "duration": 4,
    "start_time": "2022-10-11T09:27:38.859Z"
   },
   {
    "duration": 4,
    "start_time": "2022-10-11T09:27:46.876Z"
   },
   {
    "duration": 5,
    "start_time": "2022-10-11T09:27:52.159Z"
   },
   {
    "duration": 5,
    "start_time": "2022-10-11T09:28:45.379Z"
   },
   {
    "duration": 3,
    "start_time": "2022-10-11T09:28:51.442Z"
   },
   {
    "duration": 8,
    "start_time": "2022-10-11T09:28:52.550Z"
   },
   {
    "duration": 3771,
    "start_time": "2022-10-11T09:28:59.184Z"
   },
   {
    "duration": 40,
    "start_time": "2022-10-11T09:29:02.957Z"
   },
   {
    "duration": 11,
    "start_time": "2022-10-11T09:29:02.999Z"
   },
   {
    "duration": 20,
    "start_time": "2022-10-11T09:29:03.012Z"
   },
   {
    "duration": 13,
    "start_time": "2022-10-11T09:29:03.034Z"
   },
   {
    "duration": 56,
    "start_time": "2022-10-11T09:29:03.049Z"
   },
   {
    "duration": 9,
    "start_time": "2022-10-11T09:29:03.107Z"
   },
   {
    "duration": 15,
    "start_time": "2022-10-11T09:29:03.117Z"
   },
   {
    "duration": 18,
    "start_time": "2022-10-11T09:29:03.133Z"
   },
   {
    "duration": 14,
    "start_time": "2022-10-11T09:29:03.152Z"
   },
   {
    "duration": 24,
    "start_time": "2022-10-11T09:29:03.167Z"
   },
   {
    "duration": 7,
    "start_time": "2022-10-11T09:29:03.193Z"
   },
   {
    "duration": 11,
    "start_time": "2022-10-11T09:29:03.202Z"
   },
   {
    "duration": 6,
    "start_time": "2022-10-11T09:29:03.216Z"
   },
   {
    "duration": 9,
    "start_time": "2022-10-11T09:29:03.224Z"
   },
   {
    "duration": 200,
    "start_time": "2022-10-11T09:29:03.235Z"
   },
   {
    "duration": 28,
    "start_time": "2022-10-11T09:29:03.436Z"
   },
   {
    "duration": 472,
    "start_time": "2022-10-11T09:29:03.466Z"
   },
   {
    "duration": 290,
    "start_time": "2022-10-11T09:29:03.940Z"
   },
   {
    "duration": 13,
    "start_time": "2022-10-11T09:29:04.231Z"
   },
   {
    "duration": 364,
    "start_time": "2022-10-11T09:29:04.246Z"
   },
   {
    "duration": 303,
    "start_time": "2022-10-11T09:29:04.611Z"
   },
   {
    "duration": 360,
    "start_time": "2022-10-11T09:29:04.915Z"
   },
   {
    "duration": 269,
    "start_time": "2022-10-11T09:29:05.277Z"
   },
   {
    "duration": 5,
    "start_time": "2022-10-11T09:29:05.547Z"
   },
   {
    "duration": 403,
    "start_time": "2022-10-11T09:29:05.554Z"
   },
   {
    "duration": 5,
    "start_time": "2022-10-11T09:29:05.958Z"
   },
   {
    "duration": 12,
    "start_time": "2022-10-11T09:29:05.964Z"
   },
   {
    "duration": 46,
    "start_time": "2022-10-11T09:29:05.978Z"
   },
   {
    "duration": 10,
    "start_time": "2022-10-11T09:29:06.025Z"
   },
   {
    "duration": 13,
    "start_time": "2022-10-11T09:29:06.037Z"
   },
   {
    "duration": 8,
    "start_time": "2022-10-11T09:29:06.051Z"
   },
   {
    "duration": 28,
    "start_time": "2022-10-11T09:29:06.061Z"
   },
   {
    "duration": 26,
    "start_time": "2022-10-11T09:29:06.091Z"
   }
  ],
  "kernelspec": {
   "display_name": "Python 3 (ipykernel)",
   "language": "python",
   "name": "python3"
  },
  "language_info": {
   "codemirror_mode": {
    "name": "ipython",
    "version": 3
   },
   "file_extension": ".py",
   "mimetype": "text/x-python",
   "name": "python",
   "nbconvert_exporter": "python",
   "pygments_lexer": "ipython3",
   "version": "3.9.7"
  },
  "toc": {
   "base_numbering": 1,
   "nav_menu": {},
   "number_sections": true,
   "sideBar": true,
   "skip_h1_title": true,
   "title_cell": "Table of Contents",
   "title_sidebar": "Contents",
   "toc_cell": false,
   "toc_position": {},
   "toc_section_display": true,
   "toc_window_display": false
  }
 },
 "nbformat": 4,
 "nbformat_minor": 2
}
