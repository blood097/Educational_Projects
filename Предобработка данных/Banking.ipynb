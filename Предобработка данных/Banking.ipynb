{
 "cells": [
  {
   "cell_type": "markdown",
   "id": "c81daeeb",
   "metadata": {
    "deletable": false,
    "id": "c81daeeb"
   },
   "source": [
    "# Исследование надежности заемщиков\n"
   ]
  },
  {
   "cell_type": "markdown",
   "id": "0fb29175",
   "metadata": {},
   "source": [
    "### Описание проекта\n",
    "Заказчик — кредитный отдел банка. Нужно разобраться, влияет ли семейное положение и количество детей клиента на факт погашения кредита в срок. Входные данные от банка — статистика о платёжеспособности клиентов.\n",
    "\n",
    "Результаты исследования будут учтены при построении модели кредитного скоринга — специальной системы, которая оценивает способность потенциального заёмщика вернуть кредит банку.\n",
    "### Описание данных\n",
    "- `children` — количество детей в семье\n",
    "- `days_employed` — общий трудовой стаж в днях\n",
    "- `dob_years` — возраст клиента в годах\n",
    "- `education` — уровень образования клиента\n",
    "- `education_id` — идентификатор уровня образования\n",
    "- `family_status` — семейное положение\n",
    "- `family_status_id` — идентификатор семейного положения\n",
    "- `gender` — пол клиента\n",
    "- `income_type` — тип занятости\n",
    "- `debt` — имел ли задолженность по возврату кредитов\n",
    "- `total_income` — ежемесячный доход\n",
    "- `purpose` — цель получения кредита"
   ]
  },
  {
   "cell_type": "markdown",
   "id": "744d7639",
   "metadata": {
    "deletable": false,
    "id": "744d7639"
   },
   "source": [
    "## Откройте таблицу и изучите общую информацию о данных"
   ]
  },
  {
   "cell_type": "markdown",
   "id": "e7a14c31",
   "metadata": {
    "deletable": false,
    "id": "e7a14c31"
   },
   "source": [
    "**Задание 1. Импортируйте библиотеку pandas. Считайте данные из csv-файла в датафрейм и сохраните в переменную `data`. Путь к файлу:**\n",
    "\n",
    "`/datasets/data.csv`"
   ]
  },
  {
   "cell_type": "code",
   "execution_count": 1,
   "id": "7bcf75c9",
   "metadata": {
    "deletable": false,
    "id": "7bcf75c9"
   },
   "outputs": [],
   "source": [
    "import pandas as pd\n",
    "\n",
    "try:\n",
    "    data = pd.read_csv('/datasets/data.csv')\n",
    "except:\n",
    "    data = pd.read_csv('https://code.s3.yandex.net/datasets/data.csv')"
   ]
  },
  {
   "cell_type": "markdown",
   "id": "b8038fe3",
   "metadata": {
    "deletable": false,
    "id": "b8038fe3"
   },
   "source": [
    "**Задание 2. Выведите первые 20 строчек датафрейма `data` на экран.**"
   ]
  },
  {
   "cell_type": "code",
   "execution_count": 2,
   "id": "2a7cab99",
   "metadata": {
    "deletable": false,
    "id": "2a7cab99",
    "outputId": "1a8f3ef2-d323-4ec2-ddf7-89670b5944c4"
   },
   "outputs": [
    {
     "data": {
      "text/html": [
       "<div>\n",
       "<style scoped>\n",
       "    .dataframe tbody tr th:only-of-type {\n",
       "        vertical-align: middle;\n",
       "    }\n",
       "\n",
       "    .dataframe tbody tr th {\n",
       "        vertical-align: top;\n",
       "    }\n",
       "\n",
       "    .dataframe thead th {\n",
       "        text-align: right;\n",
       "    }\n",
       "</style>\n",
       "<table border=\"1\" class=\"dataframe\">\n",
       "  <thead>\n",
       "    <tr style=\"text-align: right;\">\n",
       "      <th></th>\n",
       "      <th>children</th>\n",
       "      <th>days_employed</th>\n",
       "      <th>dob_years</th>\n",
       "      <th>education</th>\n",
       "      <th>education_id</th>\n",
       "      <th>family_status</th>\n",
       "      <th>family_status_id</th>\n",
       "      <th>gender</th>\n",
       "      <th>income_type</th>\n",
       "      <th>debt</th>\n",
       "      <th>total_income</th>\n",
       "      <th>purpose</th>\n",
       "    </tr>\n",
       "  </thead>\n",
       "  <tbody>\n",
       "    <tr>\n",
       "      <th>0</th>\n",
       "      <td>1</td>\n",
       "      <td>-8437.673028</td>\n",
       "      <td>42</td>\n",
       "      <td>высшее</td>\n",
       "      <td>0</td>\n",
       "      <td>женат / замужем</td>\n",
       "      <td>0</td>\n",
       "      <td>F</td>\n",
       "      <td>сотрудник</td>\n",
       "      <td>0</td>\n",
       "      <td>253875.639453</td>\n",
       "      <td>покупка жилья</td>\n",
       "    </tr>\n",
       "    <tr>\n",
       "      <th>1</th>\n",
       "      <td>1</td>\n",
       "      <td>-4024.803754</td>\n",
       "      <td>36</td>\n",
       "      <td>среднее</td>\n",
       "      <td>1</td>\n",
       "      <td>женат / замужем</td>\n",
       "      <td>0</td>\n",
       "      <td>F</td>\n",
       "      <td>сотрудник</td>\n",
       "      <td>0</td>\n",
       "      <td>112080.014102</td>\n",
       "      <td>приобретение автомобиля</td>\n",
       "    </tr>\n",
       "    <tr>\n",
       "      <th>2</th>\n",
       "      <td>0</td>\n",
       "      <td>-5623.422610</td>\n",
       "      <td>33</td>\n",
       "      <td>Среднее</td>\n",
       "      <td>1</td>\n",
       "      <td>женат / замужем</td>\n",
       "      <td>0</td>\n",
       "      <td>M</td>\n",
       "      <td>сотрудник</td>\n",
       "      <td>0</td>\n",
       "      <td>145885.952297</td>\n",
       "      <td>покупка жилья</td>\n",
       "    </tr>\n",
       "    <tr>\n",
       "      <th>3</th>\n",
       "      <td>3</td>\n",
       "      <td>-4124.747207</td>\n",
       "      <td>32</td>\n",
       "      <td>среднее</td>\n",
       "      <td>1</td>\n",
       "      <td>женат / замужем</td>\n",
       "      <td>0</td>\n",
       "      <td>M</td>\n",
       "      <td>сотрудник</td>\n",
       "      <td>0</td>\n",
       "      <td>267628.550329</td>\n",
       "      <td>дополнительное образование</td>\n",
       "    </tr>\n",
       "    <tr>\n",
       "      <th>4</th>\n",
       "      <td>0</td>\n",
       "      <td>340266.072047</td>\n",
       "      <td>53</td>\n",
       "      <td>среднее</td>\n",
       "      <td>1</td>\n",
       "      <td>гражданский брак</td>\n",
       "      <td>1</td>\n",
       "      <td>F</td>\n",
       "      <td>пенсионер</td>\n",
       "      <td>0</td>\n",
       "      <td>158616.077870</td>\n",
       "      <td>сыграть свадьбу</td>\n",
       "    </tr>\n",
       "    <tr>\n",
       "      <th>5</th>\n",
       "      <td>0</td>\n",
       "      <td>-926.185831</td>\n",
       "      <td>27</td>\n",
       "      <td>высшее</td>\n",
       "      <td>0</td>\n",
       "      <td>гражданский брак</td>\n",
       "      <td>1</td>\n",
       "      <td>M</td>\n",
       "      <td>компаньон</td>\n",
       "      <td>0</td>\n",
       "      <td>255763.565419</td>\n",
       "      <td>покупка жилья</td>\n",
       "    </tr>\n",
       "    <tr>\n",
       "      <th>6</th>\n",
       "      <td>0</td>\n",
       "      <td>-2879.202052</td>\n",
       "      <td>43</td>\n",
       "      <td>высшее</td>\n",
       "      <td>0</td>\n",
       "      <td>женат / замужем</td>\n",
       "      <td>0</td>\n",
       "      <td>F</td>\n",
       "      <td>компаньон</td>\n",
       "      <td>0</td>\n",
       "      <td>240525.971920</td>\n",
       "      <td>операции с жильем</td>\n",
       "    </tr>\n",
       "    <tr>\n",
       "      <th>7</th>\n",
       "      <td>0</td>\n",
       "      <td>-152.779569</td>\n",
       "      <td>50</td>\n",
       "      <td>СРЕДНЕЕ</td>\n",
       "      <td>1</td>\n",
       "      <td>женат / замужем</td>\n",
       "      <td>0</td>\n",
       "      <td>M</td>\n",
       "      <td>сотрудник</td>\n",
       "      <td>0</td>\n",
       "      <td>135823.934197</td>\n",
       "      <td>образование</td>\n",
       "    </tr>\n",
       "    <tr>\n",
       "      <th>8</th>\n",
       "      <td>2</td>\n",
       "      <td>-6929.865299</td>\n",
       "      <td>35</td>\n",
       "      <td>ВЫСШЕЕ</td>\n",
       "      <td>0</td>\n",
       "      <td>гражданский брак</td>\n",
       "      <td>1</td>\n",
       "      <td>F</td>\n",
       "      <td>сотрудник</td>\n",
       "      <td>0</td>\n",
       "      <td>95856.832424</td>\n",
       "      <td>на проведение свадьбы</td>\n",
       "    </tr>\n",
       "    <tr>\n",
       "      <th>9</th>\n",
       "      <td>0</td>\n",
       "      <td>-2188.756445</td>\n",
       "      <td>41</td>\n",
       "      <td>среднее</td>\n",
       "      <td>1</td>\n",
       "      <td>женат / замужем</td>\n",
       "      <td>0</td>\n",
       "      <td>M</td>\n",
       "      <td>сотрудник</td>\n",
       "      <td>0</td>\n",
       "      <td>144425.938277</td>\n",
       "      <td>покупка жилья для семьи</td>\n",
       "    </tr>\n",
       "    <tr>\n",
       "      <th>10</th>\n",
       "      <td>2</td>\n",
       "      <td>-4171.483647</td>\n",
       "      <td>36</td>\n",
       "      <td>высшее</td>\n",
       "      <td>0</td>\n",
       "      <td>женат / замужем</td>\n",
       "      <td>0</td>\n",
       "      <td>M</td>\n",
       "      <td>компаньон</td>\n",
       "      <td>0</td>\n",
       "      <td>113943.491460</td>\n",
       "      <td>покупка недвижимости</td>\n",
       "    </tr>\n",
       "    <tr>\n",
       "      <th>11</th>\n",
       "      <td>0</td>\n",
       "      <td>-792.701887</td>\n",
       "      <td>40</td>\n",
       "      <td>среднее</td>\n",
       "      <td>1</td>\n",
       "      <td>женат / замужем</td>\n",
       "      <td>0</td>\n",
       "      <td>F</td>\n",
       "      <td>сотрудник</td>\n",
       "      <td>0</td>\n",
       "      <td>77069.234271</td>\n",
       "      <td>покупка коммерческой недвижимости</td>\n",
       "    </tr>\n",
       "    <tr>\n",
       "      <th>12</th>\n",
       "      <td>0</td>\n",
       "      <td>NaN</td>\n",
       "      <td>65</td>\n",
       "      <td>среднее</td>\n",
       "      <td>1</td>\n",
       "      <td>гражданский брак</td>\n",
       "      <td>1</td>\n",
       "      <td>M</td>\n",
       "      <td>пенсионер</td>\n",
       "      <td>0</td>\n",
       "      <td>NaN</td>\n",
       "      <td>сыграть свадьбу</td>\n",
       "    </tr>\n",
       "    <tr>\n",
       "      <th>13</th>\n",
       "      <td>0</td>\n",
       "      <td>-1846.641941</td>\n",
       "      <td>54</td>\n",
       "      <td>неоконченное высшее</td>\n",
       "      <td>2</td>\n",
       "      <td>женат / замужем</td>\n",
       "      <td>0</td>\n",
       "      <td>F</td>\n",
       "      <td>сотрудник</td>\n",
       "      <td>0</td>\n",
       "      <td>130458.228857</td>\n",
       "      <td>приобретение автомобиля</td>\n",
       "    </tr>\n",
       "    <tr>\n",
       "      <th>14</th>\n",
       "      <td>0</td>\n",
       "      <td>-1844.956182</td>\n",
       "      <td>56</td>\n",
       "      <td>высшее</td>\n",
       "      <td>0</td>\n",
       "      <td>гражданский брак</td>\n",
       "      <td>1</td>\n",
       "      <td>F</td>\n",
       "      <td>компаньон</td>\n",
       "      <td>1</td>\n",
       "      <td>165127.911772</td>\n",
       "      <td>покупка жилой недвижимости</td>\n",
       "    </tr>\n",
       "    <tr>\n",
       "      <th>15</th>\n",
       "      <td>1</td>\n",
       "      <td>-972.364419</td>\n",
       "      <td>26</td>\n",
       "      <td>среднее</td>\n",
       "      <td>1</td>\n",
       "      <td>женат / замужем</td>\n",
       "      <td>0</td>\n",
       "      <td>F</td>\n",
       "      <td>сотрудник</td>\n",
       "      <td>0</td>\n",
       "      <td>116820.904450</td>\n",
       "      <td>строительство собственной недвижимости</td>\n",
       "    </tr>\n",
       "    <tr>\n",
       "      <th>16</th>\n",
       "      <td>0</td>\n",
       "      <td>-1719.934226</td>\n",
       "      <td>35</td>\n",
       "      <td>среднее</td>\n",
       "      <td>1</td>\n",
       "      <td>женат / замужем</td>\n",
       "      <td>0</td>\n",
       "      <td>F</td>\n",
       "      <td>сотрудник</td>\n",
       "      <td>0</td>\n",
       "      <td>289202.704229</td>\n",
       "      <td>недвижимость</td>\n",
       "    </tr>\n",
       "    <tr>\n",
       "      <th>17</th>\n",
       "      <td>0</td>\n",
       "      <td>-2369.999720</td>\n",
       "      <td>33</td>\n",
       "      <td>высшее</td>\n",
       "      <td>0</td>\n",
       "      <td>гражданский брак</td>\n",
       "      <td>1</td>\n",
       "      <td>M</td>\n",
       "      <td>сотрудник</td>\n",
       "      <td>0</td>\n",
       "      <td>90410.586745</td>\n",
       "      <td>строительство недвижимости</td>\n",
       "    </tr>\n",
       "    <tr>\n",
       "      <th>18</th>\n",
       "      <td>0</td>\n",
       "      <td>400281.136913</td>\n",
       "      <td>53</td>\n",
       "      <td>среднее</td>\n",
       "      <td>1</td>\n",
       "      <td>вдовец / вдова</td>\n",
       "      <td>2</td>\n",
       "      <td>F</td>\n",
       "      <td>пенсионер</td>\n",
       "      <td>0</td>\n",
       "      <td>56823.777243</td>\n",
       "      <td>на покупку подержанного автомобиля</td>\n",
       "    </tr>\n",
       "    <tr>\n",
       "      <th>19</th>\n",
       "      <td>0</td>\n",
       "      <td>-10038.818549</td>\n",
       "      <td>48</td>\n",
       "      <td>СРЕДНЕЕ</td>\n",
       "      <td>1</td>\n",
       "      <td>в разводе</td>\n",
       "      <td>3</td>\n",
       "      <td>F</td>\n",
       "      <td>сотрудник</td>\n",
       "      <td>0</td>\n",
       "      <td>242831.107982</td>\n",
       "      <td>на покупку своего автомобиля</td>\n",
       "    </tr>\n",
       "  </tbody>\n",
       "</table>\n",
       "</div>"
      ],
      "text/plain": [
       "    children  days_employed  dob_years            education  education_id  \\\n",
       "0          1   -8437.673028         42               высшее             0   \n",
       "1          1   -4024.803754         36              среднее             1   \n",
       "2          0   -5623.422610         33              Среднее             1   \n",
       "3          3   -4124.747207         32              среднее             1   \n",
       "4          0  340266.072047         53              среднее             1   \n",
       "5          0    -926.185831         27               высшее             0   \n",
       "6          0   -2879.202052         43               высшее             0   \n",
       "7          0    -152.779569         50              СРЕДНЕЕ             1   \n",
       "8          2   -6929.865299         35               ВЫСШЕЕ             0   \n",
       "9          0   -2188.756445         41              среднее             1   \n",
       "10         2   -4171.483647         36               высшее             0   \n",
       "11         0    -792.701887         40              среднее             1   \n",
       "12         0            NaN         65              среднее             1   \n",
       "13         0   -1846.641941         54  неоконченное высшее             2   \n",
       "14         0   -1844.956182         56               высшее             0   \n",
       "15         1    -972.364419         26              среднее             1   \n",
       "16         0   -1719.934226         35              среднее             1   \n",
       "17         0   -2369.999720         33               высшее             0   \n",
       "18         0  400281.136913         53              среднее             1   \n",
       "19         0  -10038.818549         48              СРЕДНЕЕ             1   \n",
       "\n",
       "       family_status  family_status_id gender income_type  debt  \\\n",
       "0    женат / замужем                 0      F   сотрудник     0   \n",
       "1    женат / замужем                 0      F   сотрудник     0   \n",
       "2    женат / замужем                 0      M   сотрудник     0   \n",
       "3    женат / замужем                 0      M   сотрудник     0   \n",
       "4   гражданский брак                 1      F   пенсионер     0   \n",
       "5   гражданский брак                 1      M   компаньон     0   \n",
       "6    женат / замужем                 0      F   компаньон     0   \n",
       "7    женат / замужем                 0      M   сотрудник     0   \n",
       "8   гражданский брак                 1      F   сотрудник     0   \n",
       "9    женат / замужем                 0      M   сотрудник     0   \n",
       "10   женат / замужем                 0      M   компаньон     0   \n",
       "11   женат / замужем                 0      F   сотрудник     0   \n",
       "12  гражданский брак                 1      M   пенсионер     0   \n",
       "13   женат / замужем                 0      F   сотрудник     0   \n",
       "14  гражданский брак                 1      F   компаньон     1   \n",
       "15   женат / замужем                 0      F   сотрудник     0   \n",
       "16   женат / замужем                 0      F   сотрудник     0   \n",
       "17  гражданский брак                 1      M   сотрудник     0   \n",
       "18    вдовец / вдова                 2      F   пенсионер     0   \n",
       "19         в разводе                 3      F   сотрудник     0   \n",
       "\n",
       "     total_income                                 purpose  \n",
       "0   253875.639453                           покупка жилья  \n",
       "1   112080.014102                 приобретение автомобиля  \n",
       "2   145885.952297                           покупка жилья  \n",
       "3   267628.550329              дополнительное образование  \n",
       "4   158616.077870                         сыграть свадьбу  \n",
       "5   255763.565419                           покупка жилья  \n",
       "6   240525.971920                       операции с жильем  \n",
       "7   135823.934197                             образование  \n",
       "8    95856.832424                   на проведение свадьбы  \n",
       "9   144425.938277                 покупка жилья для семьи  \n",
       "10  113943.491460                    покупка недвижимости  \n",
       "11   77069.234271       покупка коммерческой недвижимости  \n",
       "12            NaN                         сыграть свадьбу  \n",
       "13  130458.228857                 приобретение автомобиля  \n",
       "14  165127.911772              покупка жилой недвижимости  \n",
       "15  116820.904450  строительство собственной недвижимости  \n",
       "16  289202.704229                            недвижимость  \n",
       "17   90410.586745              строительство недвижимости  \n",
       "18   56823.777243      на покупку подержанного автомобиля  \n",
       "19  242831.107982            на покупку своего автомобиля  "
      ]
     },
     "execution_count": 2,
     "metadata": {},
     "output_type": "execute_result"
    }
   ],
   "source": [
    "data.head(20)"
   ]
  },
  {
   "cell_type": "markdown",
   "id": "1c12e233",
   "metadata": {
    "deletable": false,
    "id": "1c12e233"
   },
   "source": [
    "**Задание 3. Выведите основную информацию о датафрейме с помощью метода `info()`.**"
   ]
  },
  {
   "cell_type": "code",
   "execution_count": 3,
   "id": "2b757bca",
   "metadata": {
    "deletable": false,
    "id": "2b757bca",
    "outputId": "15376089-8dad-46c9-b520-c05248d43158"
   },
   "outputs": [
    {
     "name": "stdout",
     "output_type": "stream",
     "text": [
      "<class 'pandas.core.frame.DataFrame'>\n",
      "RangeIndex: 21525 entries, 0 to 21524\n",
      "Data columns (total 12 columns):\n",
      " #   Column            Non-Null Count  Dtype  \n",
      "---  ------            --------------  -----  \n",
      " 0   children          21525 non-null  int64  \n",
      " 1   days_employed     19351 non-null  float64\n",
      " 2   dob_years         21525 non-null  int64  \n",
      " 3   education         21525 non-null  object \n",
      " 4   education_id      21525 non-null  int64  \n",
      " 5   family_status     21525 non-null  object \n",
      " 6   family_status_id  21525 non-null  int64  \n",
      " 7   gender            21525 non-null  object \n",
      " 8   income_type       21525 non-null  object \n",
      " 9   debt              21525 non-null  int64  \n",
      " 10  total_income      19351 non-null  float64\n",
      " 11  purpose           21525 non-null  object \n",
      "dtypes: float64(2), int64(5), object(5)\n",
      "memory usage: 2.0+ MB\n"
     ]
    }
   ],
   "source": [
    "data.info()"
   ]
  },
  {
   "cell_type": "markdown",
   "id": "333ec665",
   "metadata": {
    "deletable": false,
    "id": "333ec665"
   },
   "source": [
    "## Предобработка данных"
   ]
  },
  {
   "cell_type": "markdown",
   "id": "02d92d53",
   "metadata": {
    "deletable": false,
    "id": "02d92d53"
   },
   "source": [
    "### Удаление пропусков"
   ]
  },
  {
   "cell_type": "markdown",
   "id": "cd84967c",
   "metadata": {
    "deletable": false,
    "id": "cd84967c"
   },
   "source": [
    "**Задание 4. Выведите количество пропущенных значений для каждого столбца. Используйте комбинацию двух методов.**"
   ]
  },
  {
   "cell_type": "code",
   "execution_count": 4,
   "id": "7f9b2309",
   "metadata": {
    "deletable": false,
    "id": "7f9b2309",
    "outputId": "81f4d817-781c-465c-ed15-91ce4446810d"
   },
   "outputs": [
    {
     "data": {
      "text/plain": [
       "children               0\n",
       "days_employed       2174\n",
       "dob_years              0\n",
       "education              0\n",
       "education_id           0\n",
       "family_status          0\n",
       "family_status_id       0\n",
       "gender                 0\n",
       "income_type            0\n",
       "debt                   0\n",
       "total_income        2174\n",
       "purpose                0\n",
       "dtype: int64"
      ]
     },
     "execution_count": 4,
     "metadata": {},
     "output_type": "execute_result"
    }
   ],
   "source": [
    "data.isna().sum()"
   ]
  },
  {
   "cell_type": "markdown",
   "id": "db86e27b",
   "metadata": {
    "deletable": false,
    "id": "db86e27b"
   },
   "source": [
    "**Задание 5. В двух столбцах есть пропущенные значения. Один из них — `days_employed`. Пропуски в этом столбце вы обработаете на следующем этапе. Другой столбец с пропущенными значениями — `total_income` — хранит данные о доходах. На сумму дохода сильнее всего влияет тип занятости, поэтому заполнить пропуски в этом столбце нужно медианным значением по каждому типу из столбца `income_type`. Например, у человека с типом занятости `сотрудник` пропуск в столбце `total_income` должен быть заполнен медианным доходом среди всех записей с тем же типом.**"
   ]
  },
  {
   "cell_type": "code",
   "execution_count": 5,
   "id": "42006a93",
   "metadata": {
    "deletable": false,
    "id": "42006a93"
   },
   "outputs": [],
   "source": [
    "for t in data['income_type'].unique():\n",
    "    data.loc[(data['income_type'] == t) & (data['total_income'].isna()), 'total_income'] = \\\n",
    "    data.loc[(data['income_type'] == t), 'total_income'].median()"
   ]
  },
  {
   "cell_type": "markdown",
   "id": "89da5ece",
   "metadata": {
    "deletable": false,
    "id": "89da5ece"
   },
   "source": [
    "### Обработка аномальных значений"
   ]
  },
  {
   "cell_type": "markdown",
   "id": "57964554",
   "metadata": {
    "deletable": false,
    "id": "57964554"
   },
   "source": [
    "**Задание 6. В данных могут встречаться артефакты (аномалии) — значения, которые не отражают действительность и появились по какой-то ошибке. таким артефактом будет отрицательное количество дней трудового стажа в столбце `days_employed`. Для реальных данных это нормально. Обработайте значения в этом столбце: замените все отрицательные значения положительными с помощью метода `abs()`.**"
   ]
  },
  {
   "cell_type": "code",
   "execution_count": 6,
   "id": "f6f055bf",
   "metadata": {
    "deletable": false,
    "id": "f6f055bf"
   },
   "outputs": [],
   "source": [
    "data['days_employed'] = data['days_employed'].abs()"
   ]
  },
  {
   "cell_type": "markdown",
   "id": "6107dd2f",
   "metadata": {
    "deletable": false,
    "id": "6107dd2f"
   },
   "source": [
    "**Задание 7. Для каждого типа занятости выведите медианное значение трудового стажа `days_employed` в днях.**"
   ]
  },
  {
   "cell_type": "code",
   "execution_count": 7,
   "id": "85a5faf6",
   "metadata": {
    "deletable": false,
    "id": "85a5faf6",
    "outputId": "801ef80e-522b-4668-f34e-565af7432bcf"
   },
   "outputs": [
    {
     "data": {
      "text/plain": [
       "income_type\n",
       "безработный        366413.652744\n",
       "в декрете            3296.759962\n",
       "госслужащий          2689.368353\n",
       "компаньон            1547.382223\n",
       "пенсионер          365213.306266\n",
       "предприниматель       520.848083\n",
       "сотрудник            1574.202821\n",
       "студент               578.751554\n",
       "Name: days_employed, dtype: float64"
      ]
     },
     "execution_count": 7,
     "metadata": {},
     "output_type": "execute_result"
    }
   ],
   "source": [
    "data.groupby('income_type')['days_employed'].agg('median')"
   ]
  },
  {
   "cell_type": "markdown",
   "id": "38d1a030",
   "metadata": {
    "deletable": false,
    "id": "38d1a030"
   },
   "source": [
    "У двух типов (безработные и пенсионеры) получатся аномально большие значения. Исправить такие значения сложно, поэтому оставьте их как есть. Тем более этот столбец не понадобится вам для исследования."
   ]
  },
  {
   "cell_type": "markdown",
   "id": "d8a9f147",
   "metadata": {
    "deletable": false,
    "id": "d8a9f147"
   },
   "source": [
    "**Задание 8. Выведите перечень уникальных значений столбца `children`.**"
   ]
  },
  {
   "cell_type": "code",
   "execution_count": 8,
   "id": "ef5056eb",
   "metadata": {
    "deletable": false,
    "id": "ef5056eb",
    "outputId": "6975b15c-7f95-4697-d16d-a0c79b657b03"
   },
   "outputs": [
    {
     "data": {
      "text/plain": [
       "array([ 1,  0,  3,  2, -1,  4, 20,  5])"
      ]
     },
     "execution_count": 8,
     "metadata": {},
     "output_type": "execute_result"
    }
   ],
   "source": [
    "data['children'].unique()"
   ]
  },
  {
   "cell_type": "markdown",
   "id": "40b9ebf2",
   "metadata": {
    "deletable": false,
    "id": "40b9ebf2"
   },
   "source": [
    "**Задание 9. В столбце `children` есть два аномальных значения. Удалите строки, в которых встречаются такие аномальные значения из датафрейма `data`.**"
   ]
  },
  {
   "cell_type": "code",
   "execution_count": 9,
   "id": "3ff9801d",
   "metadata": {
    "deletable": false,
    "id": "3ff9801d"
   },
   "outputs": [],
   "source": [
    "data = data[(data['children'] != -1) & (data['children'] != 20)]"
   ]
  },
  {
   "cell_type": "markdown",
   "id": "bbc4d0ce",
   "metadata": {
    "deletable": false,
    "id": "bbc4d0ce"
   },
   "source": [
    "**Задание 10. Ещё раз выведите перечень уникальных значений столбца `children`, чтобы убедиться, что артефакты удалены.**"
   ]
  },
  {
   "cell_type": "code",
   "execution_count": 10,
   "id": "ad4fa8b7",
   "metadata": {
    "deletable": false,
    "id": "ad4fa8b7",
    "outputId": "b2097101-d49d-44d9-901b-32a65c9463d1"
   },
   "outputs": [
    {
     "data": {
      "text/plain": [
       "array([1, 0, 3, 2, 4, 5])"
      ]
     },
     "execution_count": 10,
     "metadata": {},
     "output_type": "execute_result"
    }
   ],
   "source": [
    "data['children'].unique()"
   ]
  },
  {
   "cell_type": "markdown",
   "id": "75440b63",
   "metadata": {
    "deletable": false,
    "id": "75440b63"
   },
   "source": [
    "### Удаление пропусков (продолжение)"
   ]
  },
  {
   "cell_type": "markdown",
   "id": "f4ea573f",
   "metadata": {
    "deletable": false,
    "id": "f4ea573f"
   },
   "source": [
    "**Задание 11. Заполните пропуски в столбце `days_employed` медианными значениями по каждого типа занятости `income_type`.**"
   ]
  },
  {
   "cell_type": "code",
   "execution_count": 11,
   "id": "af6b1a7e",
   "metadata": {
    "deletable": false,
    "id": "af6b1a7e"
   },
   "outputs": [],
   "source": [
    "for t in data['income_type'].unique():\n",
    "    data.loc[(data['income_type'] == t) & (data['days_employed'].isna()), 'days_employed'] = \\\n",
    "    data.loc[(data['income_type'] == t), 'days_employed'].median()"
   ]
  },
  {
   "cell_type": "markdown",
   "id": "2753f40d",
   "metadata": {
    "deletable": false,
    "id": "2753f40d"
   },
   "source": [
    "**Задание 12. Убедитесь, что все пропуски заполнены. Проверьте себя и ещё раз выведите количество пропущенных значений для каждого столбца с помощью двух методов.**"
   ]
  },
  {
   "cell_type": "code",
   "execution_count": 12,
   "id": "55f78bc2",
   "metadata": {
    "deletable": false,
    "id": "55f78bc2",
    "outputId": "8da1e4e1-358e-4e87-98c9-f261bce0a7b2"
   },
   "outputs": [
    {
     "data": {
      "text/plain": [
       "children            0\n",
       "days_employed       0\n",
       "dob_years           0\n",
       "education           0\n",
       "education_id        0\n",
       "family_status       0\n",
       "family_status_id    0\n",
       "gender              0\n",
       "income_type         0\n",
       "debt                0\n",
       "total_income        0\n",
       "purpose             0\n",
       "dtype: int64"
      ]
     },
     "execution_count": 12,
     "metadata": {},
     "output_type": "execute_result"
    }
   ],
   "source": [
    "data.isna().sum()"
   ]
  },
  {
   "cell_type": "markdown",
   "id": "ddc81e43",
   "metadata": {
    "deletable": false,
    "id": "ddc81e43"
   },
   "source": [
    "### Изменение типов данных"
   ]
  },
  {
   "cell_type": "markdown",
   "id": "42d19d24",
   "metadata": {
    "deletable": false,
    "id": "42d19d24"
   },
   "source": [
    "**Задание 13. Замените вещественный тип данных в столбце `total_income` на целочисленный с помощью метода `astype()`.**"
   ]
  },
  {
   "cell_type": "code",
   "execution_count": 13,
   "id": "920b65ad",
   "metadata": {
    "deletable": false,
    "id": "920b65ad"
   },
   "outputs": [],
   "source": [
    "data['total_income'] = data['total_income'].astype(int)"
   ]
  },
  {
   "cell_type": "markdown",
   "id": "80c420ba",
   "metadata": {
    "deletable": false,
    "id": "80c420ba"
   },
   "source": [
    "### Обработка дубликатов"
   ]
  },
  {
   "cell_type": "markdown",
   "id": "dc587695",
   "metadata": {
    "deletable": false,
    "id": "dc587695"
   },
   "source": [
    "**Задание 14. Выведите на экран количество строк-дубликатов в данных. Если такие строки присутствуют, удалите их.**"
   ]
  },
  {
   "cell_type": "code",
   "execution_count": 14,
   "id": "3ee445e4",
   "metadata": {
    "deletable": false,
    "id": "3ee445e4",
    "outputId": "9684deba-1934-42d1-99e1-cda61740f822"
   },
   "outputs": [
    {
     "data": {
      "text/plain": [
       "54"
      ]
     },
     "execution_count": 14,
     "metadata": {},
     "output_type": "execute_result"
    }
   ],
   "source": [
    "data.duplicated().sum()"
   ]
  },
  {
   "cell_type": "code",
   "execution_count": 15,
   "id": "8575fe05",
   "metadata": {
    "deletable": false,
    "id": "8575fe05"
   },
   "outputs": [],
   "source": [
    "data = data.drop_duplicates()"
   ]
  },
  {
   "cell_type": "markdown",
   "id": "9771a76c",
   "metadata": {
    "deletable": false,
    "id": "9771a76c"
   },
   "source": [
    "**Задание 15. Обработайте неявные дубликаты в столбце `education`. В этом столбце есть одни и те же значения, но записанные по-разному: с использованием заглавных и строчных букв. Приведите их к нижнему регистру. Проверьте остальные столбцы.**"
   ]
  },
  {
   "cell_type": "code",
   "execution_count": 16,
   "id": "a9f8e2bf",
   "metadata": {
    "deletable": false,
    "id": "a9f8e2bf"
   },
   "outputs": [],
   "source": [
    "data['education'] = data['education'].str.lower()"
   ]
  },
  {
   "cell_type": "markdown",
   "id": "9904cf55",
   "metadata": {
    "deletable": false,
    "id": "9904cf55"
   },
   "source": [
    "### Категоризация данных"
   ]
  },
  {
   "cell_type": "markdown",
   "id": "72fcc8a2",
   "metadata": {
    "deletable": false,
    "id": "72fcc8a2"
   },
   "source": [
    "**Задание 16. На основании диапазонов, указанных ниже, создайте в датафрейме `data` столбец `total_income_category` с категориями:**\n",
    "\n",
    "- 0–30000 — `'E'`;\n",
    "- 30001–50000 — `'D'`;\n",
    "- 50001–200000 — `'C'`;\n",
    "- 200001–1000000 — `'B'`;\n",
    "- 1000001 и выше — `'A'`.\n",
    "\n",
    "\n",
    "**Например, кредитополучателю с доходом 25000 нужно назначить категорию `'E'`, а клиенту, получающему 235000, — `'B'`. Используйте собственную функцию с именем `categorize_income()` и метод `apply()`.**"
   ]
  },
  {
   "cell_type": "code",
   "execution_count": 17,
   "id": "e1771346",
   "metadata": {
    "deletable": false,
    "id": "e1771346"
   },
   "outputs": [],
   "source": [
    "def categorize_income(income):\n",
    "    try:\n",
    "        if 0 <= income <= 30000:\n",
    "            return 'E'\n",
    "        elif 30001 <= income <= 50000:\n",
    "            return 'D'\n",
    "        elif 50001 <= income <= 200000:\n",
    "            return 'C'\n",
    "        elif 200001 <= income <= 1000000:\n",
    "            return 'B'\n",
    "        elif income >= 1000001:\n",
    "            return 'A'\n",
    "    except:\n",
    "        pass"
   ]
  },
  {
   "cell_type": "code",
   "execution_count": 18,
   "id": "d5f3586d",
   "metadata": {
    "deletable": false,
    "id": "d5f3586d"
   },
   "outputs": [],
   "source": [
    "data['total_income_category'] = data['total_income'].apply(categorize_income)"
   ]
  },
  {
   "cell_type": "markdown",
   "id": "dde49b5c",
   "metadata": {
    "deletable": false,
    "id": "dde49b5c"
   },
   "source": [
    "**Задание 17. Выведите на экран перечень уникальных целей взятия кредита из столбца `purpose`.**"
   ]
  },
  {
   "cell_type": "code",
   "execution_count": 19,
   "id": "f67ce9b3",
   "metadata": {
    "deletable": false,
    "id": "f67ce9b3",
    "outputId": "673c12d9-7d7e-4ae0-9812-c622c89dd244"
   },
   "outputs": [
    {
     "data": {
      "text/plain": [
       "array(['покупка жилья', 'приобретение автомобиля',\n",
       "       'дополнительное образование', 'сыграть свадьбу',\n",
       "       'операции с жильем', 'образование', 'на проведение свадьбы',\n",
       "       'покупка жилья для семьи', 'покупка недвижимости',\n",
       "       'покупка коммерческой недвижимости', 'покупка жилой недвижимости',\n",
       "       'строительство собственной недвижимости', 'недвижимость',\n",
       "       'строительство недвижимости', 'на покупку подержанного автомобиля',\n",
       "       'на покупку своего автомобиля',\n",
       "       'операции с коммерческой недвижимостью',\n",
       "       'строительство жилой недвижимости', 'жилье',\n",
       "       'операции со своей недвижимостью', 'автомобили',\n",
       "       'заняться образованием', 'сделка с подержанным автомобилем',\n",
       "       'получение образования', 'автомобиль', 'свадьба',\n",
       "       'получение дополнительного образования', 'покупка своего жилья',\n",
       "       'операции с недвижимостью', 'получение высшего образования',\n",
       "       'свой автомобиль', 'сделка с автомобилем',\n",
       "       'профильное образование', 'высшее образование',\n",
       "       'покупка жилья для сдачи', 'на покупку автомобиля', 'ремонт жилью',\n",
       "       'заняться высшим образованием'], dtype=object)"
      ]
     },
     "execution_count": 19,
     "metadata": {},
     "output_type": "execute_result"
    }
   ],
   "source": [
    "data['purpose'].unique()"
   ]
  },
  {
   "cell_type": "markdown",
   "id": "85d0aef0",
   "metadata": {
    "deletable": false,
    "id": "85d0aef0"
   },
   "source": [
    "**Задание 18. Создайте функцию, которая на основании данных из столбца `purpose` сформирует новый столбец `purpose_category`, в который войдут следующие категории:**\n",
    "\n",
    "- `'операции с автомобилем'`,\n",
    "- `'операции с недвижимостью'`,\n",
    "- `'проведение свадьбы'`,\n",
    "- `'получение образования'`.\n",
    "\n",
    "**Например, если в столбце `purpose` находится подстрока `'на покупку автомобиля'`, то в столбце `purpose_category` должна появиться строка `'операции с автомобилем'`.**\n",
    "\n",
    "**Используйте собственную функцию с именем `categorize_purpose()` и метод `apply()`. Изучите данные в столбце `purpose` и определите, какие подстроки помогут вам правильно определить категорию.**"
   ]
  },
  {
   "cell_type": "code",
   "execution_count": 20,
   "id": "e149fab4",
   "metadata": {
    "deletable": false,
    "id": "e149fab4"
   },
   "outputs": [],
   "source": [
    "def categorize_purpose(row):\n",
    "    try:\n",
    "        if 'автом' in row:\n",
    "            return 'операции с автомобилем'\n",
    "        elif 'жил' in row or 'недвиж' in row:\n",
    "            return 'операции с недвижимостью'\n",
    "        elif 'свад' in row:\n",
    "            return 'проведение свадьбы'\n",
    "        elif 'образов' in row:\n",
    "            return 'получение образования'\n",
    "    except:\n",
    "        return 'нет категории'"
   ]
  },
  {
   "cell_type": "code",
   "execution_count": 21,
   "id": "bf36e69b",
   "metadata": {
    "deletable": false,
    "id": "bf36e69b"
   },
   "outputs": [],
   "source": [
    "data['purpose_category'] = data['purpose'].apply(categorize_purpose)"
   ]
  },
  {
   "cell_type": "markdown",
   "id": "09b242bf",
   "metadata": {
    "deletable": false,
    "editable": false,
    "id": "09b242bf"
   },
   "source": [
    "## Исследуйте данные и ответьте на вопросы"
   ]
  },
  {
   "cell_type": "markdown",
   "id": "c5d66278",
   "metadata": {
    "deletable": false,
    "editable": false,
    "id": "c5d66278"
   },
   "source": [
    "**Задание 19. Есть ли зависимость между количеством детей и возвратом кредита в срок?**"
   ]
  },
  {
   "cell_type": "code",
   "execution_count": 22,
   "id": "f8ee7cae",
   "metadata": {},
   "outputs": [],
   "source": [
    "# напишем функцию, которая будет подсчитывать долю(%) людей не вернувших кредит в срок - debtors_share_% - в зависимости от интересующего нас параметра (названия колонки датафрейма)\n",
    "def parameter_debt_relation(parameter):\n",
    "    parameter_debt_relation = data.groupby(parameter).agg({'debt': ['sum', 'count']})\n",
    "    parameter_debt_relation['sample_size'] = parameter_debt_relation['debt']['count']\n",
    "    parameter_debt_relation['debtors_share_%'] = (parameter_debt_relation['debt']['sum']/parameter_debt_relation['debt']['count']*100)\\\n",
    "                                                    .round(2)\n",
    "    return(parameter_debt_relation.sort_values('debtors_share_%', ascending=False).drop(columns='debt'))"
   ]
  },
  {
   "cell_type": "code",
   "execution_count": 23,
   "id": "38974e02",
   "metadata": {},
   "outputs": [
    {
     "data": {
      "text/html": [
       "<div>\n",
       "<style scoped>\n",
       "    .dataframe tbody tr th:only-of-type {\n",
       "        vertical-align: middle;\n",
       "    }\n",
       "\n",
       "    .dataframe tbody tr th {\n",
       "        vertical-align: top;\n",
       "    }\n",
       "\n",
       "    .dataframe thead tr th {\n",
       "        text-align: left;\n",
       "    }\n",
       "\n",
       "    .dataframe thead tr:last-of-type th {\n",
       "        text-align: right;\n",
       "    }\n",
       "</style>\n",
       "<table border=\"1\" class=\"dataframe\">\n",
       "  <thead>\n",
       "    <tr>\n",
       "      <th></th>\n",
       "      <th>sample_size</th>\n",
       "      <th>debtors_share_%</th>\n",
       "    </tr>\n",
       "    <tr>\n",
       "      <th></th>\n",
       "      <th></th>\n",
       "      <th></th>\n",
       "    </tr>\n",
       "    <tr>\n",
       "      <th>children</th>\n",
       "      <th></th>\n",
       "      <th></th>\n",
       "    </tr>\n",
       "  </thead>\n",
       "  <tbody>\n",
       "    <tr>\n",
       "      <th>4</th>\n",
       "      <td>41</td>\n",
       "      <td>9.76</td>\n",
       "    </tr>\n",
       "    <tr>\n",
       "      <th>2</th>\n",
       "      <td>2052</td>\n",
       "      <td>9.45</td>\n",
       "    </tr>\n",
       "    <tr>\n",
       "      <th>1</th>\n",
       "      <td>4809</td>\n",
       "      <td>9.23</td>\n",
       "    </tr>\n",
       "    <tr>\n",
       "      <th>3</th>\n",
       "      <td>330</td>\n",
       "      <td>8.18</td>\n",
       "    </tr>\n",
       "    <tr>\n",
       "      <th>0</th>\n",
       "      <td>14107</td>\n",
       "      <td>7.54</td>\n",
       "    </tr>\n",
       "    <tr>\n",
       "      <th>5</th>\n",
       "      <td>9</td>\n",
       "      <td>0.00</td>\n",
       "    </tr>\n",
       "  </tbody>\n",
       "</table>\n",
       "</div>"
      ],
      "text/plain": [
       "         sample_size debtors_share_%\n",
       "                                    \n",
       "children                            \n",
       "4                 41            9.76\n",
       "2               2052            9.45\n",
       "1               4809            9.23\n",
       "3                330            8.18\n",
       "0              14107            7.54\n",
       "5                  9            0.00"
      ]
     },
     "execution_count": 23,
     "metadata": {},
     "output_type": "execute_result"
    }
   ],
   "source": [
    "parameter_debt_relation('children')"
   ]
  },
  {
   "cell_type": "markdown",
   "id": "3a6b99ec",
   "metadata": {
    "deletable": false,
    "id": "3a6b99ec"
   },
   "source": [
    "**Вывод:** Исходя из представленных данных, наибольшая доля не вернувших кредит в срок приходится на группу людей, имеющих от 1-го до 4-х детей (для всех обозначенных категорий в среднем 8-10% не возвращают кредит вовремя). Наименьший риск, связанный с неуплатой кридита, у заемщиков либо не имеющих детей вообще, либо имеющих 5 детей, доля невозврата кредита 7.54% и 0% соответственно. \n",
    "***\n",
    "*Однако, стоит учитывать, что в нашем случае выборка не сбалансирована и скошена в сторону заемщиков без детей, поэтому какие-то выводы относительно заемщиков с большим количеством детей делать сложно.*"
   ]
  },
  {
   "cell_type": "markdown",
   "id": "97be82ca",
   "metadata": {
    "deletable": false,
    "editable": false,
    "id": "97be82ca"
   },
   "source": [
    "**Задание 20. Есть ли зависимость между семейным положением и возвратом кредита в срок?**"
   ]
  },
  {
   "cell_type": "code",
   "execution_count": 24,
   "id": "dc3f7ee8",
   "metadata": {
    "id": "dc3f7ee8"
   },
   "outputs": [
    {
     "data": {
      "text/html": [
       "<div>\n",
       "<style scoped>\n",
       "    .dataframe tbody tr th:only-of-type {\n",
       "        vertical-align: middle;\n",
       "    }\n",
       "\n",
       "    .dataframe tbody tr th {\n",
       "        vertical-align: top;\n",
       "    }\n",
       "\n",
       "    .dataframe thead tr th {\n",
       "        text-align: left;\n",
       "    }\n",
       "\n",
       "    .dataframe thead tr:last-of-type th {\n",
       "        text-align: right;\n",
       "    }\n",
       "</style>\n",
       "<table border=\"1\" class=\"dataframe\">\n",
       "  <thead>\n",
       "    <tr>\n",
       "      <th></th>\n",
       "      <th>sample_size</th>\n",
       "      <th>debtors_share_%</th>\n",
       "    </tr>\n",
       "    <tr>\n",
       "      <th></th>\n",
       "      <th></th>\n",
       "      <th></th>\n",
       "    </tr>\n",
       "    <tr>\n",
       "      <th>family_status</th>\n",
       "      <th></th>\n",
       "      <th></th>\n",
       "    </tr>\n",
       "  </thead>\n",
       "  <tbody>\n",
       "    <tr>\n",
       "      <th>Не женат / не замужем</th>\n",
       "      <td>2796</td>\n",
       "      <td>9.76</td>\n",
       "    </tr>\n",
       "    <tr>\n",
       "      <th>гражданский брак</th>\n",
       "      <td>4146</td>\n",
       "      <td>9.29</td>\n",
       "    </tr>\n",
       "    <tr>\n",
       "      <th>женат / замужем</th>\n",
       "      <td>12266</td>\n",
       "      <td>7.56</td>\n",
       "    </tr>\n",
       "    <tr>\n",
       "      <th>в разводе</th>\n",
       "      <td>1189</td>\n",
       "      <td>7.06</td>\n",
       "    </tr>\n",
       "    <tr>\n",
       "      <th>вдовец / вдова</th>\n",
       "      <td>951</td>\n",
       "      <td>6.62</td>\n",
       "    </tr>\n",
       "  </tbody>\n",
       "</table>\n",
       "</div>"
      ],
      "text/plain": [
       "                      sample_size debtors_share_%\n",
       "                                                 \n",
       "family_status                                    \n",
       "Не женат / не замужем        2796            9.76\n",
       "гражданский брак             4146            9.29\n",
       "женат / замужем             12266            7.56\n",
       "в разводе                    1189            7.06\n",
       "вдовец / вдова                951            6.62"
      ]
     },
     "execution_count": 24,
     "metadata": {},
     "output_type": "execute_result"
    }
   ],
   "source": [
    "parameter_debt_relation('family_status')"
   ]
  },
  {
   "cell_type": "markdown",
   "id": "1cef7837",
   "metadata": {
    "deletable": false,
    "id": "1cef7837"
   },
   "source": [
    "**Вывод:** Доля не выплативших кредит в срок заемшиков из категории не состоящих в браке (группа \"не женат / не замужем\") и заемщиков состоящих в гражданском браке (группа \"гражданский брак\") наибольшая (9.76% и 9.29% соответственно). Люди из категорий \"женат / замужем\",\t\"в разводе\", \"вдовец / вдова\" являются наиболее надежными с точки зрения их кредитной способности (доля должников среди этих групп ниже 8%)."
   ]
  },
  {
   "cell_type": "markdown",
   "id": "1e8b2fca",
   "metadata": {
    "deletable": false,
    "editable": false,
    "id": "1e8b2fca"
   },
   "source": [
    "**Задание 21. Есть ли зависимость между уровнем дохода и возвратом кредита в срок?**"
   ]
  },
  {
   "cell_type": "code",
   "execution_count": 25,
   "id": "cd7e3720",
   "metadata": {
    "id": "cd7e3720"
   },
   "outputs": [
    {
     "data": {
      "text/html": [
       "<div>\n",
       "<style scoped>\n",
       "    .dataframe tbody tr th:only-of-type {\n",
       "        vertical-align: middle;\n",
       "    }\n",
       "\n",
       "    .dataframe tbody tr th {\n",
       "        vertical-align: top;\n",
       "    }\n",
       "\n",
       "    .dataframe thead tr th {\n",
       "        text-align: left;\n",
       "    }\n",
       "\n",
       "    .dataframe thead tr:last-of-type th {\n",
       "        text-align: right;\n",
       "    }\n",
       "</style>\n",
       "<table border=\"1\" class=\"dataframe\">\n",
       "  <thead>\n",
       "    <tr>\n",
       "      <th></th>\n",
       "      <th>sample_size</th>\n",
       "      <th>debtors_share_%</th>\n",
       "    </tr>\n",
       "    <tr>\n",
       "      <th></th>\n",
       "      <th></th>\n",
       "      <th></th>\n",
       "    </tr>\n",
       "    <tr>\n",
       "      <th>total_income_category</th>\n",
       "      <th></th>\n",
       "      <th></th>\n",
       "    </tr>\n",
       "  </thead>\n",
       "  <tbody>\n",
       "    <tr>\n",
       "      <th>E</th>\n",
       "      <td>22</td>\n",
       "      <td>9.09</td>\n",
       "    </tr>\n",
       "    <tr>\n",
       "      <th>C</th>\n",
       "      <td>15938</td>\n",
       "      <td>8.49</td>\n",
       "    </tr>\n",
       "    <tr>\n",
       "      <th>A</th>\n",
       "      <td>25</td>\n",
       "      <td>8.00</td>\n",
       "    </tr>\n",
       "    <tr>\n",
       "      <th>B</th>\n",
       "      <td>5014</td>\n",
       "      <td>7.06</td>\n",
       "    </tr>\n",
       "    <tr>\n",
       "      <th>D</th>\n",
       "      <td>349</td>\n",
       "      <td>6.02</td>\n",
       "    </tr>\n",
       "  </tbody>\n",
       "</table>\n",
       "</div>"
      ],
      "text/plain": [
       "                      sample_size debtors_share_%\n",
       "                                                 \n",
       "total_income_category                            \n",
       "E                              22            9.09\n",
       "C                           15938            8.49\n",
       "A                              25            8.00\n",
       "B                            5014            7.06\n",
       "D                             349            6.02"
      ]
     },
     "execution_count": 25,
     "metadata": {},
     "output_type": "execute_result"
    }
   ],
   "source": [
    "parameter_debt_relation('total_income_category')"
   ]
  },
  {
   "cell_type": "markdown",
   "id": "e8593def",
   "metadata": {
    "deletable": false,
    "id": "e8593def"
   },
   "source": [
    "**Вывод:** Кредитополучатели из категорий \"E\" и \"C\" (доход до 30000 и 50001-200000 соответственно) являются наименее надежными с точки зрения рисков неуплаты кредита. Группы кредитополучателей с доходом от 200001 и более (категории \"A\" и \"B\") являются надежными, доли не вернувших кредит в срок, согласно представленным данным, 8% и 7.06% соответственно. Наименьший риск неуплаты кридита в срок определен для заемщиков категории \"D\" (доход 30001–50000), доля должников в этой группе составляет 6.02%.\n",
    "***\n",
    "*Учтем, что в данных плохо представлены группы заемщиков из категорий \"E\" и \"A\", что  затрудняет интерперетацию данных и формульровку выводов.*"
   ]
  },
  {
   "cell_type": "markdown",
   "id": "99ecbd1f",
   "metadata": {
    "deletable": false,
    "editable": false,
    "id": "99ecbd1f"
   },
   "source": [
    "**Задание 22. Как разные цели кредита влияют на его возврат в срок?**"
   ]
  },
  {
   "cell_type": "code",
   "execution_count": 26,
   "id": "2b687290",
   "metadata": {
    "id": "2b687290"
   },
   "outputs": [
    {
     "data": {
      "text/html": [
       "<div>\n",
       "<style scoped>\n",
       "    .dataframe tbody tr th:only-of-type {\n",
       "        vertical-align: middle;\n",
       "    }\n",
       "\n",
       "    .dataframe tbody tr th {\n",
       "        vertical-align: top;\n",
       "    }\n",
       "\n",
       "    .dataframe thead tr th {\n",
       "        text-align: left;\n",
       "    }\n",
       "\n",
       "    .dataframe thead tr:last-of-type th {\n",
       "        text-align: right;\n",
       "    }\n",
       "</style>\n",
       "<table border=\"1\" class=\"dataframe\">\n",
       "  <thead>\n",
       "    <tr>\n",
       "      <th></th>\n",
       "      <th>sample_size</th>\n",
       "      <th>debtors_share_%</th>\n",
       "    </tr>\n",
       "    <tr>\n",
       "      <th></th>\n",
       "      <th></th>\n",
       "      <th></th>\n",
       "    </tr>\n",
       "    <tr>\n",
       "      <th>purpose_category</th>\n",
       "      <th></th>\n",
       "      <th></th>\n",
       "    </tr>\n",
       "  </thead>\n",
       "  <tbody>\n",
       "    <tr>\n",
       "      <th>операции с автомобилем</th>\n",
       "      <td>4281</td>\n",
       "      <td>9.34</td>\n",
       "    </tr>\n",
       "    <tr>\n",
       "      <th>получение образования</th>\n",
       "      <td>3989</td>\n",
       "      <td>9.25</td>\n",
       "    </tr>\n",
       "    <tr>\n",
       "      <th>проведение свадьбы</th>\n",
       "      <td>2324</td>\n",
       "      <td>7.87</td>\n",
       "    </tr>\n",
       "    <tr>\n",
       "      <th>операции с недвижимостью</th>\n",
       "      <td>10754</td>\n",
       "      <td>7.25</td>\n",
       "    </tr>\n",
       "  </tbody>\n",
       "</table>\n",
       "</div>"
      ],
      "text/plain": [
       "                         sample_size debtors_share_%\n",
       "                                                    \n",
       "purpose_category                                    \n",
       "операции с автомобилем          4281            9.34\n",
       "получение образования           3989            9.25\n",
       "проведение свадьбы              2324            7.87\n",
       "операции с недвижимостью       10754            7.25"
      ]
     },
     "execution_count": 26,
     "metadata": {},
     "output_type": "execute_result"
    }
   ],
   "source": [
    "parameter_debt_relation('purpose_category')"
   ]
  },
  {
   "cell_type": "markdown",
   "id": "b4bb2ce6",
   "metadata": {
    "deletable": false,
    "id": "b4bb2ce6"
   },
   "source": [
    "**Вывод:** Среди всех групп, сформированных на основании цели получения кредита, доля должников наибольшая для категорий \"операции с автомобилем\" и \"получение образования\" (на основании представленных данных - 9.34% и 9.25% соответственно). В свою очередь, кредиты на \"проведение свадьбы\" или для \"операций с недвижимостью\" обладают наименьшим риском (доли должников 7.87% и 7.25%)."
   ]
  },
  {
   "cell_type": "code",
   "execution_count": 27,
   "id": "a523f674",
   "metadata": {},
   "outputs": [
    {
     "data": {
      "text/html": [
       "<div>\n",
       "<style scoped>\n",
       "    .dataframe tbody tr th:only-of-type {\n",
       "        vertical-align: middle;\n",
       "    }\n",
       "\n",
       "    .dataframe tbody tr th {\n",
       "        vertical-align: top;\n",
       "    }\n",
       "\n",
       "    .dataframe thead th {\n",
       "        text-align: right;\n",
       "    }\n",
       "</style>\n",
       "<table border=\"1\" class=\"dataframe\">\n",
       "  <thead>\n",
       "    <tr style=\"text-align: right;\">\n",
       "      <th></th>\n",
       "      <th>debtors_share_%</th>\n",
       "    </tr>\n",
       "    <tr>\n",
       "      <th>purpose_category</th>\n",
       "      <th></th>\n",
       "    </tr>\n",
       "  </thead>\n",
       "  <tbody>\n",
       "    <tr>\n",
       "      <th>операции с автомобилем</th>\n",
       "      <td>9.34</td>\n",
       "    </tr>\n",
       "    <tr>\n",
       "      <th>получение образования</th>\n",
       "      <td>9.25</td>\n",
       "    </tr>\n",
       "    <tr>\n",
       "      <th>проведение свадьбы</th>\n",
       "      <td>7.87</td>\n",
       "    </tr>\n",
       "    <tr>\n",
       "      <th>операции с недвижимостью</th>\n",
       "      <td>7.25</td>\n",
       "    </tr>\n",
       "  </tbody>\n",
       "</table>\n",
       "</div>"
      ],
      "text/plain": [
       "                          debtors_share_%\n",
       "purpose_category                         \n",
       "операции с автомобилем               9.34\n",
       "получение образования                9.25\n",
       "проведение свадьбы                   7.87\n",
       "операции с недвижимостью             7.25"
      ]
     },
     "execution_count": 27,
     "metadata": {},
     "output_type": "execute_result"
    }
   ],
   "source": [
    "data\\\n",
    "    .pivot_table(index='purpose_category', values='debt', aggfunc='mean')\\\n",
    "    .mul(100)\\\n",
    "    .round(2)\\\n",
    "    .rename(columns={'debt': 'debtors_share_%'})\\\n",
    "    .sort_values(by='debtors_share_%', ascending=False)"
   ]
  },
  {
   "cell_type": "markdown",
   "id": "09c3ac4c",
   "metadata": {
    "deletable": false,
    "editable": false,
    "id": "09c3ac4c"
   },
   "source": [
    "**Задание 23. Приведите возможные причины появления пропусков в исходных данных.**"
   ]
  },
  {
   "cell_type": "markdown",
   "id": "9da2ceda",
   "metadata": {
    "deletable": false,
    "id": "9da2ceda"
   },
   "source": [
    "*Ответ:* \n",
    "- Информация о трудовом стаже и доходе для определенных заемщиков скрыта\n",
    "- Неправильный ввод данных / выгрузка из базы "
   ]
  },
  {
   "cell_type": "markdown",
   "id": "7b0487d6",
   "metadata": {
    "deletable": false,
    "editable": false,
    "id": "7b0487d6"
   },
   "source": [
    "**Задание 24. Объясните, почему заполнить пропуски медианным значением — лучшее решение для количественных переменных.**"
   ]
  },
  {
   "cell_type": "markdown",
   "id": "7ecf2b8e",
   "metadata": {
    "deletable": false,
    "id": "7ecf2b8e"
   },
   "source": [
    "*Ответ:* \n",
    "- Для количественных переменны пропуски обычно заполняются *характерными значениями*. Предполагается, что данные значения максимально приближены к реальным. \n",
    "- Медиана находится в середине упорядоченного набора значений, то есть это такое число, что половина из элементов набора не меньше него, а другая половина не больше. Медиана более устойчива к появлению сильно завышенных или сильно заниженных значений в пределах группы данных (выбросов)."
   ]
  },
  {
   "cell_type": "markdown",
   "id": "6db5255a",
   "metadata": {
    "deletable": false,
    "editable": false,
    "id": "6db5255a"
   },
   "source": [
    "## Общий вывод."
   ]
  },
  {
   "cell_type": "markdown",
   "id": "bad65432",
   "metadata": {
    "id": "bad65432"
   },
   "source": [
    "*Решение, стоит ли выдавать кредит или нет (а также какой лимит кредитования и проценты установить), банк принимает в зависимости от классификации клиента по группам риска. Таким образом существует необходимость выделять те характеристики, которые наиболее тесно связаны с ненадежностью или, наоборот, с надежностью клиента.*\n",
    "***\n",
    "В результате представленного исследования и анализа ряда параметров, потенциально определяющих кредитную способность клиента, были выделены ключевые категории, которые являются \"ненадежными\" с точки зрения возможных рисков просрочки платежа по кредиту. К данным категориям относятся:\n",
    "1. По количеству детей:\n",
    "  - лица, имеющие от 1 до 4 детей\n",
    "2. По семейному положению:\n",
    "  - неженатые/незамужние\n",
    "  - лица, состоящие в гражданском браке\n",
    "3. По уровню дахода:\n",
    "  - лица с доходом до 30000\n",
    "  - лица с доходом 50001–200000\n",
    "4. По цели кредита:\n",
    "  - операции с автомобилем\n",
    "  - получение образования\n",
    "\n",
    "Попадение потенциального кредитополучателя в одну или несколько \"ненадежных\" категорий может расцениваться как повод для отказа в предоставлении кредита. Полученные данные могут быть использованы для постороения системы кредитного скоринга."
   ]
  }
 ],
 "metadata": {
  "ExecuteTimeLog": [
   {
    "duration": 466,
    "start_time": "2022-07-02T13:20:34.601Z"
   },
   {
    "duration": 22,
    "start_time": "2022-07-02T13:20:35.069Z"
   },
   {
    "duration": 15,
    "start_time": "2022-07-02T13:20:35.092Z"
   },
   {
    "duration": 24,
    "start_time": "2022-07-02T13:20:35.108Z"
   },
   {
    "duration": 33,
    "start_time": "2022-07-02T13:20:35.134Z"
   },
   {
    "duration": 4,
    "start_time": "2022-07-02T13:20:35.169Z"
   },
   {
    "duration": 12,
    "start_time": "2022-07-02T13:20:35.175Z"
   },
   {
    "duration": 4,
    "start_time": "2022-07-02T13:20:35.189Z"
   },
   {
    "duration": 11,
    "start_time": "2022-07-02T13:20:35.194Z"
   },
   {
    "duration": 25,
    "start_time": "2022-07-02T13:20:35.206Z"
   },
   {
    "duration": 32,
    "start_time": "2022-07-02T13:20:35.233Z"
   },
   {
    "duration": 10,
    "start_time": "2022-07-02T13:20:35.267Z"
   },
   {
    "duration": 7,
    "start_time": "2022-07-02T13:20:35.279Z"
   },
   {
    "duration": 41,
    "start_time": "2022-07-02T13:20:35.288Z"
   },
   {
    "duration": 16,
    "start_time": "2022-07-02T13:20:35.331Z"
   },
   {
    "duration": 9,
    "start_time": "2022-07-02T13:20:35.349Z"
   },
   {
    "duration": 7,
    "start_time": "2022-07-02T13:20:35.360Z"
   },
   {
    "duration": 13,
    "start_time": "2022-07-02T13:20:35.369Z"
   },
   {
    "duration": 5,
    "start_time": "2022-07-02T13:20:35.384Z"
   },
   {
    "duration": 3,
    "start_time": "2022-07-02T13:20:35.391Z"
   },
   {
    "duration": 11,
    "start_time": "2022-07-02T13:20:35.395Z"
   },
   {
    "duration": 21,
    "start_time": "2022-07-02T13:20:35.408Z"
   },
   {
    "duration": 4,
    "start_time": "2022-07-02T13:20:35.431Z"
   },
   {
    "duration": 5,
    "start_time": "2022-07-02T13:20:35.437Z"
   },
   {
    "duration": 6,
    "start_time": "2022-07-02T13:20:35.443Z"
   },
   {
    "duration": 119,
    "start_time": "2022-07-03T08:27:30.302Z"
   },
   {
    "duration": 46,
    "start_time": "2022-07-03T08:27:41.951Z"
   },
   {
    "duration": 841,
    "start_time": "2022-07-03T08:27:49.859Z"
   },
   {
    "duration": 24,
    "start_time": "2022-07-03T08:27:50.702Z"
   },
   {
    "duration": 61,
    "start_time": "2022-07-03T08:27:50.727Z"
   },
   {
    "duration": 9,
    "start_time": "2022-07-03T08:27:50.790Z"
   },
   {
    "duration": 38,
    "start_time": "2022-07-03T08:27:50.801Z"
   },
   {
    "duration": 5,
    "start_time": "2022-07-03T08:27:50.841Z"
   },
   {
    "duration": 24,
    "start_time": "2022-07-03T08:27:50.849Z"
   },
   {
    "duration": 5,
    "start_time": "2022-07-03T08:27:50.874Z"
   },
   {
    "duration": 9,
    "start_time": "2022-07-03T08:27:50.881Z"
   },
   {
    "duration": 5,
    "start_time": "2022-07-03T08:27:50.894Z"
   },
   {
    "duration": 59,
    "start_time": "2022-07-03T08:27:50.901Z"
   },
   {
    "duration": 13,
    "start_time": "2022-07-03T08:27:50.964Z"
   },
   {
    "duration": 5,
    "start_time": "2022-07-03T08:27:50.978Z"
   },
   {
    "duration": 20,
    "start_time": "2022-07-03T08:27:50.985Z"
   },
   {
    "duration": 36,
    "start_time": "2022-07-03T08:27:51.007Z"
   },
   {
    "duration": 20,
    "start_time": "2022-07-03T08:27:51.045Z"
   },
   {
    "duration": 7,
    "start_time": "2022-07-03T08:27:51.067Z"
   },
   {
    "duration": 13,
    "start_time": "2022-07-03T08:27:51.075Z"
   },
   {
    "duration": 14,
    "start_time": "2022-07-03T08:27:51.089Z"
   },
   {
    "duration": 5,
    "start_time": "2022-07-03T08:27:51.105Z"
   },
   {
    "duration": 27,
    "start_time": "2022-07-03T08:27:51.112Z"
   },
   {
    "duration": 12,
    "start_time": "2022-07-03T08:27:51.140Z"
   },
   {
    "duration": 21,
    "start_time": "2022-07-03T08:27:51.153Z"
   },
   {
    "duration": 4,
    "start_time": "2022-07-03T08:27:51.176Z"
   },
   {
    "duration": 4,
    "start_time": "2022-07-03T08:27:51.182Z"
   },
   {
    "duration": 5,
    "start_time": "2022-07-03T08:28:17.759Z"
   },
   {
    "duration": 11,
    "start_time": "2022-07-03T08:28:27.275Z"
   },
   {
    "duration": 14,
    "start_time": "2022-07-03T08:35:51.997Z"
   },
   {
    "duration": 12,
    "start_time": "2022-07-03T08:36:24.406Z"
   },
   {
    "duration": 98,
    "start_time": "2022-07-03T08:39:06.590Z"
   },
   {
    "duration": 90,
    "start_time": "2022-07-03T08:39:18.510Z"
   },
   {
    "duration": 16,
    "start_time": "2022-07-03T08:39:23.425Z"
   },
   {
    "duration": 15,
    "start_time": "2022-07-03T08:40:53.010Z"
   },
   {
    "duration": 64,
    "start_time": "2022-07-03T08:42:02.755Z"
   },
   {
    "duration": 15,
    "start_time": "2022-07-03T08:42:12.225Z"
   },
   {
    "duration": 19,
    "start_time": "2022-07-03T08:45:17.317Z"
   },
   {
    "duration": 14,
    "start_time": "2022-07-03T08:45:24.086Z"
   },
   {
    "duration": 18,
    "start_time": "2022-07-03T08:45:31.602Z"
   },
   {
    "duration": 33,
    "start_time": "2022-07-03T08:45:46.724Z"
   },
   {
    "duration": 19,
    "start_time": "2022-07-03T08:49:34.406Z"
   },
   {
    "duration": 12,
    "start_time": "2022-07-03T08:51:21.911Z"
   },
   {
    "duration": 18,
    "start_time": "2022-07-03T08:51:28.758Z"
   },
   {
    "duration": 21,
    "start_time": "2022-07-03T08:52:56.015Z"
   },
   {
    "duration": 471,
    "start_time": "2022-07-03T08:57:08.998Z"
   },
   {
    "duration": 21,
    "start_time": "2022-07-03T08:57:09.471Z"
   },
   {
    "duration": 15,
    "start_time": "2022-07-03T08:57:09.493Z"
   },
   {
    "duration": 26,
    "start_time": "2022-07-03T08:57:09.510Z"
   },
   {
    "duration": 39,
    "start_time": "2022-07-03T08:57:09.538Z"
   },
   {
    "duration": 3,
    "start_time": "2022-07-03T08:57:09.578Z"
   },
   {
    "duration": 10,
    "start_time": "2022-07-03T08:57:09.583Z"
   },
   {
    "duration": 4,
    "start_time": "2022-07-03T08:57:09.595Z"
   },
   {
    "duration": 28,
    "start_time": "2022-07-03T08:57:09.601Z"
   },
   {
    "duration": 7,
    "start_time": "2022-07-03T08:57:09.633Z"
   },
   {
    "duration": 35,
    "start_time": "2022-07-03T08:57:09.644Z"
   },
   {
    "duration": 9,
    "start_time": "2022-07-03T08:57:09.680Z"
   },
   {
    "duration": 3,
    "start_time": "2022-07-03T08:57:09.691Z"
   },
   {
    "duration": 45,
    "start_time": "2022-07-03T08:57:09.695Z"
   },
   {
    "duration": 15,
    "start_time": "2022-07-03T08:57:09.742Z"
   },
   {
    "duration": 10,
    "start_time": "2022-07-03T08:57:09.759Z"
   },
   {
    "duration": 5,
    "start_time": "2022-07-03T08:57:09.770Z"
   },
   {
    "duration": 11,
    "start_time": "2022-07-03T08:57:09.777Z"
   },
   {
    "duration": 8,
    "start_time": "2022-07-03T08:57:09.790Z"
   },
   {
    "duration": 3,
    "start_time": "2022-07-03T08:57:09.800Z"
   },
   {
    "duration": 33,
    "start_time": "2022-07-03T08:57:09.805Z"
   },
   {
    "duration": 17,
    "start_time": "2022-07-03T08:57:09.840Z"
   },
   {
    "duration": 16,
    "start_time": "2022-07-03T08:57:09.859Z"
   },
   {
    "duration": 16,
    "start_time": "2022-07-03T08:57:09.877Z"
   },
   {
    "duration": 47,
    "start_time": "2022-07-03T08:57:09.894Z"
   },
   {
    "duration": 65,
    "start_time": "2022-07-03T09:03:59.251Z"
   },
   {
    "duration": 18,
    "start_time": "2022-07-03T09:04:16.188Z"
   },
   {
    "duration": 492,
    "start_time": "2022-07-03T09:04:32.620Z"
   },
   {
    "duration": 18,
    "start_time": "2022-07-03T09:04:52.804Z"
   },
   {
    "duration": 29,
    "start_time": "2022-07-03T09:09:51.679Z"
   },
   {
    "duration": 19,
    "start_time": "2022-07-03T09:10:40.324Z"
   },
   {
    "duration": 17,
    "start_time": "2022-07-03T09:11:01.083Z"
   },
   {
    "duration": 19,
    "start_time": "2022-07-03T09:11:04.145Z"
   },
   {
    "duration": 22,
    "start_time": "2022-07-03T09:11:07.361Z"
   },
   {
    "duration": 5,
    "start_time": "2022-07-03T09:14:18.751Z"
   },
   {
    "duration": 15,
    "start_time": "2022-07-03T09:15:21.046Z"
   },
   {
    "duration": 5,
    "start_time": "2022-07-03T09:15:38.225Z"
   },
   {
    "duration": 12,
    "start_time": "2022-07-03T09:15:39.652Z"
   },
   {
    "duration": 3,
    "start_time": "2022-07-03T09:19:37.984Z"
   },
   {
    "duration": 13,
    "start_time": "2022-07-03T09:19:38.948Z"
   },
   {
    "duration": 4,
    "start_time": "2022-07-03T09:20:19.939Z"
   },
   {
    "duration": 7,
    "start_time": "2022-07-03T09:20:20.410Z"
   },
   {
    "duration": 4,
    "start_time": "2022-07-03T09:21:37.075Z"
   },
   {
    "duration": 8,
    "start_time": "2022-07-03T09:21:37.563Z"
   },
   {
    "duration": 4,
    "start_time": "2022-07-03T09:22:17.388Z"
   },
   {
    "duration": 19,
    "start_time": "2022-07-03T09:22:17.819Z"
   },
   {
    "duration": 4,
    "start_time": "2022-07-03T09:22:34.781Z"
   },
   {
    "duration": 16,
    "start_time": "2022-07-03T09:22:35.352Z"
   },
   {
    "duration": 17,
    "start_time": "2022-07-03T09:28:36.500Z"
   },
   {
    "duration": 4,
    "start_time": "2022-07-03T09:30:12.816Z"
   },
   {
    "duration": 16,
    "start_time": "2022-07-03T09:30:13.441Z"
   },
   {
    "duration": 16,
    "start_time": "2022-07-03T09:30:17.248Z"
   },
   {
    "duration": 14,
    "start_time": "2022-07-03T09:30:30.788Z"
   },
   {
    "duration": 16,
    "start_time": "2022-07-03T09:30:39.307Z"
   },
   {
    "duration": 4,
    "start_time": "2022-07-03T09:37:16.666Z"
   },
   {
    "duration": 17,
    "start_time": "2022-07-03T09:37:17.715Z"
   },
   {
    "duration": 3,
    "start_time": "2022-07-03T09:37:27.777Z"
   },
   {
    "duration": 15,
    "start_time": "2022-07-03T09:37:29.308Z"
   },
   {
    "duration": 16,
    "start_time": "2022-07-03T09:37:35.607Z"
   },
   {
    "duration": 17,
    "start_time": "2022-07-03T09:37:39.241Z"
   },
   {
    "duration": 16,
    "start_time": "2022-07-03T09:37:42.147Z"
   },
   {
    "duration": 3,
    "start_time": "2022-07-03T10:22:54.322Z"
   },
   {
    "duration": 17,
    "start_time": "2022-07-03T10:22:54.910Z"
   },
   {
    "duration": 16,
    "start_time": "2022-07-03T10:22:59.586Z"
   },
   {
    "duration": 15,
    "start_time": "2022-07-03T10:23:02.657Z"
   },
   {
    "duration": 17,
    "start_time": "2022-07-03T10:23:05.260Z"
   },
   {
    "duration": 454,
    "start_time": "2022-07-03T10:51:29.043Z"
   },
   {
    "duration": 22,
    "start_time": "2022-07-03T10:51:29.500Z"
   },
   {
    "duration": 49,
    "start_time": "2022-07-03T10:51:29.524Z"
   },
   {
    "duration": 19,
    "start_time": "2022-07-03T10:51:29.574Z"
   },
   {
    "duration": 44,
    "start_time": "2022-07-03T10:51:29.595Z"
   },
   {
    "duration": 3,
    "start_time": "2022-07-03T10:51:29.640Z"
   },
   {
    "duration": 11,
    "start_time": "2022-07-03T10:51:29.645Z"
   },
   {
    "duration": 4,
    "start_time": "2022-07-03T10:51:29.657Z"
   },
   {
    "duration": 8,
    "start_time": "2022-07-03T10:51:29.663Z"
   },
   {
    "duration": 5,
    "start_time": "2022-07-03T10:51:29.672Z"
   },
   {
    "duration": 29,
    "start_time": "2022-07-03T10:51:29.678Z"
   },
   {
    "duration": 30,
    "start_time": "2022-07-03T10:51:29.708Z"
   },
   {
    "duration": 4,
    "start_time": "2022-07-03T10:51:29.740Z"
   },
   {
    "duration": 16,
    "start_time": "2022-07-03T10:51:29.747Z"
   },
   {
    "duration": 15,
    "start_time": "2022-07-03T10:51:29.765Z"
   },
   {
    "duration": 10,
    "start_time": "2022-07-03T10:51:29.781Z"
   },
   {
    "duration": 6,
    "start_time": "2022-07-03T10:51:29.793Z"
   },
   {
    "duration": 39,
    "start_time": "2022-07-03T10:51:29.800Z"
   },
   {
    "duration": 5,
    "start_time": "2022-07-03T10:51:29.841Z"
   },
   {
    "duration": 4,
    "start_time": "2022-07-03T10:51:29.848Z"
   },
   {
    "duration": 9,
    "start_time": "2022-07-03T10:51:29.854Z"
   },
   {
    "duration": 3,
    "start_time": "2022-07-03T10:51:29.865Z"
   },
   {
    "duration": 16,
    "start_time": "2022-07-03T10:51:29.870Z"
   },
   {
    "duration": 14,
    "start_time": "2022-07-03T10:51:29.887Z"
   },
   {
    "duration": 42,
    "start_time": "2022-07-03T10:51:29.902Z"
   },
   {
    "duration": 19,
    "start_time": "2022-07-03T10:51:29.945Z"
   },
   {
    "duration": 455,
    "start_time": "2022-07-03T11:23:16.240Z"
   },
   {
    "duration": 20,
    "start_time": "2022-07-03T11:23:16.697Z"
   },
   {
    "duration": 17,
    "start_time": "2022-07-03T11:23:16.719Z"
   },
   {
    "duration": 9,
    "start_time": "2022-07-03T11:23:16.743Z"
   },
   {
    "duration": 34,
    "start_time": "2022-07-03T11:23:16.754Z"
   },
   {
    "duration": 3,
    "start_time": "2022-07-03T11:23:16.789Z"
   },
   {
    "duration": 9,
    "start_time": "2022-07-03T11:23:16.793Z"
   },
   {
    "duration": 4,
    "start_time": "2022-07-03T11:23:16.804Z"
   },
   {
    "duration": 44,
    "start_time": "2022-07-03T11:23:16.809Z"
   },
   {
    "duration": 9,
    "start_time": "2022-07-03T11:23:16.855Z"
   },
   {
    "duration": 36,
    "start_time": "2022-07-03T11:23:16.865Z"
   },
   {
    "duration": 9,
    "start_time": "2022-07-03T11:23:16.903Z"
   },
   {
    "duration": 4,
    "start_time": "2022-07-03T11:23:16.913Z"
   },
   {
    "duration": 25,
    "start_time": "2022-07-03T11:23:16.920Z"
   },
   {
    "duration": 15,
    "start_time": "2022-07-03T11:23:16.947Z"
   },
   {
    "duration": 10,
    "start_time": "2022-07-03T11:23:16.964Z"
   },
   {
    "duration": 5,
    "start_time": "2022-07-03T11:23:16.976Z"
   },
   {
    "duration": 14,
    "start_time": "2022-07-03T11:23:16.983Z"
   },
   {
    "duration": 10,
    "start_time": "2022-07-03T11:23:16.999Z"
   },
   {
    "duration": 22,
    "start_time": "2022-07-03T11:23:17.010Z"
   },
   {
    "duration": 14,
    "start_time": "2022-07-03T11:23:17.033Z"
   },
   {
    "duration": 4,
    "start_time": "2022-07-03T11:23:17.049Z"
   },
   {
    "duration": 19,
    "start_time": "2022-07-03T11:23:17.054Z"
   },
   {
    "duration": 14,
    "start_time": "2022-07-03T11:23:17.075Z"
   },
   {
    "duration": 15,
    "start_time": "2022-07-03T11:23:17.090Z"
   },
   {
    "duration": 38,
    "start_time": "2022-07-03T11:23:17.106Z"
   },
   {
    "duration": 479,
    "start_time": "2022-07-03T11:58:55.979Z"
   },
   {
    "duration": 21,
    "start_time": "2022-07-03T11:58:56.460Z"
   },
   {
    "duration": 13,
    "start_time": "2022-07-03T11:58:56.483Z"
   },
   {
    "duration": 8,
    "start_time": "2022-07-03T11:58:56.498Z"
   },
   {
    "duration": 77,
    "start_time": "2022-07-03T11:58:56.508Z"
   },
   {
    "duration": 2,
    "start_time": "2022-07-03T11:58:56.587Z"
   },
   {
    "duration": 10,
    "start_time": "2022-07-03T11:58:56.591Z"
   },
   {
    "duration": 6,
    "start_time": "2022-07-03T11:58:56.602Z"
   },
   {
    "duration": 9,
    "start_time": "2022-07-03T11:58:56.609Z"
   },
   {
    "duration": 4,
    "start_time": "2022-07-03T11:58:56.619Z"
   },
   {
    "duration": 55,
    "start_time": "2022-07-03T11:58:56.625Z"
   },
   {
    "duration": 9,
    "start_time": "2022-07-03T11:58:56.682Z"
   },
   {
    "duration": 4,
    "start_time": "2022-07-03T11:58:56.692Z"
   },
   {
    "duration": 19,
    "start_time": "2022-07-03T11:58:56.698Z"
   },
   {
    "duration": 19,
    "start_time": "2022-07-03T11:58:56.719Z"
   },
   {
    "duration": 12,
    "start_time": "2022-07-03T11:58:56.743Z"
   },
   {
    "duration": 6,
    "start_time": "2022-07-03T11:58:56.756Z"
   },
   {
    "duration": 16,
    "start_time": "2022-07-03T11:58:56.763Z"
   },
   {
    "duration": 7,
    "start_time": "2022-07-03T11:58:56.781Z"
   },
   {
    "duration": 4,
    "start_time": "2022-07-03T11:58:56.790Z"
   },
   {
    "duration": 41,
    "start_time": "2022-07-03T11:58:56.796Z"
   },
   {
    "duration": 4,
    "start_time": "2022-07-03T11:58:56.843Z"
   },
   {
    "duration": 26,
    "start_time": "2022-07-03T11:58:56.849Z"
   },
   {
    "duration": 20,
    "start_time": "2022-07-03T11:58:56.877Z"
   },
   {
    "duration": 21,
    "start_time": "2022-07-03T11:58:56.899Z"
   },
   {
    "duration": 22,
    "start_time": "2022-07-03T11:58:56.929Z"
   },
   {
    "duration": 424,
    "start_time": "2022-07-03T12:08:03.693Z"
   },
   {
    "duration": 24,
    "start_time": "2022-07-03T12:08:04.119Z"
   },
   {
    "duration": 24,
    "start_time": "2022-07-03T12:08:04.144Z"
   },
   {
    "duration": 13,
    "start_time": "2022-07-03T12:08:04.170Z"
   },
   {
    "duration": 41,
    "start_time": "2022-07-03T12:08:04.185Z"
   },
   {
    "duration": 4,
    "start_time": "2022-07-03T12:08:04.227Z"
   },
   {
    "duration": 35,
    "start_time": "2022-07-03T12:08:04.233Z"
   },
   {
    "duration": 31,
    "start_time": "2022-07-03T12:08:04.270Z"
   },
   {
    "duration": 37,
    "start_time": "2022-07-03T12:08:04.303Z"
   },
   {
    "duration": 11,
    "start_time": "2022-07-03T12:08:04.345Z"
   },
   {
    "duration": 39,
    "start_time": "2022-07-03T12:08:04.358Z"
   },
   {
    "duration": 9,
    "start_time": "2022-07-03T12:08:04.399Z"
   },
   {
    "duration": 8,
    "start_time": "2022-07-03T12:08:04.409Z"
   },
   {
    "duration": 40,
    "start_time": "2022-07-03T12:08:04.418Z"
   },
   {
    "duration": 15,
    "start_time": "2022-07-03T12:08:04.459Z"
   },
   {
    "duration": 10,
    "start_time": "2022-07-03T12:08:04.475Z"
   },
   {
    "duration": 20,
    "start_time": "2022-07-03T12:08:04.486Z"
   },
   {
    "duration": 40,
    "start_time": "2022-07-03T12:08:04.508Z"
   },
   {
    "duration": 21,
    "start_time": "2022-07-03T12:08:04.550Z"
   },
   {
    "duration": 21,
    "start_time": "2022-07-03T12:08:04.573Z"
   },
   {
    "duration": 14,
    "start_time": "2022-07-03T12:08:04.596Z"
   },
   {
    "duration": 5,
    "start_time": "2022-07-03T12:08:04.612Z"
   },
   {
    "duration": 36,
    "start_time": "2022-07-03T12:08:04.619Z"
   },
   {
    "duration": 22,
    "start_time": "2022-07-03T12:08:04.657Z"
   },
   {
    "duration": 27,
    "start_time": "2022-07-03T12:08:04.681Z"
   },
   {
    "duration": 16,
    "start_time": "2022-07-03T12:08:04.709Z"
   },
   {
    "duration": 465,
    "start_time": "2022-07-03T12:08:25.947Z"
   },
   {
    "duration": 24,
    "start_time": "2022-07-03T12:08:26.414Z"
   },
   {
    "duration": 21,
    "start_time": "2022-07-03T12:08:26.440Z"
   },
   {
    "duration": 8,
    "start_time": "2022-07-03T12:08:26.462Z"
   },
   {
    "duration": 34,
    "start_time": "2022-07-03T12:08:26.472Z"
   },
   {
    "duration": 3,
    "start_time": "2022-07-03T12:08:26.507Z"
   },
   {
    "duration": 23,
    "start_time": "2022-07-03T12:08:26.511Z"
   },
   {
    "duration": 13,
    "start_time": "2022-07-03T12:08:26.539Z"
   },
   {
    "duration": 11,
    "start_time": "2022-07-03T12:08:26.553Z"
   },
   {
    "duration": 14,
    "start_time": "2022-07-03T12:08:26.565Z"
   },
   {
    "duration": 41,
    "start_time": "2022-07-03T12:08:26.581Z"
   },
   {
    "duration": 17,
    "start_time": "2022-07-03T12:08:26.624Z"
   },
   {
    "duration": 13,
    "start_time": "2022-07-03T12:08:26.643Z"
   },
   {
    "duration": 23,
    "start_time": "2022-07-03T12:08:26.659Z"
   },
   {
    "duration": 15,
    "start_time": "2022-07-03T12:08:26.684Z"
   },
   {
    "duration": 11,
    "start_time": "2022-07-03T12:08:26.701Z"
   },
   {
    "duration": 15,
    "start_time": "2022-07-03T12:08:26.713Z"
   },
   {
    "duration": 28,
    "start_time": "2022-07-03T12:08:26.740Z"
   },
   {
    "duration": 20,
    "start_time": "2022-07-03T12:08:26.769Z"
   },
   {
    "duration": 12,
    "start_time": "2022-07-03T12:08:26.791Z"
   },
   {
    "duration": 16,
    "start_time": "2022-07-03T12:08:26.804Z"
   },
   {
    "duration": 3,
    "start_time": "2022-07-03T12:08:26.822Z"
   },
   {
    "duration": 36,
    "start_time": "2022-07-03T12:08:26.827Z"
   },
   {
    "duration": 18,
    "start_time": "2022-07-03T12:08:26.864Z"
   },
   {
    "duration": 16,
    "start_time": "2022-07-03T12:08:26.884Z"
   },
   {
    "duration": 16,
    "start_time": "2022-07-03T12:08:26.901Z"
   },
   {
    "duration": 87,
    "start_time": "2022-07-03T12:20:16.750Z"
   },
   {
    "duration": 4,
    "start_time": "2022-07-03T12:20:29.412Z"
   },
   {
    "duration": 14,
    "start_time": "2022-07-03T12:20:32.048Z"
   },
   {
    "duration": 17,
    "start_time": "2022-07-03T12:20:40.003Z"
   },
   {
    "duration": 26,
    "start_time": "2022-07-03T12:20:59.528Z"
   },
   {
    "duration": 17,
    "start_time": "2022-07-03T12:21:53.347Z"
   },
   {
    "duration": 3,
    "start_time": "2022-07-03T12:24:10.796Z"
   },
   {
    "duration": 18,
    "start_time": "2022-07-03T12:24:11.146Z"
   },
   {
    "duration": 15,
    "start_time": "2022-07-03T12:24:13.107Z"
   },
   {
    "duration": 18,
    "start_time": "2022-07-03T12:24:15.236Z"
   },
   {
    "duration": 15,
    "start_time": "2022-07-03T12:24:17.613Z"
   },
   {
    "duration": 4,
    "start_time": "2022-07-03T12:33:47.087Z"
   },
   {
    "duration": 16,
    "start_time": "2022-07-03T12:33:47.579Z"
   },
   {
    "duration": 4,
    "start_time": "2022-07-03T12:34:24.143Z"
   },
   {
    "duration": 94,
    "start_time": "2022-07-03T12:34:43.592Z"
   },
   {
    "duration": 4,
    "start_time": "2022-07-03T12:35:04.583Z"
   },
   {
    "duration": 7993,
    "start_time": "2022-07-03T12:35:05.254Z"
   },
   {
    "duration": 4,
    "start_time": "2022-07-03T12:35:15.999Z"
   },
   {
    "duration": 16,
    "start_time": "2022-07-03T12:35:21.083Z"
   },
   {
    "duration": 4,
    "start_time": "2022-07-03T12:37:07.895Z"
   },
   {
    "duration": 19,
    "start_time": "2022-07-03T12:37:08.600Z"
   },
   {
    "duration": 446,
    "start_time": "2022-07-03T12:37:19.449Z"
   },
   {
    "duration": 21,
    "start_time": "2022-07-03T12:37:19.897Z"
   },
   {
    "duration": 16,
    "start_time": "2022-07-03T12:37:19.919Z"
   },
   {
    "duration": 10,
    "start_time": "2022-07-03T12:37:19.936Z"
   },
   {
    "duration": 36,
    "start_time": "2022-07-03T12:37:19.948Z"
   },
   {
    "duration": 3,
    "start_time": "2022-07-03T12:37:19.987Z"
   },
   {
    "duration": 9,
    "start_time": "2022-07-03T12:37:19.992Z"
   },
   {
    "duration": 27,
    "start_time": "2022-07-03T12:37:20.003Z"
   },
   {
    "duration": 8,
    "start_time": "2022-07-03T12:37:20.032Z"
   },
   {
    "duration": 5,
    "start_time": "2022-07-03T12:37:20.042Z"
   },
   {
    "duration": 39,
    "start_time": "2022-07-03T12:37:20.049Z"
   },
   {
    "duration": 10,
    "start_time": "2022-07-03T12:37:20.090Z"
   },
   {
    "duration": 29,
    "start_time": "2022-07-03T12:37:20.102Z"
   },
   {
    "duration": 19,
    "start_time": "2022-07-03T12:37:20.133Z"
   },
   {
    "duration": 16,
    "start_time": "2022-07-03T12:37:20.154Z"
   },
   {
    "duration": 10,
    "start_time": "2022-07-03T12:37:20.171Z"
   },
   {
    "duration": 6,
    "start_time": "2022-07-03T12:37:20.183Z"
   },
   {
    "duration": 13,
    "start_time": "2022-07-03T12:37:20.190Z"
   },
   {
    "duration": 28,
    "start_time": "2022-07-03T12:37:20.205Z"
   },
   {
    "duration": 5,
    "start_time": "2022-07-03T12:37:20.235Z"
   },
   {
    "duration": 10,
    "start_time": "2022-07-03T12:37:20.242Z"
   },
   {
    "duration": 4,
    "start_time": "2022-07-03T12:37:20.254Z"
   },
   {
    "duration": 25,
    "start_time": "2022-07-03T12:37:20.259Z"
   },
   {
    "duration": 19,
    "start_time": "2022-07-03T12:37:20.286Z"
   },
   {
    "duration": 39,
    "start_time": "2022-07-03T12:37:20.306Z"
   },
   {
    "duration": 17,
    "start_time": "2022-07-03T12:37:20.346Z"
   },
   {
    "duration": 714,
    "start_time": "2022-07-03T14:03:42.348Z"
   },
   {
    "duration": 24,
    "start_time": "2022-07-03T14:03:43.064Z"
   },
   {
    "duration": 14,
    "start_time": "2022-07-03T14:03:43.090Z"
   },
   {
    "duration": 9,
    "start_time": "2022-07-03T14:03:43.105Z"
   },
   {
    "duration": 37,
    "start_time": "2022-07-03T14:03:43.115Z"
   },
   {
    "duration": 3,
    "start_time": "2022-07-03T14:03:43.154Z"
   },
   {
    "duration": 13,
    "start_time": "2022-07-03T14:03:43.159Z"
   },
   {
    "duration": 5,
    "start_time": "2022-07-03T14:03:43.174Z"
   },
   {
    "duration": 14,
    "start_time": "2022-07-03T14:03:43.180Z"
   },
   {
    "duration": 5,
    "start_time": "2022-07-03T14:03:43.225Z"
   },
   {
    "duration": 36,
    "start_time": "2022-07-03T14:03:43.232Z"
   },
   {
    "duration": 10,
    "start_time": "2022-07-03T14:03:43.270Z"
   },
   {
    "duration": 6,
    "start_time": "2022-07-03T14:03:43.281Z"
   },
   {
    "duration": 48,
    "start_time": "2022-07-03T14:03:43.289Z"
   },
   {
    "duration": 18,
    "start_time": "2022-07-03T14:03:43.339Z"
   },
   {
    "duration": 12,
    "start_time": "2022-07-03T14:03:43.359Z"
   },
   {
    "duration": 5,
    "start_time": "2022-07-03T14:03:43.373Z"
   },
   {
    "duration": 16,
    "start_time": "2022-07-03T14:03:43.380Z"
   },
   {
    "duration": 30,
    "start_time": "2022-07-03T14:03:43.399Z"
   },
   {
    "duration": 5,
    "start_time": "2022-07-03T14:03:43.431Z"
   },
   {
    "duration": 15,
    "start_time": "2022-07-03T14:03:43.437Z"
   },
   {
    "duration": 5,
    "start_time": "2022-07-03T14:03:43.453Z"
   },
   {
    "duration": 21,
    "start_time": "2022-07-03T14:03:43.459Z"
   },
   {
    "duration": 45,
    "start_time": "2022-07-03T14:03:43.481Z"
   },
   {
    "duration": 19,
    "start_time": "2022-07-03T14:03:43.528Z"
   },
   {
    "duration": 18,
    "start_time": "2022-07-03T14:03:43.549Z"
   },
   {
    "duration": 451,
    "start_time": "2022-07-03T20:09:11.712Z"
   },
   {
    "duration": 19,
    "start_time": "2022-07-03T20:09:12.165Z"
   },
   {
    "duration": 14,
    "start_time": "2022-07-03T20:09:12.186Z"
   },
   {
    "duration": 9,
    "start_time": "2022-07-03T20:09:12.201Z"
   },
   {
    "duration": 50,
    "start_time": "2022-07-03T20:09:12.212Z"
   },
   {
    "duration": 3,
    "start_time": "2022-07-03T20:09:12.264Z"
   },
   {
    "duration": 10,
    "start_time": "2022-07-03T20:09:12.269Z"
   },
   {
    "duration": 5,
    "start_time": "2022-07-03T20:09:12.280Z"
   },
   {
    "duration": 6,
    "start_time": "2022-07-03T20:09:12.287Z"
   },
   {
    "duration": 5,
    "start_time": "2022-07-03T20:09:12.294Z"
   },
   {
    "duration": 68,
    "start_time": "2022-07-03T20:09:12.300Z"
   },
   {
    "duration": 8,
    "start_time": "2022-07-03T20:09:12.369Z"
   },
   {
    "duration": 5,
    "start_time": "2022-07-03T20:09:12.378Z"
   },
   {
    "duration": 15,
    "start_time": "2022-07-03T20:09:12.385Z"
   },
   {
    "duration": 14,
    "start_time": "2022-07-03T20:09:12.402Z"
   },
   {
    "duration": 25,
    "start_time": "2022-07-03T20:09:12.417Z"
   },
   {
    "duration": 4,
    "start_time": "2022-07-03T20:09:12.444Z"
   },
   {
    "duration": 11,
    "start_time": "2022-07-03T20:09:12.449Z"
   },
   {
    "duration": 8,
    "start_time": "2022-07-03T20:09:12.461Z"
   },
   {
    "duration": 3,
    "start_time": "2022-07-03T20:09:12.470Z"
   },
   {
    "duration": 11,
    "start_time": "2022-07-03T20:09:12.474Z"
   },
   {
    "duration": 3,
    "start_time": "2022-07-03T20:09:12.487Z"
   },
   {
    "duration": 20,
    "start_time": "2022-07-03T20:09:12.491Z"
   },
   {
    "duration": 33,
    "start_time": "2022-07-03T20:09:12.512Z"
   },
   {
    "duration": 17,
    "start_time": "2022-07-03T20:09:12.546Z"
   },
   {
    "duration": 16,
    "start_time": "2022-07-03T20:09:12.564Z"
   },
   {
    "duration": 43,
    "start_time": "2022-07-04T08:27:44.876Z"
   },
   {
    "duration": 704,
    "start_time": "2022-07-04T08:27:51.993Z"
   },
   {
    "duration": 24,
    "start_time": "2022-07-04T08:27:52.699Z"
   },
   {
    "duration": 15,
    "start_time": "2022-07-04T08:27:52.725Z"
   },
   {
    "duration": 9,
    "start_time": "2022-07-04T08:27:52.742Z"
   },
   {
    "duration": 34,
    "start_time": "2022-07-04T08:27:52.753Z"
   },
   {
    "duration": 4,
    "start_time": "2022-07-04T08:27:52.789Z"
   },
   {
    "duration": 12,
    "start_time": "2022-07-04T08:27:52.794Z"
   },
   {
    "duration": 5,
    "start_time": "2022-07-04T08:27:52.829Z"
   },
   {
    "duration": 8,
    "start_time": "2022-07-04T08:27:52.835Z"
   },
   {
    "duration": 5,
    "start_time": "2022-07-04T08:27:52.845Z"
   },
   {
    "duration": 37,
    "start_time": "2022-07-04T08:27:52.852Z"
   },
   {
    "duration": 9,
    "start_time": "2022-07-04T08:27:52.891Z"
   },
   {
    "duration": 29,
    "start_time": "2022-07-04T08:27:52.902Z"
   },
   {
    "duration": 20,
    "start_time": "2022-07-04T08:27:52.934Z"
   },
   {
    "duration": 16,
    "start_time": "2022-07-04T08:27:52.955Z"
   },
   {
    "duration": 11,
    "start_time": "2022-07-04T08:27:52.973Z"
   },
   {
    "duration": 5,
    "start_time": "2022-07-04T08:27:52.985Z"
   },
   {
    "duration": 37,
    "start_time": "2022-07-04T08:27:52.992Z"
   },
   {
    "duration": 6,
    "start_time": "2022-07-04T08:27:53.030Z"
   },
   {
    "duration": 4,
    "start_time": "2022-07-04T08:27:53.037Z"
   },
   {
    "duration": 12,
    "start_time": "2022-07-04T08:27:53.042Z"
   },
   {
    "duration": 4,
    "start_time": "2022-07-04T08:27:53.055Z"
   },
   {
    "duration": 28,
    "start_time": "2022-07-04T08:27:53.060Z"
   },
   {
    "duration": 42,
    "start_time": "2022-07-04T08:27:53.089Z"
   },
   {
    "duration": 23,
    "start_time": "2022-07-04T08:27:53.133Z"
   },
   {
    "duration": 18,
    "start_time": "2022-07-04T08:27:53.158Z"
   },
   {
    "duration": 17,
    "start_time": "2022-07-04T08:27:53.178Z"
   },
   {
    "duration": 114,
    "start_time": "2022-07-04T08:28:25.688Z"
   },
   {
    "duration": 15,
    "start_time": "2022-07-04T08:28:33.280Z"
   },
   {
    "duration": 59,
    "start_time": "2022-07-04T08:30:01.690Z"
   },
   {
    "duration": 15,
    "start_time": "2022-07-04T08:31:02.180Z"
   },
   {
    "duration": 18,
    "start_time": "2022-07-04T08:31:29.323Z"
   },
   {
    "duration": 78,
    "start_time": "2022-07-04T08:32:07.860Z"
   },
   {
    "duration": 16,
    "start_time": "2022-07-04T08:32:11.997Z"
   },
   {
    "duration": 15,
    "start_time": "2022-07-04T08:32:50.356Z"
   },
   {
    "duration": 22,
    "start_time": "2022-07-04T08:33:10.058Z"
   },
   {
    "duration": 15,
    "start_time": "2022-07-04T08:33:20.613Z"
   },
   {
    "duration": 18,
    "start_time": "2022-07-04T08:37:23.424Z"
   },
   {
    "duration": 423,
    "start_time": "2022-07-04T08:40:07.853Z"
   },
   {
    "duration": 21,
    "start_time": "2022-07-04T08:40:08.278Z"
   },
   {
    "duration": 12,
    "start_time": "2022-07-04T08:40:08.301Z"
   },
   {
    "duration": 19,
    "start_time": "2022-07-04T08:40:08.315Z"
   },
   {
    "duration": 32,
    "start_time": "2022-07-04T08:40:08.336Z"
   },
   {
    "duration": 3,
    "start_time": "2022-07-04T08:40:08.370Z"
   },
   {
    "duration": 9,
    "start_time": "2022-07-04T08:40:08.374Z"
   },
   {
    "duration": 4,
    "start_time": "2022-07-04T08:40:08.384Z"
   },
   {
    "duration": 8,
    "start_time": "2022-07-04T08:40:08.389Z"
   },
   {
    "duration": 32,
    "start_time": "2022-07-04T08:40:08.399Z"
   },
   {
    "duration": 30,
    "start_time": "2022-07-04T08:40:08.432Z"
   },
   {
    "duration": 8,
    "start_time": "2022-07-04T08:40:08.464Z"
   },
   {
    "duration": 7,
    "start_time": "2022-07-04T08:40:08.473Z"
   },
   {
    "duration": 22,
    "start_time": "2022-07-04T08:40:08.482Z"
   },
   {
    "duration": 36,
    "start_time": "2022-07-04T08:40:08.505Z"
   },
   {
    "duration": 11,
    "start_time": "2022-07-04T08:40:08.542Z"
   },
   {
    "duration": 12,
    "start_time": "2022-07-04T08:40:08.554Z"
   },
   {
    "duration": 12,
    "start_time": "2022-07-04T08:40:08.567Z"
   },
   {
    "duration": 5,
    "start_time": "2022-07-04T08:40:08.580Z"
   },
   {
    "duration": 3,
    "start_time": "2022-07-04T08:40:08.587Z"
   },
   {
    "duration": 10,
    "start_time": "2022-07-04T08:40:08.591Z"
   },
   {
    "duration": 3,
    "start_time": "2022-07-04T08:40:08.603Z"
   },
   {
    "duration": 36,
    "start_time": "2022-07-04T08:40:08.608Z"
   },
   {
    "duration": 18,
    "start_time": "2022-07-04T08:40:08.646Z"
   },
   {
    "duration": 17,
    "start_time": "2022-07-04T08:40:08.666Z"
   },
   {
    "duration": 18,
    "start_time": "2022-07-04T08:40:08.685Z"
   },
   {
    "duration": 20,
    "start_time": "2022-07-04T08:40:08.731Z"
   },
   {
    "duration": 16,
    "start_time": "2022-07-04T08:42:02.635Z"
   },
   {
    "duration": 423,
    "start_time": "2022-07-04T08:42:40.164Z"
   },
   {
    "duration": 21,
    "start_time": "2022-07-04T08:42:40.588Z"
   },
   {
    "duration": 13,
    "start_time": "2022-07-04T08:42:40.611Z"
   },
   {
    "duration": 8,
    "start_time": "2022-07-04T08:42:40.625Z"
   },
   {
    "duration": 40,
    "start_time": "2022-07-04T08:42:40.635Z"
   },
   {
    "duration": 3,
    "start_time": "2022-07-04T08:42:40.677Z"
   },
   {
    "duration": 12,
    "start_time": "2022-07-04T08:42:40.681Z"
   },
   {
    "duration": 4,
    "start_time": "2022-07-04T08:42:40.694Z"
   },
   {
    "duration": 8,
    "start_time": "2022-07-04T08:42:40.700Z"
   },
   {
    "duration": 20,
    "start_time": "2022-07-04T08:42:40.709Z"
   },
   {
    "duration": 31,
    "start_time": "2022-07-04T08:42:40.730Z"
   },
   {
    "duration": 8,
    "start_time": "2022-07-04T08:42:40.763Z"
   },
   {
    "duration": 3,
    "start_time": "2022-07-04T08:42:40.772Z"
   },
   {
    "duration": 18,
    "start_time": "2022-07-04T08:42:40.777Z"
   },
   {
    "duration": 33,
    "start_time": "2022-07-04T08:42:40.796Z"
   },
   {
    "duration": 10,
    "start_time": "2022-07-04T08:42:40.830Z"
   },
   {
    "duration": 8,
    "start_time": "2022-07-04T08:42:40.842Z"
   },
   {
    "duration": 11,
    "start_time": "2022-07-04T08:42:40.851Z"
   },
   {
    "duration": 8,
    "start_time": "2022-07-04T08:42:40.863Z"
   },
   {
    "duration": 3,
    "start_time": "2022-07-04T08:42:40.872Z"
   },
   {
    "duration": 9,
    "start_time": "2022-07-04T08:42:40.877Z"
   },
   {
    "duration": 3,
    "start_time": "2022-07-04T08:42:40.888Z"
   },
   {
    "duration": 43,
    "start_time": "2022-07-04T08:42:40.892Z"
   },
   {
    "duration": 19,
    "start_time": "2022-07-04T08:42:40.936Z"
   },
   {
    "duration": 17,
    "start_time": "2022-07-04T08:42:40.957Z"
   },
   {
    "duration": 19,
    "start_time": "2022-07-04T08:42:40.976Z"
   },
   {
    "duration": 49,
    "start_time": "2022-07-04T08:42:40.996Z"
   },
   {
    "duration": 450,
    "start_time": "2022-07-04T16:26:24.949Z"
   },
   {
    "duration": 24,
    "start_time": "2022-07-04T16:26:25.402Z"
   },
   {
    "duration": 16,
    "start_time": "2022-07-04T16:26:25.428Z"
   },
   {
    "duration": 17,
    "start_time": "2022-07-04T16:26:25.446Z"
   },
   {
    "duration": 49,
    "start_time": "2022-07-04T16:26:25.465Z"
   },
   {
    "duration": 3,
    "start_time": "2022-07-04T16:26:25.516Z"
   },
   {
    "duration": 24,
    "start_time": "2022-07-04T16:26:25.522Z"
   },
   {
    "duration": 18,
    "start_time": "2022-07-04T16:26:25.548Z"
   },
   {
    "duration": 28,
    "start_time": "2022-07-04T16:26:25.568Z"
   },
   {
    "duration": 5,
    "start_time": "2022-07-04T16:26:25.600Z"
   },
   {
    "duration": 45,
    "start_time": "2022-07-04T16:26:25.607Z"
   },
   {
    "duration": 11,
    "start_time": "2022-07-04T16:26:25.654Z"
   },
   {
    "duration": 18,
    "start_time": "2022-07-04T16:26:25.667Z"
   },
   {
    "duration": 24,
    "start_time": "2022-07-04T16:26:25.687Z"
   },
   {
    "duration": 21,
    "start_time": "2022-07-04T16:26:25.713Z"
   },
   {
    "duration": 11,
    "start_time": "2022-07-04T16:26:25.736Z"
   },
   {
    "duration": 6,
    "start_time": "2022-07-04T16:26:25.749Z"
   },
   {
    "duration": 11,
    "start_time": "2022-07-04T16:26:25.757Z"
   },
   {
    "duration": 6,
    "start_time": "2022-07-04T16:26:25.769Z"
   },
   {
    "duration": 6,
    "start_time": "2022-07-04T16:26:25.777Z"
   },
   {
    "duration": 40,
    "start_time": "2022-07-04T16:26:25.785Z"
   },
   {
    "duration": 10,
    "start_time": "2022-07-04T16:26:25.827Z"
   },
   {
    "duration": 29,
    "start_time": "2022-07-04T16:26:25.839Z"
   },
   {
    "duration": 19,
    "start_time": "2022-07-04T16:26:25.870Z"
   },
   {
    "duration": 18,
    "start_time": "2022-07-04T16:26:25.890Z"
   },
   {
    "duration": 26,
    "start_time": "2022-07-04T16:26:25.909Z"
   },
   {
    "duration": 20,
    "start_time": "2022-07-04T16:26:25.937Z"
   }
  ],
  "colab": {
   "name": "dpp_template_part2.ipynb",
   "provenance": []
  },
  "kernelspec": {
   "display_name": "Python 3 (ipykernel)",
   "language": "python",
   "name": "python3"
  },
  "language_info": {
   "codemirror_mode": {
    "name": "ipython",
    "version": 3
   },
   "file_extension": ".py",
   "mimetype": "text/x-python",
   "name": "python",
   "nbconvert_exporter": "python",
   "pygments_lexer": "ipython3",
   "version": "3.9.7"
  },
  "toc": {
   "base_numbering": 1,
   "nav_menu": {},
   "number_sections": true,
   "sideBar": true,
   "skip_h1_title": true,
   "title_cell": "Table of Contents",
   "title_sidebar": "Contents",
   "toc_cell": false,
   "toc_position": {},
   "toc_section_display": true,
   "toc_window_display": false
  }
 },
 "nbformat": 4,
 "nbformat_minor": 5
}
