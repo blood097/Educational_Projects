{
 "cells": [
  {
   "cell_type": "markdown",
   "id": "1dc3be89",
   "metadata": {},
   "source": [
    "# Исследование продажи игр"
   ]
  },
  {
   "cell_type": "markdown",
   "id": "a90dd0f3",
   "metadata": {},
   "source": [
    "<div style=\"border: 1px solid; padding: 20px\">\n",
    "<i>Вы работаете в интернет-магазине «Стримчик», который продаёт по всему миру компьютерные игры. Из открытых источников доступны исторические данные о продажах игр, оценки пользователей и экспертов, жанры и платформы (например, Xbox или PlayStation). Перед вами данные до 2016 года. Представим, что сейчас декабрь 2016 г., и вы планируете кампанию на 2017-й. Вам нужно выявить определяющие успешность игры закономерности. Это позволит сделать ставку на потенциально популярный продукт и спланировать рекламные кампании.<i>\n",
    "</div>"
   ]
  },
  {
   "cell_type": "markdown",
   "id": "3a06dc20",
   "metadata": {},
   "source": [
    "## Описание данных"
   ]
  },
  {
   "cell_type": "markdown",
   "id": "bc175bb5",
   "metadata": {},
   "source": [
    "*Name* — название игры\n",
    "<br>*Platform* — платформа\n",
    "<br>*Year_of_Release* — год выпуска\n",
    "<br>*Genre* — жанр игры\n",
    "<br>*NA_sales* — продажи в Северной Америке (миллионы проданных копий)\n",
    "<br>*EU_sales* — продажи в Европе (миллионы проданных копий)\n",
    "<br>*JP_sales* — продажи в Японии (миллионы проданных копий)\n",
    "<br>*Other_sales* — продажи в других странах (миллионы проданных копий)\n",
    "<br>*Critic_Score* — оценка критиков (максимум 100)\n",
    "<br>*User_Score* — оценка пользователей (максимум 10)\n",
    "<br>*Rating* — рейтинг от организации ESRB (англ. Entertainment Software Rating Board). Эта ассоциация определяет рейтинг компьютерных игр и присваивает им подходящую возрастную категорию."
   ]
  },
  {
   "cell_type": "markdown",
   "id": "9c658f77",
   "metadata": {},
   "source": [
    "## Изучаем общую информацию о данных"
   ]
  },
  {
   "cell_type": "code",
   "execution_count": 1,
   "id": "4166f7fb",
   "metadata": {},
   "outputs": [],
   "source": [
    "import os\n",
    "import pandas as pd\n",
    "import numpy as np\n",
    "import seaborn as sns\n",
    "import matplotlib.pyplot as plt\n",
    "from scipy import stats as st"
   ]
  },
  {
   "cell_type": "code",
   "execution_count": 2,
   "id": "9b882c69",
   "metadata": {},
   "outputs": [
    {
     "name": "stderr",
     "output_type": "stream",
     "text": [
      "WARNING: There was an error checking the latest version of pip.\n"
     ]
    },
    {
     "name": "stdout",
     "output_type": "stream",
     "text": [
      "Requirement already satisfied: scikit-posthocs in c:\\users\\blood\\anaconda3\\lib\\site-packages (0.7.0)\n",
      "Requirement already satisfied: scipy in c:\\users\\blood\\anaconda3\\lib\\site-packages (from scikit-posthocs) (1.7.1)\n",
      "Requirement already satisfied: matplotlib in c:\\users\\blood\\anaconda3\\lib\\site-packages (from scikit-posthocs) (3.4.3)\n",
      "Requirement already satisfied: statsmodels in c:\\users\\blood\\anaconda3\\lib\\site-packages (from scikit-posthocs) (0.12.2)\n",
      "Requirement already satisfied: pandas>=0.20.0 in c:\\users\\blood\\anaconda3\\lib\\site-packages (from scikit-posthocs) (1.3.4)\n",
      "Requirement already satisfied: seaborn in c:\\users\\blood\\anaconda3\\lib\\site-packages (from scikit-posthocs) (0.11.2)\n",
      "Requirement already satisfied: numpy in c:\\users\\blood\\anaconda3\\lib\\site-packages (from scikit-posthocs) (1.20.3)\n",
      "Requirement already satisfied: pytz>=2017.3 in c:\\users\\blood\\anaconda3\\lib\\site-packages (from pandas>=0.20.0->scikit-posthocs) (2021.3)\n",
      "Requirement already satisfied: python-dateutil>=2.7.3 in c:\\users\\blood\\anaconda3\\lib\\site-packages (from pandas>=0.20.0->scikit-posthocs) (2.8.2)\n",
      "Requirement already satisfied: pillow>=6.2.0 in c:\\users\\blood\\anaconda3\\lib\\site-packages (from matplotlib->scikit-posthocs) (8.4.0)\n",
      "Requirement already satisfied: kiwisolver>=1.0.1 in c:\\users\\blood\\anaconda3\\lib\\site-packages (from matplotlib->scikit-posthocs) (1.3.1)\n",
      "Requirement already satisfied: cycler>=0.10 in c:\\users\\blood\\anaconda3\\lib\\site-packages (from matplotlib->scikit-posthocs) (0.10.0)\n",
      "Requirement already satisfied: pyparsing>=2.2.1 in c:\\users\\blood\\anaconda3\\lib\\site-packages (from matplotlib->scikit-posthocs) (3.0.4)\n",
      "Requirement already satisfied: patsy>=0.5 in c:\\users\\blood\\anaconda3\\lib\\site-packages (from statsmodels->scikit-posthocs) (0.5.2)\n",
      "Requirement already satisfied: six in c:\\users\\blood\\anaconda3\\lib\\site-packages (from cycler>=0.10->matplotlib->scikit-posthocs) (1.16.0)\n",
      "Note: you may need to restart the kernel to use updated packages.\n"
     ]
    }
   ],
   "source": [
    "# установим библиотеку scikit-posthocs в окружение и импортируем\n",
    "%pip install scikit-posthocs\n",
    "\n",
    "import scikit_posthocs as sp"
   ]
  },
  {
   "cell_type": "code",
   "execution_count": 3,
   "id": "c313e9d9",
   "metadata": {},
   "outputs": [
    {
     "data": {
      "text/html": [
       "<div>\n",
       "<style scoped>\n",
       "    .dataframe tbody tr th:only-of-type {\n",
       "        vertical-align: middle;\n",
       "    }\n",
       "\n",
       "    .dataframe tbody tr th {\n",
       "        vertical-align: top;\n",
       "    }\n",
       "\n",
       "    .dataframe thead th {\n",
       "        text-align: right;\n",
       "    }\n",
       "</style>\n",
       "<table border=\"1\" class=\"dataframe\">\n",
       "  <thead>\n",
       "    <tr style=\"text-align: right;\">\n",
       "      <th></th>\n",
       "      <th>Name</th>\n",
       "      <th>Platform</th>\n",
       "      <th>Year_of_Release</th>\n",
       "      <th>Genre</th>\n",
       "      <th>NA_sales</th>\n",
       "      <th>EU_sales</th>\n",
       "      <th>JP_sales</th>\n",
       "      <th>Other_sales</th>\n",
       "      <th>Critic_Score</th>\n",
       "      <th>User_Score</th>\n",
       "      <th>Rating</th>\n",
       "    </tr>\n",
       "  </thead>\n",
       "  <tbody>\n",
       "    <tr>\n",
       "      <th>0</th>\n",
       "      <td>Wii Sports</td>\n",
       "      <td>Wii</td>\n",
       "      <td>2006.0</td>\n",
       "      <td>Sports</td>\n",
       "      <td>41.36</td>\n",
       "      <td>28.96</td>\n",
       "      <td>3.77</td>\n",
       "      <td>8.45</td>\n",
       "      <td>76.0</td>\n",
       "      <td>8</td>\n",
       "      <td>E</td>\n",
       "    </tr>\n",
       "    <tr>\n",
       "      <th>1</th>\n",
       "      <td>Super Mario Bros.</td>\n",
       "      <td>NES</td>\n",
       "      <td>1985.0</td>\n",
       "      <td>Platform</td>\n",
       "      <td>29.08</td>\n",
       "      <td>3.58</td>\n",
       "      <td>6.81</td>\n",
       "      <td>0.77</td>\n",
       "      <td>NaN</td>\n",
       "      <td>NaN</td>\n",
       "      <td>NaN</td>\n",
       "    </tr>\n",
       "    <tr>\n",
       "      <th>2</th>\n",
       "      <td>Mario Kart Wii</td>\n",
       "      <td>Wii</td>\n",
       "      <td>2008.0</td>\n",
       "      <td>Racing</td>\n",
       "      <td>15.68</td>\n",
       "      <td>12.76</td>\n",
       "      <td>3.79</td>\n",
       "      <td>3.29</td>\n",
       "      <td>82.0</td>\n",
       "      <td>8.3</td>\n",
       "      <td>E</td>\n",
       "    </tr>\n",
       "    <tr>\n",
       "      <th>3</th>\n",
       "      <td>Wii Sports Resort</td>\n",
       "      <td>Wii</td>\n",
       "      <td>2009.0</td>\n",
       "      <td>Sports</td>\n",
       "      <td>15.61</td>\n",
       "      <td>10.93</td>\n",
       "      <td>3.28</td>\n",
       "      <td>2.95</td>\n",
       "      <td>80.0</td>\n",
       "      <td>8</td>\n",
       "      <td>E</td>\n",
       "    </tr>\n",
       "    <tr>\n",
       "      <th>4</th>\n",
       "      <td>Pokemon Red/Pokemon Blue</td>\n",
       "      <td>GB</td>\n",
       "      <td>1996.0</td>\n",
       "      <td>Role-Playing</td>\n",
       "      <td>11.27</td>\n",
       "      <td>8.89</td>\n",
       "      <td>10.22</td>\n",
       "      <td>1.00</td>\n",
       "      <td>NaN</td>\n",
       "      <td>NaN</td>\n",
       "      <td>NaN</td>\n",
       "    </tr>\n",
       "  </tbody>\n",
       "</table>\n",
       "</div>"
      ],
      "text/plain": [
       "                       Name Platform  Year_of_Release         Genre  NA_sales  \\\n",
       "0                Wii Sports      Wii           2006.0        Sports     41.36   \n",
       "1         Super Mario Bros.      NES           1985.0      Platform     29.08   \n",
       "2            Mario Kart Wii      Wii           2008.0        Racing     15.68   \n",
       "3         Wii Sports Resort      Wii           2009.0        Sports     15.61   \n",
       "4  Pokemon Red/Pokemon Blue       GB           1996.0  Role-Playing     11.27   \n",
       "\n",
       "   EU_sales  JP_sales  Other_sales  Critic_Score User_Score Rating  \n",
       "0     28.96      3.77         8.45          76.0          8      E  \n",
       "1      3.58      6.81         0.77           NaN        NaN    NaN  \n",
       "2     12.76      3.79         3.29          82.0        8.3      E  \n",
       "3     10.93      3.28         2.95          80.0          8      E  \n",
       "4      8.89     10.22         1.00           NaN        NaN    NaN  "
      ]
     },
     "execution_count": 3,
     "metadata": {},
     "output_type": "execute_result"
    }
   ],
   "source": [
    "pth = '/datasets/games.csv'\n",
    "\n",
    "if os.path.exists(pth):\n",
    "    data = pd.read_csv(pth)\n",
    "else:\n",
    "    try:\n",
    "        data = pd.read_csv('https://code.s3.yandex.net/datasets/games.csv')\n",
    "    except:\n",
    "        print('Что-то пошло не так...')\n",
    "        \n",
    "data.head()"
   ]
  },
  {
   "cell_type": "code",
   "execution_count": 4,
   "id": "6266af5e",
   "metadata": {},
   "outputs": [
    {
     "name": "stdout",
     "output_type": "stream",
     "text": [
      "<class 'pandas.core.frame.DataFrame'>\n",
      "RangeIndex: 16715 entries, 0 to 16714\n",
      "Data columns (total 11 columns):\n",
      " #   Column           Non-Null Count  Dtype  \n",
      "---  ------           --------------  -----  \n",
      " 0   Name             16713 non-null  object \n",
      " 1   Platform         16715 non-null  object \n",
      " 2   Year_of_Release  16446 non-null  float64\n",
      " 3   Genre            16713 non-null  object \n",
      " 4   NA_sales         16715 non-null  float64\n",
      " 5   EU_sales         16715 non-null  float64\n",
      " 6   JP_sales         16715 non-null  float64\n",
      " 7   Other_sales      16715 non-null  float64\n",
      " 8   Critic_Score     8137 non-null   float64\n",
      " 9   User_Score       10014 non-null  object \n",
      " 10  Rating           9949 non-null   object \n",
      "dtypes: float64(6), object(5)\n",
      "memory usage: 1.4+ MB\n"
     ]
    }
   ],
   "source": [
    "data.info()"
   ]
  },
  {
   "cell_type": "code",
   "execution_count": 5,
   "id": "3b25bd83",
   "metadata": {},
   "outputs": [
    {
     "name": "stdout",
     "output_type": "stream",
     "text": [
      "Кол-во строк в исходном наборе данных: 16715\n"
     ]
    }
   ],
   "source": [
    "# сохраним количество строк в датафрейме до предобработки (это значение понадобится нам позже)\n",
    "df_row_number = data.shape[0]\n",
    "print('Кол-во строк в исходном наборе данных:',df_row_number)"
   ]
  },
  {
   "cell_type": "code",
   "execution_count": 6,
   "id": "b1ef8101",
   "metadata": {},
   "outputs": [
    {
     "data": {
      "text/plain": [
       "0"
      ]
     },
     "execution_count": 6,
     "metadata": {},
     "output_type": "execute_result"
    }
   ],
   "source": [
    "# проверим наличие явнях дубликатов в данных\n",
    "data.duplicated().sum()"
   ]
  },
  {
   "cell_type": "code",
   "execution_count": 7,
   "id": "5f8a5a3f",
   "metadata": {},
   "outputs": [
    {
     "data": {
      "text/plain": [
       "5"
      ]
     },
     "execution_count": 7,
     "metadata": {},
     "output_type": "execute_result"
    }
   ],
   "source": [
    "data.duplicated(subset=['Name', 'Platform']).sum()"
   ]
  },
  {
   "cell_type": "code",
   "execution_count": 8,
   "id": "67b5ea82",
   "metadata": {},
   "outputs": [
    {
     "data": {
      "text/html": [
       "<div>\n",
       "<style scoped>\n",
       "    .dataframe tbody tr th:only-of-type {\n",
       "        vertical-align: middle;\n",
       "    }\n",
       "\n",
       "    .dataframe tbody tr th {\n",
       "        vertical-align: top;\n",
       "    }\n",
       "\n",
       "    .dataframe thead th {\n",
       "        text-align: right;\n",
       "    }\n",
       "</style>\n",
       "<table border=\"1\" class=\"dataframe\">\n",
       "  <thead>\n",
       "    <tr style=\"text-align: right;\">\n",
       "      <th></th>\n",
       "      <th>Name</th>\n",
       "      <th>Platform</th>\n",
       "      <th>Year_of_Release</th>\n",
       "      <th>Genre</th>\n",
       "      <th>NA_sales</th>\n",
       "      <th>EU_sales</th>\n",
       "      <th>JP_sales</th>\n",
       "      <th>Other_sales</th>\n",
       "      <th>Critic_Score</th>\n",
       "      <th>User_Score</th>\n",
       "      <th>Rating</th>\n",
       "    </tr>\n",
       "  </thead>\n",
       "  <tbody>\n",
       "    <tr>\n",
       "      <th>1591</th>\n",
       "      <td>Need for Speed: Most Wanted</td>\n",
       "      <td>X360</td>\n",
       "      <td>2005.0</td>\n",
       "      <td>Racing</td>\n",
       "      <td>1.0</td>\n",
       "      <td>0.13</td>\n",
       "      <td>0.02</td>\n",
       "      <td>0.10</td>\n",
       "      <td>83.0</td>\n",
       "      <td>8.5</td>\n",
       "      <td>T</td>\n",
       "    </tr>\n",
       "    <tr>\n",
       "      <th>4127</th>\n",
       "      <td>Sonic the Hedgehog</td>\n",
       "      <td>PS3</td>\n",
       "      <td>NaN</td>\n",
       "      <td>Platform</td>\n",
       "      <td>0.0</td>\n",
       "      <td>0.48</td>\n",
       "      <td>0.00</td>\n",
       "      <td>0.00</td>\n",
       "      <td>43.0</td>\n",
       "      <td>4.1</td>\n",
       "      <td>E10+</td>\n",
       "    </tr>\n",
       "    <tr>\n",
       "      <th>11715</th>\n",
       "      <td>Need for Speed: Most Wanted</td>\n",
       "      <td>PC</td>\n",
       "      <td>2012.0</td>\n",
       "      <td>Racing</td>\n",
       "      <td>0.0</td>\n",
       "      <td>0.06</td>\n",
       "      <td>0.00</td>\n",
       "      <td>0.02</td>\n",
       "      <td>82.0</td>\n",
       "      <td>8.5</td>\n",
       "      <td>T</td>\n",
       "    </tr>\n",
       "    <tr>\n",
       "      <th>14244</th>\n",
       "      <td>NaN</td>\n",
       "      <td>GEN</td>\n",
       "      <td>1993.0</td>\n",
       "      <td>NaN</td>\n",
       "      <td>0.0</td>\n",
       "      <td>0.00</td>\n",
       "      <td>0.03</td>\n",
       "      <td>0.00</td>\n",
       "      <td>NaN</td>\n",
       "      <td>NaN</td>\n",
       "      <td>NaN</td>\n",
       "    </tr>\n",
       "    <tr>\n",
       "      <th>16230</th>\n",
       "      <td>Madden NFL 13</td>\n",
       "      <td>PS3</td>\n",
       "      <td>2012.0</td>\n",
       "      <td>Sports</td>\n",
       "      <td>0.0</td>\n",
       "      <td>0.01</td>\n",
       "      <td>0.00</td>\n",
       "      <td>0.00</td>\n",
       "      <td>83.0</td>\n",
       "      <td>5.5</td>\n",
       "      <td>E</td>\n",
       "    </tr>\n",
       "  </tbody>\n",
       "</table>\n",
       "</div>"
      ],
      "text/plain": [
       "                              Name Platform  Year_of_Release     Genre  \\\n",
       "1591   Need for Speed: Most Wanted     X360           2005.0    Racing   \n",
       "4127            Sonic the Hedgehog      PS3              NaN  Platform   \n",
       "11715  Need for Speed: Most Wanted       PC           2012.0    Racing   \n",
       "14244                          NaN      GEN           1993.0       NaN   \n",
       "16230                Madden NFL 13      PS3           2012.0    Sports   \n",
       "\n",
       "       NA_sales  EU_sales  JP_sales  Other_sales  Critic_Score User_Score  \\\n",
       "1591        1.0      0.13      0.02         0.10          83.0        8.5   \n",
       "4127        0.0      0.48      0.00         0.00          43.0        4.1   \n",
       "11715       0.0      0.06      0.00         0.02          82.0        8.5   \n",
       "14244       0.0      0.00      0.03         0.00           NaN        NaN   \n",
       "16230       0.0      0.01      0.00         0.00          83.0        5.5   \n",
       "\n",
       "      Rating  \n",
       "1591       T  \n",
       "4127    E10+  \n",
       "11715      T  \n",
       "14244    NaN  \n",
       "16230      E  "
      ]
     },
     "execution_count": 8,
     "metadata": {},
     "output_type": "execute_result"
    }
   ],
   "source": [
    "data[data.duplicated(subset=['Name', 'Platform'])]"
   ]
  },
  {
   "cell_type": "code",
   "execution_count": 9,
   "id": "631b7c6f",
   "metadata": {},
   "outputs": [],
   "source": [
    "data = data.drop(index=[16230])"
   ]
  },
  {
   "cell_type": "code",
   "execution_count": 10,
   "id": "25b89cf7",
   "metadata": {},
   "outputs": [
    {
     "data": {
      "text/html": [
       "<div>\n",
       "<style scoped>\n",
       "    .dataframe tbody tr th:only-of-type {\n",
       "        vertical-align: middle;\n",
       "    }\n",
       "\n",
       "    .dataframe tbody tr th {\n",
       "        vertical-align: top;\n",
       "    }\n",
       "\n",
       "    .dataframe thead th {\n",
       "        text-align: right;\n",
       "    }\n",
       "</style>\n",
       "<table border=\"1\" class=\"dataframe\">\n",
       "  <thead>\n",
       "    <tr style=\"text-align: right;\">\n",
       "      <th></th>\n",
       "      <th>Name</th>\n",
       "      <th>Platform</th>\n",
       "      <th>Year_of_Release</th>\n",
       "      <th>Genre</th>\n",
       "      <th>NA_sales</th>\n",
       "      <th>EU_sales</th>\n",
       "      <th>JP_sales</th>\n",
       "      <th>Other_sales</th>\n",
       "      <th>Critic_Score</th>\n",
       "      <th>User_Score</th>\n",
       "      <th>Rating</th>\n",
       "    </tr>\n",
       "  </thead>\n",
       "  <tbody>\n",
       "    <tr>\n",
       "      <th>253</th>\n",
       "      <td>Need for Speed: Most Wanted</td>\n",
       "      <td>PS2</td>\n",
       "      <td>2005.0</td>\n",
       "      <td>Racing</td>\n",
       "      <td>2.03</td>\n",
       "      <td>1.79</td>\n",
       "      <td>0.08</td>\n",
       "      <td>0.47</td>\n",
       "      <td>82.0</td>\n",
       "      <td>9.1</td>\n",
       "      <td>T</td>\n",
       "    </tr>\n",
       "    <tr>\n",
       "      <th>523</th>\n",
       "      <td>Need for Speed: Most Wanted</td>\n",
       "      <td>PS3</td>\n",
       "      <td>2012.0</td>\n",
       "      <td>Racing</td>\n",
       "      <td>0.71</td>\n",
       "      <td>1.46</td>\n",
       "      <td>0.06</td>\n",
       "      <td>0.58</td>\n",
       "      <td>NaN</td>\n",
       "      <td>NaN</td>\n",
       "      <td>NaN</td>\n",
       "    </tr>\n",
       "    <tr>\n",
       "      <th>1190</th>\n",
       "      <td>Need for Speed: Most Wanted</td>\n",
       "      <td>X360</td>\n",
       "      <td>2012.0</td>\n",
       "      <td>Racing</td>\n",
       "      <td>0.62</td>\n",
       "      <td>0.78</td>\n",
       "      <td>0.01</td>\n",
       "      <td>0.15</td>\n",
       "      <td>83.0</td>\n",
       "      <td>8.5</td>\n",
       "      <td>T</td>\n",
       "    </tr>\n",
       "    <tr>\n",
       "      <th>1591</th>\n",
       "      <td>Need for Speed: Most Wanted</td>\n",
       "      <td>X360</td>\n",
       "      <td>2005.0</td>\n",
       "      <td>Racing</td>\n",
       "      <td>1.00</td>\n",
       "      <td>0.13</td>\n",
       "      <td>0.02</td>\n",
       "      <td>0.10</td>\n",
       "      <td>83.0</td>\n",
       "      <td>8.5</td>\n",
       "      <td>T</td>\n",
       "    </tr>\n",
       "    <tr>\n",
       "      <th>1998</th>\n",
       "      <td>Need for Speed: Most Wanted</td>\n",
       "      <td>XB</td>\n",
       "      <td>2005.0</td>\n",
       "      <td>Racing</td>\n",
       "      <td>0.53</td>\n",
       "      <td>0.46</td>\n",
       "      <td>0.00</td>\n",
       "      <td>0.05</td>\n",
       "      <td>83.0</td>\n",
       "      <td>8.8</td>\n",
       "      <td>T</td>\n",
       "    </tr>\n",
       "    <tr>\n",
       "      <th>2048</th>\n",
       "      <td>Need for Speed: Most Wanted</td>\n",
       "      <td>PSV</td>\n",
       "      <td>2012.0</td>\n",
       "      <td>Racing</td>\n",
       "      <td>0.33</td>\n",
       "      <td>0.45</td>\n",
       "      <td>0.01</td>\n",
       "      <td>0.22</td>\n",
       "      <td>NaN</td>\n",
       "      <td>NaN</td>\n",
       "      <td>NaN</td>\n",
       "    </tr>\n",
       "    <tr>\n",
       "      <th>3581</th>\n",
       "      <td>Need for Speed: Most Wanted</td>\n",
       "      <td>GC</td>\n",
       "      <td>2005.0</td>\n",
       "      <td>Racing</td>\n",
       "      <td>0.43</td>\n",
       "      <td>0.11</td>\n",
       "      <td>0.00</td>\n",
       "      <td>0.02</td>\n",
       "      <td>80.0</td>\n",
       "      <td>9.1</td>\n",
       "      <td>T</td>\n",
       "    </tr>\n",
       "    <tr>\n",
       "      <th>5972</th>\n",
       "      <td>Need for Speed: Most Wanted</td>\n",
       "      <td>PC</td>\n",
       "      <td>2005.0</td>\n",
       "      <td>Racing</td>\n",
       "      <td>0.02</td>\n",
       "      <td>0.23</td>\n",
       "      <td>0.00</td>\n",
       "      <td>0.04</td>\n",
       "      <td>82.0</td>\n",
       "      <td>8.5</td>\n",
       "      <td>T</td>\n",
       "    </tr>\n",
       "    <tr>\n",
       "      <th>6273</th>\n",
       "      <td>Need for Speed: Most Wanted</td>\n",
       "      <td>WiiU</td>\n",
       "      <td>2013.0</td>\n",
       "      <td>Racing</td>\n",
       "      <td>0.13</td>\n",
       "      <td>0.12</td>\n",
       "      <td>0.00</td>\n",
       "      <td>0.02</td>\n",
       "      <td>NaN</td>\n",
       "      <td>NaN</td>\n",
       "      <td>NaN</td>\n",
       "    </tr>\n",
       "    <tr>\n",
       "      <th>6410</th>\n",
       "      <td>Need for Speed: Most Wanted</td>\n",
       "      <td>DS</td>\n",
       "      <td>2005.0</td>\n",
       "      <td>Racing</td>\n",
       "      <td>0.24</td>\n",
       "      <td>0.01</td>\n",
       "      <td>0.00</td>\n",
       "      <td>0.02</td>\n",
       "      <td>45.0</td>\n",
       "      <td>6.1</td>\n",
       "      <td>E</td>\n",
       "    </tr>\n",
       "    <tr>\n",
       "      <th>6473</th>\n",
       "      <td>Need for Speed: Most Wanted</td>\n",
       "      <td>GBA</td>\n",
       "      <td>2005.0</td>\n",
       "      <td>Racing</td>\n",
       "      <td>0.19</td>\n",
       "      <td>0.07</td>\n",
       "      <td>0.00</td>\n",
       "      <td>0.00</td>\n",
       "      <td>NaN</td>\n",
       "      <td>8.3</td>\n",
       "      <td>E</td>\n",
       "    </tr>\n",
       "    <tr>\n",
       "      <th>11715</th>\n",
       "      <td>Need for Speed: Most Wanted</td>\n",
       "      <td>PC</td>\n",
       "      <td>2012.0</td>\n",
       "      <td>Racing</td>\n",
       "      <td>0.00</td>\n",
       "      <td>0.06</td>\n",
       "      <td>0.00</td>\n",
       "      <td>0.02</td>\n",
       "      <td>82.0</td>\n",
       "      <td>8.5</td>\n",
       "      <td>T</td>\n",
       "    </tr>\n",
       "  </tbody>\n",
       "</table>\n",
       "</div>"
      ],
      "text/plain": [
       "                              Name Platform  Year_of_Release   Genre  \\\n",
       "253    Need for Speed: Most Wanted      PS2           2005.0  Racing   \n",
       "523    Need for Speed: Most Wanted      PS3           2012.0  Racing   \n",
       "1190   Need for Speed: Most Wanted     X360           2012.0  Racing   \n",
       "1591   Need for Speed: Most Wanted     X360           2005.0  Racing   \n",
       "1998   Need for Speed: Most Wanted       XB           2005.0  Racing   \n",
       "2048   Need for Speed: Most Wanted      PSV           2012.0  Racing   \n",
       "3581   Need for Speed: Most Wanted       GC           2005.0  Racing   \n",
       "5972   Need for Speed: Most Wanted       PC           2005.0  Racing   \n",
       "6273   Need for Speed: Most Wanted     WiiU           2013.0  Racing   \n",
       "6410   Need for Speed: Most Wanted       DS           2005.0  Racing   \n",
       "6473   Need for Speed: Most Wanted      GBA           2005.0  Racing   \n",
       "11715  Need for Speed: Most Wanted       PC           2012.0  Racing   \n",
       "\n",
       "       NA_sales  EU_sales  JP_sales  Other_sales  Critic_Score User_Score  \\\n",
       "253        2.03      1.79      0.08         0.47          82.0        9.1   \n",
       "523        0.71      1.46      0.06         0.58           NaN        NaN   \n",
       "1190       0.62      0.78      0.01         0.15          83.0        8.5   \n",
       "1591       1.00      0.13      0.02         0.10          83.0        8.5   \n",
       "1998       0.53      0.46      0.00         0.05          83.0        8.8   \n",
       "2048       0.33      0.45      0.01         0.22           NaN        NaN   \n",
       "3581       0.43      0.11      0.00         0.02          80.0        9.1   \n",
       "5972       0.02      0.23      0.00         0.04          82.0        8.5   \n",
       "6273       0.13      0.12      0.00         0.02           NaN        NaN   \n",
       "6410       0.24      0.01      0.00         0.02          45.0        6.1   \n",
       "6473       0.19      0.07      0.00         0.00           NaN        8.3   \n",
       "11715      0.00      0.06      0.00         0.02          82.0        8.5   \n",
       "\n",
       "      Rating  \n",
       "253        T  \n",
       "523      NaN  \n",
       "1190       T  \n",
       "1591       T  \n",
       "1998       T  \n",
       "2048     NaN  \n",
       "3581       T  \n",
       "5972       T  \n",
       "6273     NaN  \n",
       "6410       E  \n",
       "6473       E  \n",
       "11715      T  "
      ]
     },
     "execution_count": 10,
     "metadata": {},
     "output_type": "execute_result"
    }
   ],
   "source": [
    "data.query('(Name == \"Need for Speed: Most Wanted\")')"
   ]
  },
  {
   "cell_type": "markdown",
   "id": "d1a10a5d",
   "metadata": {},
   "source": [
    "<div class=\"alert alert-info\">\n",
    "\n",
    "<b> 🦄 Комментарий </b> \n",
    "\n",
    "Забавно, показывает, что при отборе по столбцам 'Name' и 'Platform' есть дубликаты. Для \"Sonic the Hedgehog\" этот дубликат будет удален позже, когда уйдут все строки с незаполненными NaN в дате релиза. Для \"Madden NFL 13\" - удалим руками, там, видимо, какая-то ошибка при выгрузке или что-то подобное, заполнены только продажи в EU, да и то маленькие. А вот \"Need for Speed: Most Wanted\" - это ремейк, которой был выпущен в 2012 году и, мягко говоря, не впечатлил игроков (меня, кстати, тоже), так что его нужно будет оставить.\n",
    "</div>"
   ]
  },
  {
   "cell_type": "markdown",
   "id": "f3b55bfc",
   "metadata": {},
   "source": [
    "<div style=\"border-radius: 15px; background:BlanchedAlmond; padding: 20px\">\n",
    "\n",
    "📜 Итог после изучения общей информации:\n",
    "- необходимо изменить названия столбцов (привести к нижнему регистру)\n",
    "- преобразовать типы данных для столбцов 'Year_of_Release' и 'User_Score' \n",
    "- бработать пропуски  в столбцах 'Name', 'Year_of_Release', 'Genre', 'Critic_Score', 'User_Score' и 'Rating', где это возможно, или оставить их без изменений\n",
    "\n",
    "</div>"
   ]
  },
  {
   "cell_type": "markdown",
   "id": "4cf9ca34",
   "metadata": {},
   "source": [
    "## Предобрабатываем данные"
   ]
  },
  {
   "cell_type": "markdown",
   "id": "d11a3cd9",
   "metadata": {},
   "source": [
    "### Заменим названия столбцов"
   ]
  },
  {
   "cell_type": "code",
   "execution_count": 6,
   "id": "499ddcf5",
   "metadata": {},
   "outputs": [],
   "source": [
    "# приведем названия столбцов к нижнему регистру\n",
    "data.columns = data.columns.str.lower()"
   ]
  },
  {
   "cell_type": "markdown",
   "id": "b4a61fb2",
   "metadata": {},
   "source": [
    "### Преобразуем данные в нужные типы и обработаем пропуски"
   ]
  },
  {
   "cell_type": "code",
   "execution_count": 12,
   "id": "2565920a",
   "metadata": {},
   "outputs": [
    {
     "data": {
      "text/plain": [
       "name                  2\n",
       "platform              0\n",
       "year_of_release     269\n",
       "genre                 2\n",
       "na_sales              0\n",
       "eu_sales              0\n",
       "jp_sales              0\n",
       "other_sales           0\n",
       "critic_score       8578\n",
       "user_score         6701\n",
       "rating             6766\n",
       "dtype: int64"
      ]
     },
     "execution_count": 12,
     "metadata": {},
     "output_type": "execute_result"
    }
   ],
   "source": [
    "# посмотрим на количество пропусков  в данных\n",
    "data.isna().sum()"
   ]
  },
  {
   "cell_type": "markdown",
   "id": "a8a5c785",
   "metadata": {},
   "source": [
    "2 пропущеных значения в колоне 'name' (и связанные с ними пропуски в колонках 'genre', 'critic_score', 'user_score', 'rating') не получится заполнить на основании других данных таблицы. Строки с этими пропусками придется удалить."
   ]
  },
  {
   "cell_type": "code",
   "execution_count": 13,
   "id": "bdf7564a",
   "metadata": {},
   "outputs": [],
   "source": [
    "data = data.dropna(subset=['name'])"
   ]
  },
  {
   "cell_type": "code",
   "execution_count": 14,
   "id": "cb3e6892",
   "metadata": {},
   "outputs": [
    {
     "data": {
      "text/plain": [
       "array(['2600', '3DO', '3DS', 'DC', 'DS', 'GB', 'GBA', 'GC', 'GEN', 'GG',\n",
       "       'N64', 'NES', 'NG', 'PC', 'PCFX', 'PS', 'PS2', 'PS3', 'PS4', 'PSP',\n",
       "       'PSV', 'SAT', 'SCD', 'SNES', 'TG16', 'WS', 'Wii', 'WiiU', 'X360',\n",
       "       'XB', 'XOne'], dtype=object)"
      ]
     },
     "execution_count": 14,
     "metadata": {},
     "output_type": "execute_result"
    }
   ],
   "source": [
    "# проверим колонку 'platform' на неявные дубликаты, отсортируем в алфавитном порядке\n",
    "np.sort(data.platform.unique())"
   ]
  },
  {
   "cell_type": "code",
   "execution_count": 15,
   "id": "04f0db7a",
   "metadata": {},
   "outputs": [
    {
     "data": {
      "text/plain": [
       "array(['Action', 'Adventure', 'Fighting', 'Misc', 'Platform', 'Puzzle',\n",
       "       'Racing', 'Role-Playing', 'Shooter', 'Simulation', 'Sports',\n",
       "       'Strategy'], dtype=object)"
      ]
     },
     "execution_count": 15,
     "metadata": {},
     "output_type": "execute_result"
    }
   ],
   "source": [
    "# проверим колонку 'genre' на неявные дубликаты, отсортируем в алфавитном порядке\n",
    "np.sort(data.genre.unique())"
   ]
  },
  {
   "cell_type": "markdown",
   "id": "cb7d4460",
   "metadata": {},
   "source": [
    "Неявные дубликаты в колонках 'platform' и 'genre' не обнаружены."
   ]
  },
  {
   "cell_type": "markdown",
   "id": "7115e1f0",
   "metadata": {},
   "source": [
    "**Обогатим данные.** Так как год выхода игры на конкретной платформе - свершившееся событие, информацию о котором мы можем восстановить согласно открытым данным из сети Интернет, то для заполнения оставшихся пропусков года релиза игры ('year_of_release') найдем базу, по которой сможем пропуски в наших данных закрыть. Воспользуемся данными с kaggle.com, в частности нам подойдет датасет **\"Top Video Games 1995-2021 Metacritic\"** (https://www.kaggle.com/datasets/deepcontractor/top-video-games-19952021-metacritic), который, помимо прочего, содержит информацию о годах выхода различных игр."
   ]
  },
  {
   "cell_type": "code",
   "execution_count": 16,
   "id": "7fcc6778",
   "metadata": {},
   "outputs": [
    {
     "data": {
      "text/html": [
       "<div>\n",
       "<style scoped>\n",
       "    .dataframe tbody tr th:only-of-type {\n",
       "        vertical-align: middle;\n",
       "    }\n",
       "\n",
       "    .dataframe tbody tr th {\n",
       "        vertical-align: top;\n",
       "    }\n",
       "\n",
       "    .dataframe thead th {\n",
       "        text-align: right;\n",
       "    }\n",
       "</style>\n",
       "<table border=\"1\" class=\"dataframe\">\n",
       "  <thead>\n",
       "    <tr style=\"text-align: right;\">\n",
       "      <th></th>\n",
       "      <th>name</th>\n",
       "      <th>release_date</th>\n",
       "      <th>platform</th>\n",
       "    </tr>\n",
       "  </thead>\n",
       "  <tbody>\n",
       "    <tr>\n",
       "      <th>0</th>\n",
       "      <td>The Legend of Zelda: Ocarina of Time</td>\n",
       "      <td>November 23, 1998</td>\n",
       "      <td>Nintendo 64</td>\n",
       "    </tr>\n",
       "    <tr>\n",
       "      <th>1</th>\n",
       "      <td>Tony Hawk's Pro Skater 2</td>\n",
       "      <td>September 20, 2000</td>\n",
       "      <td>PlayStation</td>\n",
       "    </tr>\n",
       "    <tr>\n",
       "      <th>2</th>\n",
       "      <td>Grand Theft Auto IV</td>\n",
       "      <td>April 29, 2008</td>\n",
       "      <td>PlayStation 3</td>\n",
       "    </tr>\n",
       "    <tr>\n",
       "      <th>3</th>\n",
       "      <td>SoulCalibur</td>\n",
       "      <td>September 8, 1999</td>\n",
       "      <td>Dreamcast</td>\n",
       "    </tr>\n",
       "    <tr>\n",
       "      <th>4</th>\n",
       "      <td>Grand Theft Auto IV</td>\n",
       "      <td>April 29, 2008</td>\n",
       "      <td>Xbox 360</td>\n",
       "    </tr>\n",
       "  </tbody>\n",
       "</table>\n",
       "</div>"
      ],
      "text/plain": [
       "                                   name        release_date       platform\n",
       "0  The Legend of Zelda: Ocarina of Time   November 23, 1998    Nintendo 64\n",
       "1              Tony Hawk's Pro Skater 2  September 20, 2000    PlayStation\n",
       "2                   Grand Theft Auto IV      April 29, 2008  PlayStation 3\n",
       "3                           SoulCalibur   September 8, 1999      Dreamcast\n",
       "4                   Grand Theft Auto IV      April 29, 2008       Xbox 360"
      ]
     },
     "execution_count": 16,
     "metadata": {},
     "output_type": "execute_result"
    }
   ],
   "source": [
    "sheet_url = \"https://docs.google.com/spreadsheets/d/1BqXyI2HKrV10VknoKzyoB5YiU3jJJkX66f5kN1rhpmI/edit#gid=118397937\"\n",
    "url = sheet_url.replace('/edit#gid=', '/export?format=csv&gid=')\n",
    "\n",
    "try:\n",
    "    all_games = pd.read_csv(url)\n",
    "except:\n",
    "    print('Не удалось загрузить дополнительный набор данных!')\n",
    "\n",
    "all_games = all_games[['name','release_date', 'platform']]\n",
    "all_games.head()"
   ]
  },
  {
   "cell_type": "code",
   "execution_count": 17,
   "id": "8c9b7670",
   "metadata": {},
   "outputs": [],
   "source": [
    "# напишем функцию, которая оставит только значение года в столбце 'release_date'\n",
    "def all_games_year(row):\n",
    "        row['release_date'] = row['release_date'][-4:]\n",
    "        return row\n",
    "\n",
    "all_games = all_games.apply(all_games_year, axis=1)"
   ]
  },
  {
   "cell_type": "code",
   "execution_count": 18,
   "id": "918e9021",
   "metadata": {},
   "outputs": [
    {
     "data": {
      "text/plain": [
       "array(['3DS', 'DS', 'Dreamcast', 'Game Boy Advance', 'GameCube',\n",
       "       'Nintendo 64', 'PC', 'PSP', 'PlayStation', 'PlayStation 2',\n",
       "       'PlayStation 3', 'PlayStation 4', 'PlayStation 5',\n",
       "       'PlayStation Vita', 'Stadia', 'Switch', 'Wii', 'Wii U', 'Xbox',\n",
       "       'Xbox 360', 'Xbox One', 'Xbox Series X'], dtype=object)"
      ]
     },
     "execution_count": 18,
     "metadata": {},
     "output_type": "execute_result"
    }
   ],
   "source": [
    "# посмотрим, какие названия для платформ хранятся в датафрейме all_games\n",
    "np.sort(all_games.platform.unique())"
   ]
  },
  {
   "cell_type": "code",
   "execution_count": 19,
   "id": "1e7e9037",
   "metadata": {},
   "outputs": [],
   "source": [
    "# заменим названия на те, что указаны в нашем датафрейме data\n",
    "to_replace = {\n",
    "    r'(\\b)PlayStation 4(\\b)': r'PS4',\n",
    "    r'(\\b)PlayStation 3(\\b)': r'PS3',\n",
    "    r'(\\b)PlayStation 2(\\b)': r'PS2',\n",
    "    r'(\\b)PlayStation Vita(\\b)': r'PSV',\n",
    "    r'(\\b)PlayStation(\\b)': r'PS',\n",
    "    r'(\\b)Wii U(\\b)': r'WiiU',\n",
    "    r'(\\b)Xbox 360(\\b)': r'X360',\n",
    "    r'(\\b)Xbox One(\\b)': r'XOne',\n",
    "    r'(\\b)Xbox(\\b)': r'XB',\n",
    "    r'(\\b)Game Boy Advance(\\b)': r'GBA',\n",
    "    r'(\\b)GameCube(\\b)': r'GC',\n",
    "    r'(\\b)Dreamcast(\\b)': r'DC',\n",
    "    r'(\\b)Nintendo 64(\\b)': r'N64'    \n",
    "}\n",
    "\n",
    "all_games['platform'] = all_games['platform'].replace(to_replace, regex=True)"
   ]
  },
  {
   "cell_type": "code",
   "execution_count": 20,
   "id": "03e0d9da",
   "metadata": {},
   "outputs": [],
   "source": [
    "# объединим значения года релиза игры ('release_date') из all_games с данными из data соотнеся названия игр ('name') и платформу ('platform')\n",
    "data = data.merge(all_games, on=['name', 'platform'], how='left')\n",
    "data = data.loc[data['release_date'] != '2019']"
   ]
  },
  {
   "cell_type": "code",
   "execution_count": 21,
   "id": "e43e2be8",
   "metadata": {},
   "outputs": [],
   "source": [
    "# напишем функцию, которая заменит NaN в 'year_of_release' на значение из 'release_date'\n",
    "def year_of_release_fix_nan(row):\n",
    "        if row['year_of_release'] != row['year_of_release']:\n",
    "            row['year_of_release'] = row['release_date']\n",
    "        return row\n",
    "\n",
    "data = data.apply(year_of_release_fix_nan, axis=1)\n",
    "data = data.drop(columns='release_date')"
   ]
  },
  {
   "cell_type": "code",
   "execution_count": 22,
   "id": "c43f88c3",
   "metadata": {},
   "outputs": [
    {
     "data": {
      "text/plain": [
       "167"
      ]
     },
     "execution_count": 22,
     "metadata": {},
     "output_type": "execute_result"
    }
   ],
   "source": [
    "# посмотрим, сколько пропусков в 'year_of_release' осталось\n",
    "data.isna().sum().year_of_release"
   ]
  },
  {
   "cell_type": "markdown",
   "id": "79e5794d",
   "metadata": {},
   "source": [
    "Таким образом нам удалось заполнить часть пропусков в столбце 'year_of_release' информацией из стороннего источника."
   ]
  },
  {
   "cell_type": "code",
   "execution_count": 23,
   "id": "312e2a15",
   "metadata": {},
   "outputs": [],
   "source": [
    "# удалим строки, в которых нам так и не удалось восстановить пропущенные значения 'year_of_release'\n",
    "data = data.dropna(subset=['year_of_release'])"
   ]
  },
  {
   "cell_type": "code",
   "execution_count": 24,
   "id": "c59eb7b6",
   "metadata": {},
   "outputs": [],
   "source": [
    "# приведем значения 'year_of_release' к типу 'int'\n",
    "data['year_of_release'] = data['year_of_release'].astype('int64')"
   ]
  },
  {
   "cell_type": "markdown",
   "id": "e4918c8d",
   "metadata": {},
   "source": [
    "В столбце с оценкой пользователей 'user_score' встречается аббревиатура 'tbd'.\n",
    ">*Обозначение \"To Be Determined\" (TBD) относится к вопросу, который еще неизвестен, или к чему-то, что еще не решено, но будет известно в будущем.*\n",
    "\n",
    "Заменим все значения 'tbd' в ячейках на NaN"
   ]
  },
  {
   "cell_type": "code",
   "execution_count": 25,
   "id": "49ee99d4",
   "metadata": {},
   "outputs": [],
   "source": [
    "# напишем функцию, которая заменит 'tbd' в 'user_score' на NaN\n",
    "def user_score_fix_tbd(row):\n",
    "        if row['user_score'] == 'tbd':\n",
    "            row['user_score'] = np.nan\n",
    "        return row\n",
    "\n",
    "data = data.apply(user_score_fix_tbd, axis=1)"
   ]
  },
  {
   "cell_type": "code",
   "execution_count": 26,
   "id": "8e5a84f5",
   "metadata": {},
   "outputs": [],
   "source": [
    "# приведем значения 'user_score' к типу 'float'\n",
    "data['user_score'] = data['user_score'].astype('float')"
   ]
  },
  {
   "cell_type": "markdown",
   "id": "cebbc2ae",
   "metadata": {},
   "source": [
    "### Посчитаем суммарные продажи во всех регионах"
   ]
  },
  {
   "cell_type": "code",
   "execution_count": 27,
   "id": "6536dfc7",
   "metadata": {},
   "outputs": [],
   "source": [
    "# подсчитаем и добавим в таблицу суммарные продажи во всех регионах\n",
    "data['total_sales'] = data['na_sales'] + data['eu_sales'] + data['jp_sales'] + data['other_sales']"
   ]
  },
  {
   "cell_type": "markdown",
   "id": "13b450c2",
   "metadata": {},
   "source": [
    "### Проверим данные на начичие выбросов"
   ]
  },
  {
   "cell_type": "code",
   "execution_count": 28,
   "id": "b1c04573",
   "metadata": {},
   "outputs": [
    {
     "data": {
      "image/png": "[encoded data removed]",
      "text/plain": [
       "<Figure size 432x288 with 1 Axes>"
      ]
     },
     "metadata": {
      "needs_background": "light"
     },
     "output_type": "display_data"
    }
   ],
   "source": [
    "# с помощью графика boxplot посмотрим, на сколько равномерно распределены продажи, нет ли завышенных/заниженных значений\n",
    "data.boxplot(column=['total_sales', 'na_sales', 'eu_sales', 'jp_sales', 'other_sales'])\n",
    "plt.show;"
   ]
  },
  {
   "cell_type": "markdown",
   "id": "88c78995",
   "metadata": {},
   "source": [
    "Видим экстримально высокие значения среди представленных данных. Однако, мы не можем быть точно уверены: это выбросы, или просто очень популярные игры, пользующиеся большим спросом."
   ]
  },
  {
   "cell_type": "markdown",
   "id": "f3e8a863",
   "metadata": {},
   "source": [
    "### Заключение"
   ]
  },
  {
   "cell_type": "code",
   "execution_count": 29,
   "id": "0e1877e0",
   "metadata": {},
   "outputs": [
    {
     "data": {
      "text/plain": [
       "37"
      ]
     },
     "execution_count": 29,
     "metadata": {},
     "output_type": "execute_result"
    }
   ],
   "source": [
    "# проверим, не появлились ли случайно в данных дубликаты при проведении предобработки\n",
    "data.duplicated().sum()"
   ]
  },
  {
   "cell_type": "code",
   "execution_count": 30,
   "id": "4e851c9b",
   "metadata": {},
   "outputs": [],
   "source": [
    "# удалим дубликаты\n",
    "data = data.drop_duplicates()"
   ]
  },
  {
   "cell_type": "code",
   "execution_count": 31,
   "id": "4fbbef53",
   "metadata": {},
   "outputs": [
    {
     "data": {
      "text/plain": [
       "name                  0\n",
       "platform              0\n",
       "year_of_release       0\n",
       "genre                 0\n",
       "na_sales              0\n",
       "eu_sales              0\n",
       "jp_sales              0\n",
       "other_sales           0\n",
       "critic_score       8465\n",
       "user_score         8994\n",
       "rating             6681\n",
       "total_sales           0\n",
       "dtype: int64"
      ]
     },
     "execution_count": 31,
     "metadata": {},
     "output_type": "execute_result"
    }
   ],
   "source": [
    "# смотрим, в каких столбцах остались неисправленные пропуски\n",
    "data.isna().sum()"
   ]
  },
  {
   "cell_type": "markdown",
   "id": "9e71c5f8",
   "metadata": {},
   "source": [
    "Оставшиеся в данных пропуски возникли, скорее всего, из-за того, что указанные поля были необязательными при заполнении базы, определенная информация могла быть недоступна на момент заполнения базы (оценки пользователей, рейтинг) или из-за того, что при выгрузке данных произошли ошибки. Исправить эти пропуски не представляется возможным."
   ]
  },
  {
   "cell_type": "code",
   "execution_count": 32,
   "id": "d429c599",
   "metadata": {},
   "outputs": [
    {
     "name": "stdout",
     "output_type": "stream",
     "text": [
      "Сохранено 98.97696679629075 % от исходных данных\n"
     ]
    }
   ],
   "source": [
    "# посчитаем, сколько данных мы сохранили после этапа предобработки\n",
    "print('Сохранено', (data.shape[0]/df_row_number * 100), '% от исходных данных')"
   ]
  },
  {
   "cell_type": "code",
   "execution_count": 33,
   "id": "3dc5b4ba",
   "metadata": {},
   "outputs": [],
   "source": [
    "# напишем функцию, которая заполнит пропуски в 'rating' на 'undefined'\n",
    "def rating_fix(row):\n",
    "        if row['rating'] != row['rating']:\n",
    "            row['rating'] = 'undefined'\n",
    "        return row\n",
    "\n",
    "data = data.apply(rating_fix, axis=1)"
   ]
  },
  {
   "cell_type": "code",
   "execution_count": 34,
   "id": "cdafd5a8",
   "metadata": {},
   "outputs": [
    {
     "data": {
      "text/plain": [
       "array(['AO', 'E', 'E10+', 'EC', 'K-A', 'M', 'RP', 'T', 'undefined'],\n",
       "      dtype=object)"
      ]
     },
     "execution_count": 34,
     "metadata": {},
     "output_type": "execute_result"
    }
   ],
   "source": [
    "# посмотрим, какие теперь уникальные значения присутствуют в столбце rairing\n",
    "np.sort(data.rating.unique())"
   ]
  },
  {
   "cell_type": "markdown",
   "id": "d8dc6f5c",
   "metadata": {},
   "source": [
    "<div style=\"border-radius: 15px; background:BlanchedAlmond; padding: 20px\">\n",
    "\n",
    "📜 Итог после проведения предобработки данных:\n",
    "- были устранены пропуски в столбцах 'Name', 'Year_of_Release' и 'Genre'\n",
    "- пропуски в столбцах 'Critic_Score', 'User_Score' и 'Rating' заполнить не представляется возможным\n",
    "- чуть более 1% данных было потеряно во время предобработки\n",
    "\n",
    "</div>"
   ]
  },
  {
   "cell_type": "markdown",
   "id": "e8497cc7",
   "metadata": {},
   "source": [
    "## Исследуем данные"
   ]
  },
  {
   "cell_type": "markdown",
   "id": "b1056af2",
   "metadata": {},
   "source": [
    "### Посмотрим, сколько игр выпускалось в разные годы "
   ]
  },
  {
   "cell_type": "code",
   "execution_count": 35,
   "id": "60f3bf02",
   "metadata": {},
   "outputs": [
    {
     "data": {
      "text/html": [
       "<div>\n",
       "<style scoped>\n",
       "    .dataframe tbody tr th:only-of-type {\n",
       "        vertical-align: middle;\n",
       "    }\n",
       "\n",
       "    .dataframe tbody tr th {\n",
       "        vertical-align: top;\n",
       "    }\n",
       "\n",
       "    .dataframe thead th {\n",
       "        text-align: right;\n",
       "    }\n",
       "</style>\n",
       "<table border=\"1\" class=\"dataframe\">\n",
       "  <thead>\n",
       "    <tr style=\"text-align: right;\">\n",
       "      <th></th>\n",
       "      <th>Год релиза</th>\n",
       "      <th>Кол-во выпущенных игр</th>\n",
       "    </tr>\n",
       "  </thead>\n",
       "  <tbody>\n",
       "    <tr>\n",
       "      <th>0</th>\n",
       "      <td>2008</td>\n",
       "      <td>1437</td>\n",
       "    </tr>\n",
       "    <tr>\n",
       "      <th>1</th>\n",
       "      <td>2009</td>\n",
       "      <td>1431</td>\n",
       "    </tr>\n",
       "    <tr>\n",
       "      <th>2</th>\n",
       "      <td>2010</td>\n",
       "      <td>1265</td>\n",
       "    </tr>\n",
       "    <tr>\n",
       "      <th>3</th>\n",
       "      <td>2007</td>\n",
       "      <td>1203</td>\n",
       "    </tr>\n",
       "    <tr>\n",
       "      <th>4</th>\n",
       "      <td>2011</td>\n",
       "      <td>1151</td>\n",
       "    </tr>\n",
       "    <tr>\n",
       "      <th>5</th>\n",
       "      <td>2006</td>\n",
       "      <td>1012</td>\n",
       "    </tr>\n",
       "    <tr>\n",
       "      <th>6</th>\n",
       "      <td>2005</td>\n",
       "      <td>949</td>\n",
       "    </tr>\n",
       "    <tr>\n",
       "      <th>7</th>\n",
       "      <td>2002</td>\n",
       "      <td>842</td>\n",
       "    </tr>\n",
       "    <tr>\n",
       "      <th>8</th>\n",
       "      <td>2003</td>\n",
       "      <td>785</td>\n",
       "    </tr>\n",
       "    <tr>\n",
       "      <th>9</th>\n",
       "      <td>2004</td>\n",
       "      <td>768</td>\n",
       "    </tr>\n",
       "  </tbody>\n",
       "</table>\n",
       "</div>"
      ],
      "text/plain": [
       "   Год релиза  Кол-во выпущенных игр\n",
       "0        2008                   1437\n",
       "1        2009                   1431\n",
       "2        2010                   1265\n",
       "3        2007                   1203\n",
       "4        2011                   1151\n",
       "5        2006                   1012\n",
       "6        2005                    949\n",
       "7        2002                    842\n",
       "8        2003                    785\n",
       "9        2004                    768"
      ]
     },
     "metadata": {},
     "output_type": "display_data"
    }
   ],
   "source": [
    "# посмотрим на топ-10 лет по количеству выпущенных игр\n",
    "game_per_year = data\\\n",
    "                    .rename(columns={'name': 'Кол-во выпущенных игр', 'year_of_release': 'Год релиза'})\\\n",
    "                    .pivot_table(index='Год релиза', values='Кол-во выпущенных игр', aggfunc='count')\\\n",
    "                    .sort_values(by='Кол-во выпущенных игр', ascending=False)\\\n",
    "                    .reset_index()\\\n",
    "\n",
    "display(game_per_year.head(10))"
   ]
  },
  {
   "cell_type": "code",
   "execution_count": 36,
   "id": "9b440808",
   "metadata": {},
   "outputs": [
    {
     "data": {
      "image/png": "[encoded data removed]",
      "text/plain": [
       "<Figure size 432x288 with 1 Axes>"
      ]
     },
     "metadata": {
      "needs_background": "light"
     },
     "output_type": "display_data"
    }
   ],
   "source": [
    "# построим столбчатую диаграмму\n",
    "ax = sns.barplot(data=game_per_year, x='Год релиза', y='Кол-во выпущенных игр', alpha=.7, edgecolor='.2')\n",
    "ax.set_xticklabels(ax.get_xticklabels(), rotation=90)\n",
    "plt.title(\"Количество выпущенных игр в разные года\");"
   ]
  },
  {
   "cell_type": "markdown",
   "id": "9a46cbcd",
   "metadata": {},
   "source": [
    "Исходя из представленных данных видно, что для дальнейшей работы есть смысл анализировать только те игры, которые были выпущены после 2000 года, когда наблюдался значительный рост интереса аудитории к игровым проектам на приставках и портативных игровых устройствах.Также из данных на графике можно заметить спад количества выпускаемых игр на анализируемых платформах после 2008 года. Предположительно, это можно связать с потерей интереса у аудитории (развитие мобильного гейминга, облачного гейминга, широким распространением онлайн проектов для PC)."
   ]
  },
  {
   "cell_type": "code",
   "execution_count": 37,
   "id": "ffc1d44b",
   "metadata": {},
   "outputs": [],
   "source": [
    "# отфильтруем наши данные, оставим только игры, выпущенные после 2000 года\n",
    "data_new = data\\\n",
    "                .query('year_of_release >= 2000')\\\n",
    "                .reset_index(drop=True)"
   ]
  },
  {
   "cell_type": "markdown",
   "id": "15a4867b",
   "metadata": {},
   "source": [
    "### Посмотрим, как менялись продажи по платформам"
   ]
  },
  {
   "cell_type": "code",
   "execution_count": 38,
   "id": "f79687bb",
   "metadata": {},
   "outputs": [
    {
     "data": {
      "text/html": [
       "<div>\n",
       "<style scoped>\n",
       "    .dataframe tbody tr th:only-of-type {\n",
       "        vertical-align: middle;\n",
       "    }\n",
       "\n",
       "    .dataframe tbody tr th {\n",
       "        vertical-align: top;\n",
       "    }\n",
       "\n",
       "    .dataframe thead th {\n",
       "        text-align: right;\n",
       "    }\n",
       "</style>\n",
       "<table border=\"1\" class=\"dataframe\">\n",
       "  <thead>\n",
       "    <tr style=\"text-align: right;\">\n",
       "      <th></th>\n",
       "      <th>Платформа</th>\n",
       "      <th>Число проданых копий, млн.</th>\n",
       "    </tr>\n",
       "  </thead>\n",
       "  <tbody>\n",
       "    <tr>\n",
       "      <th>0</th>\n",
       "      <td>PS2</td>\n",
       "      <td>1248.46</td>\n",
       "    </tr>\n",
       "    <tr>\n",
       "      <th>1</th>\n",
       "      <td>X360</td>\n",
       "      <td>970.48</td>\n",
       "    </tr>\n",
       "    <tr>\n",
       "      <th>2</th>\n",
       "      <td>PS3</td>\n",
       "      <td>937.81</td>\n",
       "    </tr>\n",
       "    <tr>\n",
       "      <th>3</th>\n",
       "      <td>Wii</td>\n",
       "      <td>904.07</td>\n",
       "    </tr>\n",
       "    <tr>\n",
       "      <th>4</th>\n",
       "      <td>DS</td>\n",
       "      <td>804.09</td>\n",
       "    </tr>\n",
       "    <tr>\n",
       "      <th>5</th>\n",
       "      <td>PS</td>\n",
       "      <td>728.79</td>\n",
       "    </tr>\n",
       "    <tr>\n",
       "      <th>6</th>\n",
       "      <td>GBA</td>\n",
       "      <td>314.77</td>\n",
       "    </tr>\n",
       "    <tr>\n",
       "      <th>7</th>\n",
       "      <td>PS4</td>\n",
       "      <td>314.14</td>\n",
       "    </tr>\n",
       "    <tr>\n",
       "      <th>8</th>\n",
       "      <td>PSP</td>\n",
       "      <td>290.37</td>\n",
       "    </tr>\n",
       "    <tr>\n",
       "      <th>9</th>\n",
       "      <td>PC</td>\n",
       "      <td>258.71</td>\n",
       "    </tr>\n",
       "  </tbody>\n",
       "</table>\n",
       "</div>"
      ],
      "text/plain": [
       "  Платформа  Число проданых копий, млн.\n",
       "0       PS2                     1248.46\n",
       "1      X360                      970.48\n",
       "2       PS3                      937.81\n",
       "3       Wii                      904.07\n",
       "4        DS                      804.09\n",
       "5        PS                      728.79\n",
       "6       GBA                      314.77\n",
       "7       PS4                      314.14\n",
       "8       PSP                      290.37\n",
       "9        PC                      258.71"
      ]
     },
     "execution_count": 38,
     "metadata": {},
     "output_type": "execute_result"
    }
   ],
   "source": [
    "# посмотрим на топ-10 платформ по количеству проданых игр за все время\n",
    "data\\\n",
    "        .rename(columns={'total_sales': 'Число проданых копий, млн.', 'platform': 'Платформа'})\\\n",
    "        .pivot_table(index='Платформа', values='Число проданых копий, млн.', aggfunc='sum')\\\n",
    "        .sort_values(by='Число проданых копий, млн.', ascending=False)\\\n",
    "        .reset_index()\\\n",
    "        .head(10)"
   ]
  },
  {
   "cell_type": "markdown",
   "id": "477f3071",
   "metadata": {},
   "source": [
    "В дальнейшем рассмотрим подробнее только самые успешные платформы по кол-ву проданых копий игр: PS2, X360, PS3, Wii, DS."
   ]
  },
  {
   "cell_type": "code",
   "execution_count": 39,
   "id": "4a3bf0b2",
   "metadata": {},
   "outputs": [
    {
     "data": {
      "image/png": "[encoded data removed]",
      "text/plain": [
       "<Figure size 432x288 with 1 Axes>"
      ]
     },
     "metadata": {
      "needs_background": "light"
     },
     "output_type": "display_data"
    }
   ],
   "source": [
    "# построим график, который будет отражать изменение кол-ва продаваемых копий игр начиная с 2000 года для топ-5 платформ\n",
    "sales_per_platform = data_new\\\n",
    "                            .query('(platform == \"PS2\")\\\n",
    "                                    | (platform == \"X360\")\\\n",
    "                                    | (platform == \"PS3\")\\\n",
    "                                    | (platform == \"Wii\")\\\n",
    "                                    | (platform == \"DS\")')\\\n",
    "                            .reset_index(drop=True)\\\n",
    "                            .groupby(['platform', 'year_of_release'], as_index=False)\\\n",
    "                            .agg({'total_sales': 'sum'})\n",
    "\n",
    "sns.lineplot(data=sales_per_platform, x='year_of_release', y='total_sales', hue='platform')\n",
    "plt.legend(title='Платформа', fontsize=10)\n",
    "plt.title(\"Продажи для самых популярных игровых платформ\")\n",
    "plt.xlabel('Год релиза', fontsize=10)\n",
    "plt.ylabel('Число проданых копий, млн.', fontsize=10);"
   ]
  },
  {
   "cell_type": "markdown",
   "id": "6e69ee66",
   "metadata": {},
   "source": [
    "Исходя из представленных на графике данных видно, что в новые платформы появляются и начинают набирать популярность (постепенно сменяя старые) примерно каждые 2-4 года. Срок жизни игровой платформы в среднем составлят примерно 9-10 лет."
   ]
  },
  {
   "cell_type": "markdown",
   "id": "bc391428",
   "metadata": {},
   "source": [
    "### Выберем актуальный период  и потенциально прибыльные платформы для дальнейшего анализа"
   ]
  },
  {
   "cell_type": "markdown",
   "id": "516424cb",
   "metadata": {},
   "source": [
    "**Актуальный период** определим исходя из общего интереса аудитории к игровым проектам на всех представленных в данных платформах. Основной фактор - эти данные должны позволять построить прогноз на 2017 год.\n",
    "<br>\n",
    "<br>Мы знаем, исходя из ренее полученных данных, что количество выпускаемых игр для приставок и портативных игровых устройств начало сокращаться после 2008 года. Также такие приставки как 3DS, PS4, PSV, WiiU и XOne были выпущены после 2008 года, соответственно могут пока уступать консолям прошлых поколений, которые присутствуют на рынке дольше, по количеству проданых игр. Стоит учесть, что новые консоли всегда более перспективны с точки зрения разработки и последующей продажи игр, а также пользуются большим спросом у геймеров. Таким образом, чтобы сохранить тренд на уменьшение количества выпускаемых игр и учесть факт появления новых консолей, при построении прогноза ограничимся данными за последние 5 лет (2011-2016 года). "
   ]
  },
  {
   "cell_type": "code",
   "execution_count": 40,
   "id": "04da6145",
   "metadata": {},
   "outputs": [],
   "source": [
    "actual_data = data_new[data_new['year_of_release'] >= 2011].reset_index(drop=True)"
   ]
  },
  {
   "cell_type": "code",
   "execution_count": 41,
   "id": "b8cbc5cf",
   "metadata": {},
   "outputs": [
    {
     "data": {
      "text/html": [
       "<div>\n",
       "<style scoped>\n",
       "    .dataframe tbody tr th:only-of-type {\n",
       "        vertical-align: middle;\n",
       "    }\n",
       "\n",
       "    .dataframe tbody tr th {\n",
       "        vertical-align: top;\n",
       "    }\n",
       "\n",
       "    .dataframe thead th {\n",
       "        text-align: right;\n",
       "    }\n",
       "</style>\n",
       "<table border=\"1\" class=\"dataframe\">\n",
       "  <thead>\n",
       "    <tr style=\"text-align: right;\">\n",
       "      <th></th>\n",
       "      <th>Платформа</th>\n",
       "      <th>Число проданых копий, млн.</th>\n",
       "    </tr>\n",
       "  </thead>\n",
       "  <tbody>\n",
       "    <tr>\n",
       "      <th>0</th>\n",
       "      <td>PS3</td>\n",
       "      <td>448.88</td>\n",
       "    </tr>\n",
       "    <tr>\n",
       "      <th>1</th>\n",
       "      <td>X360</td>\n",
       "      <td>383.52</td>\n",
       "    </tr>\n",
       "    <tr>\n",
       "      <th>2</th>\n",
       "      <td>PS4</td>\n",
       "      <td>314.14</td>\n",
       "    </tr>\n",
       "    <tr>\n",
       "      <th>3</th>\n",
       "      <td>3DS</td>\n",
       "      <td>258.21</td>\n",
       "    </tr>\n",
       "    <tr>\n",
       "      <th>4</th>\n",
       "      <td>XOne</td>\n",
       "      <td>159.32</td>\n",
       "    </tr>\n",
       "  </tbody>\n",
       "</table>\n",
       "</div>"
      ],
      "text/plain": [
       "  Платформа  Число проданых копий, млн.\n",
       "0       PS3                      448.88\n",
       "1      X360                      383.52\n",
       "2       PS4                      314.14\n",
       "3       3DS                      258.21\n",
       "4      XOne                      159.32"
      ]
     },
     "execution_count": 41,
     "metadata": {},
     "output_type": "execute_result"
    }
   ],
   "source": [
    "# посмотрим на топ-5 платформ по количеству проданых игр за актуальный период\n",
    "actual_data\\\n",
    "        .rename(columns={'total_sales': 'Число проданых копий, млн.', 'platform': 'Платформа'})\\\n",
    "        .pivot_table(index='Платформа', values='Число проданых копий, млн.', aggfunc='sum')\\\n",
    "        .sort_values(by='Число проданых копий, млн.', ascending=False)\\\n",
    "        .reset_index()\\\n",
    "        .head()"
   ]
  },
  {
   "cell_type": "markdown",
   "id": "746e035b",
   "metadata": {},
   "source": [
    "Для дальнейшего анализа взьмем только потенциально прибыльные платформы. Как можно видеть из таблицы, после 2011 года в пятерку лидеров по популярности (и, соответсвенно, по продажам) выбились игры для PS4, 3DS и XOne, а игры для PS2, Wii и DS стали терять в популярности, при этом игры для X360 и PS3 все также остаются прибыльными."
   ]
  },
  {
   "cell_type": "code",
   "execution_count": 42,
   "id": "111c3431",
   "metadata": {},
   "outputs": [],
   "source": [
    "actual_data_top5 = actual_data[actual_data['platform'].isin(['PS3','X360','PS4','3DS','XOne'])]"
   ]
  },
  {
   "cell_type": "markdown",
   "id": "7bd9e4d3",
   "metadata": {},
   "source": [
    "### Построим график «ящик с усами» по глобальным продажам игр в разбивке по платформам"
   ]
  },
  {
   "cell_type": "code",
   "execution_count": 43,
   "id": "b6c0b49c",
   "metadata": {},
   "outputs": [
    {
     "name": "stdout",
     "output_type": "stream",
     "text": [
      "Нижний 1,5*IQR ус: -0.78 \n",
      "Верхний 1,5*IQR ус: 1.4600000000000002\n"
     ]
    }
   ],
   "source": [
    "# посчитаем границы \"усов ящика\" для 'total_sales' в целом (без учета платформы)\n",
    "Q1 = actual_data_top5['total_sales'].quantile(0.25)\n",
    "Q3 = actual_data_top5['total_sales'].quantile(0.75)\n",
    "IQR = Q3 - Q1\n",
    "print('Нижний 1,5*IQR ус:',Q1 - IQR * 1.5,'\\nВерхний 1,5*IQR ус:', Q3 + IQR * 1.5)"
   ]
  },
  {
   "cell_type": "code",
   "execution_count": 44,
   "id": "089aa933",
   "metadata": {},
   "outputs": [
    {
     "data": {
      "image/png": "[encoded data removed]",
      "text/plain": [
       "<Figure size 432x288 with 1 Axes>"
      ]
     },
     "metadata": {
      "needs_background": "light"
     },
     "output_type": "display_data"
    }
   ],
   "source": [
    "# почистим столбец 'total_sales' от выбросов и построим график boxplot для каждой из потенциально прибыльных платформ\n",
    "sns.boxplot(data=actual_data_top5, x='platform', y='total_sales')\n",
    "plt.ylim(top=1.85, bottom=0)\n",
    "plt.title('Глобальные продажи пяти потенциально прибыльных платформ')\n",
    "plt.xlabel('Платформа', fontsize=10)\n",
    "plt.ylabel('Число проданых копий, млн.',fontsize=10);"
   ]
  },
  {
   "cell_type": "markdown",
   "id": "d49ba5c0",
   "metadata": {},
   "source": [
    "Для формулировки точных выводов проведем попарные сравнения с целью проверки различий между средними. Теория статистики не требует применения методов, основанных на попарных сравнениях, исключительно после того, как дисперсионный анализ (ANOVA) установил наличие существенной разницы между группами в целом (хотя это и рекомендуется). В нашем случае, проведет тест Ливиня (Levene's test) для оценки равенства дисперсий. При условии соблюдения равенста дисперсий воспользуемся тестом Тьюки (Tukey's test), в противном случае - тестом Т2 Тамхейна (Tamhane T2 test). "
   ]
  },
  {
   "cell_type": "code",
   "execution_count": 45,
   "id": "cdc70e28",
   "metadata": {},
   "outputs": [],
   "source": [
    "actual_data_top5_for_test = actual_data_top5[actual_data_top5['total_sales'] < 1.5]"
   ]
  },
  {
   "cell_type": "code",
   "execution_count": 46,
   "id": "f97cec43",
   "metadata": {},
   "outputs": [
    {
     "data": {
      "text/plain": [
       "LeveneResult(statistic=9.877152171184624, pvalue=6.447954439774086e-08)"
      ]
     },
     "execution_count": 46,
     "metadata": {},
     "output_type": "execute_result"
    }
   ],
   "source": [
    "# проведем тест Ливиня\n",
    "st.levene(actual_data_top5_for_test.query('platform == \"XOne\"').total_sales,\\\n",
    "                   actual_data_top5_for_test.query('platform == \"PS4\"').total_sales,\\\n",
    "                   actual_data_top5_for_test.query('platform == \"PS3\"').total_sales,\\\n",
    "                   actual_data_top5_for_test.query('platform == \"X360\"').total_sales,\\\n",
    "                   actual_data_top5_for_test.query('platform == \"3DS\"').total_sales)"
   ]
  },
  {
   "cell_type": "markdown",
   "id": "1be71a59",
   "metadata": {},
   "source": [
    "p-value << 0.05, что указывает на то, что группы имеют статистически значимую разницу в своей изменчивости. "
   ]
  },
  {
   "cell_type": "code",
   "execution_count": 47,
   "id": "34552a77",
   "metadata": {},
   "outputs": [
    {
     "data": {
      "text/html": [
       "<div>\n",
       "<style scoped>\n",
       "    .dataframe tbody tr th:only-of-type {\n",
       "        vertical-align: middle;\n",
       "    }\n",
       "\n",
       "    .dataframe tbody tr th {\n",
       "        vertical-align: top;\n",
       "    }\n",
       "\n",
       "    .dataframe thead th {\n",
       "        text-align: right;\n",
       "    }\n",
       "</style>\n",
       "<table border=\"1\" class=\"dataframe\">\n",
       "  <thead>\n",
       "    <tr style=\"text-align: right;\">\n",
       "      <th></th>\n",
       "      <th>XOne</th>\n",
       "      <th>PS4</th>\n",
       "      <th>PS3</th>\n",
       "      <th>X360</th>\n",
       "      <th>3DS</th>\n",
       "    </tr>\n",
       "  </thead>\n",
       "  <tbody>\n",
       "    <tr>\n",
       "      <th>XOne</th>\n",
       "      <td>1.000000</td>\n",
       "      <td>0.296926</td>\n",
       "      <td>9.999976e-01</td>\n",
       "      <td>9.372009e-01</td>\n",
       "      <td>1.333911e-03</td>\n",
       "    </tr>\n",
       "    <tr>\n",
       "      <th>PS4</th>\n",
       "      <td>0.296926</td>\n",
       "      <td>1.000000</td>\n",
       "      <td>3.824729e-02</td>\n",
       "      <td>4.454734e-03</td>\n",
       "      <td>1.163548e-01</td>\n",
       "    </tr>\n",
       "    <tr>\n",
       "      <th>PS3</th>\n",
       "      <td>0.999998</td>\n",
       "      <td>0.038247</td>\n",
       "      <td>1.000000e+00</td>\n",
       "      <td>8.551929e-01</td>\n",
       "      <td>5.325964e-08</td>\n",
       "    </tr>\n",
       "    <tr>\n",
       "      <th>X360</th>\n",
       "      <td>0.937201</td>\n",
       "      <td>0.004455</td>\n",
       "      <td>8.551929e-01</td>\n",
       "      <td>1.000000e+00</td>\n",
       "      <td>6.784838e-09</td>\n",
       "    </tr>\n",
       "    <tr>\n",
       "      <th>3DS</th>\n",
       "      <td>0.001334</td>\n",
       "      <td>0.116355</td>\n",
       "      <td>5.325964e-08</td>\n",
       "      <td>6.784838e-09</td>\n",
       "      <td>1.000000e+00</td>\n",
       "    </tr>\n",
       "  </tbody>\n",
       "</table>\n",
       "</div>"
      ],
      "text/plain": [
       "          XOne       PS4           PS3          X360           3DS\n",
       "XOne  1.000000  0.296926  9.999976e-01  9.372009e-01  1.333911e-03\n",
       "PS4   0.296926  1.000000  3.824729e-02  4.454734e-03  1.163548e-01\n",
       "PS3   0.999998  0.038247  1.000000e+00  8.551929e-01  5.325964e-08\n",
       "X360  0.937201  0.004455  8.551929e-01  1.000000e+00  6.784838e-09\n",
       "3DS   0.001334  0.116355  5.325964e-08  6.784838e-09  1.000000e+00"
      ]
     },
     "execution_count": 47,
     "metadata": {},
     "output_type": "execute_result"
    }
   ],
   "source": [
    "# проведем тест Т2 Тамхейна\n",
    "sp.posthoc_tamhane(actual_data_top5_for_test, val_col='total_sales', group_col='platform')"
   ]
  },
  {
   "cell_type": "code",
   "execution_count": 48,
   "id": "6a320bef",
   "metadata": {},
   "outputs": [
    {
     "data": {
      "image/png": "[encoded data removed]",
      "text/plain": [
       "<Figure size 432x288 with 1 Axes>"
      ]
     },
     "metadata": {
      "needs_background": "light"
     },
     "output_type": "display_data"
    }
   ],
   "source": [
    "sns.pointplot(data=actual_data_top5_for_test, x='platform', y='total_sales', hue='platform', ci=80, join=False, capsize=.2)\n",
    "plt.title('Доверительные интервалы 95%')\n",
    "plt.legend(title='Платформа', fontsize=10)\n",
    "plt.xlabel('Платформа', fontsize=10)\n",
    "plt.ylabel('Число проданых копий, млн.',fontsize=10);"
   ]
  },
  {
   "cell_type": "markdown",
   "id": "15f2456e",
   "metadata": {},
   "source": [
    "Установлены статистически достоверные различия (alpha = 0.05) в количестве проданых копий игр для пар:\n",
    "- XOne-3DS (количество проданых игр на XOne значимо больше); \n",
    "- PS4-PS3 (количество проданых игр на PS3 значимо больше); \n",
    "- PS4-X360 (количество проданых игр на X360 значимо больше); \n",
    "- PS4-3DS (количество проданых игр на PS4 значимо больше);\n",
    "- X360-3DS (количество проданых игр на X360 значимо больше);\n",
    "- PS3-3DS (количество проданых игр на PS3 значимо больше)."
   ]
  },
  {
   "cell_type": "markdown",
   "id": "d67b0210",
   "metadata": {},
   "source": [
    "### Посмотрим, как влияют на продажи отзывы пользователей и критиков"
   ]
  },
  {
   "cell_type": "code",
   "execution_count": 49,
   "id": "f6353965",
   "metadata": {},
   "outputs": [],
   "source": [
    "# напишем функцию для оценки корреляции между 'total_sales', 'user_score' и 'critic_score' в зависимости от интересующего нас параметра (типа игровой платформы)\n",
    "def other_platform_matrix(platform):\n",
    "    platform_name = actual_data_top5[actual_data_top5['platform'] == platform]\n",
    "    platform_name = platform_name.rename(columns={'platform': 'Платформа',\n",
    "                                                  'user_score': 'Оценка пользователей',\n",
    "                                                  'total_sales': 'Число проданых копий, млн.',\n",
    "                                                  'critic_score': 'Оценка критиков'})\n",
    "    \n",
    "    sns.pairplot(\n",
    "        data=platform_name, \n",
    "        hue='Платформа',\n",
    "        height=3.5,\n",
    "        x_vars=['Оценка критиков', 'Оценка пользователей'], \n",
    "        y_vars='Число проданых копий, млн.'\n",
    "    );\n",
    "\n",
    "    user_sales_corr = platform_name['Оценка пользователей'].corr(platform_name['Число проданых копий, млн.'])\n",
    "    critic_sales_cor = platform_name['Оценка критиков'].corr(platform_name['Число проданых копий, млн.'])\n",
    "    \n",
    "    print('Корреляция между отзывами критиков и игровой платформой:', critic_sales_cor)\n",
    "    print('Корреляция между отзывами игроков и игровой платформой:', user_sales_corr)"
   ]
  },
  {
   "cell_type": "code",
   "execution_count": 50,
   "id": "9f7a3e0e",
   "metadata": {},
   "outputs": [
    {
     "name": "stdout",
     "output_type": "stream",
     "text": [
      "Корреляция между отзывами критиков и игровой платформой: 0.4169983280084017\n",
      "Корреляция между отзывами игроков и игровой платформой: -0.06892505328279414\n"
     ]
    },
    {
     "data": {
      "image/png": "[encoded data removed]",
      "text/plain": [
       "<Figure size 572.25x252 with 2 Axes>"
      ]
     },
     "metadata": {
      "needs_background": "light"
     },
     "output_type": "display_data"
    }
   ],
   "source": [
    "# для \"XOne\"\n",
    "other_platform_matrix(\"XOne\")"
   ]
  },
  {
   "cell_type": "code",
   "execution_count": 51,
   "id": "a7b7a9e8",
   "metadata": {},
   "outputs": [
    {
     "name": "stdout",
     "output_type": "stream",
     "text": [
      "Корреляция между отзывами критиков и игровой платформой: 0.40656790206178095\n",
      "Корреляция между отзывами игроков и игровой платформой: -0.031957110204556376\n"
     ]
    },
    {
     "data": {
      "image/png": "[encoded data removed]",
      "text/plain": [
       "<Figure size 572.25x252 with 2 Axes>"
      ]
     },
     "metadata": {
      "needs_background": "light"
     },
     "output_type": "display_data"
    }
   ],
   "source": [
    "# для \"PS4\"\n",
    "other_platform_matrix(\"PS4\")"
   ]
  },
  {
   "cell_type": "code",
   "execution_count": 52,
   "id": "f0c5430d",
   "metadata": {},
   "outputs": [
    {
     "name": "stdout",
     "output_type": "stream",
     "text": [
      "Корреляция между отзывами критиков и игровой платформой: 0.38169404076183017\n",
      "Корреляция между отзывами игроков и игровой платформой: 0.013324234007821727\n"
     ]
    },
    {
     "data": {
      "image/png": "[encoded data removed]",
      "text/plain": [
       "<Figure size 572.25x252 with 2 Axes>"
      ]
     },
     "metadata": {
      "needs_background": "light"
     },
     "output_type": "display_data"
    }
   ],
   "source": [
    "# для \"PS3\"\n",
    "other_platform_matrix(\"PS3\")"
   ]
  },
  {
   "cell_type": "code",
   "execution_count": 53,
   "id": "897bf158",
   "metadata": {},
   "outputs": [
    {
     "name": "stdout",
     "output_type": "stream",
     "text": [
      "Корреляция между отзывами критиков и игровой платформой: 0.38963672747121275\n",
      "Корреляция между отзывами игроков и игровой платформой: 0.038263270904884565\n"
     ]
    },
    {
     "data": {
      "image/png": "[encoded data removed]",
      "text/plain": [
       "<Figure size 572.25x252 with 2 Axes>"
      ]
     },
     "metadata": {
      "needs_background": "light"
     },
     "output_type": "display_data"
    }
   ],
   "source": [
    "# для \"X360\"\n",
    "other_platform_matrix(\"X360\")"
   ]
  },
  {
   "cell_type": "code",
   "execution_count": 54,
   "id": "5de213a4",
   "metadata": {},
   "outputs": [
    {
     "name": "stdout",
     "output_type": "stream",
     "text": [
      "Корреляция между отзывами критиков и игровой платформой: 0.34821555174929825\n",
      "Корреляция между отзывами игроков и игровой платформой: 0.222305117884012\n"
     ]
    },
    {
     "data": {
      "image/png": "[encoded data removed]",
      "text/plain": [
       "<Figure size 572.25x252 with 2 Axes>"
      ]
     },
     "metadata": {
      "needs_background": "light"
     },
     "output_type": "display_data"
    }
   ],
   "source": [
    "# для \"3DS\"\n",
    "other_platform_matrix(\"3DS\")"
   ]
  },
  {
   "cell_type": "markdown",
   "id": "339b9dfe",
   "metadata": {},
   "source": [
    "В среднем, по всем платформам кроме обнаруживается слабая положительная корреляция (значения от 0.34 до 0.42) между 'total_sales' и 'critic_score'. В свою очередь, исходя из значений корреляция для параметров 'total_sales' и 'user_score' для всех платформ, линейной связи между признаками не обнаружено (значения от -0.07 до 0.22).\n",
    "<br>Можно сделать вывод, что не наблюдается прямая зависмость между оценками критиков или игроков и числом проданных копий игр для пяти рассмотренных платформ. Скорее всего ключевым фактором, влияющим на продажи, становится  какой-то иной неучтенный параметр."
   ]
  },
  {
   "cell_type": "markdown",
   "id": "10134ae3",
   "metadata": {},
   "source": [
    "### Посмотрим на общее распределение игр по жанрам"
   ]
  },
  {
   "cell_type": "code",
   "execution_count": 55,
   "id": "f9a0e930",
   "metadata": {},
   "outputs": [
    {
     "data": {
      "text/html": [
       "<div>\n",
       "<style scoped>\n",
       "    .dataframe tbody tr th:only-of-type {\n",
       "        vertical-align: middle;\n",
       "    }\n",
       "\n",
       "    .dataframe tbody tr th {\n",
       "        vertical-align: top;\n",
       "    }\n",
       "\n",
       "    .dataframe thead th {\n",
       "        text-align: right;\n",
       "    }\n",
       "</style>\n",
       "<table border=\"1\" class=\"dataframe\">\n",
       "  <thead>\n",
       "    <tr style=\"text-align: right;\">\n",
       "      <th></th>\n",
       "      <th>Жанр</th>\n",
       "      <th>Кол-во выпущенных игр</th>\n",
       "    </tr>\n",
       "  </thead>\n",
       "  <tbody>\n",
       "    <tr>\n",
       "      <th>0</th>\n",
       "      <td>Action</td>\n",
       "      <td>1280</td>\n",
       "    </tr>\n",
       "    <tr>\n",
       "      <th>1</th>\n",
       "      <td>Role-Playing</td>\n",
       "      <td>467</td>\n",
       "    </tr>\n",
       "    <tr>\n",
       "      <th>2</th>\n",
       "      <td>Adventure</td>\n",
       "      <td>410</td>\n",
       "    </tr>\n",
       "    <tr>\n",
       "      <th>3</th>\n",
       "      <td>Sports</td>\n",
       "      <td>388</td>\n",
       "    </tr>\n",
       "    <tr>\n",
       "      <th>4</th>\n",
       "      <td>Misc</td>\n",
       "      <td>375</td>\n",
       "    </tr>\n",
       "    <tr>\n",
       "      <th>5</th>\n",
       "      <td>Shooter</td>\n",
       "      <td>329</td>\n",
       "    </tr>\n",
       "    <tr>\n",
       "      <th>6</th>\n",
       "      <td>Racing</td>\n",
       "      <td>183</td>\n",
       "    </tr>\n",
       "    <tr>\n",
       "      <th>7</th>\n",
       "      <td>Fighting</td>\n",
       "      <td>159</td>\n",
       "    </tr>\n",
       "    <tr>\n",
       "      <th>8</th>\n",
       "      <td>Simulation</td>\n",
       "      <td>136</td>\n",
       "    </tr>\n",
       "    <tr>\n",
       "      <th>9</th>\n",
       "      <td>Platform</td>\n",
       "      <td>122</td>\n",
       "    </tr>\n",
       "    <tr>\n",
       "      <th>10</th>\n",
       "      <td>Strategy</td>\n",
       "      <td>120</td>\n",
       "    </tr>\n",
       "    <tr>\n",
       "      <th>11</th>\n",
       "      <td>Puzzle</td>\n",
       "      <td>73</td>\n",
       "    </tr>\n",
       "  </tbody>\n",
       "</table>\n",
       "</div>"
      ],
      "text/plain": [
       "            Жанр  Кол-во выпущенных игр\n",
       "0         Action                   1280\n",
       "1   Role-Playing                    467\n",
       "2      Adventure                    410\n",
       "3         Sports                    388\n",
       "4           Misc                    375\n",
       "5        Shooter                    329\n",
       "6         Racing                    183\n",
       "7       Fighting                    159\n",
       "8     Simulation                    136\n",
       "9       Platform                    122\n",
       "10      Strategy                    120\n",
       "11        Puzzle                     73"
      ]
     },
     "metadata": {},
     "output_type": "display_data"
    }
   ],
   "source": [
    "# посмотрим, сколько игр было выпущено в каждом из жанров за актуальный период\n",
    "game_per_genre = actual_data\\\n",
    "                    .rename(columns={'name': 'Кол-во выпущенных игр', 'genre': 'Жанр'})\\\n",
    "                    .pivot_table(index='Жанр', values='Кол-во выпущенных игр', aggfunc='count')\\\n",
    "                    .sort_values(by='Кол-во выпущенных игр', ascending=False)\\\n",
    "                    .reset_index()\n",
    "\n",
    "display(game_per_genre)"
   ]
  },
  {
   "cell_type": "code",
   "execution_count": 56,
   "id": "5b752076",
   "metadata": {},
   "outputs": [
    {
     "data": {
      "image/png": "[encoded data removed]",
      "text/plain": [
       "<Figure size 432x288 with 1 Axes>"
      ]
     },
     "metadata": {
      "needs_background": "light"
     },
     "output_type": "display_data"
    }
   ],
   "source": [
    "# построим столбчатую диаграмму\n",
    "ax = sns.barplot(data=game_per_genre, x='Жанр', y='Кол-во выпущенных игр', alpha=.7, edgecolor='.2')\n",
    "ax.set_xticklabels(ax.get_xticklabels(), rotation=65)\n",
    "plt.title(\"Количество выпущенных игр по жанрам за актуальный период\");"
   ]
  },
  {
   "cell_type": "code",
   "execution_count": 57,
   "id": "95872007",
   "metadata": {},
   "outputs": [
    {
     "data": {
      "text/html": [
       "<div>\n",
       "<style scoped>\n",
       "    .dataframe tbody tr th:only-of-type {\n",
       "        vertical-align: middle;\n",
       "    }\n",
       "\n",
       "    .dataframe tbody tr th {\n",
       "        vertical-align: top;\n",
       "    }\n",
       "\n",
       "    .dataframe thead th {\n",
       "        text-align: right;\n",
       "    }\n",
       "</style>\n",
       "<table border=\"1\" class=\"dataframe\">\n",
       "  <thead>\n",
       "    <tr style=\"text-align: right;\">\n",
       "      <th></th>\n",
       "      <th>Жанр</th>\n",
       "      <th>Число проданых копий, млн.</th>\n",
       "    </tr>\n",
       "  </thead>\n",
       "  <tbody>\n",
       "    <tr>\n",
       "      <th>0</th>\n",
       "      <td>Action</td>\n",
       "      <td>564.42</td>\n",
       "    </tr>\n",
       "    <tr>\n",
       "      <th>1</th>\n",
       "      <td>Shooter</td>\n",
       "      <td>402.91</td>\n",
       "    </tr>\n",
       "    <tr>\n",
       "      <th>2</th>\n",
       "      <td>Role-Playing</td>\n",
       "      <td>246.31</td>\n",
       "    </tr>\n",
       "    <tr>\n",
       "      <th>3</th>\n",
       "      <td>Sports</td>\n",
       "      <td>237.14</td>\n",
       "    </tr>\n",
       "    <tr>\n",
       "      <th>4</th>\n",
       "      <td>Misc</td>\n",
       "      <td>139.42</td>\n",
       "    </tr>\n",
       "    <tr>\n",
       "      <th>5</th>\n",
       "      <td>Racing</td>\n",
       "      <td>89.81</td>\n",
       "    </tr>\n",
       "    <tr>\n",
       "      <th>6</th>\n",
       "      <td>Platform</td>\n",
       "      <td>88.68</td>\n",
       "    </tr>\n",
       "    <tr>\n",
       "      <th>7</th>\n",
       "      <td>Fighting</td>\n",
       "      <td>66.90</td>\n",
       "    </tr>\n",
       "    <tr>\n",
       "      <th>8</th>\n",
       "      <td>Simulation</td>\n",
       "      <td>50.26</td>\n",
       "    </tr>\n",
       "    <tr>\n",
       "      <th>9</th>\n",
       "      <td>Adventure</td>\n",
       "      <td>45.04</td>\n",
       "    </tr>\n",
       "    <tr>\n",
       "      <th>10</th>\n",
       "      <td>Strategy</td>\n",
       "      <td>22.56</td>\n",
       "    </tr>\n",
       "    <tr>\n",
       "      <th>11</th>\n",
       "      <td>Puzzle</td>\n",
       "      <td>10.32</td>\n",
       "    </tr>\n",
       "  </tbody>\n",
       "</table>\n",
       "</div>"
      ],
      "text/plain": [
       "            Жанр  Число проданых копий, млн.\n",
       "0         Action                      564.42\n",
       "1        Shooter                      402.91\n",
       "2   Role-Playing                      246.31\n",
       "3         Sports                      237.14\n",
       "4           Misc                      139.42\n",
       "5         Racing                       89.81\n",
       "6       Platform                       88.68\n",
       "7       Fighting                       66.90\n",
       "8     Simulation                       50.26\n",
       "9      Adventure                       45.04\n",
       "10      Strategy                       22.56\n",
       "11        Puzzle                       10.32"
      ]
     },
     "metadata": {},
     "output_type": "display_data"
    }
   ],
   "source": [
    "# посмотрим, сколько игр было продано в каждом из жанров за актуальный период\n",
    "sales_per_genre = actual_data\\\n",
    "                    .rename(columns={'total_sales': 'Число проданых копий, млн.', 'genre': 'Жанр'})\\\n",
    "                    .pivot_table(index='Жанр', values='Число проданых копий, млн.', aggfunc='sum')\\\n",
    "                    .sort_values(by='Число проданых копий, млн.', ascending=False)\\\n",
    "                    .reset_index()\n",
    "\n",
    "display(sales_per_genre)"
   ]
  },
  {
   "cell_type": "code",
   "execution_count": 58,
   "id": "df9cc254",
   "metadata": {},
   "outputs": [
    {
     "data": {
      "image/png": "[encoded data removed]",
      "text/plain": [
       "<Figure size 432x288 with 1 Axes>"
      ]
     },
     "metadata": {
      "needs_background": "light"
     },
     "output_type": "display_data"
    }
   ],
   "source": [
    "# построим столбчатую диаграмму\n",
    "ax = sns.barplot(data=sales_per_genre, x='Жанр', y='Число проданых копий, млн.', alpha=.7, edgecolor='.2')\n",
    "ax.set_xticklabels(ax.get_xticklabels(), rotation=65)\n",
    "plt.title(\"Самые продаваемые жанры игр за актуальный период\");"
   ]
  },
  {
   "cell_type": "markdown",
   "id": "48609d15",
   "metadata": {},
   "source": [
    "Самыми часто выпускаемыми играми являются игры из категории 'Action', а самыми продаваемыми - из категорий 'Action' и 'Shooter'."
   ]
  },
  {
   "cell_type": "code",
   "execution_count": 59,
   "id": "d921ed1b",
   "metadata": {},
   "outputs": [
    {
     "data": {
      "text/html": [
       "<div>\n",
       "<style scoped>\n",
       "    .dataframe tbody tr th:only-of-type {\n",
       "        vertical-align: middle;\n",
       "    }\n",
       "\n",
       "    .dataframe tbody tr th {\n",
       "        vertical-align: top;\n",
       "    }\n",
       "\n",
       "    .dataframe thead th {\n",
       "        text-align: right;\n",
       "    }\n",
       "</style>\n",
       "<table border=\"1\" class=\"dataframe\">\n",
       "  <thead>\n",
       "    <tr style=\"text-align: right;\">\n",
       "      <th></th>\n",
       "      <th>Жанр</th>\n",
       "      <th>Медиана кол-ва проданых копий, млн.</th>\n",
       "    </tr>\n",
       "  </thead>\n",
       "  <tbody>\n",
       "    <tr>\n",
       "      <th>0</th>\n",
       "      <td>Shooter</td>\n",
       "      <td>0.410</td>\n",
       "    </tr>\n",
       "    <tr>\n",
       "      <th>1</th>\n",
       "      <td>Sports</td>\n",
       "      <td>0.200</td>\n",
       "    </tr>\n",
       "    <tr>\n",
       "      <th>2</th>\n",
       "      <td>Platform</td>\n",
       "      <td>0.185</td>\n",
       "    </tr>\n",
       "    <tr>\n",
       "      <th>3</th>\n",
       "      <td>Fighting</td>\n",
       "      <td>0.180</td>\n",
       "    </tr>\n",
       "    <tr>\n",
       "      <th>4</th>\n",
       "      <td>Racing</td>\n",
       "      <td>0.160</td>\n",
       "    </tr>\n",
       "  </tbody>\n",
       "</table>\n",
       "</div>"
      ],
      "text/plain": [
       "       Жанр  Медиана кол-ва проданых копий, млн.\n",
       "0   Shooter                                0.410\n",
       "1    Sports                                0.200\n",
       "2  Platform                                0.185\n",
       "3  Fighting                                0.180\n",
       "4    Racing                                0.160"
      ]
     },
     "metadata": {},
     "output_type": "display_data"
    }
   ],
   "source": [
    "# посмотрим на медианные продажи игр в каждом из жанров за актуальный период, возьмем топ-5\n",
    "sales_per_genre = actual_data\\\n",
    "                    .rename(columns={'total_sales': 'Медиана кол-ва проданых копий, млн.', 'genre': 'Жанр'})\\\n",
    "                    .pivot_table(index='Жанр', values='Медиана кол-ва проданых копий, млн.', aggfunc='median')\\\n",
    "                    .sort_values(by='Медиана кол-ва проданых копий, млн.', ascending=False)\\\n",
    "                    .reset_index()\n",
    "\n",
    "display(sales_per_genre.head())"
   ]
  },
  {
   "cell_type": "markdown",
   "id": "e68ac594",
   "metadata": {},
   "source": [
    "<div style=\"border-radius: 15px; background:BlanchedAlmond; padding: 20px\">\n",
    "\n",
    "📜 Итог после исследования данных:\n",
    "- при построении прогноза на 2017 год стоит использовать данные начиная с 2011 года\n",
    "- самыми перспективными игровыми платформами за актуальный период являются PlayStation 3 и PlayStation 4, Xbox 360 и Xbox One, а также Nintendo 3DS, при этом игры на платформу Nintendo 3DS пользуются наименьшим спросом у пользователей \n",
    "- обнаружены слабые положительные корреляции между оценками пользователей или критиков и количеством проданых копий игр, однако, мнение критиков <u>скорее всего</u> (предположение, корреляция не говорит о причинно-следственных связях) оказывает большее влияние на продажи, чем мнение игроков\n",
    "- самыми прибыльным жанром является 'Shooter'\n",
    "\n",
    "</div>"
   ]
  },
  {
   "cell_type": "markdown",
   "id": "80e1a22d",
   "metadata": {},
   "source": [
    "## Составляем портрет пользователя каждого региона"
   ]
  },
  {
   "cell_type": "code",
   "execution_count": 60,
   "id": "ceb376a0",
   "metadata": {},
   "outputs": [],
   "source": [
    "# напишем функцию, которая будет строить графики зависимости числа проданных копий игр от платформы, жанра и рейтинга для указанного региона\n",
    "def top5_region(region_sales, region_name):\n",
    "    top5_genre = actual_data\\\n",
    "                    .rename(columns={region_sales: 'Число проданых копий в регионе, млн.', 'genre': 'Жанр'})\\\n",
    "                    .pivot_table(index='Жанр', values='Число проданых копий в регионе, млн.', aggfunc='sum')\\\n",
    "                    .sort_values(by='Число проданых копий в регионе, млн.', ascending=False)\\\n",
    "                    .reset_index()\\\n",
    "                    .head(5)\n",
    "\n",
    "    top5_platform = actual_data\\\n",
    "                    .rename(columns={region_sales: 'Число проданых копий в регионе, млн.', 'platform': 'Платформа'})\\\n",
    "                    .pivot_table(index='Платформа', values='Число проданых копий в регионе, млн.', aggfunc='sum')\\\n",
    "                    .sort_values(by='Число проданых копий в регионе, млн.', ascending=False)\\\n",
    "                    .reset_index()\\\n",
    "                    .head(5)\n",
    "    \n",
    "    top5_rating = actual_data\\\n",
    "                    .rename(columns={region_sales: 'Число проданых копий в регионе, млн.', 'rating': 'Рейтинг'})\\\n",
    "                    .pivot_table(index='Рейтинг', values='Число проданых копий в регионе, млн.', aggfunc='sum')\\\n",
    "                    .sort_values(by='Число проданых копий в регионе, млн.', ascending=False)\\\n",
    "                    .reset_index()\\\n",
    "                    .head(5)\n",
    "    \n",
    "    fig, axes = plt.subplots(1, 3, figsize=(15, 5))\n",
    "    sns.barplot(data=top5_platform, x='Платформа', y='Число проданых копий в регионе, млн.', alpha=.7, edgecolor='.2', ax=axes[0])\n",
    "    sns.barplot(data=top5_genre, x='Жанр', y='Число проданых копий в регионе, млн.', alpha=.7, edgecolor='.2', ax=axes[1])\n",
    "    sns.barplot(data=top5_rating, x='Рейтинг', y='Число проданых копий в регионе, млн.', alpha=.7, edgecolor='.2', ax=axes[2])\n",
    "    fig.suptitle(region_name)"
   ]
  },
  {
   "cell_type": "code",
   "execution_count": 61,
   "id": "e95f8185",
   "metadata": {},
   "outputs": [
    {
     "data": {
      "image/png": "[encoded data removed]",
      "text/plain": [
       "<Figure size 1080x360 with 3 Axes>"
      ]
     },
     "metadata": {
      "needs_background": "light"
     },
     "output_type": "display_data"
    }
   ],
   "source": [
    "# для North America\n",
    "top5_region('na_sales', 'North America 2011-2016')"
   ]
  },
  {
   "cell_type": "markdown",
   "id": "d9b59208",
   "metadata": {},
   "source": [
    "<div style=\"border-radius: 15px; background:BlanchedAlmond; padding: 20px\">\n",
    "\n",
    "📜 Итог для пользователей из региона North America за период 2011-2016 года:\n",
    "- Топ игровых приставок: X360, PS3, PS4, XOne, 3DS\n",
    "- Топ жанров игр: Action, Shooter, Sports, Role-Playing, Misc\n",
    "- Топ рейтингов игр : «Для взрослых» , «Для всех», «без рейтинга/не определен»,  «Для всех от 10 лет и старше», «Подросткам»\n",
    "\n",
    "</div>"
   ]
  },
  {
   "cell_type": "code",
   "execution_count": 62,
   "id": "86b31003",
   "metadata": {},
   "outputs": [
    {
     "data": {
      "image/png": "[encoded data removed]",
      "text/plain": [
       "<Figure size 1080x360 with 3 Axes>"
      ]
     },
     "metadata": {
      "needs_background": "light"
     },
     "output_type": "display_data"
    }
   ],
   "source": [
    "# для European Union\n",
    "top5_region('eu_sales', 'European Union 2011-2016')"
   ]
  },
  {
   "cell_type": "markdown",
   "id": "031d9cfc",
   "metadata": {},
   "source": [
    "<div style=\"border-radius: 15px; background:BlanchedAlmond; padding: 20px\">\n",
    "\n",
    "📜 Итог для пользователей из региона North America за период 2011-2016 года:\n",
    "- Топ игровых приставок: PS3, PS4, X360, 3DS, PC\n",
    "- Топ жанров игр: Action, Shooter, , Sports, Role-Playing, Racing\n",
    "- Топ рейтингов игр : «Для взрослых» , «Для всех», «без рейтинга/не определен», «Подросткам», «Для всех от 10 лет и старше» \n",
    "\n",
    "</div>"
   ]
  },
  {
   "cell_type": "code",
   "execution_count": 63,
   "id": "9eb1eae8",
   "metadata": {},
   "outputs": [
    {
     "data": {
      "image/png": "[encoded data removed]",
      "text/plain": [
       "<Figure size 1080x360 with 3 Axes>"
      ]
     },
     "metadata": {
      "needs_background": "light"
     },
     "output_type": "display_data"
    }
   ],
   "source": [
    "# для Japanese\n",
    "top5_region('jp_sales', 'Japanese 2011-2016')"
   ]
  },
  {
   "cell_type": "markdown",
   "id": "f152a5cd",
   "metadata": {},
   "source": [
    "<div style=\"border-radius: 15px; background:BlanchedAlmond; padding: 20px\">\n",
    "\n",
    "📜 Итог для пользователей из региона North America за период 2011-2016 года:\n",
    "- Топ игровых приставок: 3DS, PS3, PSP, PSV, PS4 \n",
    "- Топ жанров игр: Role-Playing, Action, Misc, Fighting,  Platform\n",
    "- Топ рейтингов игр : «без рейтинга/не определен», «Для всех», «Подросткам», «Для взрослых» , «Для всех от 10 лет и старше»\n",
    "<br>\n",
    "<br>Данные показывают, что предпочтения японских геймеров коренным образом отличаются от предпочтений европейцев и американцов как в выборе игровых палатформ, так и в выборе жанров.    \n",
    "    \n",
    "</div>"
   ]
  },
  {
   "cell_type": "markdown",
   "id": "b3f58bab",
   "metadata": {},
   "source": [
    "## Проверяем гипотезы"
   ]
  },
  {
   "cell_type": "markdown",
   "id": "7a76e2f2",
   "metadata": {},
   "source": [
    "### **Проверка гипотезы:** Средние пользовательские рейтинги платформ Xbox One и PC одинаковые"
   ]
  },
  {
   "cell_type": "markdown",
   "id": "f47266b9",
   "metadata": {},
   "source": [
    "***\n",
    "```\n",
    "H_0: Средние пользовательские рейтинги (user_score) пользователей платформы Xbox One = средние пользовательские рейтинги (user_score) пользователей платформы PC\n",
    "H_a: Средние пользовательские рейтинги (user_score) пользователей платформы Xbox One ≠ средние пользовательские рейтинги (user_score) пользователей платформы PC\n",
    "alpha = 0.05\n",
    "```\n",
    "***"
   ]
  },
  {
   "cell_type": "markdown",
   "id": "53e17ac3",
   "metadata": {},
   "source": [
    "Предположим, что оптимизация, наполненность контентом и другие критерии для игр на платформах XOne и PC могут оличаться, следовательно, оценки пользователей будут формироваться для игр независимо. Для проверки гипотезы используем независимый выборочный t-тест."
   ]
  },
  {
   "cell_type": "code",
   "execution_count": 64,
   "id": "50e062e6",
   "metadata": {},
   "outputs": [
    {
     "name": "stdout",
     "output_type": "stream",
     "text": [
      "p-значение: 0.5904414434867319\n",
      "Не получилось отвергнуть нулевую гипотезу\n"
     ]
    }
   ],
   "source": [
    "results = st.ttest_ind(actual_data[actual_data['user_score'].isna() == False].query('platform == \"XOne\"').user_score,\n",
    "                        actual_data[actual_data['user_score'].isna() == False].query('platform == \"PC\"').user_score)\n",
    "\n",
    "alpha = .05\n",
    "\n",
    "print('p-значение:', results.pvalue)\n",
    "if results.pvalue < alpha:\n",
    "    print('Отвергаем нулевую гипотезу')\n",
    "else:\n",
    "    print('Не получилось отвергнуть нулевую гипотезу')"
   ]
  },
  {
   "cell_type": "markdown",
   "id": "9bf0b28e",
   "metadata": {},
   "source": [
    "### **Проверка гипотезы:** Средние пользовательские рейтинги жанров Action и Sports разные"
   ]
  },
  {
   "cell_type": "markdown",
   "id": "4e23144b",
   "metadata": {},
   "source": [
    "***\n",
    "```\n",
    "H_0: Средние пользовательские рейтинги (user_score) жанра Action = средние пользовательские рейтинги (user_score) жанра Sports\n",
    "H_a: Средние пользовательские рейтинги (user_score) жанра Action ≠ средние пользовательские рейтинги (user_score) жанра Sports\n",
    "alpha = 0.05\n",
    "```\n",
    "***"
   ]
  },
  {
   "cell_type": "markdown",
   "id": "e611b9bb",
   "metadata": {},
   "source": [
    "Предположим, что оценки пользователей для двух разных жанров выставляются независимо. Для проверки гипотезы используем независимый выборочный t-тест."
   ]
  },
  {
   "cell_type": "code",
   "execution_count": 65,
   "id": "f1ea56b1",
   "metadata": {},
   "outputs": [
    {
     "name": "stdout",
     "output_type": "stream",
     "text": [
      "p-значение: 4.676342911395105e-24\n",
      "Отвергаем нулевую гипотезу\n"
     ]
    }
   ],
   "source": [
    "results = st.ttest_ind(actual_data[actual_data['user_score'].isna() == False].query('genre == \"Action\"').user_score,\n",
    "                        actual_data[actual_data['user_score'].isna() == False].query('genre == \"Sports\"').user_score)\n",
    "\n",
    "alpha = .05\n",
    "\n",
    "print('p-значение:', results.pvalue)\n",
    "if results.pvalue < alpha:\n",
    "    print('Отвергаем нулевую гипотезу')\n",
    "else:\n",
    "    print('Не получилось отвергнуть нулевую гипотезу')"
   ]
  },
  {
   "cell_type": "markdown",
   "id": "24c13581",
   "metadata": {},
   "source": [
    "## Общий вывод"
   ]
  },
  {
   "cell_type": "markdown",
   "id": "71a1009a",
   "metadata": {},
   "source": [
    "<div style=\"border-radius: 15px; background:BlanchedAlmond; padding: 20px\">\n",
    "    \n",
    "Предоставленные для анализа данные из открытых источников о продажах игр, оценках пользователей и экспертов, жанрах и платформах были предварительно обработаны перед работой: \n",
    "+ удалены строки с пропусками в полях \"название\" и \"жанр\", а также строки с пропусками \"год выхода игры\", которые не удалось заполнить (суммарно 108 строк);\n",
    "+ с помощью обогащения данных часть пропусков в столбце \"год выхода игры\" была дополнительно заполнена (102 значение);\n",
    "+ значения 'tbd' в ячейках столбца \"оценка пользователей\" были заменены на NaN (2333 значения);\n",
    "+ необходимые столбцы были приведены к правильным типам данных;\n",
    "+ посчитаны суммарные продажи по всем регионам;\n",
    "+ в общей сложности, на этапе предобработки потеряно чуть более 1% данных.\n",
    "\n",
    "<br>\n",
    "В результате представленного исследования были выделены ключевые закономерности, определяющие успешность игрового проекта:\n",
    "\n",
    "1. **Обнаружен спад количества выпускаемых игр для консолей и персональных компьютеров после 2008 года**\n",
    "<br>Предположительно, это можно связать с потерей интереса у аудитории (развитие мобильного гейминга, облачного гейминга, широким распространением онлайн проектов).\n",
    "2. **Cамыми перспективными игровыми платформами являются PlayStation 3 и PlayStation 4, Xbox 360 и Xbox One, а также Nintendo 3DS**\n",
    "<br>Стоит отметить, что игры для платформы Nintendo 3DS пользуются наименьшим спросом у пользователей и являются перспективными преимущественно в Японии.\n",
    "3. **Ставку на игры для новых консолей стоит делать через несколько лет после их появления на рынке**\n",
    "<br>Пиковые продажи игр для новых консолей отмечаются через 4-5 лет после старта продаж этих игровых систем.\n",
    "4. **Оценки критиков и пользователей взаимосвязаны с продажами игр, но не сильно** \n",
    "<br>Обнаружены слабые корреляционные связи меджу оценками критиков и количеством проданных копий игр. <u>Предположительно</u>, оценки критиков вносят больший вклад в продажи (корреляция не говорит о причинно-следственных взаимосвязях). При этом связи между оценками игроков и количеством проданных копий игр не обнаружено.\n",
    "5. **Самым прибыльным жанром является 'Shooter'**\n",
    "    \n",
    "<br>\n",
    "Были составлены портреты для пользователей каждого изученного региона:\n",
    "    \n",
    "1. Для **Северной Америки** за период 2011-2016 года самые популярные игровые консоли - Xbox 360 и PlayStation 3; самые популярные жанры - Action и Shooter; предпочитаемый рейтинг игры - «для взрослых».\n",
    "2. Для жителей **Европы** за период 2011-2016 года предпочтительными были игровые платформы PlayStation 3, PlayStation 4 и Xbox 360. Самыми популярными жанрами также являются Action и Shooter. В приоритете игры с рейтингом «для взрослых».\n",
    "3. **Япония** является самым уникальным из всех проанализированнх регионов. В течение 2011-2016 годов топ игровых приставок возглавляет Nintendo 3DS; ползователи предпочитают Role-Playing и Action игры остальным жанрам, а самые популярные рейтинги игр - «без рейтинга/не определен», «для всех» и «подросткам».\n",
    "\n",
    "<br>\n",
    "В ходе проведенного исследования было также обнаружено:\n",
    "\n",
    "+ После 2011 года в пятерку лидеров по популярности (и, соответсвенно, по продажам) выбились игры для консолей PlayStation 4, Nintendo 3DS и Xbox One.\n",
    "+ Срок жизни новой игровой платформы обычно не превышает 10 лет.\n",
    "+ Средние пользовательские рейтинги платформ Xbox One и PC одинаковые.\n",
    "+ Средние пользовательские рейтинги жанров Action и Sports разные.\n",
    "    \n",
    "</div>"
   ]
  }
 ],
 "metadata": {
  "ExecuteTimeLog": [
   {
    "duration": 1228,
    "start_time": "2022-08-12T12:31:06.698Z"
   },
   {
    "duration": 2981,
    "start_time": "2022-08-12T12:31:07.929Z"
   },
   {
    "duration": 122,
    "start_time": "2022-08-12T12:31:10.912Z"
   },
   {
    "duration": 14,
    "start_time": "2022-08-12T12:31:11.036Z"
   },
   {
    "duration": 13,
    "start_time": "2022-08-12T12:31:11.052Z"
   },
   {
    "duration": 21,
    "start_time": "2022-08-12T12:31:11.066Z"
   },
   {
    "duration": 3,
    "start_time": "2022-08-12T12:31:11.089Z"
   },
   {
    "duration": 17,
    "start_time": "2022-08-12T12:31:11.094Z"
   },
   {
    "duration": 7,
    "start_time": "2022-08-12T12:31:11.113Z"
   },
   {
    "duration": 5,
    "start_time": "2022-08-12T12:31:11.121Z"
   },
   {
    "duration": 7,
    "start_time": "2022-08-12T12:31:11.128Z"
   },
   {
    "duration": 1268,
    "start_time": "2022-08-12T12:31:11.136Z"
   },
   {
    "duration": 8,
    "start_time": "2022-08-12T12:31:12.406Z"
   },
   {
    "duration": 7226,
    "start_time": "2022-08-12T12:31:12.416Z"
   },
   {
    "duration": 1114,
    "start_time": "2022-08-12T12:31:19.644Z"
   },
   {
    "duration": 5,
    "start_time": "2022-08-12T12:31:20.759Z"
   },
   {
    "duration": 233,
    "start_time": "2022-08-12T12:31:20.765Z"
   },
   {
    "duration": 28,
    "start_time": "2022-08-12T12:31:21.000Z"
   },
   {
    "duration": 1009,
    "start_time": "2022-08-12T12:31:21.029Z"
   },
   {
    "duration": 9,
    "start_time": "2022-08-12T12:31:22.040Z"
   },
   {
    "duration": 9,
    "start_time": "2022-08-12T12:31:22.057Z"
   },
   {
    "duration": 10,
    "start_time": "2022-08-12T12:31:22.068Z"
   },
   {
    "duration": 920,
    "start_time": "2022-08-12T12:31:22.080Z"
   },
   {
    "duration": 4,
    "start_time": "2022-08-12T12:31:23.002Z"
   },
   {
    "duration": 12,
    "start_time": "2022-08-12T12:31:23.007Z"
   },
   {
    "duration": 233,
    "start_time": "2022-08-12T12:31:23.020Z"
   },
   {
    "duration": 15,
    "start_time": "2022-08-12T12:31:23.256Z"
   },
   {
    "duration": 16,
    "start_time": "2022-08-12T12:31:23.273Z"
   },
   {
    "duration": 8,
    "start_time": "2022-08-12T12:31:23.291Z"
   },
   {
    "duration": 5,
    "start_time": "2022-08-12T12:31:23.301Z"
   },
   {
    "duration": 50,
    "start_time": "2022-08-12T12:31:23.308Z"
   },
   {
    "duration": 360,
    "start_time": "2022-08-12T12:31:23.360Z"
   },
   {
    "duration": 7,
    "start_time": "2022-08-12T12:31:23.722Z"
   },
   {
    "duration": 83,
    "start_time": "2022-08-12T12:31:23.731Z"
   },
   {
    "duration": 256,
    "start_time": "2022-08-12T12:31:23.816Z"
   },
   {
    "duration": 6,
    "start_time": "2022-08-12T12:31:24.074Z"
   },
   {
    "duration": 22,
    "start_time": "2022-08-12T12:31:24.082Z"
   },
   {
    "duration": 4,
    "start_time": "2022-08-12T12:31:24.106Z"
   },
   {
    "duration": 7,
    "start_time": "2022-08-12T12:31:24.112Z"
   },
   {
    "duration": 205,
    "start_time": "2022-08-12T12:31:24.121Z"
   },
   {
    "duration": 28,
    "start_time": "2022-08-12T12:31:24.330Z"
   },
   {
    "duration": 15,
    "start_time": "2022-08-12T12:31:24.360Z"
   },
   {
    "duration": 449,
    "start_time": "2022-08-12T12:31:24.377Z"
   },
   {
    "duration": 4,
    "start_time": "2022-08-12T12:31:24.827Z"
   },
   {
    "duration": 755,
    "start_time": "2022-08-12T12:31:24.833Z"
   },
   {
    "duration": 714,
    "start_time": "2022-08-12T12:31:25.591Z"
   },
   {
    "duration": 751,
    "start_time": "2022-08-12T12:31:26.306Z"
   },
   {
    "duration": 635,
    "start_time": "2022-08-12T12:31:27.059Z"
   },
   {
    "duration": 692,
    "start_time": "2022-08-12T12:31:27.696Z"
   },
   {
    "duration": 17,
    "start_time": "2022-08-12T12:31:28.390Z"
   },
   {
    "duration": 211,
    "start_time": "2022-08-12T12:31:28.409Z"
   },
   {
    "duration": 17,
    "start_time": "2022-08-12T12:31:28.622Z"
   },
   {
    "duration": 200,
    "start_time": "2022-08-12T12:31:28.641Z"
   },
   {
    "duration": 109,
    "start_time": "2022-08-12T12:31:28.843Z"
   },
   {
    "duration": 366,
    "start_time": "2022-08-12T12:31:28.958Z"
   },
   {
    "duration": 380,
    "start_time": "2022-08-12T12:31:29.326Z"
   },
   {
    "duration": 387,
    "start_time": "2022-08-12T12:31:29.708Z"
   },
   {
    "duration": 14,
    "start_time": "2022-08-12T12:31:30.097Z"
   },
   {
    "duration": 36,
    "start_time": "2022-08-12T12:31:30.113Z"
   },
   {
    "duration": 44,
    "start_time": "2022-08-13T08:53:51.309Z"
   },
   {
    "duration": 1176,
    "start_time": "2022-08-13T08:53:57.970Z"
   },
   {
    "duration": 2872,
    "start_time": "2022-08-13T08:54:00.903Z"
   },
   {
    "duration": 113,
    "start_time": "2022-08-13T08:54:05.696Z"
   },
   {
    "duration": 14,
    "start_time": "2022-08-13T08:54:07.760Z"
   },
   {
    "duration": 3,
    "start_time": "2022-08-13T08:54:09.560Z"
   },
   {
    "duration": 14,
    "start_time": "2022-08-13T08:54:10.110Z"
   },
   {
    "duration": 9,
    "start_time": "2022-08-13T08:54:12.391Z"
   },
   {
    "duration": 8,
    "start_time": "2022-08-13T08:54:18.415Z"
   },
   {
    "duration": 66,
    "start_time": "2022-08-13T08:54:47.959Z"
   },
   {
    "duration": 10,
    "start_time": "2022-08-13T08:54:54.780Z"
   },
   {
    "duration": 20,
    "start_time": "2022-08-13T09:01:26.038Z"
   },
   {
    "duration": 2476,
    "start_time": "2022-08-13T09:05:25.407Z"
   },
   {
    "duration": 22,
    "start_time": "2022-08-13T09:05:34.626Z"
   },
   {
    "duration": 18,
    "start_time": "2022-08-13T09:11:58.536Z"
   },
   {
    "duration": 19,
    "start_time": "2022-08-13T09:13:16.529Z"
   },
   {
    "duration": 15,
    "start_time": "2022-08-13T09:20:12.926Z"
   },
   {
    "duration": 15,
    "start_time": "2022-08-13T09:23:26.249Z"
   },
   {
    "duration": 16,
    "start_time": "2022-08-13T09:24:20.026Z"
   },
   {
    "duration": 4,
    "start_time": "2022-08-13T09:36:25.844Z"
   },
   {
    "duration": 1134,
    "start_time": "2022-08-13T09:37:22.675Z"
   },
   {
    "duration": 2214,
    "start_time": "2022-08-13T09:37:23.812Z"
   },
   {
    "duration": 70,
    "start_time": "2022-08-13T09:37:26.028Z"
   },
   {
    "duration": 17,
    "start_time": "2022-08-13T09:37:26.100Z"
   },
   {
    "duration": 11,
    "start_time": "2022-08-13T09:37:26.120Z"
   },
   {
    "duration": 16,
    "start_time": "2022-08-13T09:37:26.132Z"
   },
   {
    "duration": 7,
    "start_time": "2022-08-13T09:37:26.150Z"
   },
   {
    "duration": 17,
    "start_time": "2022-08-13T09:37:26.159Z"
   },
   {
    "duration": 4,
    "start_time": "2022-08-13T09:37:26.178Z"
   },
   {
    "duration": 51,
    "start_time": "2022-08-13T09:37:26.183Z"
   },
   {
    "duration": 3,
    "start_time": "2022-08-13T09:37:26.236Z"
   },
   {
    "duration": 12,
    "start_time": "2022-08-13T09:37:26.240Z"
   },
   {
    "duration": 8,
    "start_time": "2022-08-13T09:37:26.254Z"
   },
   {
    "duration": 12,
    "start_time": "2022-08-13T09:37:26.264Z"
   },
   {
    "duration": 7,
    "start_time": "2022-08-13T09:37:26.278Z"
   },
   {
    "duration": 3743,
    "start_time": "2022-08-13T09:37:26.287Z"
   },
   {
    "duration": 1179,
    "start_time": "2022-08-13T09:37:30.032Z"
   },
   {
    "duration": 10,
    "start_time": "2022-08-13T09:37:31.215Z"
   },
   {
    "duration": 225,
    "start_time": "2022-08-13T09:37:31.227Z"
   },
   {
    "duration": 27,
    "start_time": "2022-08-13T09:37:31.453Z"
   },
   {
    "duration": 938,
    "start_time": "2022-08-13T09:37:31.482Z"
   },
   {
    "duration": 10,
    "start_time": "2022-08-13T09:37:32.422Z"
   },
   {
    "duration": 9,
    "start_time": "2022-08-13T09:37:32.433Z"
   },
   {
    "duration": 12,
    "start_time": "2022-08-13T09:37:32.444Z"
   },
   {
    "duration": 937,
    "start_time": "2022-08-13T09:37:32.458Z"
   },
   {
    "duration": 4,
    "start_time": "2022-08-13T09:37:33.397Z"
   },
   {
    "duration": 20,
    "start_time": "2022-08-13T09:37:33.403Z"
   },
   {
    "duration": 204,
    "start_time": "2022-08-13T09:37:33.425Z"
   },
   {
    "duration": 13,
    "start_time": "2022-08-13T09:37:33.630Z"
   },
   {
    "duration": 14,
    "start_time": "2022-08-13T09:37:33.644Z"
   },
   {
    "duration": 9,
    "start_time": "2022-08-13T09:37:33.660Z"
   },
   {
    "duration": 8,
    "start_time": "2022-08-13T09:37:33.671Z"
   },
   {
    "duration": 48,
    "start_time": "2022-08-13T09:37:33.681Z"
   },
   {
    "duration": 344,
    "start_time": "2022-08-13T09:37:33.730Z"
   },
   {
    "duration": 7,
    "start_time": "2022-08-13T09:37:34.076Z"
   },
   {
    "duration": 38,
    "start_time": "2022-08-13T09:37:34.084Z"
   },
   {
    "duration": 246,
    "start_time": "2022-08-13T09:37:34.124Z"
   },
   {
    "duration": 5,
    "start_time": "2022-08-13T09:37:34.372Z"
   },
   {
    "duration": 19,
    "start_time": "2022-08-13T09:37:34.378Z"
   },
   {
    "duration": 12,
    "start_time": "2022-08-13T09:37:34.398Z"
   },
   {
    "duration": 16,
    "start_time": "2022-08-13T09:37:34.416Z"
   },
   {
    "duration": 167,
    "start_time": "2022-08-13T09:37:34.433Z"
   },
   {
    "duration": 23,
    "start_time": "2022-08-13T09:37:34.602Z"
   },
   {
    "duration": 16,
    "start_time": "2022-08-13T09:37:34.626Z"
   },
   {
    "duration": 436,
    "start_time": "2022-08-13T09:37:34.643Z"
   },
   {
    "duration": 4,
    "start_time": "2022-08-13T09:37:35.081Z"
   },
   {
    "duration": 659,
    "start_time": "2022-08-13T09:37:35.086Z"
   },
   {
    "duration": 712,
    "start_time": "2022-08-13T09:37:35.747Z"
   },
   {
    "duration": 729,
    "start_time": "2022-08-13T09:37:36.461Z"
   },
   {
    "duration": 759,
    "start_time": "2022-08-13T09:37:37.192Z"
   },
   {
    "duration": 683,
    "start_time": "2022-08-13T09:37:37.953Z"
   },
   {
    "duration": 14,
    "start_time": "2022-08-13T09:37:38.638Z"
   },
   {
    "duration": 221,
    "start_time": "2022-08-13T09:37:38.654Z"
   },
   {
    "duration": 15,
    "start_time": "2022-08-13T09:37:38.876Z"
   },
   {
    "duration": 200,
    "start_time": "2022-08-13T09:37:38.892Z"
   },
   {
    "duration": 7,
    "start_time": "2022-08-13T09:37:39.093Z"
   },
   {
    "duration": 332,
    "start_time": "2022-08-13T09:37:39.109Z"
   },
   {
    "duration": 360,
    "start_time": "2022-08-13T09:37:39.442Z"
   },
   {
    "duration": 358,
    "start_time": "2022-08-13T09:37:39.803Z"
   },
   {
    "duration": 16,
    "start_time": "2022-08-13T09:37:40.163Z"
   },
   {
    "duration": 28,
    "start_time": "2022-08-13T09:37:40.181Z"
   },
   {
    "duration": 123,
    "start_time": "2022-08-13T09:40:15.383Z"
   },
   {
    "duration": 1198,
    "start_time": "2022-08-13T09:40:32.786Z"
   },
   {
    "duration": 2583,
    "start_time": "2022-08-13T09:40:33.987Z"
   },
   {
    "duration": 85,
    "start_time": "2022-08-13T09:40:36.573Z"
   },
   {
    "duration": 15,
    "start_time": "2022-08-13T09:40:36.660Z"
   },
   {
    "duration": 6,
    "start_time": "2022-08-13T09:40:36.677Z"
   },
   {
    "duration": 42,
    "start_time": "2022-08-13T09:40:36.685Z"
   },
   {
    "duration": 17,
    "start_time": "2022-08-13T09:40:36.730Z"
   },
   {
    "duration": 19,
    "start_time": "2022-08-13T09:40:36.749Z"
   },
   {
    "duration": 5,
    "start_time": "2022-08-13T09:40:36.770Z"
   },
   {
    "duration": 36,
    "start_time": "2022-08-13T09:40:36.779Z"
   },
   {
    "duration": 17,
    "start_time": "2022-08-13T09:40:36.817Z"
   },
   {
    "duration": 13,
    "start_time": "2022-08-13T09:40:36.836Z"
   },
   {
    "duration": 10,
    "start_time": "2022-08-13T09:40:36.851Z"
   },
   {
    "duration": 5,
    "start_time": "2022-08-13T09:40:36.864Z"
   },
   {
    "duration": 8,
    "start_time": "2022-08-13T09:40:36.871Z"
   },
   {
    "duration": 2791,
    "start_time": "2022-08-13T09:40:36.880Z"
   },
   {
    "duration": 1422,
    "start_time": "2022-08-13T09:40:39.674Z"
   },
   {
    "duration": 8,
    "start_time": "2022-08-13T09:40:41.098Z"
   },
   {
    "duration": 336,
    "start_time": "2022-08-13T09:40:41.109Z"
   },
   {
    "duration": 37,
    "start_time": "2022-08-13T09:40:41.447Z"
   },
   {
    "duration": 1052,
    "start_time": "2022-08-13T09:40:41.486Z"
   },
   {
    "duration": 8,
    "start_time": "2022-08-13T09:40:42.540Z"
   },
   {
    "duration": 17,
    "start_time": "2022-08-13T09:40:42.550Z"
   },
   {
    "duration": 12,
    "start_time": "2022-08-13T09:40:42.569Z"
   },
   {
    "duration": 1096,
    "start_time": "2022-08-13T09:40:42.583Z"
   },
   {
    "duration": 7,
    "start_time": "2022-08-13T09:40:43.681Z"
   },
   {
    "duration": 21,
    "start_time": "2022-08-13T09:40:43.690Z"
   },
   {
    "duration": 276,
    "start_time": "2022-08-13T09:40:43.717Z"
   },
   {
    "duration": 34,
    "start_time": "2022-08-13T09:40:43.996Z"
   },
   {
    "duration": 38,
    "start_time": "2022-08-13T09:40:44.032Z"
   },
   {
    "duration": 13,
    "start_time": "2022-08-13T09:40:44.075Z"
   },
   {
    "duration": 6,
    "start_time": "2022-08-13T09:40:44.090Z"
   },
   {
    "duration": 28,
    "start_time": "2022-08-13T09:40:44.097Z"
   },
   {
    "duration": 428,
    "start_time": "2022-08-13T09:40:44.127Z"
   },
   {
    "duration": 7,
    "start_time": "2022-08-13T09:40:44.557Z"
   },
   {
    "duration": 30,
    "start_time": "2022-08-13T09:40:44.566Z"
   },
   {
    "duration": 321,
    "start_time": "2022-08-13T09:40:44.598Z"
   },
   {
    "duration": 7,
    "start_time": "2022-08-13T09:40:44.921Z"
   },
   {
    "duration": 24,
    "start_time": "2022-08-13T09:40:44.929Z"
   },
   {
    "duration": 6,
    "start_time": "2022-08-13T09:40:44.955Z"
   },
   {
    "duration": 11,
    "start_time": "2022-08-13T09:40:44.963Z"
   },
   {
    "duration": 240,
    "start_time": "2022-08-13T09:40:44.975Z"
   },
   {
    "duration": 27,
    "start_time": "2022-08-13T09:40:45.217Z"
   },
   {
    "duration": 44,
    "start_time": "2022-08-13T09:40:45.246Z"
   },
   {
    "duration": 554,
    "start_time": "2022-08-13T09:40:45.292Z"
   },
   {
    "duration": 5,
    "start_time": "2022-08-13T09:40:45.849Z"
   },
   {
    "duration": 804,
    "start_time": "2022-08-13T09:40:45.857Z"
   },
   {
    "duration": 769,
    "start_time": "2022-08-13T09:40:46.664Z"
   },
   {
    "duration": 771,
    "start_time": "2022-08-13T09:40:47.435Z"
   },
   {
    "duration": 762,
    "start_time": "2022-08-13T09:40:48.208Z"
   },
   {
    "duration": 698,
    "start_time": "2022-08-13T09:40:48.972Z"
   },
   {
    "duration": 15,
    "start_time": "2022-08-13T09:40:49.672Z"
   },
   {
    "duration": 215,
    "start_time": "2022-08-13T09:40:49.689Z"
   },
   {
    "duration": 23,
    "start_time": "2022-08-13T09:40:49.906Z"
   },
   {
    "duration": 213,
    "start_time": "2022-08-13T09:40:49.931Z"
   },
   {
    "duration": 7,
    "start_time": "2022-08-13T09:40:50.146Z"
   },
   {
    "duration": 350,
    "start_time": "2022-08-13T09:40:50.155Z"
   },
   {
    "duration": 395,
    "start_time": "2022-08-13T09:40:50.506Z"
   },
   {
    "duration": 374,
    "start_time": "2022-08-13T09:40:50.902Z"
   },
   {
    "duration": 12,
    "start_time": "2022-08-13T09:40:51.278Z"
   },
   {
    "duration": 36,
    "start_time": "2022-08-13T09:40:51.291Z"
   },
   {
    "duration": 4,
    "start_time": "2022-08-13T09:41:47.148Z"
   },
   {
    "duration": 2197,
    "start_time": "2022-08-13T09:41:47.154Z"
   },
   {
    "duration": 71,
    "start_time": "2022-08-13T09:41:49.353Z"
   },
   {
    "duration": 15,
    "start_time": "2022-08-13T09:41:49.427Z"
   },
   {
    "duration": 3,
    "start_time": "2022-08-13T09:41:49.444Z"
   },
   {
    "duration": 22,
    "start_time": "2022-08-13T09:41:49.448Z"
   },
   {
    "duration": 10,
    "start_time": "2022-08-13T09:41:49.471Z"
   },
   {
    "duration": 28,
    "start_time": "2022-08-13T09:41:49.509Z"
   },
   {
    "duration": 7,
    "start_time": "2022-08-13T09:41:49.540Z"
   },
   {
    "duration": 19,
    "start_time": "2022-08-13T09:41:49.549Z"
   },
   {
    "duration": 4,
    "start_time": "2022-08-13T09:41:49.570Z"
   },
   {
    "duration": 48,
    "start_time": "2022-08-13T09:41:49.576Z"
   },
   {
    "duration": 11,
    "start_time": "2022-08-13T09:41:49.626Z"
   },
   {
    "duration": 5,
    "start_time": "2022-08-13T09:41:49.639Z"
   },
   {
    "duration": 8,
    "start_time": "2022-08-13T09:41:49.646Z"
   },
   {
    "duration": 2782,
    "start_time": "2022-08-13T09:41:49.655Z"
   },
   {
    "duration": 1375,
    "start_time": "2022-08-13T09:41:52.439Z"
   },
   {
    "duration": 11,
    "start_time": "2022-08-13T09:41:53.817Z"
   },
   {
    "duration": 249,
    "start_time": "2022-08-13T09:41:53.830Z"
   },
   {
    "duration": 42,
    "start_time": "2022-08-13T09:41:54.081Z"
   },
   {
    "duration": 1073,
    "start_time": "2022-08-13T09:41:54.126Z"
   },
   {
    "duration": 16,
    "start_time": "2022-08-13T09:41:55.201Z"
   },
   {
    "duration": 22,
    "start_time": "2022-08-13T09:41:55.220Z"
   },
   {
    "duration": 10,
    "start_time": "2022-08-13T09:41:55.244Z"
   },
   {
    "duration": 999,
    "start_time": "2022-08-13T09:41:55.256Z"
   },
   {
    "duration": 4,
    "start_time": "2022-08-13T09:41:56.257Z"
   },
   {
    "duration": 7,
    "start_time": "2022-08-13T09:41:56.263Z"
   },
   {
    "duration": 204,
    "start_time": "2022-08-13T09:41:56.271Z"
   },
   {
    "duration": 15,
    "start_time": "2022-08-13T09:41:56.477Z"
   },
   {
    "duration": 37,
    "start_time": "2022-08-13T09:41:56.493Z"
   },
   {
    "duration": 9,
    "start_time": "2022-08-13T09:41:56.532Z"
   },
   {
    "duration": 5,
    "start_time": "2022-08-13T09:41:56.542Z"
   },
   {
    "duration": 18,
    "start_time": "2022-08-13T09:41:56.548Z"
   },
   {
    "duration": 378,
    "start_time": "2022-08-13T09:41:56.567Z"
   },
   {
    "duration": 8,
    "start_time": "2022-08-13T09:41:56.947Z"
   },
   {
    "duration": 19,
    "start_time": "2022-08-13T09:41:56.957Z"
   },
   {
    "duration": 377,
    "start_time": "2022-08-13T09:41:56.977Z"
   },
   {
    "duration": 6,
    "start_time": "2022-08-13T09:41:57.356Z"
   },
   {
    "duration": 24,
    "start_time": "2022-08-13T09:41:57.364Z"
   },
   {
    "duration": 22,
    "start_time": "2022-08-13T09:41:57.390Z"
   },
   {
    "duration": 36,
    "start_time": "2022-08-13T09:41:57.414Z"
   },
   {
    "duration": 183,
    "start_time": "2022-08-13T09:41:57.452Z"
   },
   {
    "duration": 16,
    "start_time": "2022-08-13T09:41:57.637Z"
   },
   {
    "duration": 28,
    "start_time": "2022-08-13T09:41:57.654Z"
   },
   {
    "duration": 500,
    "start_time": "2022-08-13T09:41:57.684Z"
   },
   {
    "duration": 5,
    "start_time": "2022-08-13T09:41:58.187Z"
   },
   {
    "duration": 752,
    "start_time": "2022-08-13T09:41:58.193Z"
   },
   {
    "duration": 698,
    "start_time": "2022-08-13T09:41:58.946Z"
   },
   {
    "duration": 715,
    "start_time": "2022-08-13T09:41:59.646Z"
   },
   {
    "duration": 697,
    "start_time": "2022-08-13T09:42:00.362Z"
   },
   {
    "duration": 699,
    "start_time": "2022-08-13T09:42:01.061Z"
   },
   {
    "duration": 17,
    "start_time": "2022-08-13T09:42:01.762Z"
   },
   {
    "duration": 231,
    "start_time": "2022-08-13T09:42:01.781Z"
   },
   {
    "duration": 23,
    "start_time": "2022-08-13T09:42:02.015Z"
   },
   {
    "duration": 210,
    "start_time": "2022-08-13T09:42:02.040Z"
   },
   {
    "duration": 126,
    "start_time": "2022-08-13T09:42:02.252Z"
   },
   {
    "duration": 385,
    "start_time": "2022-08-13T09:42:02.381Z"
   },
   {
    "duration": 430,
    "start_time": "2022-08-13T09:42:02.768Z"
   },
   {
    "duration": 396,
    "start_time": "2022-08-13T09:42:03.200Z"
   },
   {
    "duration": 19,
    "start_time": "2022-08-13T09:42:03.597Z"
   },
   {
    "duration": 16,
    "start_time": "2022-08-13T09:42:03.625Z"
   },
   {
    "duration": 24,
    "start_time": "2022-08-13T09:44:15.599Z"
   },
   {
    "duration": 106,
    "start_time": "2022-08-13T09:56:35.183Z"
   },
   {
    "duration": 30,
    "start_time": "2022-08-13T09:56:48.613Z"
   },
   {
    "duration": 25,
    "start_time": "2022-08-13T09:57:13.963Z"
   },
   {
    "duration": 1203,
    "start_time": "2022-08-13T09:58:06.494Z"
   },
   {
    "duration": 10,
    "start_time": "2022-08-13T09:58:43.982Z"
   },
   {
    "duration": 5,
    "start_time": "2022-08-13T09:58:58.426Z"
   },
   {
    "duration": 58,
    "start_time": "2022-08-13T10:00:42.960Z"
   },
   {
    "duration": 232,
    "start_time": "2022-08-13T10:02:40.108Z"
   },
   {
    "duration": 200,
    "start_time": "2022-08-13T10:03:03.911Z"
   },
   {
    "duration": 1200,
    "start_time": "2022-08-13T10:04:25.157Z"
   },
   {
    "duration": 2318,
    "start_time": "2022-08-13T10:04:26.359Z"
   },
   {
    "duration": 75,
    "start_time": "2022-08-13T10:04:28.679Z"
   },
   {
    "duration": 20,
    "start_time": "2022-08-13T10:04:28.757Z"
   },
   {
    "duration": 4,
    "start_time": "2022-08-13T10:04:28.778Z"
   },
   {
    "duration": 33,
    "start_time": "2022-08-13T10:04:28.783Z"
   },
   {
    "duration": 10,
    "start_time": "2022-08-13T10:04:28.818Z"
   },
   {
    "duration": 22,
    "start_time": "2022-08-13T10:04:28.831Z"
   },
   {
    "duration": 5,
    "start_time": "2022-08-13T10:04:28.855Z"
   },
   {
    "duration": 50,
    "start_time": "2022-08-13T10:04:28.863Z"
   },
   {
    "duration": 3,
    "start_time": "2022-08-13T10:04:28.915Z"
   },
   {
    "duration": 25,
    "start_time": "2022-08-13T10:04:28.920Z"
   },
   {
    "duration": 10,
    "start_time": "2022-08-13T10:04:28.947Z"
   },
   {
    "duration": 8,
    "start_time": "2022-08-13T10:04:28.958Z"
   },
   {
    "duration": 7,
    "start_time": "2022-08-13T10:04:28.967Z"
   },
   {
    "duration": 3334,
    "start_time": "2022-08-13T10:04:28.975Z"
   },
   {
    "duration": 1163,
    "start_time": "2022-08-13T10:04:32.311Z"
   },
   {
    "duration": 5,
    "start_time": "2022-08-13T10:04:33.475Z"
   },
   {
    "duration": 223,
    "start_time": "2022-08-13T10:04:33.482Z"
   },
   {
    "duration": 27,
    "start_time": "2022-08-13T10:04:33.707Z"
   },
   {
    "duration": 938,
    "start_time": "2022-08-13T10:04:33.736Z"
   },
   {
    "duration": 8,
    "start_time": "2022-08-13T10:04:34.675Z"
   },
   {
    "duration": 9,
    "start_time": "2022-08-13T10:04:34.685Z"
   },
   {
    "duration": 15,
    "start_time": "2022-08-13T10:04:34.695Z"
   },
   {
    "duration": 969,
    "start_time": "2022-08-13T10:04:34.712Z"
   },
   {
    "duration": 5,
    "start_time": "2022-08-13T10:04:35.683Z"
   },
   {
    "duration": 14,
    "start_time": "2022-08-13T10:04:35.693Z"
   },
   {
    "duration": 210,
    "start_time": "2022-08-13T10:04:35.711Z"
   },
   {
    "duration": 15,
    "start_time": "2022-08-13T10:04:35.922Z"
   },
   {
    "duration": 22,
    "start_time": "2022-08-13T10:04:35.939Z"
   },
   {
    "duration": 41,
    "start_time": "2022-08-13T10:04:35.965Z"
   },
   {
    "duration": 7,
    "start_time": "2022-08-13T10:04:36.008Z"
   },
   {
    "duration": 1023,
    "start_time": "2022-08-13T10:04:36.017Z"
   },
   {
    "duration": 6,
    "start_time": "2022-08-13T10:04:37.042Z"
   },
   {
    "duration": 24,
    "start_time": "2022-08-13T10:04:37.050Z"
   },
   {
    "duration": 462,
    "start_time": "2022-08-13T10:04:37.076Z"
   },
   {
    "duration": 11,
    "start_time": "2022-08-13T10:04:37.539Z"
   },
   {
    "duration": 17,
    "start_time": "2022-08-13T10:04:37.552Z"
   },
   {
    "duration": 329,
    "start_time": "2022-08-13T10:04:37.571Z"
   },
   {
    "duration": 5,
    "start_time": "2022-08-13T10:04:37.909Z"
   },
   {
    "duration": 30,
    "start_time": "2022-08-13T10:04:37.916Z"
   },
   {
    "duration": 11,
    "start_time": "2022-08-13T10:04:37.948Z"
   },
   {
    "duration": 13,
    "start_time": "2022-08-13T10:04:37.961Z"
   },
   {
    "duration": 160,
    "start_time": "2022-08-13T10:04:37.975Z"
   },
   {
    "duration": 17,
    "start_time": "2022-08-13T10:04:38.138Z"
   },
   {
    "duration": 14,
    "start_time": "2022-08-13T10:04:38.157Z"
   },
   {
    "duration": 566,
    "start_time": "2022-08-13T10:04:38.173Z"
   },
   {
    "duration": 6,
    "start_time": "2022-08-13T10:04:38.741Z"
   },
   {
    "duration": 746,
    "start_time": "2022-08-13T10:04:38.749Z"
   },
   {
    "duration": 703,
    "start_time": "2022-08-13T10:04:39.496Z"
   },
   {
    "duration": 677,
    "start_time": "2022-08-13T10:04:40.201Z"
   },
   {
    "duration": 715,
    "start_time": "2022-08-13T10:04:40.880Z"
   },
   {
    "duration": 661,
    "start_time": "2022-08-13T10:04:41.597Z"
   },
   {
    "duration": 15,
    "start_time": "2022-08-13T10:04:42.259Z"
   },
   {
    "duration": 204,
    "start_time": "2022-08-13T10:04:42.276Z"
   },
   {
    "duration": 16,
    "start_time": "2022-08-13T10:04:42.481Z"
   },
   {
    "duration": 189,
    "start_time": "2022-08-13T10:04:42.509Z"
   },
   {
    "duration": 121,
    "start_time": "2022-08-13T10:04:42.700Z"
   },
   {
    "duration": 368,
    "start_time": "2022-08-13T10:04:42.823Z"
   },
   {
    "duration": 394,
    "start_time": "2022-08-13T10:04:43.193Z"
   },
   {
    "duration": 391,
    "start_time": "2022-08-13T10:04:43.589Z"
   },
   {
    "duration": 13,
    "start_time": "2022-08-13T10:04:43.982Z"
   },
   {
    "duration": 25,
    "start_time": "2022-08-13T10:04:43.996Z"
   },
   {
    "duration": 150,
    "start_time": "2022-08-13T10:06:22.250Z"
   },
   {
    "duration": 171,
    "start_time": "2022-08-13T10:07:20.919Z"
   },
   {
    "duration": 184,
    "start_time": "2022-08-13T10:07:29.596Z"
   },
   {
    "duration": 168,
    "start_time": "2022-08-13T10:07:41.873Z"
   },
   {
    "duration": 176,
    "start_time": "2022-08-13T10:07:48.393Z"
   },
   {
    "duration": 5,
    "start_time": "2022-08-13T10:15:42.620Z"
   },
   {
    "duration": 17,
    "start_time": "2022-08-13T10:15:44.914Z"
   },
   {
    "duration": 1047,
    "start_time": "2022-08-13T10:20:49.075Z"
   },
   {
    "duration": 2068,
    "start_time": "2022-08-13T10:20:50.124Z"
   },
   {
    "duration": 72,
    "start_time": "2022-08-13T10:20:52.194Z"
   },
   {
    "duration": 15,
    "start_time": "2022-08-13T10:20:52.268Z"
   },
   {
    "duration": 4,
    "start_time": "2022-08-13T10:20:52.285Z"
   },
   {
    "duration": 22,
    "start_time": "2022-08-13T10:20:52.290Z"
   },
   {
    "duration": 8,
    "start_time": "2022-08-13T10:20:52.314Z"
   },
   {
    "duration": 21,
    "start_time": "2022-08-13T10:20:52.323Z"
   },
   {
    "duration": 4,
    "start_time": "2022-08-13T10:20:52.345Z"
   },
   {
    "duration": 31,
    "start_time": "2022-08-13T10:20:52.351Z"
   },
   {
    "duration": 3,
    "start_time": "2022-08-13T10:20:52.383Z"
   },
   {
    "duration": 29,
    "start_time": "2022-08-13T10:20:52.388Z"
   },
   {
    "duration": 8,
    "start_time": "2022-08-13T10:20:52.418Z"
   },
   {
    "duration": 6,
    "start_time": "2022-08-13T10:20:52.429Z"
   },
   {
    "duration": 7,
    "start_time": "2022-08-13T10:20:52.436Z"
   },
   {
    "duration": 3663,
    "start_time": "2022-08-13T10:20:52.445Z"
   },
   {
    "duration": 1070,
    "start_time": "2022-08-13T10:20:56.110Z"
   },
   {
    "duration": 6,
    "start_time": "2022-08-13T10:20:57.182Z"
   },
   {
    "duration": 263,
    "start_time": "2022-08-13T10:20:57.190Z"
   },
   {
    "duration": 25,
    "start_time": "2022-08-13T10:20:57.455Z"
   },
   {
    "duration": 927,
    "start_time": "2022-08-13T10:20:57.482Z"
   },
   {
    "duration": 10,
    "start_time": "2022-08-13T10:20:58.410Z"
   },
   {
    "duration": 11,
    "start_time": "2022-08-13T10:20:58.421Z"
   },
   {
    "duration": 10,
    "start_time": "2022-08-13T10:20:58.434Z"
   },
   {
    "duration": 914,
    "start_time": "2022-08-13T10:20:58.446Z"
   },
   {
    "duration": 4,
    "start_time": "2022-08-13T10:20:59.362Z"
   },
   {
    "duration": 8,
    "start_time": "2022-08-13T10:20:59.368Z"
   },
   {
    "duration": 197,
    "start_time": "2022-08-13T10:20:59.377Z"
   },
   {
    "duration": 14,
    "start_time": "2022-08-13T10:20:59.576Z"
   },
   {
    "duration": 29,
    "start_time": "2022-08-13T10:20:59.591Z"
   },
   {
    "duration": 10,
    "start_time": "2022-08-13T10:20:59.622Z"
   },
   {
    "duration": 10,
    "start_time": "2022-08-13T10:20:59.634Z"
   },
   {
    "duration": 963,
    "start_time": "2022-08-13T10:20:59.646Z"
   },
   {
    "duration": 5,
    "start_time": "2022-08-13T10:21:00.611Z"
   },
   {
    "duration": 31,
    "start_time": "2022-08-13T10:21:00.617Z"
   },
   {
    "duration": 345,
    "start_time": "2022-08-13T10:21:00.650Z"
   },
   {
    "duration": 17,
    "start_time": "2022-08-13T10:21:00.997Z"
   },
   {
    "duration": 30,
    "start_time": "2022-08-13T10:21:01.016Z"
   },
   {
    "duration": 292,
    "start_time": "2022-08-13T10:21:01.047Z"
   },
   {
    "duration": 5,
    "start_time": "2022-08-13T10:21:01.341Z"
   },
   {
    "duration": 45,
    "start_time": "2022-08-13T10:21:01.350Z"
   },
   {
    "duration": 15,
    "start_time": "2022-08-13T10:21:01.397Z"
   },
   {
    "duration": 13,
    "start_time": "2022-08-13T10:21:01.414Z"
   },
   {
    "duration": 168,
    "start_time": "2022-08-13T10:21:01.428Z"
   },
   {
    "duration": 4,
    "start_time": "2022-08-13T10:21:01.598Z"
   },
   {
    "duration": 19,
    "start_time": "2022-08-13T10:21:01.609Z"
   },
   {
    "duration": 41,
    "start_time": "2022-08-13T10:21:01.629Z"
   },
   {
    "duration": 448,
    "start_time": "2022-08-13T10:21:01.672Z"
   },
   {
    "duration": 4,
    "start_time": "2022-08-13T10:21:02.122Z"
   },
   {
    "duration": 716,
    "start_time": "2022-08-13T10:21:02.127Z"
   },
   {
    "duration": 677,
    "start_time": "2022-08-13T10:21:02.845Z"
   },
   {
    "duration": 616,
    "start_time": "2022-08-13T10:21:03.523Z"
   },
   {
    "duration": 694,
    "start_time": "2022-08-13T10:21:04.141Z"
   },
   {
    "duration": 588,
    "start_time": "2022-08-13T10:21:04.836Z"
   },
   {
    "duration": 14,
    "start_time": "2022-08-13T10:21:05.426Z"
   },
   {
    "duration": 182,
    "start_time": "2022-08-13T10:21:05.442Z"
   },
   {
    "duration": 14,
    "start_time": "2022-08-13T10:21:05.626Z"
   },
   {
    "duration": 185,
    "start_time": "2022-08-13T10:21:05.641Z"
   },
   {
    "duration": 109,
    "start_time": "2022-08-13T10:21:05.828Z"
   },
   {
    "duration": 331,
    "start_time": "2022-08-13T10:21:05.939Z"
   },
   {
    "duration": 342,
    "start_time": "2022-08-13T10:21:06.272Z"
   },
   {
    "duration": 341,
    "start_time": "2022-08-13T10:21:06.616Z"
   },
   {
    "duration": 11,
    "start_time": "2022-08-13T10:21:06.959Z"
   },
   {
    "duration": 10,
    "start_time": "2022-08-13T10:21:06.972Z"
   },
   {
    "duration": 113,
    "start_time": "2022-08-13T10:35:46.111Z"
   },
   {
    "duration": 169,
    "start_time": "2022-08-13T10:35:52.510Z"
   },
   {
    "duration": 20,
    "start_time": "2022-08-13T10:36:47.399Z"
   },
   {
    "duration": 13,
    "start_time": "2022-08-13T10:37:30.425Z"
   },
   {
    "duration": 17,
    "start_time": "2022-08-13T10:37:41.011Z"
   },
   {
    "duration": 15,
    "start_time": "2022-08-13T10:37:50.361Z"
   },
   {
    "duration": 16,
    "start_time": "2022-08-13T10:38:48.991Z"
   },
   {
    "duration": 1276,
    "start_time": "2022-08-13T19:25:10.424Z"
   },
   {
    "duration": 2991,
    "start_time": "2022-08-13T19:25:11.702Z"
   },
   {
    "duration": 119,
    "start_time": "2022-08-13T19:25:14.695Z"
   },
   {
    "duration": 26,
    "start_time": "2022-08-13T19:25:14.815Z"
   },
   {
    "duration": 8,
    "start_time": "2022-08-13T19:25:14.844Z"
   },
   {
    "duration": 26,
    "start_time": "2022-08-13T19:25:14.854Z"
   },
   {
    "duration": 8,
    "start_time": "2022-08-13T19:25:14.882Z"
   },
   {
    "duration": 37,
    "start_time": "2022-08-13T19:25:14.891Z"
   },
   {
    "duration": 5,
    "start_time": "2022-08-13T19:25:14.930Z"
   },
   {
    "duration": 27,
    "start_time": "2022-08-13T19:25:14.936Z"
   },
   {
    "duration": 3,
    "start_time": "2022-08-13T19:25:14.964Z"
   },
   {
    "duration": 12,
    "start_time": "2022-08-13T19:25:14.969Z"
   },
   {
    "duration": 8,
    "start_time": "2022-08-13T19:25:14.983Z"
   },
   {
    "duration": 6,
    "start_time": "2022-08-13T19:25:15.022Z"
   },
   {
    "duration": 15,
    "start_time": "2022-08-13T19:25:15.030Z"
   },
   {
    "duration": 3515,
    "start_time": "2022-08-13T19:25:15.047Z"
   },
   {
    "duration": 1192,
    "start_time": "2022-08-13T19:25:18.565Z"
   },
   {
    "duration": 6,
    "start_time": "2022-08-13T19:25:19.758Z"
   },
   {
    "duration": 247,
    "start_time": "2022-08-13T19:25:19.766Z"
   },
   {
    "duration": 27,
    "start_time": "2022-08-13T19:25:20.026Z"
   },
   {
    "duration": 930,
    "start_time": "2022-08-13T19:25:20.055Z"
   },
   {
    "duration": 9,
    "start_time": "2022-08-13T19:25:20.987Z"
   },
   {
    "duration": 21,
    "start_time": "2022-08-13T19:25:20.997Z"
   },
   {
    "duration": 9,
    "start_time": "2022-08-13T19:25:21.019Z"
   },
   {
    "duration": 956,
    "start_time": "2022-08-13T19:25:21.030Z"
   },
   {
    "duration": 5,
    "start_time": "2022-08-13T19:25:21.988Z"
   },
   {
    "duration": 8,
    "start_time": "2022-08-13T19:25:21.995Z"
   },
   {
    "duration": 207,
    "start_time": "2022-08-13T19:25:22.014Z"
   },
   {
    "duration": 16,
    "start_time": "2022-08-13T19:25:22.223Z"
   },
   {
    "duration": 16,
    "start_time": "2022-08-13T19:25:22.240Z"
   },
   {
    "duration": 9,
    "start_time": "2022-08-13T19:25:22.258Z"
   },
   {
    "duration": 4,
    "start_time": "2022-08-13T19:25:22.268Z"
   },
   {
    "duration": 1175,
    "start_time": "2022-08-13T19:25:22.273Z"
   },
   {
    "duration": 5,
    "start_time": "2022-08-13T19:25:23.450Z"
   },
   {
    "duration": 19,
    "start_time": "2022-08-13T19:25:23.456Z"
   },
   {
    "duration": 323,
    "start_time": "2022-08-13T19:25:23.476Z"
   },
   {
    "duration": 12,
    "start_time": "2022-08-13T19:25:23.801Z"
   },
   {
    "duration": 30,
    "start_time": "2022-08-13T19:25:23.818Z"
   },
   {
    "duration": 296,
    "start_time": "2022-08-13T19:25:23.850Z"
   },
   {
    "duration": 5,
    "start_time": "2022-08-13T19:25:24.148Z"
   },
   {
    "duration": 21,
    "start_time": "2022-08-13T19:25:24.157Z"
   },
   {
    "duration": 4,
    "start_time": "2022-08-13T19:25:24.180Z"
   },
   {
    "duration": 32,
    "start_time": "2022-08-13T19:25:24.185Z"
   },
   {
    "duration": 184,
    "start_time": "2022-08-13T19:25:24.218Z"
   },
   {
    "duration": 18,
    "start_time": "2022-08-13T19:25:24.404Z"
   },
   {
    "duration": 17,
    "start_time": "2022-08-13T19:25:24.425Z"
   },
   {
    "duration": 15,
    "start_time": "2022-08-13T19:25:24.443Z"
   },
   {
    "duration": 414,
    "start_time": "2022-08-13T19:25:24.459Z"
   },
   {
    "duration": 5,
    "start_time": "2022-08-13T19:25:24.875Z"
   },
   {
    "duration": 649,
    "start_time": "2022-08-13T19:25:24.881Z"
   },
   {
    "duration": 616,
    "start_time": "2022-08-13T19:25:25.532Z"
   },
   {
    "duration": 682,
    "start_time": "2022-08-13T19:25:26.150Z"
   },
   {
    "duration": 650,
    "start_time": "2022-08-13T19:25:26.834Z"
   },
   {
    "duration": 640,
    "start_time": "2022-08-13T19:25:27.486Z"
   },
   {
    "duration": 15,
    "start_time": "2022-08-13T19:25:28.128Z"
   },
   {
    "duration": 197,
    "start_time": "2022-08-13T19:25:28.145Z"
   },
   {
    "duration": 15,
    "start_time": "2022-08-13T19:25:28.343Z"
   },
   {
    "duration": 191,
    "start_time": "2022-08-13T19:25:28.359Z"
   },
   {
    "duration": 14,
    "start_time": "2022-08-13T19:25:28.552Z"
   },
   {
    "duration": 111,
    "start_time": "2022-08-13T19:25:28.568Z"
   },
   {
    "duration": 345,
    "start_time": "2022-08-13T19:25:28.680Z"
   },
   {
    "duration": 349,
    "start_time": "2022-08-13T19:25:29.027Z"
   },
   {
    "duration": 351,
    "start_time": "2022-08-13T19:25:29.378Z"
   },
   {
    "duration": 12,
    "start_time": "2022-08-13T19:25:29.731Z"
   },
   {
    "duration": 11,
    "start_time": "2022-08-13T19:25:29.745Z"
   },
   {
    "duration": 120,
    "start_time": "2022-08-13T19:27:23.437Z"
   },
   {
    "duration": 16,
    "start_time": "2022-08-13T19:27:38.542Z"
   }
  ],
  "kernelspec": {
   "display_name": "Python 3 (ipykernel)",
   "language": "python",
   "name": "python3"
  },
  "language_info": {
   "codemirror_mode": {
    "name": "ipython",
    "version": 3
   },
   "file_extension": ".py",
   "mimetype": "text/x-python",
   "name": "python",
   "nbconvert_exporter": "python",
   "pygments_lexer": "ipython3",
   "version": "3.9.7"
  },
  "toc": {
   "base_numbering": 1,
   "nav_menu": {},
   "number_sections": true,
   "sideBar": true,
   "skip_h1_title": false,
   "title_cell": "Table of Contents",
   "title_sidebar": "Contents",
   "toc_cell": false,
   "toc_position": {},
   "toc_section_display": true,
   "toc_window_display": false
  }
 },
 "nbformat": 4,
 "nbformat_minor": 5
}
