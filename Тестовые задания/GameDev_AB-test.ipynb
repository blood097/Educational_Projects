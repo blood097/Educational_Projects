{
 "cells": [
  {
   "cell_type": "markdown",
   "id": "acf758db",
   "metadata": {},
   "source": [
    "## Описание проекта"
   ]
  },
  {
   "cell_type": "markdown",
   "id": "0aca61a8-c597-4048-bf2c-7c39d20d6f12",
   "metadata": {},
   "source": [
    "<div style=\"border: 1px solid; padding: 20px\">\n",
    "<i> Игра содержит особое событие – ивент, для прохождения которого пользователи могут тратить деньги. Группа дизайнеров решила поменять вид окошка покупки ивентовых продуктов. Чтобы оценить результат нововведения, провели АВ-тест, разделив пользователей на две группы: контрольную и тестовую (с окошком нового типа).</i>\n",
    "   \n",
    "**Задача:**\n",
    "<br>Исследовать какая из АВ групп лучше себя показала. Результаты предоставить в понятной для широкой аудитории форме сопроводив по необходимости графиками/дашбордами/числами.\n",
    "</div>"
   ]
  },
  {
   "cell_type": "markdown",
   "id": "cddf86e3",
   "metadata": {},
   "source": [
    "## Описание данных"
   ]
  },
  {
   "cell_type": "markdown",
   "id": "a07f56c3",
   "metadata": {},
   "source": [
    "**Скачать данные:** `https://drive.google.com/file/d/1ynnyIKbT64yoi0IpMd_Gs3I-n1m61QT-/view?usp=sharing`\n",
    "***\n",
    "Файл `/test_task_product_analyst_2021_20210427.csv`\n",
    "\n",
    "- `AbGroup` – имя АВ группы: Control/Test\n",
    "- `user_id` – id пользователя\n",
    "- `time_stamp` – день события\n",
    "- `install_date` – день установки приложения пользователем\n",
    "- `event_name` – техническое название события (InAppPurchase - покупка за деньги, ResourceSpend - покупка за игровую валюту)\n",
    "- `platform` – платформа google/itunes\n",
    "- `network_name` – пользователь установил игру по переходу с рекламы (Paid) или нет (Organic)\n",
    "- `country_name` – страна пользователя\n",
    "- `InGameTime` – сколько всего пользователь провел в игре секунд\n",
    "- `LastCompletedLevel` – номер последнего пройденного уровня\n",
    "- `avg_energy_amount` – сколько в среднем энергии было у пользователя за день\n",
    "- `revenue_on_event` – ревеню, потраченное на покупку ивентовых продуктов\n",
    "- `revenue_on_other_activities` – ревеню, потраченное на остальные продукты, включая золото\n",
    "- `gold_on_event` – золото, потраченное на ивентный прогресс\n",
    "- `gold_on_other_activities` – золото, потраченное на другие продукты"
   ]
  },
  {
   "cell_type": "markdown",
   "id": "e125b463",
   "metadata": {},
   "source": [
    "# Изучение и предобработка данных"
   ]
  },
  {
   "cell_type": "code",
   "execution_count": 1,
   "id": "7320cbf7-db31-409a-a466-4a3fdf061cee",
   "metadata": {},
   "outputs": [],
   "source": [
    "import os\n",
    "import pandas as pd\n",
    "import numpy as np\n",
    "import seaborn as sns\n",
    "import datetime as dt\n",
    "import matplotlib.pyplot as plt\n",
    "import statsmodels.api as sm\n",
    "from tqdm.notebook import tqdm"
   ]
  },
  {
   "cell_type": "code",
   "execution_count": 2,
   "id": "397f86ae-67fc-4bed-9546-0cf43eeba9ba",
   "metadata": {},
   "outputs": [
    {
     "data": {
      "text/html": [
       "<div>\n",
       "<style scoped>\n",
       "    .dataframe tbody tr th:only-of-type {\n",
       "        vertical-align: middle;\n",
       "    }\n",
       "\n",
       "    .dataframe tbody tr th {\n",
       "        vertical-align: top;\n",
       "    }\n",
       "\n",
       "    .dataframe thead th {\n",
       "        text-align: right;\n",
       "    }\n",
       "</style>\n",
       "<table border=\"1\" class=\"dataframe\">\n",
       "  <thead>\n",
       "    <tr style=\"text-align: right;\">\n",
       "      <th></th>\n",
       "      <th>AbGroup</th>\n",
       "      <th>user_id</th>\n",
       "      <th>time_stamp</th>\n",
       "      <th>install_date</th>\n",
       "      <th>event_name</th>\n",
       "      <th>platform</th>\n",
       "      <th>network_name</th>\n",
       "      <th>country_name</th>\n",
       "      <th>InGameTime</th>\n",
       "      <th>LastCompletedLevel</th>\n",
       "      <th>avg_energy_amount</th>\n",
       "      <th>revenue_on_event</th>\n",
       "      <th>revenue_on_other_activities</th>\n",
       "      <th>gold_on_event</th>\n",
       "      <th>gold_on_other_activities</th>\n",
       "    </tr>\n",
       "  </thead>\n",
       "  <tbody>\n",
       "    <tr>\n",
       "      <th>0</th>\n",
       "      <td>Control</td>\n",
       "      <td>d60ebcaecff2dc1d360a8a41271e6fd8a902c107</td>\n",
       "      <td>2020-02-10</td>\n",
       "      <td>2019-11-10</td>\n",
       "      <td>ResourceSpend</td>\n",
       "      <td>itunes</td>\n",
       "      <td>Organic</td>\n",
       "      <td>United Kingdom of Great Britain and Northern I...</td>\n",
       "      <td>276180</td>\n",
       "      <td>345</td>\n",
       "      <td>54.0</td>\n",
       "      <td>0.0</td>\n",
       "      <td>0.0</td>\n",
       "      <td>NaN</td>\n",
       "      <td>NaN</td>\n",
       "    </tr>\n",
       "    <tr>\n",
       "      <th>1</th>\n",
       "      <td>Test</td>\n",
       "      <td>f6e385b0ab43d5aea9cfcc408aa84029a4ea5fdb</td>\n",
       "      <td>2020-03-04</td>\n",
       "      <td>2019-11-05</td>\n",
       "      <td>ResourceSpend</td>\n",
       "      <td>itunes</td>\n",
       "      <td>Paid</td>\n",
       "      <td>United States of America</td>\n",
       "      <td>166095</td>\n",
       "      <td>199</td>\n",
       "      <td>50.0</td>\n",
       "      <td>0.0</td>\n",
       "      <td>0.0</td>\n",
       "      <td>NaN</td>\n",
       "      <td>NaN</td>\n",
       "    </tr>\n",
       "    <tr>\n",
       "      <th>2</th>\n",
       "      <td>Control</td>\n",
       "      <td>a4c80c8524e2c11cc238553d7b02da01ce2aad66</td>\n",
       "      <td>2020-02-26</td>\n",
       "      <td>2020-01-02</td>\n",
       "      <td>ResourceSpend</td>\n",
       "      <td>itunes</td>\n",
       "      <td>Paid</td>\n",
       "      <td>Canada</td>\n",
       "      <td>240986</td>\n",
       "      <td>84</td>\n",
       "      <td>39.0</td>\n",
       "      <td>0.0</td>\n",
       "      <td>0.0</td>\n",
       "      <td>NaN</td>\n",
       "      <td>NaN</td>\n",
       "    </tr>\n",
       "    <tr>\n",
       "      <th>3</th>\n",
       "      <td>Control</td>\n",
       "      <td>7ea2e4599ae33760c307e254839317bd5b17a63c</td>\n",
       "      <td>2020-02-21</td>\n",
       "      <td>2020-01-13</td>\n",
       "      <td>ResourceSpend</td>\n",
       "      <td>itunes</td>\n",
       "      <td>Organic</td>\n",
       "      <td>France</td>\n",
       "      <td>989822</td>\n",
       "      <td>1176</td>\n",
       "      <td>21.0</td>\n",
       "      <td>0.0</td>\n",
       "      <td>0.0</td>\n",
       "      <td>NaN</td>\n",
       "      <td>NaN</td>\n",
       "    </tr>\n",
       "    <tr>\n",
       "      <th>4</th>\n",
       "      <td>Control</td>\n",
       "      <td>6495168982929360dc6d84bf0766d8963a7ddc41</td>\n",
       "      <td>2020-02-18</td>\n",
       "      <td>2020-02-05</td>\n",
       "      <td>ResourceSpend</td>\n",
       "      <td>itunes</td>\n",
       "      <td>Paid</td>\n",
       "      <td>Spain</td>\n",
       "      <td>52106</td>\n",
       "      <td>66</td>\n",
       "      <td>43.0</td>\n",
       "      <td>0.0</td>\n",
       "      <td>0.0</td>\n",
       "      <td>500.0</td>\n",
       "      <td>NaN</td>\n",
       "    </tr>\n",
       "    <tr>\n",
       "      <th>...</th>\n",
       "      <td>...</td>\n",
       "      <td>...</td>\n",
       "      <td>...</td>\n",
       "      <td>...</td>\n",
       "      <td>...</td>\n",
       "      <td>...</td>\n",
       "      <td>...</td>\n",
       "      <td>...</td>\n",
       "      <td>...</td>\n",
       "      <td>...</td>\n",
       "      <td>...</td>\n",
       "      <td>...</td>\n",
       "      <td>...</td>\n",
       "      <td>...</td>\n",
       "      <td>...</td>\n",
       "    </tr>\n",
       "    <tr>\n",
       "      <th>696835</th>\n",
       "      <td>Control</td>\n",
       "      <td>cb394bfaa14de91ca99f566e1cede909285dc338</td>\n",
       "      <td>2020-03-01</td>\n",
       "      <td>2019-11-03</td>\n",
       "      <td>ResourceSpend</td>\n",
       "      <td>itunes</td>\n",
       "      <td>Paid</td>\n",
       "      <td>Canada</td>\n",
       "      <td>73805</td>\n",
       "      <td>101</td>\n",
       "      <td>23.0</td>\n",
       "      <td>0.0</td>\n",
       "      <td>0.0</td>\n",
       "      <td>NaN</td>\n",
       "      <td>NaN</td>\n",
       "    </tr>\n",
       "    <tr>\n",
       "      <th>696836</th>\n",
       "      <td>Test</td>\n",
       "      <td>b61b6d950bc376fc23581fa9c8e4d3c75d2dcd9a</td>\n",
       "      <td>2020-03-04</td>\n",
       "      <td>2020-01-03</td>\n",
       "      <td>ResourceSpend</td>\n",
       "      <td>itunes</td>\n",
       "      <td>Organic</td>\n",
       "      <td>Spain</td>\n",
       "      <td>733369</td>\n",
       "      <td>415</td>\n",
       "      <td>62.0</td>\n",
       "      <td>0.0</td>\n",
       "      <td>0.0</td>\n",
       "      <td>NaN</td>\n",
       "      <td>NaN</td>\n",
       "    </tr>\n",
       "    <tr>\n",
       "      <th>696837</th>\n",
       "      <td>Control</td>\n",
       "      <td>be989a271b16dfa4e9ac2d877a07ce0f2fdb456c</td>\n",
       "      <td>2020-02-29</td>\n",
       "      <td>2019-01-13</td>\n",
       "      <td>ResourceSpend</td>\n",
       "      <td>itunes</td>\n",
       "      <td>Organic</td>\n",
       "      <td>Germany</td>\n",
       "      <td>75273</td>\n",
       "      <td>331</td>\n",
       "      <td>22.0</td>\n",
       "      <td>0.0</td>\n",
       "      <td>0.0</td>\n",
       "      <td>NaN</td>\n",
       "      <td>NaN</td>\n",
       "    </tr>\n",
       "    <tr>\n",
       "      <th>696838</th>\n",
       "      <td>Control</td>\n",
       "      <td>5435fa8319c96097de76557f077659ce4f187262</td>\n",
       "      <td>2020-02-28</td>\n",
       "      <td>2019-02-14</td>\n",
       "      <td>ResourceSpend</td>\n",
       "      <td>itunes</td>\n",
       "      <td>Organic</td>\n",
       "      <td>Germany</td>\n",
       "      <td>908230</td>\n",
       "      <td>1287</td>\n",
       "      <td>58.0</td>\n",
       "      <td>0.0</td>\n",
       "      <td>0.0</td>\n",
       "      <td>NaN</td>\n",
       "      <td>NaN</td>\n",
       "    </tr>\n",
       "    <tr>\n",
       "      <th>696839</th>\n",
       "      <td>Control</td>\n",
       "      <td>d515d8402ba14e04801f3f4117f831870dcbe757</td>\n",
       "      <td>2020-02-27</td>\n",
       "      <td>2019-06-03</td>\n",
       "      <td>ResourceSpend</td>\n",
       "      <td>itunes</td>\n",
       "      <td>Paid</td>\n",
       "      <td>France</td>\n",
       "      <td>1466832</td>\n",
       "      <td>839</td>\n",
       "      <td>60.0</td>\n",
       "      <td>0.0</td>\n",
       "      <td>0.0</td>\n",
       "      <td>NaN</td>\n",
       "      <td>NaN</td>\n",
       "    </tr>\n",
       "  </tbody>\n",
       "</table>\n",
       "<p>696840 rows × 15 columns</p>\n",
       "</div>"
      ],
      "text/plain": [
       "        AbGroup                                   user_id  time_stamp  \\\n",
       "0       Control  d60ebcaecff2dc1d360a8a41271e6fd8a902c107  2020-02-10   \n",
       "1          Test  f6e385b0ab43d5aea9cfcc408aa84029a4ea5fdb  2020-03-04   \n",
       "2       Control  a4c80c8524e2c11cc238553d7b02da01ce2aad66  2020-02-26   \n",
       "3       Control  7ea2e4599ae33760c307e254839317bd5b17a63c  2020-02-21   \n",
       "4       Control  6495168982929360dc6d84bf0766d8963a7ddc41  2020-02-18   \n",
       "...         ...                                       ...         ...   \n",
       "696835  Control  cb394bfaa14de91ca99f566e1cede909285dc338  2020-03-01   \n",
       "696836     Test  b61b6d950bc376fc23581fa9c8e4d3c75d2dcd9a  2020-03-04   \n",
       "696837  Control  be989a271b16dfa4e9ac2d877a07ce0f2fdb456c  2020-02-29   \n",
       "696838  Control  5435fa8319c96097de76557f077659ce4f187262  2020-02-28   \n",
       "696839  Control  d515d8402ba14e04801f3f4117f831870dcbe757  2020-02-27   \n",
       "\n",
       "       install_date     event_name platform network_name  \\\n",
       "0        2019-11-10  ResourceSpend   itunes      Organic   \n",
       "1        2019-11-05  ResourceSpend   itunes         Paid   \n",
       "2        2020-01-02  ResourceSpend   itunes         Paid   \n",
       "3        2020-01-13  ResourceSpend   itunes      Organic   \n",
       "4        2020-02-05  ResourceSpend   itunes         Paid   \n",
       "...             ...            ...      ...          ...   \n",
       "696835   2019-11-03  ResourceSpend   itunes         Paid   \n",
       "696836   2020-01-03  ResourceSpend   itunes      Organic   \n",
       "696837   2019-01-13  ResourceSpend   itunes      Organic   \n",
       "696838   2019-02-14  ResourceSpend   itunes      Organic   \n",
       "696839   2019-06-03  ResourceSpend   itunes         Paid   \n",
       "\n",
       "                                             country_name  InGameTime  \\\n",
       "0       United Kingdom of Great Britain and Northern I...      276180   \n",
       "1                                United States of America      166095   \n",
       "2                                                  Canada      240986   \n",
       "3                                                  France      989822   \n",
       "4                                                   Spain       52106   \n",
       "...                                                   ...         ...   \n",
       "696835                                             Canada       73805   \n",
       "696836                                              Spain      733369   \n",
       "696837                                            Germany       75273   \n",
       "696838                                            Germany      908230   \n",
       "696839                                             France     1466832   \n",
       "\n",
       "        LastCompletedLevel  avg_energy_amount  revenue_on_event  \\\n",
       "0                      345               54.0               0.0   \n",
       "1                      199               50.0               0.0   \n",
       "2                       84               39.0               0.0   \n",
       "3                     1176               21.0               0.0   \n",
       "4                       66               43.0               0.0   \n",
       "...                    ...                ...               ...   \n",
       "696835                 101               23.0               0.0   \n",
       "696836                 415               62.0               0.0   \n",
       "696837                 331               22.0               0.0   \n",
       "696838                1287               58.0               0.0   \n",
       "696839                 839               60.0               0.0   \n",
       "\n",
       "        revenue_on_other_activities  gold_on_event  gold_on_other_activities  \n",
       "0                               0.0            NaN                       NaN  \n",
       "1                               0.0            NaN                       NaN  \n",
       "2                               0.0            NaN                       NaN  \n",
       "3                               0.0            NaN                       NaN  \n",
       "4                               0.0          500.0                       NaN  \n",
       "...                             ...            ...                       ...  \n",
       "696835                          0.0            NaN                       NaN  \n",
       "696836                          0.0            NaN                       NaN  \n",
       "696837                          0.0            NaN                       NaN  \n",
       "696838                          0.0            NaN                       NaN  \n",
       "696839                          0.0            NaN                       NaN  \n",
       "\n",
       "[696840 rows x 15 columns]"
      ]
     },
     "metadata": {},
     "output_type": "display_data"
    }
   ],
   "source": [
    "pth = 'test_task_product_analyst_2021_20210427.csv'\n",
    "\n",
    "if os.path.exists(pth):\n",
    "    data = pd.read_csv(pth)\n",
    "else:\n",
    "    print('Не могу найти путь к файлу')\n",
    "        \n",
    "display(data)"
   ]
  },
  {
   "cell_type": "code",
   "execution_count": 3,
   "id": "a7095ba2",
   "metadata": {},
   "outputs": [
    {
     "name": "stdout",
     "output_type": "stream",
     "text": [
      "<class 'pandas.core.frame.DataFrame'>\n",
      "RangeIndex: 696840 entries, 0 to 696839\n",
      "Data columns (total 15 columns):\n",
      " #   Column                       Non-Null Count   Dtype  \n",
      "---  ------                       --------------   -----  \n",
      " 0   AbGroup                      696840 non-null  object \n",
      " 1   user_id                      696840 non-null  object \n",
      " 2   time_stamp                   696840 non-null  object \n",
      " 3   install_date                 696840 non-null  object \n",
      " 4   event_name                   696840 non-null  object \n",
      " 5   platform                     696840 non-null  object \n",
      " 6   network_name                 696840 non-null  object \n",
      " 7   country_name                 696840 non-null  object \n",
      " 8   InGameTime                   696840 non-null  int64  \n",
      " 9   LastCompletedLevel           696840 non-null  int64  \n",
      " 10  avg_energy_amount            696840 non-null  float64\n",
      " 11  revenue_on_event             696840 non-null  float64\n",
      " 12  revenue_on_other_activities  696840 non-null  float64\n",
      " 13  gold_on_event                45412 non-null   float64\n",
      " 14  gold_on_other_activities     168193 non-null  float64\n",
      "dtypes: float64(5), int64(2), object(8)\n",
      "memory usage: 79.7+ MB\n"
     ]
    }
   ],
   "source": [
    "data.info()\n",
    "\n",
    "# сохраним количество строк в датафрейме до предобработки (это значение понадобится нам позже)\n",
    "df_row_number = data.shape[0]"
   ]
  },
  {
   "cell_type": "code",
   "execution_count": 4,
   "id": "1541c2b2",
   "metadata": {},
   "outputs": [],
   "source": [
    "# переименуем столбцы\n",
    "data = data.rename(columns={'AbGroup': 'ab_group',\n",
    "                            'InGameTime': 'in_game_time',\n",
    "                            'LastCompletedLevel': 'last_completed_level'})"
   ]
  },
  {
   "cell_type": "code",
   "execution_count": 5,
   "id": "c6ceec63",
   "metadata": {},
   "outputs": [],
   "source": [
    "# приведем столбцы time_stamp и install_date к формату datetime64 \n",
    "data['time_stamp'] = pd.to_datetime(data['time_stamp'], format='%Y-%m-%d')\n",
    "data['install_date'] = pd.to_datetime(data['install_date'], format='%Y-%m-%d')"
   ]
  },
  {
   "cell_type": "code",
   "execution_count": 6,
   "id": "524bc4b4",
   "metadata": {},
   "outputs": [
    {
     "data": {
      "text/plain": [
       "ab_group                            0\n",
       "user_id                             0\n",
       "time_stamp                          0\n",
       "install_date                        0\n",
       "event_name                          0\n",
       "platform                            0\n",
       "network_name                        0\n",
       "country_name                        0\n",
       "in_game_time                        0\n",
       "last_completed_level                0\n",
       "avg_energy_amount                   0\n",
       "revenue_on_event                    0\n",
       "revenue_on_other_activities         0\n",
       "gold_on_event                  651428\n",
       "gold_on_other_activities       528647\n",
       "dtype: int64"
      ]
     },
     "execution_count": 6,
     "metadata": {},
     "output_type": "execute_result"
    }
   ],
   "source": [
    "# посмотрим на количество пропусков в данных\n",
    "data.isna().sum()"
   ]
  },
  {
   "cell_type": "code",
   "execution_count": 7,
   "id": "157c5d22",
   "metadata": {},
   "outputs": [],
   "source": [
    "# поставим нули там, где не указано количество потраченного золота\n",
    "data['gold_on_event'] = data['gold_on_event'].fillna(0)\n",
    "data['gold_on_other_activities'] = data['gold_on_other_activities'].fillna(0)"
   ]
  },
  {
   "cell_type": "code",
   "execution_count": 8,
   "id": "7658f66e",
   "metadata": {},
   "outputs": [
    {
     "name": "stdout",
     "output_type": "stream",
     "text": [
      "Общее количество дубликатов: 0\n"
     ]
    }
   ],
   "source": [
    "# проверим наличие явнях дубликатов в данных\n",
    "print('Общее количество дубликатов: {}'.format(data.duplicated().sum()))"
   ]
  },
  {
   "cell_type": "code",
   "execution_count": 9,
   "id": "4056f15e",
   "metadata": {},
   "outputs": [
    {
     "data": {
      "text/plain": [
       "array(['Albania', 'Algeria', 'Andorra', 'Argentina', 'Armenia',\n",
       "       'Australia', 'Austria', 'Azerbaijan', 'Bahamas', 'Bahrain',\n",
       "       'Bangladesh', 'Barbados', 'Belarus', 'Belgium',\n",
       "       'Bolivia (Plurinational State of)', 'Bosnia and Herzegovina',\n",
       "       'Brazil', 'Bulgaria', 'Canada', 'China', 'Colombia', 'Costa Rica',\n",
       "       \"Cote d'Ivoire\", 'Croatia', 'Cuba', 'Cyprus', 'Czech Republic',\n",
       "       'Denmark', 'Dominican Republic', 'Ecuador', 'Egypt', 'El Salvador',\n",
       "       'Estonia', 'Ethiopia', 'Finland', 'France', 'French Guiana',\n",
       "       'Georgia', 'Germany', 'Gibraltar', 'Greece', 'Guadeloupe',\n",
       "       'Guernsey', 'Guinea', 'Hong Kong', 'Hungary', 'Iceland', 'India',\n",
       "       'Indonesia', 'Iran (Islamic Republic of)', 'Iraq', 'Ireland',\n",
       "       'Isle of Man', 'Israel', 'Italy', 'Jamaica', 'Japan', 'Jersey',\n",
       "       'Jordan', 'Kazakhstan', 'Kenya', 'Korea (Republic of)', 'Kuwait',\n",
       "       'Latvia', 'Lebanon', 'Liechtenstein', 'Lithuania', 'Luxembourg',\n",
       "       'Macao', 'Macedonia (the former Yugoslav Republic of)', 'Malawi',\n",
       "       'Maldives', 'Malta', 'Martinique', 'Mayotte', 'Mexico',\n",
       "       'Moldova (Republic of)', 'Monaco', 'Morocco', 'Myanmar',\n",
       "       'Netherlands', 'New Zealand', 'Norway', 'Oman', 'Pakistan',\n",
       "       'Panama', 'Peru', 'Poland', 'Portugal', 'Qatar', 'Reunion',\n",
       "       'Romania', 'Russian Federation', 'Saint Barth?lemy',\n",
       "       'Saint Martin (French part)', 'Saudi Arabia', 'Senegal', 'Serbia',\n",
       "       'Singapore', 'Slovakia', 'Slovenia', 'South Africa', 'Spain',\n",
       "       'Sudan', 'Sweden', 'Switzerland', 'Syrian Arab Republic',\n",
       "       'Thailand', 'Turkey', 'Ukraine', 'United Arab Emirates',\n",
       "       'United Kingdom of Great Britain and Northern Ireland',\n",
       "       'United States of America', 'Uzbekistan', 'Viet Nam'], dtype=object)"
      ]
     },
     "execution_count": 9,
     "metadata": {},
     "output_type": "execute_result"
    }
   ],
   "source": [
    "# проверим колонку country_name на неявные дубликаты, отсортируем в алфавитном порядке\n",
    "np.sort(data.country_name.unique())"
   ]
  },
  {
   "cell_type": "code",
   "execution_count": 10,
   "id": "92a5c805",
   "metadata": {},
   "outputs": [],
   "source": [
    "# напишем функцию, которая будет выводить уникальные значения для указанного столбца в данных\n",
    "def np_sort_col(parametr_list):\n",
    "    for i in range(len(parametr_list)):\n",
    "        print('Уникальные значения колонки', parametr_list[i] + ':', np.sort(data[parametr_list[i]].unique()))"
   ]
  },
  {
   "cell_type": "code",
   "execution_count": 11,
   "id": "7499a6e1",
   "metadata": {},
   "outputs": [
    {
     "name": "stdout",
     "output_type": "stream",
     "text": [
      "Уникальные значения колонки ab_group: ['Control' 'Test']\n",
      "Уникальные значения колонки event_name: ['ResourceSpend']\n",
      "Уникальные значения колонки platform: ['itunes']\n",
      "Уникальные значения колонки network_name: ['Organic' 'Paid']\n"
     ]
    }
   ],
   "source": [
    "# посмотрим на колонки ab_group, event_name, platform и network_name\n",
    "np_sort_col(['ab_group', 'event_name', 'platform', 'network_name'])"
   ]
  },
  {
   "cell_type": "markdown",
   "id": "92a2fcd6",
   "metadata": {},
   "source": [
    "В описании данных заявлено, что `event_name` хранит два типа событий (InAppPurchase и ResourceSpend), однако в выгрузке присутствует только ResourceSpend. Аналогичная ситуация и с типом платформы в `platform`, в выгрузке есть только itunes."
   ]
  },
  {
   "cell_type": "code",
   "execution_count": 12,
   "id": "ac1247c8",
   "metadata": {},
   "outputs": [
    {
     "data": {
      "text/html": [
       "<div>\n",
       "<style scoped>\n",
       "    .dataframe tbody tr th:only-of-type {\n",
       "        vertical-align: middle;\n",
       "    }\n",
       "\n",
       "    .dataframe tbody tr th {\n",
       "        vertical-align: top;\n",
       "    }\n",
       "\n",
       "    .dataframe thead th {\n",
       "        text-align: right;\n",
       "    }\n",
       "</style>\n",
       "<table border=\"1\" class=\"dataframe\">\n",
       "  <thead>\n",
       "    <tr style=\"text-align: right;\">\n",
       "      <th></th>\n",
       "      <th></th>\n",
       "      <th>game_events</th>\n",
       "    </tr>\n",
       "    <tr>\n",
       "      <th>user_id</th>\n",
       "      <th>ab_group</th>\n",
       "      <th></th>\n",
       "    </tr>\n",
       "  </thead>\n",
       "  <tbody>\n",
       "    <tr>\n",
       "      <th rowspan=\"2\" valign=\"top\">007a61c7cc84aa559280c6d222aa3e15cb5e0114</th>\n",
       "      <th>Control</th>\n",
       "      <td>19</td>\n",
       "    </tr>\n",
       "    <tr>\n",
       "      <th>Test</th>\n",
       "      <td>1</td>\n",
       "    </tr>\n",
       "    <tr>\n",
       "      <th rowspan=\"2\" valign=\"top\">007c891d5eb34c1398966a836d74a123452384de</th>\n",
       "      <th>Control</th>\n",
       "      <td>2</td>\n",
       "    </tr>\n",
       "    <tr>\n",
       "      <th>Test</th>\n",
       "      <td>1</td>\n",
       "    </tr>\n",
       "    <tr>\n",
       "      <th>02125379d8faf43debf755edfb32758ea5d789d8</th>\n",
       "      <th>Control</th>\n",
       "      <td>1</td>\n",
       "    </tr>\n",
       "    <tr>\n",
       "      <th>...</th>\n",
       "      <th>...</th>\n",
       "      <td>...</td>\n",
       "    </tr>\n",
       "    <tr>\n",
       "      <th>fef449646b98d04def88b9ddb45e7c43bd9a278a</th>\n",
       "      <th>Test</th>\n",
       "      <td>1</td>\n",
       "    </tr>\n",
       "    <tr>\n",
       "      <th rowspan=\"2\" valign=\"top\">ff079e7288b379b4e47650da302a5cc23e8c7ad3</th>\n",
       "      <th>Control</th>\n",
       "      <td>5</td>\n",
       "    </tr>\n",
       "    <tr>\n",
       "      <th>Test</th>\n",
       "      <td>1</td>\n",
       "    </tr>\n",
       "    <tr>\n",
       "      <th rowspan=\"2\" valign=\"top\">ff816e78735bba9ef1d63f46e4614754e2aaeff6</th>\n",
       "      <th>Control</th>\n",
       "      <td>1</td>\n",
       "    </tr>\n",
       "    <tr>\n",
       "      <th>Test</th>\n",
       "      <td>2</td>\n",
       "    </tr>\n",
       "  </tbody>\n",
       "</table>\n",
       "<p>704 rows × 1 columns</p>\n",
       "</div>"
      ],
      "text/plain": [
       "                                                   game_events\n",
       "user_id                                  ab_group             \n",
       "007a61c7cc84aa559280c6d222aa3e15cb5e0114 Control            19\n",
       "                                         Test                1\n",
       "007c891d5eb34c1398966a836d74a123452384de Control             2\n",
       "                                         Test                1\n",
       "02125379d8faf43debf755edfb32758ea5d789d8 Control             1\n",
       "...                                                        ...\n",
       "fef449646b98d04def88b9ddb45e7c43bd9a278a Test                1\n",
       "ff079e7288b379b4e47650da302a5cc23e8c7ad3 Control             5\n",
       "                                         Test                1\n",
       "ff816e78735bba9ef1d63f46e4614754e2aaeff6 Control             1\n",
       "                                         Test                2\n",
       "\n",
       "[704 rows x 1 columns]"
      ]
     },
     "metadata": {},
     "output_type": "display_data"
    }
   ],
   "source": [
    "# проверим, не попали ли одни и те же пользователи в разные группы АВ-теста \n",
    "id_by_group = data[['user_id', 'ab_group']]\\\n",
    "                                    .groupby('user_id', as_index=False)\\\n",
    "                                    .agg({'ab_group': 'nunique'})\n",
    "id_by_group = id_by_group[id_by_group['ab_group'] == 2].reset_index(drop=True)\n",
    "user_id_list = id_by_group['user_id'].tolist()\n",
    "id_to_fix = data.query('user_id in @user_id_list')\\\n",
    "                        .groupby(['user_id', 'ab_group'])\\\n",
    "                        .agg({'time_stamp': 'count'})\\\n",
    "                        .rename(columns = {'time_stamp': 'game_events'})\n",
    "display(id_to_fix)"
   ]
  },
  {
   "cell_type": "code",
   "execution_count": 13,
   "id": "fa6a740c",
   "metadata": {},
   "outputs": [
    {
     "name": "stdout",
     "output_type": "stream",
     "text": [
      "Пользователей в ходе проведения АВ-теста попали в обе группы: 352\n"
     ]
    }
   ],
   "source": [
    "print('Пользователей в ходе проведения АВ-теста попали в обе группы: {}'.format(id_by_group['user_id'].nunique()))"
   ]
  },
  {
   "cell_type": "code",
   "execution_count": 14,
   "id": "8b19c16d",
   "metadata": {},
   "outputs": [
    {
     "name": "stdout",
     "output_type": "stream",
     "text": [
      "В группу \"Control\" попало 89034 пользователя\n",
      "В группу \"Test\" попало 22278 пользователей\n"
     ]
    }
   ],
   "source": [
    "print('В группу \"Control\" попало {} пользователя'.format(data[data['ab_group'] == \"Control\"]['user_id'].nunique()))\n",
    "print('В группу \"Test\" попало {} пользователей'.format(data[data['ab_group'] == \"Test\"]['user_id'].nunique()))"
   ]
  },
  {
   "cell_type": "markdown",
   "id": "8c8b690b",
   "metadata": {},
   "source": [
    "В ходе проведения эксперимента, скорее всего, на группы разделялись не пользователи оп user_id, а пользовательские сессии или события (отмеченные в time_stamp), по этой причине одни и те же пользователи могли попасть в различные группы при тестировании. Таких пользователей стоит исключить из анализа, так как они могут исказить результаты эксперимента."
   ]
  },
  {
   "cell_type": "code",
   "execution_count": 15,
   "id": "778da728",
   "metadata": {},
   "outputs": [],
   "source": [
    "# отфильтруем данные по пользователям\n",
    "data_filtered = data.query('user_id not in @user_id_list').reset_index(drop=True)"
   ]
  },
  {
   "cell_type": "code",
   "execution_count": 16,
   "id": "11bc975e",
   "metadata": {},
   "outputs": [
    {
     "name": "stdout",
     "output_type": "stream",
     "text": [
      "Дата начала теста: 2020-02-09 00:00:00\n",
      "Дата окончания теста: 2020-03-04 00:00:00\n"
     ]
    }
   ],
   "source": [
    "# посмотрим на даты начала и конца теста\n",
    "print('Дата начала теста: {}'.format(data_filtered['time_stamp'].min()))\n",
    "print('Дата окончания теста: {}'.format(data_filtered['time_stamp'].max()))"
   ]
  },
  {
   "cell_type": "code",
   "execution_count": 17,
   "id": "4dde05c0",
   "metadata": {},
   "outputs": [
    {
     "data": {
      "image/png": "[encoded data removed]",
      "text/plain": [
       "<Figure size 540x360 with 1 Axes>"
      ]
     },
     "metadata": {
      "needs_background": "light"
     },
     "output_type": "display_data"
    }
   ],
   "source": [
    "# посмотрим на количество пользователей по дням эксперимента\n",
    "plot_data = data_filtered.groupby('time_stamp', as_index=False)['user_id'].nunique()\n",
    "\n",
    "plt.figure(figsize=(7.5, 5))\n",
    "plt.plot(plot_data['time_stamp'], plot_data['user_id'], color='c')\n",
    "plt.xticks(rotation=45, ha='right')\n",
    "plt.axvline(x=18303, color='gray', linestyle='--')\n",
    "plt.ylabel('Кол-во уникальных пользоватиелей');"
   ]
  },
  {
   "cell_type": "markdown",
   "id": "1893b5ef",
   "metadata": {},
   "source": [
    "Судя по графику можно видеть неоднородность в данных в первые дни. Полными данными мы располагаем только с 2020-02-11 (видимо, это дата стата игрового ивента), более ранние данные придется отбросить."
   ]
  },
  {
   "cell_type": "code",
   "execution_count": 18,
   "id": "b11d40cc",
   "metadata": {},
   "outputs": [],
   "source": [
    "# отфильтруем данные по дате\n",
    "data_filtered = data_filtered.query('time_stamp >= \"2020-02-11\"').reset_index(drop=True)"
   ]
  },
  {
   "cell_type": "code",
   "execution_count": 19,
   "id": "566bf4e7",
   "metadata": {},
   "outputs": [
    {
     "name": "stdout",
     "output_type": "stream",
     "text": [
      "~97.82% данных сохранено после фильтрации\n"
     ]
    }
   ],
   "source": [
    "# посчитаем, сколько данных мы потеряли на этапе фильтрации \n",
    "print('~{0:.2%} данных сохранено после фильтрации'.format(data_filtered.shape[0]/df_row_number))"
   ]
  },
  {
   "cell_type": "markdown",
   "id": "18bfe2c8",
   "metadata": {},
   "source": [
    "# Исследовательский анализ данных"
   ]
  },
  {
   "cell_type": "code",
   "execution_count": 20,
   "id": "5a3c71e2",
   "metadata": {},
   "outputs": [
    {
     "data": {
      "text/html": [
       "<div>\n",
       "<style scoped>\n",
       "    .dataframe tbody tr th:only-of-type {\n",
       "        vertical-align: middle;\n",
       "    }\n",
       "\n",
       "    .dataframe tbody tr th {\n",
       "        vertical-align: top;\n",
       "    }\n",
       "\n",
       "    .dataframe thead th {\n",
       "        text-align: right;\n",
       "    }\n",
       "</style>\n",
       "<table border=\"1\" class=\"dataframe\">\n",
       "  <thead>\n",
       "    <tr style=\"text-align: right;\">\n",
       "      <th>network_name</th>\n",
       "      <th>Organic</th>\n",
       "      <th>Paid</th>\n",
       "    </tr>\n",
       "    <tr>\n",
       "      <th>ab_group</th>\n",
       "      <th></th>\n",
       "      <th></th>\n",
       "    </tr>\n",
       "  </thead>\n",
       "  <tbody>\n",
       "    <tr>\n",
       "      <th>Control</th>\n",
       "      <td>31746</td>\n",
       "      <td>56159</td>\n",
       "    </tr>\n",
       "    <tr>\n",
       "      <th>Test</th>\n",
       "      <td>7819</td>\n",
       "      <td>13915</td>\n",
       "    </tr>\n",
       "  </tbody>\n",
       "</table>\n",
       "</div>"
      ],
      "text/plain": [
       "network_name  Organic   Paid\n",
       "ab_group                    \n",
       "Control         31746  56159\n",
       "Test             7819  13915"
      ]
     },
     "metadata": {},
     "output_type": "display_data"
    },
    {
     "name": "stdout",
     "output_type": "stream",
     "text": [
      "Соотношение \"Control\"/\"Test\" из network_name: ~ 4.06 Organic к ~ 4.04 Paid\n"
     ]
    },
    {
     "data": {
      "image/png": "[encoded data removed]",
      "text/plain": [
       "<Figure size 540x360 with 1 Axes>"
      ]
     },
     "metadata": {
      "needs_background": "light"
     },
     "output_type": "display_data"
    }
   ],
   "source": [
    "# посмотрим как в тестовой и контрольной групее представлены пользователи с разным типом привлечения\n",
    "network_name_by_group = data_filtered.pivot_table(values='user_id', index='ab_group', columns='network_name', aggfunc='nunique')\n",
    "display(network_name_by_group)\n",
    "\n",
    "print('Соотношение \"Control\"/\"Test\" из network_name: ~',\n",
    "     (network_name_by_group['Organic']['Control']/network_name_by_group['Organic']['Test']).round(2), 'Organic к ~',\n",
    "     (network_name_by_group['Paid']['Control']/network_name_by_group['Paid']['Test']).round(2), 'Paid')\n",
    "\n",
    "plt.figure(figsize=(7.5, 5))\n",
    "\n",
    "sns.barplot(data=data_filtered.groupby(['network_name', 'ab_group'])\n",
    "                              .agg({'user_id': 'nunique'}).reset_index(), \n",
    "            y='user_id', \n",
    "            x='network_name', \n",
    "            hue='ab_group', \n",
    "            alpha=.7,\n",
    "            palette = \"mako\",\n",
    "            edgecolor='.2')\n",
    "plt.legend(title='Группа')\n",
    "plt.xlabel('Тип пользователей')\n",
    "plt.ylabel('Кол-во уникальных пользователей');"
   ]
  },
  {
   "cell_type": "markdown",
   "id": "797d81c8",
   "metadata": {},
   "source": [
    "Соотношение групп в тесте и в контроле практически одинаковое. По параметру network_name тестовая группа соответствует контрольной."
   ]
  },
  {
   "cell_type": "code",
   "execution_count": 21,
   "id": "508a92e1",
   "metadata": {},
   "outputs": [
    {
     "data": {
      "text/html": [
       "<div>\n",
       "<style scoped>\n",
       "    .dataframe tbody tr th:only-of-type {\n",
       "        vertical-align: middle;\n",
       "    }\n",
       "\n",
       "    .dataframe tbody tr th {\n",
       "        vertical-align: top;\n",
       "    }\n",
       "\n",
       "    .dataframe thead th {\n",
       "        text-align: right;\n",
       "    }\n",
       "</style>\n",
       "<table border=\"1\" class=\"dataframe\">\n",
       "  <thead>\n",
       "    <tr style=\"text-align: right;\">\n",
       "      <th></th>\n",
       "      <th></th>\n",
       "      <th>user_id</th>\n",
       "    </tr>\n",
       "    <tr>\n",
       "      <th>country_name</th>\n",
       "      <th>ab_group</th>\n",
       "      <th></th>\n",
       "    </tr>\n",
       "  </thead>\n",
       "  <tbody>\n",
       "    <tr>\n",
       "      <th rowspan=\"2\" valign=\"top\">Albania</th>\n",
       "      <th>Control</th>\n",
       "      <td>6</td>\n",
       "    </tr>\n",
       "    <tr>\n",
       "      <th>Test</th>\n",
       "      <td>1</td>\n",
       "    </tr>\n",
       "    <tr>\n",
       "      <th rowspan=\"2\" valign=\"top\">Algeria</th>\n",
       "      <th>Control</th>\n",
       "      <td>1</td>\n",
       "    </tr>\n",
       "    <tr>\n",
       "      <th>Test</th>\n",
       "      <td>1</td>\n",
       "    </tr>\n",
       "    <tr>\n",
       "      <th>Andorra</th>\n",
       "      <th>Control</th>\n",
       "      <td>4</td>\n",
       "    </tr>\n",
       "    <tr>\n",
       "      <th>...</th>\n",
       "      <th>...</th>\n",
       "      <td>...</td>\n",
       "    </tr>\n",
       "    <tr>\n",
       "      <th>United Kingdom of Great Britain and Northern Ireland</th>\n",
       "      <th>Test</th>\n",
       "      <td>6023</td>\n",
       "    </tr>\n",
       "    <tr>\n",
       "      <th rowspan=\"2\" valign=\"top\">United States of America</th>\n",
       "      <th>Control</th>\n",
       "      <td>159</td>\n",
       "    </tr>\n",
       "    <tr>\n",
       "      <th>Test</th>\n",
       "      <td>44</td>\n",
       "    </tr>\n",
       "    <tr>\n",
       "      <th>Uzbekistan</th>\n",
       "      <th>Test</th>\n",
       "      <td>1</td>\n",
       "    </tr>\n",
       "    <tr>\n",
       "      <th>Viet Nam</th>\n",
       "      <th>Control</th>\n",
       "      <td>2</td>\n",
       "    </tr>\n",
       "  </tbody>\n",
       "</table>\n",
       "<p>176 rows × 1 columns</p>\n",
       "</div>"
      ],
      "text/plain": [
       "                                                             user_id\n",
       "country_name                                       ab_group         \n",
       "Albania                                            Control         6\n",
       "                                                   Test            1\n",
       "Algeria                                            Control         1\n",
       "                                                   Test            1\n",
       "Andorra                                            Control         4\n",
       "...                                                              ...\n",
       "United Kingdom of Great Britain and Northern Ir... Test         6023\n",
       "United States of America                           Control       159\n",
       "                                                   Test           44\n",
       "Uzbekistan                                         Test            1\n",
       "Viet Nam                                           Control         2\n",
       "\n",
       "[176 rows x 1 columns]"
      ]
     },
     "metadata": {},
     "output_type": "display_data"
    }
   ],
   "source": [
    "# посмотрим как в тестовой и контрольной групее представлены пользователи из различных стран\n",
    "country_name_by_group = data_filtered.groupby(['country_name', 'ab_group']).agg({'user_id': 'nunique'})\n",
    "display(country_name_by_group)"
   ]
  },
  {
   "cell_type": "code",
   "execution_count": 22,
   "id": "c428acde",
   "metadata": {},
   "outputs": [
    {
     "data": {
      "text/plain": [
       "['Canada',\n",
       " 'Czech Republic',\n",
       " 'France',\n",
       " 'Germany',\n",
       " 'Spain',\n",
       " 'United Kingdom of Great Britain and Northern Ireland',\n",
       " 'United States of America']"
      ]
     },
     "execution_count": 22,
     "metadata": {},
     "output_type": "execute_result"
    }
   ],
   "source": [
    "# определим страны в которых аудитория не менее 100 пользователей в контрольной группе\n",
    "country_name_list = country_name_by_group.query('ab_group == \"Control\" and user_id >= 100').reset_index().country_name.tolist()\n",
    "country_name_list"
   ]
  },
  {
   "cell_type": "code",
   "execution_count": 23,
   "id": "8a2473e7",
   "metadata": {},
   "outputs": [
    {
     "data": {
      "text/html": [
       "<div>\n",
       "<style scoped>\n",
       "    .dataframe tbody tr th:only-of-type {\n",
       "        vertical-align: middle;\n",
       "    }\n",
       "\n",
       "    .dataframe tbody tr th {\n",
       "        vertical-align: top;\n",
       "    }\n",
       "\n",
       "    .dataframe thead th {\n",
       "        text-align: right;\n",
       "    }\n",
       "</style>\n",
       "<table border=\"1\" class=\"dataframe\">\n",
       "  <thead>\n",
       "    <tr style=\"text-align: right;\">\n",
       "      <th></th>\n",
       "      <th></th>\n",
       "      <th>user_id</th>\n",
       "    </tr>\n",
       "    <tr>\n",
       "      <th>country_name</th>\n",
       "      <th>ab_group</th>\n",
       "      <th></th>\n",
       "    </tr>\n",
       "  </thead>\n",
       "  <tbody>\n",
       "    <tr>\n",
       "      <th rowspan=\"2\" valign=\"top\">Canada</th>\n",
       "      <th>Control</th>\n",
       "      <td>11292</td>\n",
       "    </tr>\n",
       "    <tr>\n",
       "      <th>Test</th>\n",
       "      <td>2841</td>\n",
       "    </tr>\n",
       "    <tr>\n",
       "      <th rowspan=\"2\" valign=\"top\">Czech Republic</th>\n",
       "      <th>Control</th>\n",
       "      <td>1415</td>\n",
       "    </tr>\n",
       "    <tr>\n",
       "      <th>Test</th>\n",
       "      <td>339</td>\n",
       "    </tr>\n",
       "    <tr>\n",
       "      <th rowspan=\"2\" valign=\"top\">France</th>\n",
       "      <th>Control</th>\n",
       "      <td>18688</td>\n",
       "    </tr>\n",
       "    <tr>\n",
       "      <th>Test</th>\n",
       "      <td>4595</td>\n",
       "    </tr>\n",
       "    <tr>\n",
       "      <th rowspan=\"2\" valign=\"top\">Germany</th>\n",
       "      <th>Control</th>\n",
       "      <td>21847</td>\n",
       "    </tr>\n",
       "    <tr>\n",
       "      <th>Test</th>\n",
       "      <td>5372</td>\n",
       "    </tr>\n",
       "    <tr>\n",
       "      <th rowspan=\"2\" valign=\"top\">Spain</th>\n",
       "      <th>Control</th>\n",
       "      <td>9860</td>\n",
       "    </tr>\n",
       "    <tr>\n",
       "      <th>Test</th>\n",
       "      <td>2460</td>\n",
       "    </tr>\n",
       "    <tr>\n",
       "      <th rowspan=\"2\" valign=\"top\">UK</th>\n",
       "      <th>Control</th>\n",
       "      <td>24414</td>\n",
       "    </tr>\n",
       "    <tr>\n",
       "      <th>Test</th>\n",
       "      <td>6023</td>\n",
       "    </tr>\n",
       "    <tr>\n",
       "      <th rowspan=\"2\" valign=\"top\">USA</th>\n",
       "      <th>Control</th>\n",
       "      <td>159</td>\n",
       "    </tr>\n",
       "    <tr>\n",
       "      <th>Test</th>\n",
       "      <td>44</td>\n",
       "    </tr>\n",
       "  </tbody>\n",
       "</table>\n",
       "</div>"
      ],
      "text/plain": [
       "                         user_id\n",
       "country_name   ab_group         \n",
       "Canada         Control     11292\n",
       "               Test         2841\n",
       "Czech Republic Control      1415\n",
       "               Test          339\n",
       "France         Control     18688\n",
       "               Test         4595\n",
       "Germany        Control     21847\n",
       "               Test         5372\n",
       "Spain          Control      9860\n",
       "               Test         2460\n",
       "UK             Control     24414\n",
       "               Test         6023\n",
       "USA            Control       159\n",
       "               Test           44"
      ]
     },
     "metadata": {},
     "output_type": "display_data"
    },
    {
     "name": "stdout",
     "output_type": "stream",
     "text": [
      "Соотношение \"Control\"/\"Test\" из основных country_name: ~ 4.0 Canada к ~ 4.2 Czech Republic к ~ 4.1 France к ~ 4.1 Germany к ~ 4.0 Spain к ~ 4.1 UK к ~ 3.6 USA\n"
     ]
    },
    {
     "data": {
      "image/png": "[encoded data removed]",
      "text/plain": [
       "<Figure size 540x360 with 1 Axes>"
      ]
     },
     "metadata": {
      "needs_background": "light"
     },
     "output_type": "display_data"
    }
   ],
   "source": [
    "# отфильтруем таблицу country_name_by_group\n",
    "country_name_by_group_filtered = country_name_by_group.query('country_name in @country_name_list')\\\n",
    "                                                      .rename(index={'United Kingdom of Great Britain and Northern Ireland': 'UK',\n",
    "                                                                     'United States of America': 'USA'})\n",
    "display(country_name_by_group_filtered)\n",
    "\n",
    "print('Соотношение \"Control\"/\"Test\" из основных country_name: ~',\n",
    "      (country_name_by_group_filtered['user_id']['Canada']['Control']/country_name_by_group_filtered['user_id']['Canada']['Test']).round(1), 'Canada к ~',\n",
    "      (country_name_by_group_filtered['user_id']['Czech Republic']['Control']/country_name_by_group_filtered['user_id']['Czech Republic']['Test']).round(1), 'Czech Republic к ~',\n",
    "      (country_name_by_group_filtered['user_id']['France']['Control']/country_name_by_group_filtered['user_id']['France']['Test']).round(1), 'France к ~',\n",
    "      (country_name_by_group_filtered['user_id']['Germany']['Control']/country_name_by_group_filtered['user_id']['Germany']['Test']).round(1), 'Germany к ~',\n",
    "      (country_name_by_group_filtered['user_id']['Spain']['Control']/country_name_by_group_filtered['user_id']['Spain']['Test']).round(1), 'Spain к ~',\n",
    "      (country_name_by_group_filtered['user_id']['UK']['Control']/country_name_by_group_filtered['user_id']['UK']['Test']).round(1), 'UK к ~',\n",
    "      (country_name_by_group_filtered['user_id']['USA']['Control']/country_name_by_group_filtered['user_id']['USA']['Test']).round(1), 'USA')\n",
    "\n",
    "plt.figure(figsize=(7.5, 5))\n",
    "\n",
    "sns.barplot(data=country_name_by_group_filtered.reset_index(), \n",
    "            y='user_id', \n",
    "            x='country_name', \n",
    "            hue='ab_group', \n",
    "            alpha=.7,\n",
    "            palette = \"mako\",\n",
    "            edgecolor='.2')\n",
    "plt.legend(title='Группа')\n",
    "plt.xlabel('Страна')\n",
    "plt.ylabel('Кол-во уникальных пользователей');"
   ]
  },
  {
   "cell_type": "markdown",
   "id": "3dcd66f4",
   "metadata": {},
   "source": [
    "Соотношение групп в тесте и в контроле схожее. Если учесть, что из USA всего 206 уникальных пользователоей в обоих группах, то небольшой перекос в размерах выборок для этой страны между тестовой и контрольной группами допустим. Можно заключить, что по параметру country_name тестовая группа соответствует контрольной."
   ]
  },
  {
   "cell_type": "markdown",
   "id": "7fe5c40b",
   "metadata": {},
   "source": [
    "# Анализ результатов АВ-теста"
   ]
  },
  {
   "cell_type": "code",
   "execution_count": 24,
   "id": "0125057f",
   "metadata": {},
   "outputs": [
    {
     "data": {
      "text/html": [
       "<div>\n",
       "<style scoped>\n",
       "    .dataframe tbody tr th:only-of-type {\n",
       "        vertical-align: middle;\n",
       "    }\n",
       "\n",
       "    .dataframe tbody tr th {\n",
       "        vertical-align: top;\n",
       "    }\n",
       "\n",
       "    .dataframe thead th {\n",
       "        text-align: right;\n",
       "    }\n",
       "</style>\n",
       "<table border=\"1\" class=\"dataframe\">\n",
       "  <thead>\n",
       "    <tr style=\"text-align: right;\">\n",
       "      <th></th>\n",
       "      <th>revenue_on_event</th>\n",
       "      <th>revenue_on_other_activities</th>\n",
       "      <th>gold_on_event</th>\n",
       "      <th>gold_on_other_activities</th>\n",
       "    </tr>\n",
       "  </thead>\n",
       "  <tbody>\n",
       "    <tr>\n",
       "      <th>count</th>\n",
       "      <td>681648.0</td>\n",
       "      <td>681648.0</td>\n",
       "      <td>681648.000000</td>\n",
       "      <td>681648.000000</td>\n",
       "    </tr>\n",
       "    <tr>\n",
       "      <th>mean</th>\n",
       "      <td>0.0</td>\n",
       "      <td>0.0</td>\n",
       "      <td>126.072988</td>\n",
       "      <td>225.062569</td>\n",
       "    </tr>\n",
       "    <tr>\n",
       "      <th>std</th>\n",
       "      <td>0.0</td>\n",
       "      <td>0.0</td>\n",
       "      <td>1031.417998</td>\n",
       "      <td>1692.662499</td>\n",
       "    </tr>\n",
       "    <tr>\n",
       "      <th>min</th>\n",
       "      <td>0.0</td>\n",
       "      <td>0.0</td>\n",
       "      <td>0.000000</td>\n",
       "      <td>0.000000</td>\n",
       "    </tr>\n",
       "    <tr>\n",
       "      <th>25%</th>\n",
       "      <td>0.0</td>\n",
       "      <td>0.0</td>\n",
       "      <td>0.000000</td>\n",
       "      <td>0.000000</td>\n",
       "    </tr>\n",
       "    <tr>\n",
       "      <th>50%</th>\n",
       "      <td>0.0</td>\n",
       "      <td>0.0</td>\n",
       "      <td>0.000000</td>\n",
       "      <td>0.000000</td>\n",
       "    </tr>\n",
       "    <tr>\n",
       "      <th>75%</th>\n",
       "      <td>0.0</td>\n",
       "      <td>0.0</td>\n",
       "      <td>0.000000</td>\n",
       "      <td>0.000000</td>\n",
       "    </tr>\n",
       "    <tr>\n",
       "      <th>max</th>\n",
       "      <td>0.0</td>\n",
       "      <td>0.0</td>\n",
       "      <td>189600.000000</td>\n",
       "      <td>755950.000000</td>\n",
       "    </tr>\n",
       "  </tbody>\n",
       "</table>\n",
       "</div>"
      ],
      "text/plain": [
       "       revenue_on_event  revenue_on_other_activities  gold_on_event  \\\n",
       "count          681648.0                     681648.0  681648.000000   \n",
       "mean                0.0                          0.0     126.072988   \n",
       "std                 0.0                          0.0    1031.417998   \n",
       "min                 0.0                          0.0       0.000000   \n",
       "25%                 0.0                          0.0       0.000000   \n",
       "50%                 0.0                          0.0       0.000000   \n",
       "75%                 0.0                          0.0       0.000000   \n",
       "max                 0.0                          0.0  189600.000000   \n",
       "\n",
       "       gold_on_other_activities  \n",
       "count             681648.000000  \n",
       "mean                 225.062569  \n",
       "std                 1692.662499  \n",
       "min                    0.000000  \n",
       "25%                    0.000000  \n",
       "50%                    0.000000  \n",
       "75%                    0.000000  \n",
       "max               755950.000000  "
      ]
     },
     "execution_count": 24,
     "metadata": {},
     "output_type": "execute_result"
    }
   ],
   "source": [
    "# посмотрим на описание основных параметров, оцениваемых в ходе эксперимента\n",
    "data_filtered[['revenue_on_event', 'revenue_on_other_activities', 'gold_on_event', 'gold_on_other_activities']].describe()"
   ]
  },
  {
   "cell_type": "markdown",
   "id": "b12d6aad",
   "metadata": {},
   "source": [
    "По какой-то причине в колонках `revenue_on_event` и `revenue_on_other_activities` стоят только нули. Для анализа результатов теста будем использовать значение потраченного пользователями золота из `gold_on_event` и `gold_on_other_activities`. "
   ]
  },
  {
   "cell_type": "code",
   "execution_count": 25,
   "id": "e4bcf484",
   "metadata": {},
   "outputs": [
    {
     "data": {
      "image/png": "[encoded data removed]",
      "text/plain": [
       "<Figure size 1080x360 with 2 Axes>"
      ]
     },
     "metadata": {
      "needs_background": "light"
     },
     "output_type": "display_data"
    }
   ],
   "source": [
    "# посмотрим как распредлены игроки по количеству потраченого золота в игре\n",
    "plt.figure(figsize=(15, 5))\n",
    "\n",
    "ax1 = plt.subplot(1, 2, 1)\n",
    "data_filtered['gold_on_event'].hist(color='c')\n",
    "plt.xlabel('Потрачено золота на ивентный прогресс')\n",
    "plt.ylabel('Кол-во событий')\n",
    "plt.grid(False)\n",
    "\n",
    "ax2 = plt.subplot(1, 2, 2, sharey=ax1)\n",
    "data_filtered['gold_on_other_activities'].hist(color='c')\n",
    "plt.xlabel('Потрачено золота на другие продукты')\n",
    "plt.grid(False);"
   ]
  },
  {
   "cell_type": "code",
   "execution_count": 26,
   "id": "0258cf66",
   "metadata": {},
   "outputs": [
    {
     "data": {
      "text/html": [
       "<div>\n",
       "<style scoped>\n",
       "    .dataframe tbody tr th:only-of-type {\n",
       "        vertical-align: middle;\n",
       "    }\n",
       "\n",
       "    .dataframe tbody tr th {\n",
       "        vertical-align: top;\n",
       "    }\n",
       "\n",
       "    .dataframe thead th {\n",
       "        text-align: right;\n",
       "    }\n",
       "</style>\n",
       "<table border=\"1\" class=\"dataframe\">\n",
       "  <thead>\n",
       "    <tr style=\"text-align: right;\">\n",
       "      <th></th>\n",
       "      <th>game_events</th>\n",
       "      <th>mean_gold_spent</th>\n",
       "    </tr>\n",
       "    <tr>\n",
       "      <th>ab_group</th>\n",
       "      <th></th>\n",
       "      <th></th>\n",
       "    </tr>\n",
       "  </thead>\n",
       "  <tbody>\n",
       "    <tr>\n",
       "      <th>Control</th>\n",
       "      <td>546405</td>\n",
       "      <td>124.876786</td>\n",
       "    </tr>\n",
       "    <tr>\n",
       "      <th>Test</th>\n",
       "      <td>135243</td>\n",
       "      <td>130.905851</td>\n",
       "    </tr>\n",
       "  </tbody>\n",
       "</table>\n",
       "</div>"
      ],
      "text/plain": [
       "          game_events  mean_gold_spent\n",
       "ab_group                              \n",
       "Control        546405       124.876786\n",
       "Test           135243       130.905851"
      ]
     },
     "metadata": {},
     "output_type": "display_data"
    }
   ],
   "source": [
    "# посчитаем сколько в среднем золота тратили на ивентные продукты в пересчете на уникального пользоватнеля\n",
    "data_filtered['gold_on_event_flag'] = (data_filtered['gold_on_event'] > 0) * 1\n",
    "data_filtered['gold_on_other_activities_flag'] = (data_filtered['gold_on_other_activities'] > 0) * 1\n",
    "\n",
    "for_bootstrap_data = data_filtered.groupby('ab_group')[['gold_on_event_flag','gold_on_event']]\\\n",
    "                              .agg({'gold_on_event_flag': 'count',\n",
    "                                    'gold_on_event': 'mean'})\\\n",
    "                              .rename(columns={'gold_on_event_flag': 'game_events',\n",
    "                                               'gold_on_event': 'mean_gold_spent'})\n",
    "display(for_bootstrap_data)"
   ]
  },
  {
   "cell_type": "markdown",
   "id": "c5611426",
   "metadata": {},
   "source": [
    "Так как мы заменили все NaN в исходных данных на нули, что в результате мы считаем среднее для всех пользователей (тех, кто сконвертировался, и тех, кто золото не тратил). С учетом конверсии, в тестовой группе среднее количество потраченного золота на событие больше, чем в контрольной."
   ]
  },
  {
   "cell_type": "code",
   "execution_count": 27,
   "id": "5ca164e8",
   "metadata": {},
   "outputs": [],
   "source": [
    "# посчитает размеры групп и наблюдаемые различия в средних для проведения ММК\n",
    "group_size = data_filtered['ab_group'].value_counts().values\n",
    "base_diff = for_bootstrap_data.mean_gold_spent.max() - for_bootstrap_data.mean_gold_spent.min()"
   ]
  },
  {
   "cell_type": "code",
   "execution_count": 28,
   "id": "a5b9df51",
   "metadata": {},
   "outputs": [
    {
     "data": {
      "application/vnd.jupyter.widget-view+json": {
       "model_id": "963dae7fbd814ec7be7b264b61172b54",
       "version_major": 2,
       "version_minor": 0
      },
      "text/plain": [
       "  0%|          | 0/2000 [00:00<?, ?it/s]"
      ]
     },
     "metadata": {},
     "output_type": "display_data"
    },
    {
     "name": "stdout",
     "output_type": "stream",
     "text": [
      "Вероятность случайно обнаружить наблюдаемые различия в gold_on_event: 5.50%\n"
     ]
    }
   ],
   "source": [
    "# ММК gold_on_event на 2000 семплах\n",
    "n = 2000\n",
    "result = []\n",
    "\n",
    "for _ in tqdm(range(n)):\n",
    "    Control = data_filtered.sample(group_size[0], replace=True)['gold_on_event'].mean()\n",
    "    Test = data_filtered.sample(group_size[1], replace=True)['gold_on_event'].mean()\n",
    "    result.append(np.abs(Control - Test) >= base_diff)\n",
    "    \n",
    "print('Вероятность случайно обнаружить наблюдаемые различия в gold_on_event: {:.2%}'.format(np.mean(result)))"
   ]
  },
  {
   "cell_type": "markdown",
   "id": "cf8c3eb5",
   "metadata": {},
   "source": [
    "При уровне значимости в 5% мы не можем достоверно утверждать, что наблюдаемые различия в среднем количестве потраченного на ивентные события золота различается между группами теста."
   ]
  },
  {
   "cell_type": "code",
   "execution_count": 29,
   "id": "64d41605",
   "metadata": {},
   "outputs": [
    {
     "data": {
      "text/html": [
       "<div>\n",
       "<style scoped>\n",
       "    .dataframe tbody tr th:only-of-type {\n",
       "        vertical-align: middle;\n",
       "    }\n",
       "\n",
       "    .dataframe tbody tr th {\n",
       "        vertical-align: top;\n",
       "    }\n",
       "\n",
       "    .dataframe thead th {\n",
       "        text-align: right;\n",
       "    }\n",
       "</style>\n",
       "<table border=\"1\" class=\"dataframe\">\n",
       "  <thead>\n",
       "    <tr style=\"text-align: right;\">\n",
       "      <th></th>\n",
       "      <th>game_events</th>\n",
       "      <th>mean_gold_on_other_activities_spent</th>\n",
       "    </tr>\n",
       "    <tr>\n",
       "      <th>ab_group</th>\n",
       "      <th></th>\n",
       "      <th></th>\n",
       "    </tr>\n",
       "  </thead>\n",
       "  <tbody>\n",
       "    <tr>\n",
       "      <th>Control</th>\n",
       "      <td>546405</td>\n",
       "      <td>218.711578</td>\n",
       "    </tr>\n",
       "    <tr>\n",
       "      <th>Test</th>\n",
       "      <td>135243</td>\n",
       "      <td>250.721664</td>\n",
       "    </tr>\n",
       "  </tbody>\n",
       "</table>\n",
       "</div>"
      ],
      "text/plain": [
       "          game_events  mean_gold_on_other_activities_spent\n",
       "ab_group                                                  \n",
       "Control        546405                           218.711578\n",
       "Test           135243                           250.721664"
      ]
     },
     "metadata": {},
     "output_type": "display_data"
    }
   ],
   "source": [
    "# посчитаем сколько в среднем золота тратили на другие продукты в пересчете на уникального пользоватнеля\n",
    "for_bootstrap2_data = data_filtered.groupby('ab_group')[['gold_on_other_activities_flag','gold_on_other_activities']]\\\n",
    "                              .agg({'gold_on_other_activities_flag': 'count',\n",
    "                                    'gold_on_other_activities': 'mean'})\\\n",
    "                              .rename(columns={'gold_on_other_activities_flag': 'game_events',\n",
    "                                               'gold_on_other_activities': 'mean_gold_on_other_activities_spent'})\n",
    "display(for_bootstrap2_data)"
   ]
  },
  {
   "cell_type": "code",
   "execution_count": 30,
   "id": "30be12b3",
   "metadata": {},
   "outputs": [],
   "source": [
    "base_diff_2 = for_bootstrap2_data.mean_gold_on_other_activities_spent.max() - for_bootstrap2_data.mean_gold_on_other_activities_spent.min()"
   ]
  },
  {
   "cell_type": "code",
   "execution_count": 31,
   "id": "2bd452e6",
   "metadata": {},
   "outputs": [
    {
     "data": {
      "application/vnd.jupyter.widget-view+json": {
       "model_id": "0d517f4b8db94755898d7641644f375b",
       "version_major": 2,
       "version_minor": 0
      },
      "text/plain": [
       "  0%|          | 0/2000 [00:00<?, ?it/s]"
      ]
     },
     "metadata": {},
     "output_type": "display_data"
    },
    {
     "name": "stdout",
     "output_type": "stream",
     "text": [
      "Вероятность случайно обнаружить наблюдаемые различия в gold_on_other_activities: 0.00%\n"
     ]
    }
   ],
   "source": [
    "# ММК gold_on_other_activities на 2000 семплах\n",
    "n = 2000\n",
    "result_2 = []\n",
    "\n",
    "for _ in tqdm(range(n)):\n",
    "    Control = data_filtered.sample(group_size[0], replace=True)['gold_on_other_activities'].mean()\n",
    "    Test = data_filtered.sample(group_size[1], replace=True)['gold_on_other_activities'].mean()\n",
    "    result_2.append(np.abs(Control - Test) >= base_diff_2)\n",
    "    \n",
    "print('Вероятность случайно обнаружить наблюдаемые различия в gold_on_other_activities: {:.2%}'.format(np.mean(result_2)))"
   ]
  },
  {
   "cell_type": "markdown",
   "id": "f3fec43c",
   "metadata": {},
   "source": [
    "❗ Обнаружены статистически значимые различия. В тестовой группе пользователи тратят больше золота на другие (не ивентные) продукты."
   ]
  },
  {
   "cell_type": "markdown",
   "id": "b188936a",
   "metadata": {},
   "source": [
    "# Выводы"
   ]
  },
  {
   "cell_type": "markdown",
   "id": "1ede6cc6",
   "metadata": {},
   "source": [
    "**РЕЗУЛЬТАТ: Фиксируем победу группы B (тестовой)**\n",
    "\n",
    "Вид окошка покупки ивентовых продуктов <u>влияет</u> на поведение пользователей. Статистически не подтверждается, что игроки покупают больше ивентных продуктов, однако, игроки доставерно больше золота трятят на прочие покупки в игре."
   ]
  }
 ],
 "metadata": {
  "kernelspec": {
   "display_name": "Python 3 (ipykernel)",
   "language": "python",
   "name": "python3"
  },
  "language_info": {
   "codemirror_mode": {
    "name": "ipython",
    "version": 3
   },
   "file_extension": ".py",
   "mimetype": "text/x-python",
   "name": "python",
   "nbconvert_exporter": "python",
   "pygments_lexer": "ipython3",
   "version": "3.9.7"
  },
  "toc": {
   "base_numbering": 1,
   "nav_menu": {
    "height": "82px",
    "width": "482px"
   },
   "number_sections": true,
   "sideBar": true,
   "skip_h1_title": false,
   "title_cell": "Table of Contents",
   "title_sidebar": "Contents",
   "toc_cell": false,
   "toc_position": {},
   "toc_section_display": true,
   "toc_window_display": false
  }
 },
 "nbformat": 4,
 "nbformat_minor": 5
}
