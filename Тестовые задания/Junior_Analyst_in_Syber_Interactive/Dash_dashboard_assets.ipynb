{
 "cells": [
  {
   "cell_type": "code",
   "execution_count": 1,
   "id": "1030dd45",
   "metadata": {},
   "outputs": [],
   "source": [
    "from datetime import datetime as dt\n",
    "import plotly.express as px\n",
    "import dash                                     \n",
    "from dash import dcc, html, Input, Output\n",
    "import requests, json\n",
    "import pandas as pd"
   ]
  },
  {
   "cell_type": "code",
   "execution_count": 2,
   "id": "a598c649",
   "metadata": {},
   "outputs": [],
   "source": [
    "# get names of assets / получаем названия валют\n",
    "assets = requests.get('http://api.coincap.io/v2/assets').json()\n",
    "assets_id = []\n",
    "assets_symbol = []\n",
    "for i in assets['data']:\n",
    "    assets_id.append(i['id'])\n",
    "    assets_symbol.append(i['symbol'])\n",
    "assets_name = dict(zip(assets_id, assets_symbol))\n",
    "\n",
    "# create DataFrame to work with / создаем таблицу для работы\n",
    "url = 'http://api.coincap.io/v2/assets/bitcoin/history?interval=d1' # let's choose bitcoin for main view / начнем с bitcoin\n",
    "json = requests.get(url).json()\n",
    "df = pd.DataFrame(json['data'])\n",
    "# fix types / исправляем типы данных\n",
    "df['date'] = pd.to_datetime(df['date'], format=\"%Y-%m-%dT%H:%M:%S.%f\").dt.date\n",
    "df['date'] = pd.to_datetime(df['date'])\n",
    "df['priceUsd'] = df['priceUsd'].astype('float')"
   ]
  },
  {
   "cell_type": "code",
   "execution_count": 3,
   "id": "690918e3",
   "metadata": {},
   "outputs": [
    {
     "name": "stdout",
     "output_type": "stream",
     "text": [
      "Dash is running on http://127.0.0.1:8050/\n",
      "\n",
      " * Serving Flask app \"__main__\" (lazy loading)\n",
      " * Environment: production\n",
      "\u001b[31m   WARNING: This is a development server. Do not use it in a production deployment.\u001b[0m\n",
      "\u001b[2m   Use a production WSGI server instead.\u001b[0m\n",
      " * Debug mode: off\n"
     ]
    },
    {
     "name": "stderr",
     "output_type": "stream",
     "text": [
      " * Running on http://127.0.0.1:8050/ (Press CTRL+C to quit)\n"
     ]
    }
   ],
   "source": [
    "# load style / загружаем стиль\n",
    "external_stylesheets = ['https://codepen.io/chriddyp/pen/bWLwgP.css']\n",
    "\n",
    "# create dashboard / отрисовываем дашборд\n",
    "app = dash.Dash(__name__, external_stylesheets=external_stylesheets)\n",
    "\n",
    "app.layout = html.Div([\n",
    "                html.Div([\n",
    "                    html.Div([\n",
    "                        html.Label('Select an asset'),\n",
    "                        dcc.Dropdown(\n",
    "                                    options=assets_name,\n",
    "                                    value='bitcoin',\n",
    "                                    multi=False,\n",
    "                                    id='my_dropdown',\n",
    "                        ),\n",
    "                        html.Div([\n",
    "                            html.Div([\n",
    "                                html.Label('Date from'),\n",
    "                                dcc.DatePickerSingle(\n",
    "                                    min_date_allowed = df['date'].min(),\n",
    "                                    max_date_allowed = df['date'].max(),\n",
    "                                    date=df['date'].min(),\n",
    "                                    display_format='DD MM YYYY',\n",
    "                                    id='my_date_picker_range_start'\n",
    "                                ),\n",
    "                            ], className = 'six columns'),\n",
    "                            html.Div([\n",
    "                                html.Label('Date to'),\n",
    "                                dcc.DatePickerSingle(\n",
    "                                    min_date_allowed = df['date'].min(),\n",
    "                                    max_date_allowed = df['date'].max(),\n",
    "                                    date=df['date'].max(),\n",
    "                                    display_format='DD MM YYYY',\n",
    "                                    id='my_date_picker_range_end'\n",
    "                                ),\n",
    "                            ], className = 'six columns'),\n",
    "                        ], className = 'row'),\n",
    "                    ], className = 'four columns'),\n",
    "                    html.Div([\n",
    "                        dcc.Graph(id='fig')\n",
    "                    ], className = 'eight columns'),\n",
    "                ], className = 'row'), \n",
    "            ])\n",
    "\n",
    "@app.callback(\n",
    "    Output('fig', 'figure'),\n",
    "    Input('my_date_picker_range_start', 'date'),\n",
    "    Input('my_date_picker_range_end', 'date'),\n",
    "    Input('my_dropdown', 'value')\n",
    ")\n",
    "def update_output(start_date, end_date, value):\n",
    "    # fill DataFrame with choosen asset / заполняем таблицу выбранной валютой\n",
    "    url = 'http://api.coincap.io/v2/assets/' + str(value) + '/history?interval=d1'\n",
    "    json = requests.get(url).json()\n",
    "    df = pd.DataFrame(json['data'])\n",
    "    # fix types / исправляем типы данных\n",
    "    df['date'] = pd.to_datetime(df['date'], format=\"%Y-%m-%dT%H:%M:%S.%f\").dt.date\n",
    "    df['date'] = pd.to_datetime(df['date'])\n",
    "    df['priceUsd'] = df['priceUsd'].astype('float')\n",
    "\n",
    "    mask = (df['date'] > start_date) & (df['date'] <= end_date)\n",
    "    data = df.loc[mask]\n",
    "    fig = px.bar(data, x=\"date\", y=\"priceUsd\")\n",
    "    \n",
    "    fig.update_layout(\n",
    "    xaxis=dict(showgrid=False),\n",
    "    yaxis=dict(zeroline=False, gridcolor='white'),\n",
    "    title=assets_name.get(value),\n",
    "    paper_bgcolor='rgb(233,233,233)',\n",
    "    plot_bgcolor='rgb(233,233,233)')\n",
    "    \n",
    "    return fig\n",
    "\n",
    "# run dashboard / запускаем\n",
    "if __name__ == '__main__':\n",
    "    app.run_server()"
   ]
  }
 ],
 "metadata": {
  "kernelspec": {
   "display_name": "Python 3 (ipykernel)",
   "language": "python",
   "name": "python3"
  },
  "language_info": {
   "codemirror_mode": {
    "name": "ipython",
    "version": 3
   },
   "file_extension": ".py",
   "mimetype": "text/x-python",
   "name": "python",
   "nbconvert_exporter": "python",
   "pygments_lexer": "ipython3",
   "version": "3.9.7"
  },
  "toc": {
   "base_numbering": 1,
   "nav_menu": {},
   "number_sections": true,
   "sideBar": true,
   "skip_h1_title": false,
   "title_cell": "Table of Contents",
   "title_sidebar": "Contents",
   "toc_cell": false,
   "toc_position": {},
   "toc_section_display": true,
   "toc_window_display": false
  }
 },
 "nbformat": 4,
 "nbformat_minor": 5
}
