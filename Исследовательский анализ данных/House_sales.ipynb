{
 "cells": [
  {
   "cell_type": "markdown",
   "metadata": {},
   "source": [
    "# Исследование объявлений о продаже квартир\n",
    "\n",
    "В вашем распоряжении данные сервиса Яндекс.Недвижимость — архив объявлений о продаже квартир в Санкт-Петербурге и соседних населённых пунктах за несколько лет. Нужно научиться определять рыночную стоимость объектов недвижимости. Ваша задача — установить параметры. Это позволит построить автоматизированную систему: она отследит аномалии и мошенническую деятельность. \n",
    "\n",
    "По каждой квартире на продажу доступны два вида данных. Первые вписаны пользователем, вторые — получены автоматически на основе картографических данных. Например, расстояние до центра, аэропорта, ближайшего парка и водоёма. "
   ]
  },
  {
   "cell_type": "markdown",
   "metadata": {},
   "source": [
    "### 1. Откройте файл с данными и изучите общую информацию"
   ]
  },
  {
   "cell_type": "code",
   "execution_count": 1,
   "metadata": {},
   "outputs": [],
   "source": [
    "import pandas as pd\n",
    "import numpy as np\n",
    "import seaborn as sns\n",
    "import matplotlib.pyplot as plt\n",
    "from scipy.stats import ttest_ind"
   ]
  },
  {
   "cell_type": "code",
   "execution_count": 2,
   "metadata": {},
   "outputs": [
    {
     "data": {
      "text/html": [
       "<div>\n",
       "<style scoped>\n",
       "    .dataframe tbody tr th:only-of-type {\n",
       "        vertical-align: middle;\n",
       "    }\n",
       "\n",
       "    .dataframe tbody tr th {\n",
       "        vertical-align: top;\n",
       "    }\n",
       "\n",
       "    .dataframe thead th {\n",
       "        text-align: right;\n",
       "    }\n",
       "</style>\n",
       "<table border=\"1\" class=\"dataframe\">\n",
       "  <thead>\n",
       "    <tr style=\"text-align: right;\">\n",
       "      <th></th>\n",
       "      <th>total_images</th>\n",
       "      <th>last_price</th>\n",
       "      <th>total_area</th>\n",
       "      <th>first_day_exposition</th>\n",
       "      <th>rooms</th>\n",
       "      <th>ceiling_height</th>\n",
       "      <th>floors_total</th>\n",
       "      <th>living_area</th>\n",
       "      <th>floor</th>\n",
       "      <th>is_apartment</th>\n",
       "      <th>...</th>\n",
       "      <th>kitchen_area</th>\n",
       "      <th>balcony</th>\n",
       "      <th>locality_name</th>\n",
       "      <th>airports_nearest</th>\n",
       "      <th>cityCenters_nearest</th>\n",
       "      <th>parks_around3000</th>\n",
       "      <th>parks_nearest</th>\n",
       "      <th>ponds_around3000</th>\n",
       "      <th>ponds_nearest</th>\n",
       "      <th>days_exposition</th>\n",
       "    </tr>\n",
       "  </thead>\n",
       "  <tbody>\n",
       "    <tr>\n",
       "      <th>0</th>\n",
       "      <td>20</td>\n",
       "      <td>13000000.0</td>\n",
       "      <td>108.0</td>\n",
       "      <td>2019-03-07T00:00:00</td>\n",
       "      <td>3</td>\n",
       "      <td>2.70</td>\n",
       "      <td>16.0</td>\n",
       "      <td>51.0</td>\n",
       "      <td>8</td>\n",
       "      <td>NaN</td>\n",
       "      <td>...</td>\n",
       "      <td>25.0</td>\n",
       "      <td>NaN</td>\n",
       "      <td>Санкт-Петербург</td>\n",
       "      <td>18863.0</td>\n",
       "      <td>16028.0</td>\n",
       "      <td>1.0</td>\n",
       "      <td>482.0</td>\n",
       "      <td>2.0</td>\n",
       "      <td>755.0</td>\n",
       "      <td>NaN</td>\n",
       "    </tr>\n",
       "    <tr>\n",
       "      <th>1</th>\n",
       "      <td>7</td>\n",
       "      <td>3350000.0</td>\n",
       "      <td>40.4</td>\n",
       "      <td>2018-12-04T00:00:00</td>\n",
       "      <td>1</td>\n",
       "      <td>NaN</td>\n",
       "      <td>11.0</td>\n",
       "      <td>18.6</td>\n",
       "      <td>1</td>\n",
       "      <td>NaN</td>\n",
       "      <td>...</td>\n",
       "      <td>11.0</td>\n",
       "      <td>2.0</td>\n",
       "      <td>посёлок Шушары</td>\n",
       "      <td>12817.0</td>\n",
       "      <td>18603.0</td>\n",
       "      <td>0.0</td>\n",
       "      <td>NaN</td>\n",
       "      <td>0.0</td>\n",
       "      <td>NaN</td>\n",
       "      <td>81.0</td>\n",
       "    </tr>\n",
       "    <tr>\n",
       "      <th>2</th>\n",
       "      <td>10</td>\n",
       "      <td>5196000.0</td>\n",
       "      <td>56.0</td>\n",
       "      <td>2015-08-20T00:00:00</td>\n",
       "      <td>2</td>\n",
       "      <td>NaN</td>\n",
       "      <td>5.0</td>\n",
       "      <td>34.3</td>\n",
       "      <td>4</td>\n",
       "      <td>NaN</td>\n",
       "      <td>...</td>\n",
       "      <td>8.3</td>\n",
       "      <td>0.0</td>\n",
       "      <td>Санкт-Петербург</td>\n",
       "      <td>21741.0</td>\n",
       "      <td>13933.0</td>\n",
       "      <td>1.0</td>\n",
       "      <td>90.0</td>\n",
       "      <td>2.0</td>\n",
       "      <td>574.0</td>\n",
       "      <td>558.0</td>\n",
       "    </tr>\n",
       "    <tr>\n",
       "      <th>3</th>\n",
       "      <td>0</td>\n",
       "      <td>64900000.0</td>\n",
       "      <td>159.0</td>\n",
       "      <td>2015-07-24T00:00:00</td>\n",
       "      <td>3</td>\n",
       "      <td>NaN</td>\n",
       "      <td>14.0</td>\n",
       "      <td>NaN</td>\n",
       "      <td>9</td>\n",
       "      <td>NaN</td>\n",
       "      <td>...</td>\n",
       "      <td>NaN</td>\n",
       "      <td>0.0</td>\n",
       "      <td>Санкт-Петербург</td>\n",
       "      <td>28098.0</td>\n",
       "      <td>6800.0</td>\n",
       "      <td>2.0</td>\n",
       "      <td>84.0</td>\n",
       "      <td>3.0</td>\n",
       "      <td>234.0</td>\n",
       "      <td>424.0</td>\n",
       "    </tr>\n",
       "    <tr>\n",
       "      <th>4</th>\n",
       "      <td>2</td>\n",
       "      <td>10000000.0</td>\n",
       "      <td>100.0</td>\n",
       "      <td>2018-06-19T00:00:00</td>\n",
       "      <td>2</td>\n",
       "      <td>3.03</td>\n",
       "      <td>14.0</td>\n",
       "      <td>32.0</td>\n",
       "      <td>13</td>\n",
       "      <td>NaN</td>\n",
       "      <td>...</td>\n",
       "      <td>41.0</td>\n",
       "      <td>NaN</td>\n",
       "      <td>Санкт-Петербург</td>\n",
       "      <td>31856.0</td>\n",
       "      <td>8098.0</td>\n",
       "      <td>2.0</td>\n",
       "      <td>112.0</td>\n",
       "      <td>1.0</td>\n",
       "      <td>48.0</td>\n",
       "      <td>121.0</td>\n",
       "    </tr>\n",
       "  </tbody>\n",
       "</table>\n",
       "<p>5 rows × 22 columns</p>\n",
       "</div>"
      ],
      "text/plain": [
       "   total_images  last_price  total_area first_day_exposition  rooms  \\\n",
       "0            20  13000000.0       108.0  2019-03-07T00:00:00      3   \n",
       "1             7   3350000.0        40.4  2018-12-04T00:00:00      1   \n",
       "2            10   5196000.0        56.0  2015-08-20T00:00:00      2   \n",
       "3             0  64900000.0       159.0  2015-07-24T00:00:00      3   \n",
       "4             2  10000000.0       100.0  2018-06-19T00:00:00      2   \n",
       "\n",
       "   ceiling_height  floors_total  living_area  floor is_apartment  ...  \\\n",
       "0            2.70          16.0         51.0      8          NaN  ...   \n",
       "1             NaN          11.0         18.6      1          NaN  ...   \n",
       "2             NaN           5.0         34.3      4          NaN  ...   \n",
       "3             NaN          14.0          NaN      9          NaN  ...   \n",
       "4            3.03          14.0         32.0     13          NaN  ...   \n",
       "\n",
       "   kitchen_area  balcony    locality_name  airports_nearest  \\\n",
       "0          25.0      NaN  Санкт-Петербург           18863.0   \n",
       "1          11.0      2.0   посёлок Шушары           12817.0   \n",
       "2           8.3      0.0  Санкт-Петербург           21741.0   \n",
       "3           NaN      0.0  Санкт-Петербург           28098.0   \n",
       "4          41.0      NaN  Санкт-Петербург           31856.0   \n",
       "\n",
       "  cityCenters_nearest  parks_around3000  parks_nearest  ponds_around3000  \\\n",
       "0             16028.0               1.0          482.0               2.0   \n",
       "1             18603.0               0.0            NaN               0.0   \n",
       "2             13933.0               1.0           90.0               2.0   \n",
       "3              6800.0               2.0           84.0               3.0   \n",
       "4              8098.0               2.0          112.0               1.0   \n",
       "\n",
       "   ponds_nearest  days_exposition  \n",
       "0          755.0              NaN  \n",
       "1            NaN             81.0  \n",
       "2          574.0            558.0  \n",
       "3          234.0            424.0  \n",
       "4           48.0            121.0  \n",
       "\n",
       "[5 rows x 22 columns]"
      ]
     },
     "execution_count": 2,
     "metadata": {},
     "output_type": "execute_result"
    }
   ],
   "source": [
    "try:\n",
    "    data = pd.read_csv('/datasets/real_estate_data.csv', sep='\\t')\n",
    "except:\n",
    "    data = pd.read_csv('https://code.s3.yandex.net/datasets/real_estate_data.csv', sep='\\t')\n",
    "    \n",
    "data.head()"
   ]
  },
  {
   "cell_type": "code",
   "execution_count": 3,
   "metadata": {},
   "outputs": [
    {
     "name": "stdout",
     "output_type": "stream",
     "text": [
      "<class 'pandas.core.frame.DataFrame'>\n",
      "RangeIndex: 23699 entries, 0 to 23698\n",
      "Data columns (total 22 columns):\n",
      " #   Column                Non-Null Count  Dtype  \n",
      "---  ------                --------------  -----  \n",
      " 0   total_images          23699 non-null  int64  \n",
      " 1   last_price            23699 non-null  float64\n",
      " 2   total_area            23699 non-null  float64\n",
      " 3   first_day_exposition  23699 non-null  object \n",
      " 4   rooms                 23699 non-null  int64  \n",
      " 5   ceiling_height        14504 non-null  float64\n",
      " 6   floors_total          23613 non-null  float64\n",
      " 7   living_area           21796 non-null  float64\n",
      " 8   floor                 23699 non-null  int64  \n",
      " 9   is_apartment          2775 non-null   object \n",
      " 10  studio                23699 non-null  bool   \n",
      " 11  open_plan             23699 non-null  bool   \n",
      " 12  kitchen_area          21421 non-null  float64\n",
      " 13  balcony               12180 non-null  float64\n",
      " 14  locality_name         23650 non-null  object \n",
      " 15  airports_nearest      18157 non-null  float64\n",
      " 16  cityCenters_nearest   18180 non-null  float64\n",
      " 17  parks_around3000      18181 non-null  float64\n",
      " 18  parks_nearest         8079 non-null   float64\n",
      " 19  ponds_around3000      18181 non-null  float64\n",
      " 20  ponds_nearest         9110 non-null   float64\n",
      " 21  days_exposition       20518 non-null  float64\n",
      "dtypes: bool(2), float64(14), int64(3), object(3)\n",
      "memory usage: 3.7+ MB\n"
     ]
    }
   ],
   "source": [
    "data.info()"
   ]
  },
  {
   "cell_type": "code",
   "execution_count": 4,
   "metadata": {
    "scrolled": true
   },
   "outputs": [
    {
     "data": {
      "image/png": "[encoded data removed]",
      "text/plain": [
       "<Figure size 1080x1440 with 20 Axes>"
      ]
     },
     "metadata": {
      "needs_background": "light"
     },
     "output_type": "display_data"
    }
   ],
   "source": [
    "# построим гистограммы для всех столбцов таблицы\n",
    "data.hist(figsize=(15, 20));"
   ]
  },
  {
   "cell_type": "code",
   "execution_count": 5,
   "metadata": {},
   "outputs": [
    {
     "data": {
      "text/plain": [
       "0"
      ]
     },
     "execution_count": 5,
     "metadata": {},
     "output_type": "execute_result"
    }
   ],
   "source": [
    "# проверим наличие явнях дубликатов в данных\n",
    "data.duplicated().sum()"
   ]
  },
  {
   "cell_type": "markdown",
   "metadata": {},
   "source": [
    "### 2. Предобработка данных"
   ]
  },
  {
   "cell_type": "markdown",
   "metadata": {},
   "source": [
    "#### 2.1. Найдите и изучите пропущенные значения в столбцах"
   ]
  },
  {
   "cell_type": "code",
   "execution_count": 6,
   "metadata": {
    "scrolled": true
   },
   "outputs": [
    {
     "data": {
      "text/plain": [
       "total_images                0\n",
       "last_price                  0\n",
       "total_area                  0\n",
       "first_day_exposition        0\n",
       "rooms                       0\n",
       "ceiling_height           9195\n",
       "floors_total               86\n",
       "living_area              1903\n",
       "floor                       0\n",
       "is_apartment            20924\n",
       "studio                      0\n",
       "open_plan                   0\n",
       "kitchen_area             2278\n",
       "balcony                 11519\n",
       "locality_name              49\n",
       "airports_nearest         5542\n",
       "cityCenters_nearest      5519\n",
       "parks_around3000         5518\n",
       "parks_nearest           15620\n",
       "ponds_around3000         5518\n",
       "ponds_nearest           14589\n",
       "days_exposition          3181\n",
       "dtype: int64"
      ]
     },
     "execution_count": 6,
     "metadata": {},
     "output_type": "execute_result"
    }
   ],
   "source": [
    "# посмотрим на количество пропусков  в данных\n",
    "data.isna().sum()"
   ]
  },
  {
   "cell_type": "markdown",
   "metadata": {},
   "source": [
    "Пропуски в колонках floors_total и locality_name вряд ли получится заполнить на основании других данных таблицы, таких пропусков не слишком много (меньше 1% от общего объема данных), эти строки можно удалить."
   ]
  },
  {
   "cell_type": "code",
   "execution_count": 7,
   "metadata": {},
   "outputs": [],
   "source": [
    "data = data.dropna(subset=['locality_name', 'floors_total'])"
   ]
  },
  {
   "cell_type": "code",
   "execution_count": 8,
   "metadata": {},
   "outputs": [],
   "source": [
    "# поставим нули там, где не указано количество балконов\n",
    "data['balcony'] = data['balcony'].fillna(0)"
   ]
  },
  {
   "cell_type": "markdown",
   "metadata": {},
   "source": [
    "Постараемся заполнить пропуски в некоторых столбцах опираясь на присутствующие в данных корреляции."
   ]
  },
  {
   "cell_type": "code",
   "execution_count": 9,
   "metadata": {},
   "outputs": [
    {
     "data": {
      "text/plain": [
       "total_images          -0.001865\n",
       "last_price             0.085401\n",
       "total_area             0.095432\n",
       "rooms                  0.054378\n",
       "ceiling_height         1.000000\n",
       "floors_total          -0.028586\n",
       "living_area            0.090573\n",
       "floor                 -0.011685\n",
       "studio                 0.001686\n",
       "open_plan              0.042785\n",
       "kitchen_area           0.087723\n",
       "balcony                0.031370\n",
       "airports_nearest      -0.023798\n",
       "cityCenters_nearest   -0.091484\n",
       "parks_around3000       0.065992\n",
       "parks_nearest         -0.019307\n",
       "ponds_around3000       0.078297\n",
       "ponds_nearest         -0.059438\n",
       "days_exposition        0.019027\n",
       "Name: ceiling_height, dtype: float64"
      ]
     },
     "execution_count": 9,
     "metadata": {},
     "output_type": "execute_result"
    }
   ],
   "source": [
    "# смотрим корреляцию ceiling_height с другими параметрами\n",
    "data.corr().ceiling_height"
   ]
  },
  {
   "cell_type": "markdown",
   "metadata": {},
   "source": [
    "Явно выраженной корреляции между ceiling_height и другими переменными обнаружить не удалось.\n",
    "<br/> \n",
    "<br/> Для заполения пропусков в ceiling_height попробуем использовать столбец locality_name. Сгруппируем данные по названию населенного пункта и найдем медианное значение высоты потолков в каждом населенном пункте.\n",
    "*** \n",
    "Однако, сначала проверим названия населенных пунктов на присутствие неявных дубликатов."
   ]
  },
  {
   "cell_type": "markdown",
   "metadata": {},
   "source": [
    "#### 2.2. Изучите уникальные значения в столбце с названиями и устраните неявные дубликаты."
   ]
  },
  {
   "cell_type": "code",
   "execution_count": 10,
   "metadata": {},
   "outputs": [
    {
     "data": {
      "text/plain": [
       "array(['Бокситогорск', 'Волосово', 'Волхов', 'Всеволожск', 'Выборг',\n",
       "       'Высоцк', 'Гатчина', 'Зеленогорск', 'Ивангород', 'Каменногорск',\n",
       "       'Кингисепп', 'Кириши', 'Кировск', 'Колпино', 'Коммунар',\n",
       "       'Красное Село', 'Кронштадт', 'Кудрово', 'Лодейное Поле',\n",
       "       'Ломоносов', 'Луга', 'Любань', 'Мурино', 'Никольское',\n",
       "       'Новая Ладога', 'Отрадное', 'Павловск', 'Петергоф', 'Пикалёво',\n",
       "       'Подпорожье', 'Приморск', 'Приозерск', 'Пушкин', 'Санкт-Петербург',\n",
       "       'Светогорск', 'Сертолово', 'Сестрорецк', 'Сланцы', 'Сосновый Бор',\n",
       "       'Сясьстрой', 'Тихвин', 'Тосно', 'Шлиссельбург',\n",
       "       'городской поселок Большая Ижора', 'городской поселок Янино-1',\n",
       "       'городской посёлок Будогощь', 'городской посёлок Виллози',\n",
       "       'городской посёлок Лесогорский', 'городской посёлок Мга',\n",
       "       'городской посёлок Назия', 'городской посёлок Новоселье',\n",
       "       'городской посёлок Павлово', 'городской посёлок Рощино',\n",
       "       'городской посёлок Свирьстрой', 'городской посёлок Советский',\n",
       "       'городской посёлок Фёдоровское', 'городской посёлок Янино-1',\n",
       "       'деревня Агалатово', 'деревня Аро', 'деревня Батово',\n",
       "       'деревня Бегуницы', 'деревня Белогорка', 'деревня Большая Вруда',\n",
       "       'деревня Большая Пустомержа', 'деревня Большие Колпаны',\n",
       "       'деревня Большое Рейзино', 'деревня Большой Сабск', 'деревня Бор',\n",
       "       'деревня Борисова Грива', 'деревня Ваганово', 'деревня Вартемяги',\n",
       "       'деревня Вахнова Кара', 'деревня Выскатка', 'деревня Гарболово',\n",
       "       'деревня Глинка', 'деревня Горбунки', 'деревня Гостилицы',\n",
       "       'деревня Заклинье', 'деревня Заневка', 'деревня Зимитицы',\n",
       "       'деревня Извара', 'деревня Иссад', 'деревня Калитино',\n",
       "       'деревня Кальтино', 'деревня Камышовка', 'деревня Каськово',\n",
       "       'деревня Келози', 'деревня Кипень', 'деревня Кисельня',\n",
       "       'деревня Колтуши', 'деревня Коркино', 'деревня Котлы',\n",
       "       'деревня Кривко', 'деревня Кудрово', 'деревня Кузьмолово',\n",
       "       'деревня Курковицы', 'деревня Куровицы', 'деревня Куттузи',\n",
       "       'деревня Лаврики', 'деревня Лаголово', 'деревня Лампово',\n",
       "       'деревня Лесколово', 'деревня Лопухинка', 'деревня Лупполово',\n",
       "       'деревня Малая Романовка', 'деревня Малое Верево',\n",
       "       'деревня Малое Карлино', 'деревня Малые Колпаны',\n",
       "       'деревня Мануйлово', 'деревня Меньково', 'деревня Мины',\n",
       "       'деревня Мистолово', 'деревня Ненимяки', 'деревня Нижние Осельки',\n",
       "       'деревня Нижняя', 'деревня Низино', 'деревня Новое Девяткино',\n",
       "       'деревня Новолисино', 'деревня Нурма', 'деревня Оржицы',\n",
       "       'деревня Парицы', 'деревня Пельгора', 'деревня Пеники',\n",
       "       'деревня Пижма', 'деревня Пикколово', 'деревня Пудомяги',\n",
       "       'деревня Пустынка', 'деревня Пчева', 'деревня Рабитицы',\n",
       "       'деревня Разбегаево', 'деревня Раздолье', 'деревня Разметелево',\n",
       "       'деревня Рапполово', 'деревня Реброво', 'деревня Русско',\n",
       "       'деревня Сижно', 'деревня Снегирёвка', 'деревня Старая',\n",
       "       'деревня Старая Пустошь', 'деревня Старое Хинколово',\n",
       "       'деревня Старополье', 'деревня Старосиверская',\n",
       "       'деревня Старые Бегуницы', 'деревня Суоранда',\n",
       "       'деревня Сяськелево', 'деревня Тарасово', 'деревня Терпилицы',\n",
       "       'деревня Тихковицы', 'деревня Тойворово', 'деревня Торосово',\n",
       "       'деревня Торошковичи', 'деревня Трубников Бор',\n",
       "       'деревня Фалилеево', 'деревня Фёдоровское', 'деревня Хапо-Ое',\n",
       "       'деревня Хязельки', 'деревня Чудской Бор', 'деревня Шпаньково',\n",
       "       'деревня Щеглово', 'деревня Юкки', 'деревня Ялгино',\n",
       "       'деревня Яльгелево', 'деревня Ям-Тесово',\n",
       "       'коттеджный поселок Кивеннапа Север', 'коттеджный поселок Счастье',\n",
       "       'коттеджный посёлок Лесное', 'поселок Аннино', 'поселок Барышево',\n",
       "       'поселок Бугры', 'поселок Возрождение', 'поселок Войсковицы',\n",
       "       'поселок Володарское', 'поселок Гаврилово', 'поселок Гарболово',\n",
       "       'поселок Гладкое', 'поселок Глажево', 'поселок Глебычево',\n",
       "       'поселок Гончарово', 'поселок Громово', 'поселок Дружноселье',\n",
       "       'поселок Елизаветино', 'поселок Жилгородок', 'поселок Жилпосёлок',\n",
       "       'поселок Житково', 'поселок Заводской', 'поселок Запорожское',\n",
       "       'поселок Зимитицы', 'поселок Ильичёво', 'поселок Калитино',\n",
       "       'поселок Каложицы', 'поселок Кингисеппский', 'поселок Кирпичное',\n",
       "       'поселок Кобралово', 'поселок Кобринское', 'поселок Коммунары',\n",
       "       'поселок Коробицыно', 'поселок Котельский',\n",
       "       'поселок Красная Долина', 'поселок Красносельское',\n",
       "       'поселок Лесное', 'поселок Лисий Нос', 'поселок Лукаши',\n",
       "       'поселок Любань', 'поселок Мельниково', 'поселок Мичуринское',\n",
       "       'поселок Молодцово', 'поселок Мурино', 'поселок Новый Свет',\n",
       "       'поселок Новый Учхоз', 'поселок Оредеж',\n",
       "       'поселок Пансионат Зелёный Бор', 'поселок Первомайское',\n",
       "       'поселок Перово', 'поселок Петровское', 'поселок Победа',\n",
       "       'поселок Поляны', 'поселок Почап', 'поселок Починок',\n",
       "       'поселок Пушное', 'поселок Пчевжа', 'поселок Рабитицы',\n",
       "       'поселок Романовка', 'поселок Ромашки', 'поселок Рябово',\n",
       "       'поселок Севастьяново', 'поселок Селезнёво', 'поселок Сельцо',\n",
       "       'поселок Семиозерье', 'поселок Семрино', 'поселок Серебрянский',\n",
       "       'поселок Совхозный', 'поселок Старая Малукса',\n",
       "       'поселок Стеклянный', 'поселок Сумино', 'поселок Суходолье',\n",
       "       'поселок Тельмана', 'поселок Терволово', 'поселок Торковичи',\n",
       "       'поселок Тёсово-4', 'поселок Углово', 'поселок Усть-Луга',\n",
       "       'поселок Ушаки', 'поселок Цвелодубово', 'поселок Цвылёво',\n",
       "       'поселок городского типа Большая Ижора',\n",
       "       'поселок городского типа Вырица',\n",
       "       'поселок городского типа Дружная Горка',\n",
       "       'поселок городского типа Дубровка',\n",
       "       'поселок городского типа Ефимовский',\n",
       "       'поселок городского типа Кондратьево',\n",
       "       'поселок городского типа Красный Бор',\n",
       "       'поселок городского типа Кузьмоловский',\n",
       "       'поселок городского типа Лебяжье',\n",
       "       'поселок городского типа Лесогорский',\n",
       "       'поселок городского типа Назия',\n",
       "       'поселок городского типа Никольский',\n",
       "       'поселок городского типа Приладожский',\n",
       "       'поселок городского типа Рахья', 'поселок городского типа Рощино',\n",
       "       'поселок городского типа Рябово',\n",
       "       'поселок городского типа Синявино',\n",
       "       'поселок городского типа Советский',\n",
       "       'поселок городского типа Токсово',\n",
       "       'поселок городского типа Форносово',\n",
       "       'поселок городского типа имени Свердлова',\n",
       "       'поселок станции Вещево', 'поселок станции Корнево',\n",
       "       'поселок станции Лужайка', 'поселок станции Приветнинское',\n",
       "       'посёлок Александровская', 'посёлок Алексеевка', 'посёлок Аннино',\n",
       "       'посёлок Белоостров', 'посёлок Бугры', 'посёлок Возрождение',\n",
       "       'посёлок Войскорово', 'посёлок Высокоключевой',\n",
       "       'посёлок Гаврилово', 'посёлок Дзержинского', 'посёлок Жилгородок',\n",
       "       'посёлок Ильичёво', 'посёлок Кикерино', 'посёлок Кобралово',\n",
       "       'посёлок Коробицыно', 'посёлок Левашово', 'посёлок Ленинское',\n",
       "       'посёлок Лисий Нос', 'посёлок Мельниково', 'посёлок Металлострой',\n",
       "       'посёлок Мичуринское', 'посёлок Молодёжное', 'посёлок Мурино',\n",
       "       'посёлок Мыза-Ивановка', 'посёлок Новогорелово',\n",
       "       'посёлок Новый Свет', 'посёлок Пансионат Зелёный Бор',\n",
       "       'посёлок Парголово', 'посёлок Перово', 'посёлок Песочный',\n",
       "       'посёлок Петро-Славянка', 'посёлок Петровское',\n",
       "       'посёлок Платформа 69-й километр', 'посёлок Плодовое',\n",
       "       'посёлок Плоское', 'посёлок Победа', 'посёлок Поляны',\n",
       "       'посёлок Понтонный', 'посёлок Пригородный', 'посёлок Пудость',\n",
       "       'посёлок Репино', 'посёлок Ропша', 'посёлок Сапёрное',\n",
       "       'посёлок Сапёрный', 'посёлок Сосново', 'посёлок Старая Малукса',\n",
       "       'посёлок Стеклянный', 'посёлок Стрельна', 'посёлок Суйда',\n",
       "       'посёлок Сумино', 'посёлок Тельмана', 'посёлок Терволово',\n",
       "       'посёлок Торфяное', 'посёлок Усть-Ижора', 'посёлок Усть-Луга',\n",
       "       'посёлок Форт Красная Горка', 'посёлок Шугозеро', 'посёлок Шушары',\n",
       "       'посёлок Щеглово', 'посёлок городского типа Важины',\n",
       "       'посёлок городского типа Вознесенье',\n",
       "       'посёлок городского типа Вырица',\n",
       "       'посёлок городского типа Красный Бор',\n",
       "       'посёлок городского типа Кузнечное',\n",
       "       'посёлок городского типа Кузьмоловский',\n",
       "       'посёлок городского типа Лебяжье', 'посёлок городского типа Мга',\n",
       "       'посёлок городского типа Павлово',\n",
       "       'посёлок городского типа Рощино', 'посёлок городского типа Рябово',\n",
       "       'посёлок городского типа Сиверский',\n",
       "       'посёлок городского типа Тайцы', 'посёлок городского типа Токсово',\n",
       "       'посёлок городского типа Ульяновка',\n",
       "       'посёлок городского типа Форносово',\n",
       "       'посёлок городского типа имени Морозова',\n",
       "       'посёлок городского типа имени Свердлова',\n",
       "       'посёлок при железнодорожной станции Вещево',\n",
       "       'посёлок при железнодорожной станции Приветнинское',\n",
       "       'посёлок станции Громово', 'посёлок станции Свирь',\n",
       "       'садоводческое некоммерческое товарищество Лесная Поляна',\n",
       "       'садовое товарищество Новая Ропша',\n",
       "       'садовое товарищество Приладожский', 'садовое товарищество Рахья',\n",
       "       'садовое товарищество Садко', 'село Копорье', 'село Никольское',\n",
       "       'село Павлово', 'село Паша', 'село Путилово', 'село Рождествено',\n",
       "       'село Русско-Высоцкое', 'село Старая Ладога', 'село Шум'],\n",
       "      dtype=object)"
      ]
     },
     "execution_count": 10,
     "metadata": {},
     "output_type": "execute_result"
    }
   ],
   "source": [
    "# проверим locality_name на неявные дубликаты, отсортируем в алфавитном порядке\n",
    "np.sort(data.locality_name.unique())"
   ]
  },
  {
   "cell_type": "markdown",
   "metadata": {},
   "source": [
    "Обнаруживаем большое количество неявных дубликатов (попеременное исползование \"е\" и \"ё\" в названиях, различные обозначения типов для одного того же названия населенного пункта)."
   ]
  },
  {
   "cell_type": "code",
   "execution_count": 11,
   "metadata": {
    "scrolled": true
   },
   "outputs": [
    {
     "data": {
      "text/plain": [
       "364"
      ]
     },
     "execution_count": 11,
     "metadata": {},
     "output_type": "execute_result"
    }
   ],
   "source": [
    "# посмотрим на количество унакальных значений в столбце 'locality_name'\n",
    "data.locality_name.nunique()"
   ]
  },
  {
   "cell_type": "code",
   "execution_count": 12,
   "metadata": {},
   "outputs": [],
   "source": [
    "# исправим все 'ё' на 'е'\n",
    "data['locality_name'] = data['locality_name'].str.replace('ё','е')\n",
    "\n",
    "# обозначения типов населенных пунктов в названиях опустим\n",
    "to_replace = {\n",
    "    r'(\\b)поселок городского типа имени (\\b)': r'',\n",
    "    r'(\\b)поселок городского типа (\\b)': r'',\n",
    "    r'(\\b)городской поселок (\\b)': r'',\n",
    "    r'(\\b)поселок при железнодорожной станции (\\b)': r'',\n",
    "    r'(\\b)поселок станции (\\b)': r'',\n",
    "    r'(\\b)коттеджный поселок (\\b)': r'',\n",
    "    r'(\\b)деревня (\\b)': r'',\n",
    "    r'(\\b)поселок (\\b)': r'',\n",
    "    r'(\\b)садоводческое некоммерческое товарищество (\\b)': r'',\n",
    "    r'(\\b)садовое товарищество (\\b)': r'',\n",
    "    r'(\\b)село (\\b)': r''    \n",
    "}\n",
    "\n",
    "data['locality_name'] = data['locality_name'].replace(to_replace, regex=True)"
   ]
  },
  {
   "cell_type": "code",
   "execution_count": 13,
   "metadata": {},
   "outputs": [
    {
     "data": {
      "text/plain": [
       "305"
      ]
     },
     "execution_count": 13,
     "metadata": {},
     "output_type": "execute_result"
    }
   ],
   "source": [
    "data.locality_name.nunique()"
   ]
  },
  {
   "cell_type": "markdown",
   "metadata": {},
   "source": [
    "Таким образом нам удалось избавиться от 59 вариантов неявного дублирования.\n",
    "***\n",
    "Вернемся к заполению пропусков в данных."
   ]
  },
  {
   "cell_type": "code",
   "execution_count": 14,
   "metadata": {},
   "outputs": [],
   "source": [
    "# напишем функцию, которая будет считать медиану ceiling_height и заполнять пропуски в данных\n",
    "def ceiling_height_filler(data):\n",
    "    try:\n",
    "        median = data.ceiling_height.median()\n",
    "        data.loc[pd.isna(data.ceiling_height), 'ceiling_height'] = median\n",
    "        return data\n",
    "    except:\n",
    "        pass"
   ]
  },
  {
   "cell_type": "code",
   "execution_count": 15,
   "metadata": {},
   "outputs": [
    {
     "data": {
      "text/plain": [
       "95"
      ]
     },
     "execution_count": 15,
     "metadata": {},
     "output_type": "execute_result"
    }
   ],
   "source": [
    "# применим функцию ceiling_height_filler для данных, сгруппированных по названиям населённых пунктов (locality_name)\n",
    "data = data.groupby('locality_name').apply(ceiling_height_filler)\n",
    "\n",
    "# проверим, остались ли незаполненные ячейки и сколько их\n",
    "data[data['ceiling_height'].isna()==True].locality_name.count()"
   ]
  },
  {
   "cell_type": "markdown",
   "metadata": {},
   "source": [
    "Для 95 незаполенных ячеек невозможно посчитать медиану исходя из названия населенного пункта (нет предложений в таком населенном пункте, где была бы указана высота потолка). Эти пропуски пока оставим, они будут исключены позже в ходе очистки данных от выбросов."
   ]
  },
  {
   "cell_type": "code",
   "execution_count": 16,
   "metadata": {},
   "outputs": [
    {
     "data": {
      "text/plain": [
       "total_images           0.105551\n",
       "last_price             0.566380\n",
       "total_area             0.939771\n",
       "rooms                  0.846117\n",
       "ceiling_height         0.077771\n",
       "floors_total          -0.168940\n",
       "living_area            1.000000\n",
       "floor                 -0.096676\n",
       "studio                -0.056307\n",
       "open_plan             -0.033756\n",
       "kitchen_area           0.428909\n",
       "balcony               -0.014786\n",
       "airports_nearest      -0.057428\n",
       "cityCenters_nearest   -0.230576\n",
       "parks_around3000       0.184878\n",
       "parks_nearest         -0.050694\n",
       "ponds_around3000       0.149785\n",
       "ponds_nearest         -0.082830\n",
       "days_exposition        0.142135\n",
       "Name: living_area, dtype: float64"
      ]
     },
     "execution_count": 16,
     "metadata": {},
     "output_type": "execute_result"
    }
   ],
   "source": [
    "# смотрим корреляцию living_area с другими параметрами\n",
    "data.corr().living_area"
   ]
  },
  {
   "cell_type": "markdown",
   "metadata": {},
   "source": [
    "Исходя из представленных данных, видим сильную положительную корреляцию между living_area и параметрами total_area и rooms. Для заполнения пропусков сгруппируем все квартиры по количеству комнат и заполним пропуски living_area медианами по группе. "
   ]
  },
  {
   "cell_type": "code",
   "execution_count": 17,
   "metadata": {},
   "outputs": [],
   "source": [
    "# напишем функцию, которая будет считать медиану living_area \n",
    "def living_area_filler(data):\n",
    "    try:\n",
    "        median = data.living_area.median()\n",
    "        data.loc[pd.isna(data.living_area), 'living_area'] = median\n",
    "        return data\n",
    "    except:\n",
    "        pass"
   ]
  },
  {
   "cell_type": "code",
   "execution_count": 18,
   "metadata": {},
   "outputs": [],
   "source": [
    "# применим функцию living_area_filler для данных, сгруппированных по количеству комнат (rooms)\n",
    "data = data.groupby('rooms').apply(living_area_filler)"
   ]
  },
  {
   "cell_type": "code",
   "execution_count": 19,
   "metadata": {},
   "outputs": [
    {
     "data": {
      "text/plain": [
       "total_images           0.106896\n",
       "last_price             0.520362\n",
       "total_area             0.609248\n",
       "rooms                  0.270342\n",
       "ceiling_height         0.073571\n",
       "floors_total           0.164803\n",
       "living_area            0.424321\n",
       "floor                  0.136545\n",
       "studio                      NaN\n",
       "open_plan                   NaN\n",
       "kitchen_area           1.000000\n",
       "balcony                0.046207\n",
       "airports_nearest       0.007797\n",
       "cityCenters_nearest   -0.191140\n",
       "parks_around3000       0.088512\n",
       "parks_nearest          0.029578\n",
       "ponds_around3000       0.151156\n",
       "ponds_nearest         -0.104674\n",
       "days_exposition        0.101071\n",
       "Name: kitchen_area, dtype: float64"
      ]
     },
     "execution_count": 19,
     "metadata": {},
     "output_type": "execute_result"
    }
   ],
   "source": [
    "# смотрим корреляцию kitchen_area с другими параметрами\n",
    "data.corr().kitchen_area"
   ]
  },
  {
   "cell_type": "markdown",
   "metadata": {},
   "source": [
    "Попробуем заполнить пропуски в ячейках kitchen_area в соответствии с общей площадью квартиры: посчитаем, сколько в среднем kitchen_area составляет от total_area и для каждого пропуска в kitchen_area высчитаем значение согласно полученному коэффициенту."
   ]
  },
  {
   "cell_type": "code",
   "execution_count": 20,
   "metadata": {},
   "outputs": [
    {
     "name": "stdout",
     "output_type": "stream",
     "text": [
      "Пересчетный коэффициент: 0.17396342643072965\n"
     ]
    }
   ],
   "source": [
    "# считаем сколько долей в среднем площадь кухни составляет от площади квартиры\n",
    "kitchen_total_ratio = data[data['kitchen_area'].isna()==False].kitchen_area.mean()/data[data['kitchen_area'].isna()==False].total_area.mean()\n",
    "print('Пересчетный коэффициент:', kitchen_total_ratio)"
   ]
  },
  {
   "cell_type": "code",
   "execution_count": 21,
   "metadata": {},
   "outputs": [],
   "source": [
    "# напишем функцию, которая заменит NaN в 'kitchen_area' на значение из 'total_area' умноженное на ~0.174(kitchen_total_ratio)\n",
    "def kitchen_fix_nan(row):\n",
    "        if row['kitchen_area'] != row['kitchen_area']:\n",
    "            row['kitchen_area'] = row['total_area'] * kitchen_total_ratio\n",
    "        return row\n",
    "\n",
    "data = data.apply(kitchen_fix_nan, axis=1)"
   ]
  },
  {
   "cell_type": "markdown",
   "metadata": {},
   "source": [
    "#### 2.3. Рассмотрите типы данных в каждом столбце"
   ]
  },
  {
   "cell_type": "code",
   "execution_count": 22,
   "metadata": {},
   "outputs": [
    {
     "data": {
      "text/plain": [
       "total_images              int64\n",
       "last_price              float64\n",
       "total_area              float64\n",
       "first_day_exposition     object\n",
       "rooms                     int64\n",
       "ceiling_height          float64\n",
       "floors_total            float64\n",
       "living_area             float64\n",
       "floor                     int64\n",
       "is_apartment             object\n",
       "studio                     bool\n",
       "open_plan                  bool\n",
       "kitchen_area            float64\n",
       "balcony                 float64\n",
       "locality_name            object\n",
       "airports_nearest        float64\n",
       "cityCenters_nearest     float64\n",
       "parks_around3000        float64\n",
       "parks_nearest           float64\n",
       "ponds_around3000        float64\n",
       "ponds_nearest           float64\n",
       "days_exposition         float64\n",
       "dtype: object"
      ]
     },
     "execution_count": 22,
     "metadata": {},
     "output_type": "execute_result"
    }
   ],
   "source": [
    "data.dtypes"
   ]
  },
  {
   "cell_type": "markdown",
   "metadata": {},
   "source": [
    "Согласно описанию данных, 'is_apartment' должен хранить булевую переменную для обозначения, являтся ли данная квартира апартаментами. В выгрузке тип данных этого столбца - object."
   ]
  },
  {
   "cell_type": "code",
   "execution_count": 23,
   "metadata": {},
   "outputs": [],
   "source": [
    "# приведем столбец is_apartment к булевому типу и заполним пропуски значением False\n",
    "data['is_apartment'] = data['is_apartment'].fillna(False).astype('bool')"
   ]
  },
  {
   "cell_type": "markdown",
   "metadata": {},
   "source": [
    "Количество этажей в здании нет смысла хранить в формате числа с плавающей точкой - это должен быть целочисленный тип."
   ]
  },
  {
   "cell_type": "code",
   "execution_count": 24,
   "metadata": {},
   "outputs": [],
   "source": [
    "# приведем значения 'floors_total' к типу 'int'\n",
    "data['floors_total'] = data['floors_total'].astype('int64')"
   ]
  },
  {
   "cell_type": "code",
   "execution_count": 25,
   "metadata": {},
   "outputs": [],
   "source": [
    "# приведем значения в столбце first_day_exposition к формату даты\n",
    "data['first_day_exposition'] = pd.to_datetime(data['first_day_exposition'], format='%Y-%m-%dT%H:%M:%S')"
   ]
  },
  {
   "cell_type": "markdown",
   "metadata": {},
   "source": [
    "Данный столбец хранит информацию о дате (должен быть datetime64[ns]), в выгрузке формат - object."
   ]
  },
  {
   "cell_type": "code",
   "execution_count": 26,
   "metadata": {},
   "outputs": [
    {
     "name": "stdout",
     "output_type": "stream",
     "text": [
      "<class 'pandas.core.frame.DataFrame'>\n",
      "Int64Index: 23565 entries, 0 to 23698\n",
      "Data columns (total 22 columns):\n",
      " #   Column                Non-Null Count  Dtype         \n",
      "---  ------                --------------  -----         \n",
      " 0   total_images          23565 non-null  int64         \n",
      " 1   last_price            23565 non-null  float64       \n",
      " 2   total_area            23565 non-null  float64       \n",
      " 3   first_day_exposition  23565 non-null  datetime64[ns]\n",
      " 4   rooms                 23565 non-null  int64         \n",
      " 5   ceiling_height        23470 non-null  float64       \n",
      " 6   floors_total          23565 non-null  int64         \n",
      " 7   living_area           23565 non-null  float64       \n",
      " 8   floor                 23565 non-null  int64         \n",
      " 9   is_apartment          23565 non-null  bool          \n",
      " 10  studio                23565 non-null  bool          \n",
      " 11  open_plan             23565 non-null  bool          \n",
      " 12  kitchen_area          23565 non-null  float64       \n",
      " 13  balcony               23565 non-null  float64       \n",
      " 14  locality_name         23565 non-null  object        \n",
      " 15  airports_nearest      18041 non-null  float64       \n",
      " 16  cityCenters_nearest   18064 non-null  float64       \n",
      " 17  parks_around3000      18065 non-null  float64       \n",
      " 18  parks_nearest         8030 non-null   float64       \n",
      " 19  ponds_around3000      18065 non-null  float64       \n",
      " 20  ponds_nearest         9036 non-null   float64       \n",
      " 21  days_exposition       20394 non-null  float64       \n",
      "dtypes: bool(3), datetime64[ns](1), float64(13), int64(4), object(1)\n",
      "memory usage: 4.2+ MB\n"
     ]
    }
   ],
   "source": [
    "# изучаем общую информацию о данных после предварительной обработки\n",
    "data.info()"
   ]
  },
  {
   "cell_type": "code",
   "execution_count": 27,
   "metadata": {},
   "outputs": [
    {
     "data": {
      "text/plain": [
       "total_images                0\n",
       "last_price                  0\n",
       "total_area                  0\n",
       "first_day_exposition        0\n",
       "rooms                       0\n",
       "ceiling_height             95\n",
       "floors_total                0\n",
       "living_area                 0\n",
       "floor                       0\n",
       "is_apartment                0\n",
       "studio                      0\n",
       "open_plan                   0\n",
       "kitchen_area                0\n",
       "balcony                     0\n",
       "locality_name               0\n",
       "airports_nearest         5524\n",
       "cityCenters_nearest      5501\n",
       "parks_around3000         5500\n",
       "parks_nearest           15535\n",
       "ponds_around3000         5500\n",
       "ponds_nearest           14529\n",
       "days_exposition          3171\n",
       "dtype: int64"
      ]
     },
     "execution_count": 27,
     "metadata": {},
     "output_type": "execute_result"
    }
   ],
   "source": [
    "# смотрим, в каких столбцах остались неисправленные пропуски\n",
    "data.isna().sum()"
   ]
  },
  {
   "cell_type": "markdown",
   "metadata": {},
   "source": [
    "Оставшиеся в данных пропуски возникли, скорее всего, из-за того, что указанные поля были необязательные при заполнении пользователями, или из-за того, что при выгрузке данных произошли ошибки. Исправить эти пропуски не представляется возможным."
   ]
  },
  {
   "cell_type": "code",
   "execution_count": 28,
   "metadata": {},
   "outputs": [
    {
     "name": "stdout",
     "output_type": "stream",
     "text": [
      "23565\n"
     ]
    }
   ],
   "source": [
    "# сохраним количество строк в предобработанном датафрейме (это значение понадобится нам позже)\n",
    "df_row_number = data.shape[0]\n",
    "print(df_row_number)"
   ]
  },
  {
   "cell_type": "markdown",
   "metadata": {},
   "source": [
    "#### 2.4. Найдите и устраните редкие и выбивающиеся значения."
   ]
  },
  {
   "cell_type": "code",
   "execution_count": 29,
   "metadata": {},
   "outputs": [
    {
     "data": {
      "text/plain": [
       "array([  1.   ,   1.2  ,   1.75 ,   2.   ,   2.2  ,   2.25 ,   2.3  ,\n",
       "         2.34 ,   2.4  ,   2.45 ,   2.46 ,   2.47 ,   2.48 ,   2.49 ,\n",
       "         2.5  ,   2.51 ,   2.52 ,   2.525,   2.53 ,   2.54 ,   2.55 ,\n",
       "         2.56 ,   2.56 ,   2.57 ,   2.575,   2.58 ,   2.59 ,   2.6  ,\n",
       "         2.6  ,   2.61 ,   2.615,   2.62 ,   2.625,   2.63 ,   2.64 ,\n",
       "         2.65 ,   2.65 ,   2.66 ,   2.67 ,   2.675,   2.68 ,   2.69 ,\n",
       "         2.7  ,   2.71 ,   2.72 ,   2.725,   2.73 ,   2.74 ,   2.75 ,\n",
       "         2.76 ,   2.77 ,   2.78 ,   2.79 ,   2.8  ,   2.81 ,   2.82 ,\n",
       "         2.83 ,   2.84 ,   2.85 ,   2.86 ,   2.87 ,   2.88 ,   2.89 ,\n",
       "         2.9  ,   2.91 ,   2.92 ,   2.93 ,   2.94 ,   2.95 ,   2.96 ,\n",
       "         2.97 ,   2.98 ,   2.99 ,   3.   ,   3.01 ,   3.02 ,   3.03 ,\n",
       "         3.04 ,   3.05 ,   3.06 ,   3.07 ,   3.08 ,   3.09 ,   3.1  ,\n",
       "         3.11 ,   3.12 ,   3.13 ,   3.14 ,   3.15 ,   3.16 ,   3.17 ,\n",
       "         3.18 ,   3.2  ,   3.21 ,   3.22 ,   3.23 ,   3.24 ,   3.25 ,\n",
       "         3.26 ,   3.27 ,   3.28 ,   3.29 ,   3.3  ,   3.31 ,   3.32 ,\n",
       "         3.33 ,   3.34 ,   3.35 ,   3.36 ,   3.37 ,   3.38 ,   3.39 ,\n",
       "         3.4  ,   3.42 ,   3.43 ,   3.44 ,   3.45 ,   3.46 ,   3.47 ,\n",
       "         3.48 ,   3.49 ,   3.5  ,   3.51 ,   3.52 ,   3.53 ,   3.54 ,\n",
       "         3.55 ,   3.56 ,   3.57 ,   3.58 ,   3.59 ,   3.6  ,   3.62 ,\n",
       "         3.63 ,   3.65 ,   3.66 ,   3.67 ,   3.68 ,   3.69 ,   3.7  ,\n",
       "         3.75 ,   3.76 ,   3.78 ,   3.8  ,   3.82 ,   3.83 ,   3.84 ,\n",
       "         3.85 ,   3.86 ,   3.87 ,   3.88 ,   3.9  ,   3.93 ,   3.95 ,\n",
       "         3.98 ,   4.   ,   4.06 ,   4.1  ,   4.14 ,   4.15 ,   4.19 ,\n",
       "         4.2  ,   4.25 ,   4.3  ,   4.37 ,   4.4  ,   4.45 ,   4.5  ,\n",
       "         4.65 ,   4.7  ,   4.8  ,   4.9  ,   5.   ,   5.2  ,   5.3  ,\n",
       "         5.5  ,   5.6  ,   5.8  ,   6.   ,   8.   ,   8.3  ,  10.3  ,\n",
       "        14.   ,  20.   ,  22.6  ,  24.   ,  25.   ,  26.   ,  27.   ,\n",
       "        27.5  ,  32.   , 100.   ,     nan])"
      ]
     },
     "execution_count": 29,
     "metadata": {},
     "output_type": "execute_result"
    }
   ],
   "source": [
    "# посмотрим, какие уикальные значения указаны в столбце 'ceiling_height'\n",
    "np.sort(data.ceiling_height.unique())"
   ]
  },
  {
   "cell_type": "code",
   "execution_count": 30,
   "metadata": {},
   "outputs": [
    {
     "data": {
      "text/plain": [
       "count    23470.000000\n",
       "mean         2.732281\n",
       "std          1.006456\n",
       "min          1.000000\n",
       "25%          2.550000\n",
       "50%          2.700000\n",
       "75%          2.700000\n",
       "max        100.000000\n",
       "Name: ceiling_height, dtype: float64"
      ]
     },
     "execution_count": 30,
     "metadata": {},
     "output_type": "execute_result"
    }
   ],
   "source": [
    "# посмотрим на описательные статистики для 'ceiling_height'\n",
    "data.ceiling_height.describe()"
   ]
  },
  {
   "cell_type": "markdown",
   "metadata": {},
   "source": [
    "Предположим, что значения из столбца 'ceiling_height', которые превышают 22м - результат ошибки заполнения данных пользователями. Такие значения уменьшим в 10 раз. Теперь \"нормальными\" будем считать квартиры с высотой потолков не ниже 2.34м и не выше 3.5м. Строки, содержащие значения не попадающие в указанный диапазон, удалим."
   ]
  },
  {
   "cell_type": "code",
   "execution_count": 31,
   "metadata": {},
   "outputs": [],
   "source": [
    "# напишем функцию, которая все значения от 22 до 50 уменьшит в 10 раз, а затем оставит только результаты в пределах [2.34, 3.5)\n",
    "def ceiling_height_fixer(ceiling_height):\n",
    "        if 50 > ceiling_height > 22:\n",
    "            ceiling_height * 0.1\n",
    "        if 2.34 <= ceiling_height < 3.5:\n",
    "            return ceiling_height\n",
    "        else:\n",
    "            return 0\n",
    "    \n",
    "data['ceiling_height'] = data['ceiling_height'].apply(ceiling_height_fixer)\n",
    "data = data[data['ceiling_height'] != 0]"
   ]
  },
  {
   "cell_type": "code",
   "execution_count": 32,
   "metadata": {},
   "outputs": [
    {
     "data": {
      "text/plain": [
       "count    23003.000000\n",
       "mean         2.684855\n",
       "std          0.170416\n",
       "min          2.340000\n",
       "25%          2.550000\n",
       "50%          2.700000\n",
       "75%          2.700000\n",
       "max          3.490000\n",
       "Name: ceiling_height, dtype: float64"
      ]
     },
     "execution_count": 32,
     "metadata": {},
     "output_type": "execute_result"
    }
   ],
   "source": [
    "# посторим на описательные статистики для высоты потолков после внесения изменений\n",
    "data.ceiling_height.describe()"
   ]
  },
  {
   "cell_type": "code",
   "execution_count": 33,
   "metadata": {},
   "outputs": [
    {
     "data": {
      "text/plain": [
       "97.61510715043497"
      ]
     },
     "execution_count": 33,
     "metadata": {},
     "output_type": "execute_result"
    }
   ],
   "source": [
    "# посмотрим, сколько данных мы потеряли в ходе удаления строк с выбросами (сравним с df_row_number)\n",
    "data.shape[0]/df_row_number * 100"
   ]
  },
  {
   "cell_type": "markdown",
   "metadata": {},
   "source": [
    "Таким образом мы потеряли ~2.4% данных, это приемлемый результат.\n",
    "***\n",
    "Теперь поищем и удалим выбросы в столбцах 'total_area', 'living_area', 'kitchen_area', 'rooms', 'floor', 'floors_total'."
   ]
  },
  {
   "cell_type": "code",
   "execution_count": 34,
   "metadata": {},
   "outputs": [
    {
     "data": {
      "image/png": "[encoded data removed]",
      "text/plain": [
       "<Figure size 432x288 with 1 Axes>"
      ]
     },
     "metadata": {
      "needs_background": "light"
     },
     "output_type": "display_data"
    }
   ],
   "source": [
    "# посторим графики boxplot для площадей помещений\n",
    "data.boxplot(column=['total_area', 'living_area', 'kitchen_area'])\n",
    "plt.show;"
   ]
  },
  {
   "cell_type": "markdown",
   "metadata": {},
   "source": [
    "По таким графикам сложно точно назвать границы \"усов ящика\", так что посчитаем эти значения отдельно."
   ]
  },
  {
   "cell_type": "code",
   "execution_count": 35,
   "metadata": {},
   "outputs": [
    {
     "name": "stdout",
     "output_type": "stream",
     "text": [
      "Нижний 1,5*IQR ус: -3.0500000000000043 \n",
      "Верхний 1,5*IQR ус: 111.75\n"
     ]
    }
   ],
   "source": [
    "# для 'total_area'\n",
    "Q1 = data['total_area'].quantile(0.25)\n",
    "Q3 = data['total_area'].quantile(0.75)\n",
    "IQR = Q3 - Q1\n",
    "print('Нижний 1,5*IQR ус:',Q1 - IQR * 1.5,'\\nВерхний 1,5*IQR ус:', Q3 + IQR * 1.5)"
   ]
  },
  {
   "cell_type": "code",
   "execution_count": 36,
   "metadata": {},
   "outputs": [
    {
     "name": "stdout",
     "output_type": "stream",
     "text": [
      "Нижний 1,5*IQR ус: -17.400000000000002 \n",
      "Верхний 1,5*IQR ус: 77.80000000000001\n"
     ]
    }
   ],
   "source": [
    "# для 'living_area'\n",
    "Q1 = data['living_area'].quantile(0.25)\n",
    "Q3 = data['living_area'].quantile(0.75)\n",
    "IQR = Q3 - Q1\n",
    "print('Нижний 1,5*IQR ус:',Q1 - IQR * 1.5,'\\nВерхний 1,5*IQR ус:', Q3 + IQR * 1.5)"
   ]
  },
  {
   "cell_type": "code",
   "execution_count": 37,
   "metadata": {},
   "outputs": [
    {
     "name": "stdout",
     "output_type": "stream",
     "text": [
      "Нижний 1,5*IQR ус: -0.35000000000000053 \n",
      "Верхний 1,5*IQR ус: 19.25\n"
     ]
    }
   ],
   "source": [
    "# для 'kitchen_area'\n",
    "Q1 = data['kitchen_area'].quantile(0.25)\n",
    "Q3 = data['kitchen_area'].quantile(0.75)\n",
    "IQR = Q3 - Q1\n",
    "print('Нижний 1,5*IQR ус:',Q1 - IQR * 1.5,'\\nВерхний 1,5*IQR ус:', Q3 + IQR * 1.5)"
   ]
  },
  {
   "cell_type": "markdown",
   "metadata": {},
   "source": [
    "Используем вычисленные значения в дальнейшем для фильтрации датафрейма."
   ]
  },
  {
   "cell_type": "code",
   "execution_count": 38,
   "metadata": {},
   "outputs": [
    {
     "data": {
      "image/png": "[encoded data removed]",
      "text/plain": [
       "<Figure size 432x288 with 1 Axes>"
      ]
     },
     "metadata": {
      "needs_background": "light"
     },
     "output_type": "display_data"
    }
   ],
   "source": [
    "# посторим графики boxplot для количества комнат в квартире\n",
    "data.boxplot(column=['rooms'])\n",
    "plt.show;"
   ]
  },
  {
   "cell_type": "markdown",
   "metadata": {},
   "source": [
    "Исходя из данных на графике, возьмем для фильтрации максимальное значение количества комнат в квартире равное 6."
   ]
  },
  {
   "cell_type": "code",
   "execution_count": 39,
   "metadata": {},
   "outputs": [
    {
     "data": {
      "image/png": "[encoded data removed]",
      "text/plain": [
       "<Figure size 432x288 with 1 Axes>"
      ]
     },
     "metadata": {
      "needs_background": "light"
     },
     "output_type": "display_data"
    }
   ],
   "source": [
    "# посторим графики boxplot для этажа и общего количества этажей в доме\n",
    "data.boxplot(column=['floor', 'floors_total'])\n",
    "plt.show;"
   ]
  },
  {
   "cell_type": "markdown",
   "metadata": {},
   "source": [
    "Используем для фильтрации максимальное значение этажей - 29."
   ]
  },
  {
   "cell_type": "code",
   "execution_count": 40,
   "metadata": {},
   "outputs": [],
   "source": [
    "# отфильтруем наши данные относительно всех обозначеных выше критериев\n",
    "data_new = data.query('(total_area <= 112)\\\n",
    "                        & (living_area <= 78)\\\n",
    "                        & (kitchen_area <= 20)\\\n",
    "                        & (rooms <= 6)\\\n",
    "                        & (floors_total <= 29)').reset_index(drop=True)"
   ]
  },
  {
   "cell_type": "code",
   "execution_count": 41,
   "metadata": {},
   "outputs": [
    {
     "data": {
      "text/plain": [
       "27"
      ]
     },
     "execution_count": 41,
     "metadata": {},
     "output_type": "execute_result"
    }
   ],
   "source": [
    "# проверим, что в данных нет квартир на этажах, которые бы имели значение больше, чем указанное в фильтре для 'floors_total'\n",
    "data_new.floor.max()"
   ]
  },
  {
   "cell_type": "code",
   "execution_count": 42,
   "metadata": {
    "scrolled": true
   },
   "outputs": [
    {
     "data": {
      "text/plain": [
       "90.31190324633991"
      ]
     },
     "execution_count": 42,
     "metadata": {},
     "output_type": "execute_result"
    }
   ],
   "source": [
    "# посчитаем, сколько данных мы суммарно потеряли на этапе удаления выбросов \n",
    "data_new.shape[0]/df_row_number * 100"
   ]
  },
  {
   "cell_type": "markdown",
   "metadata": {},
   "source": [
    "~9.7% данных было в итоге потеряно на этапе устранения редких и выбивающихся значений. "
   ]
  },
  {
   "cell_type": "markdown",
   "metadata": {},
   "source": [
    "### 3. Посчитайте и добавьте в таблицу новые столбцы"
   ]
  },
  {
   "cell_type": "code",
   "execution_count": 43,
   "metadata": {},
   "outputs": [],
   "source": [
    "# цена одного квадратного метра\n",
    "data_new['price_per_m2'] = data_new['last_price']/data_new['total_area']"
   ]
  },
  {
   "cell_type": "code",
   "execution_count": 44,
   "metadata": {},
   "outputs": [],
   "source": [
    "# день недели публикации объявления\n",
    "data_new['exposition_weekday'] = data_new['first_day_exposition'].dt.weekday"
   ]
  },
  {
   "cell_type": "code",
   "execution_count": 45,
   "metadata": {},
   "outputs": [],
   "source": [
    "# месяц публикации объявления\n",
    "data_new['exposition_month'] = data_new['first_day_exposition'].dt.month"
   ]
  },
  {
   "cell_type": "code",
   "execution_count": 46,
   "metadata": {},
   "outputs": [],
   "source": [
    "# год публикации объявления\n",
    "data_new['exposition_year'] = data_new['first_day_exposition'].dt.year"
   ]
  },
  {
   "cell_type": "code",
   "execution_count": 47,
   "metadata": {},
   "outputs": [],
   "source": [
    "# тип этажа квартиры\n",
    "def floor_type(row):\n",
    "    if  row['floor'] == 1:\n",
    "        return 'первый'\n",
    "    if row['floor'] == row['floors_total']:\n",
    "        return 'последний'\n",
    "    else:\n",
    "        return 'другой'\n",
    "    \n",
    "data_new['floor_type'] = data_new.apply(floor_type, axis=1)"
   ]
  },
  {
   "cell_type": "code",
   "execution_count": 48,
   "metadata": {},
   "outputs": [],
   "source": [
    "# расстояние до центра города в километрах\n",
    "data_new['cityCenters_nearest_km'] = (data_new['cityCenters_nearest']/1000).round(0)"
   ]
  },
  {
   "cell_type": "code",
   "execution_count": 49,
   "metadata": {},
   "outputs": [
    {
     "data": {
      "text/html": [
       "<div>\n",
       "<style scoped>\n",
       "    .dataframe tbody tr th:only-of-type {\n",
       "        vertical-align: middle;\n",
       "    }\n",
       "\n",
       "    .dataframe tbody tr th {\n",
       "        vertical-align: top;\n",
       "    }\n",
       "\n",
       "    .dataframe thead th {\n",
       "        text-align: right;\n",
       "    }\n",
       "</style>\n",
       "<table border=\"1\" class=\"dataframe\">\n",
       "  <thead>\n",
       "    <tr style=\"text-align: right;\">\n",
       "      <th></th>\n",
       "      <th>total_images</th>\n",
       "      <th>last_price</th>\n",
       "      <th>total_area</th>\n",
       "      <th>first_day_exposition</th>\n",
       "      <th>rooms</th>\n",
       "      <th>ceiling_height</th>\n",
       "      <th>floors_total</th>\n",
       "      <th>living_area</th>\n",
       "      <th>floor</th>\n",
       "      <th>is_apartment</th>\n",
       "      <th>...</th>\n",
       "      <th>parks_nearest</th>\n",
       "      <th>ponds_around3000</th>\n",
       "      <th>ponds_nearest</th>\n",
       "      <th>days_exposition</th>\n",
       "      <th>price_per_m2</th>\n",
       "      <th>exposition_weekday</th>\n",
       "      <th>exposition_month</th>\n",
       "      <th>exposition_year</th>\n",
       "      <th>floor_type</th>\n",
       "      <th>cityCenters_nearest_km</th>\n",
       "    </tr>\n",
       "  </thead>\n",
       "  <tbody>\n",
       "    <tr>\n",
       "      <th>0</th>\n",
       "      <td>7</td>\n",
       "      <td>3350000.0</td>\n",
       "      <td>40.4</td>\n",
       "      <td>2018-12-04</td>\n",
       "      <td>1</td>\n",
       "      <td>2.615</td>\n",
       "      <td>11</td>\n",
       "      <td>18.6</td>\n",
       "      <td>1</td>\n",
       "      <td>False</td>\n",
       "      <td>...</td>\n",
       "      <td>NaN</td>\n",
       "      <td>0.0</td>\n",
       "      <td>NaN</td>\n",
       "      <td>81.0</td>\n",
       "      <td>82920.792079</td>\n",
       "      <td>1</td>\n",
       "      <td>12</td>\n",
       "      <td>2018</td>\n",
       "      <td>первый</td>\n",
       "      <td>19.0</td>\n",
       "    </tr>\n",
       "    <tr>\n",
       "      <th>1</th>\n",
       "      <td>10</td>\n",
       "      <td>5196000.0</td>\n",
       "      <td>56.0</td>\n",
       "      <td>2015-08-20</td>\n",
       "      <td>2</td>\n",
       "      <td>2.700</td>\n",
       "      <td>5</td>\n",
       "      <td>34.3</td>\n",
       "      <td>4</td>\n",
       "      <td>False</td>\n",
       "      <td>...</td>\n",
       "      <td>90.0</td>\n",
       "      <td>2.0</td>\n",
       "      <td>574.0</td>\n",
       "      <td>558.0</td>\n",
       "      <td>92785.714286</td>\n",
       "      <td>3</td>\n",
       "      <td>8</td>\n",
       "      <td>2015</td>\n",
       "      <td>другой</td>\n",
       "      <td>14.0</td>\n",
       "    </tr>\n",
       "    <tr>\n",
       "      <th>2</th>\n",
       "      <td>10</td>\n",
       "      <td>2890000.0</td>\n",
       "      <td>30.4</td>\n",
       "      <td>2018-09-10</td>\n",
       "      <td>1</td>\n",
       "      <td>2.650</td>\n",
       "      <td>12</td>\n",
       "      <td>14.4</td>\n",
       "      <td>5</td>\n",
       "      <td>False</td>\n",
       "      <td>...</td>\n",
       "      <td>NaN</td>\n",
       "      <td>NaN</td>\n",
       "      <td>NaN</td>\n",
       "      <td>55.0</td>\n",
       "      <td>95065.789474</td>\n",
       "      <td>0</td>\n",
       "      <td>9</td>\n",
       "      <td>2018</td>\n",
       "      <td>другой</td>\n",
       "      <td>NaN</td>\n",
       "    </tr>\n",
       "    <tr>\n",
       "      <th>3</th>\n",
       "      <td>6</td>\n",
       "      <td>3700000.0</td>\n",
       "      <td>37.3</td>\n",
       "      <td>2017-11-02</td>\n",
       "      <td>1</td>\n",
       "      <td>2.640</td>\n",
       "      <td>26</td>\n",
       "      <td>10.6</td>\n",
       "      <td>6</td>\n",
       "      <td>False</td>\n",
       "      <td>...</td>\n",
       "      <td>NaN</td>\n",
       "      <td>0.0</td>\n",
       "      <td>NaN</td>\n",
       "      <td>155.0</td>\n",
       "      <td>99195.710456</td>\n",
       "      <td>3</td>\n",
       "      <td>11</td>\n",
       "      <td>2017</td>\n",
       "      <td>другой</td>\n",
       "      <td>19.0</td>\n",
       "    </tr>\n",
       "    <tr>\n",
       "      <th>4</th>\n",
       "      <td>5</td>\n",
       "      <td>7915000.0</td>\n",
       "      <td>71.6</td>\n",
       "      <td>2019-04-18</td>\n",
       "      <td>2</td>\n",
       "      <td>2.700</td>\n",
       "      <td>24</td>\n",
       "      <td>30.5</td>\n",
       "      <td>22</td>\n",
       "      <td>False</td>\n",
       "      <td>...</td>\n",
       "      <td>NaN</td>\n",
       "      <td>0.0</td>\n",
       "      <td>NaN</td>\n",
       "      <td>NaN</td>\n",
       "      <td>110544.692737</td>\n",
       "      <td>3</td>\n",
       "      <td>4</td>\n",
       "      <td>2019</td>\n",
       "      <td>другой</td>\n",
       "      <td>12.0</td>\n",
       "    </tr>\n",
       "  </tbody>\n",
       "</table>\n",
       "<p>5 rows × 28 columns</p>\n",
       "</div>"
      ],
      "text/plain": [
       "   total_images  last_price  total_area first_day_exposition  rooms  \\\n",
       "0             7   3350000.0        40.4           2018-12-04      1   \n",
       "1            10   5196000.0        56.0           2015-08-20      2   \n",
       "2            10   2890000.0        30.4           2018-09-10      1   \n",
       "3             6   3700000.0        37.3           2017-11-02      1   \n",
       "4             5   7915000.0        71.6           2019-04-18      2   \n",
       "\n",
       "   ceiling_height  floors_total  living_area  floor  is_apartment  ...  \\\n",
       "0           2.615            11         18.6      1         False  ...   \n",
       "1           2.700             5         34.3      4         False  ...   \n",
       "2           2.650            12         14.4      5         False  ...   \n",
       "3           2.640            26         10.6      6         False  ...   \n",
       "4           2.700            24         30.5     22         False  ...   \n",
       "\n",
       "   parks_nearest  ponds_around3000  ponds_nearest  days_exposition  \\\n",
       "0            NaN               0.0            NaN             81.0   \n",
       "1           90.0               2.0          574.0            558.0   \n",
       "2            NaN               NaN            NaN             55.0   \n",
       "3            NaN               0.0            NaN            155.0   \n",
       "4            NaN               0.0            NaN              NaN   \n",
       "\n",
       "    price_per_m2  exposition_weekday  exposition_month  exposition_year  \\\n",
       "0   82920.792079                   1                12             2018   \n",
       "1   92785.714286                   3                 8             2015   \n",
       "2   95065.789474                   0                 9             2018   \n",
       "3   99195.710456                   3                11             2017   \n",
       "4  110544.692737                   3                 4             2019   \n",
       "\n",
       "   floor_type  cityCenters_nearest_km  \n",
       "0      первый                    19.0  \n",
       "1      другой                    14.0  \n",
       "2      другой                     NaN  \n",
       "3      другой                    19.0  \n",
       "4      другой                    12.0  \n",
       "\n",
       "[5 rows x 28 columns]"
      ]
     },
     "execution_count": 49,
     "metadata": {},
     "output_type": "execute_result"
    }
   ],
   "source": [
    "# посмотрим на итоговый датафрейм\n",
    "data_new.head()"
   ]
  },
  {
   "cell_type": "markdown",
   "metadata": {},
   "source": [
    "### 4. Проведите исследовательский анализ данных"
   ]
  },
  {
   "cell_type": "markdown",
   "metadata": {},
   "source": [
    "#### 4.1. Изучите параметры объектов"
   ]
  },
  {
   "cell_type": "code",
   "execution_count": 50,
   "metadata": {},
   "outputs": [
    {
     "data": {
      "image/png": "[encoded data removed]",
      "text/plain": [
       "<Figure size 432x288 with 1 Axes>"
      ]
     },
     "metadata": {
      "needs_background": "light"
     },
     "output_type": "display_data"
    }
   ],
   "source": [
    "# общая площадь\n",
    "sns.histplot(data=data_new, x=\"total_area\", kde=True, element=\"step\", color=\"purple\", alpha=.3)\n",
    "plt.ylabel('Кол-во объявлений', fontsize=10)\n",
    "plt.xlabel('Общая площадь, м2', fontsize=10);"
   ]
  },
  {
   "cell_type": "markdown",
   "metadata": {},
   "source": [
    "Большинство квартир, выставленных на продажу, имеют общую площадь от 30 до 50 м2. С ростом значения общей площади квартиры количество предложений падает."
   ]
  },
  {
   "cell_type": "code",
   "execution_count": 51,
   "metadata": {},
   "outputs": [
    {
     "data": {
      "image/png": "[encoded data removed]",
      "text/plain": [
       "<Figure size 432x288 with 1 Axes>"
      ]
     },
     "metadata": {
      "needs_background": "light"
     },
     "output_type": "display_data"
    }
   ],
   "source": [
    "# жилая площадь\n",
    "sns.histplot(data=data_new, x=\"living_area\", kde=True, element=\"step\", color=\"red\", alpha=.3)\n",
    "plt.ylabel('Кол-во объявлений', fontsize=10)\n",
    "plt.xlabel('Жилая площадь, м2', fontsize=10);"
   ]
  },
  {
   "cell_type": "markdown",
   "metadata": {},
   "source": [
    "Можно выделить три четких пика в распределении параметра жилой площади - это значения около 18, 30 и 45 м2. В промежутках между этими значениями парметра жилой площади наблюдается значительное уменьшения количества доступных для покупки предложений."
   ]
  },
  {
   "cell_type": "code",
   "execution_count": 52,
   "metadata": {},
   "outputs": [
    {
     "data": {
      "image/png": "[encoded data removed]",
      "text/plain": [
       "<Figure size 432x288 with 1 Axes>"
      ]
     },
     "metadata": {
      "needs_background": "light"
     },
     "output_type": "display_data"
    }
   ],
   "source": [
    "# площадь кухни\n",
    "sns.histplot(data=data_new, x=\"kitchen_area\", kde=True, element=\"step\", color=\"orange\", alpha=.3, bins=30)\n",
    "plt.ylabel('Кол-во объявлений', fontsize=10)\n",
    "plt.xlabel('Площадь кухни, м2', fontsize=10);"
   ]
  },
  {
   "cell_type": "markdown",
   "metadata": {},
   "source": [
    "Параметр \"Площадь кухни\" характеризуется неравномерностью распределения. Наблюдается тенденция к воспроизведению формы распределения параметра \"Общая площадь\". Это не удивительно, ведь для заполнения пропусков в данных неизвестные значения параметра \"Площадь кухни\" заменялись вычисленными нами отнсительно общей площади квартиры."
   ]
  },
  {
   "cell_type": "code",
   "execution_count": 53,
   "metadata": {},
   "outputs": [
    {
     "data": {
      "image/png": "[encoded data removed]",
      "text/plain": [
       "<Figure size 648x360 with 2 Axes>"
      ]
     },
     "metadata": {
      "needs_background": "light"
     },
     "output_type": "display_data"
    }
   ],
   "source": [
    "# цена объекта\n",
    "f, axes = plt.subplots(1, 2, figsize=(9, 5), sharey=True)\n",
    "g1 = sns.histplot(data=data_new, x=\"last_price\", kde=True, element=\"step\", color=\"green\", alpha=.3, ax=axes[0])\n",
    "g2 = sns.histplot(data=data_new[data_new['last_price']<=15000000], x=\"last_price\", kde=True, element=\"step\", color=\"green\", alpha=.3,  ax=axes[1])\n",
    "g1.set(xlabel=None)\n",
    "g1.set(ylabel=None)\n",
    "g2.set(xlabel=None)\n",
    "g2.set(ylabel=None)\n",
    "f.supxlabel('Цена объекта, руб.*10^7', fontsize=10)\n",
    "f.supylabel('Кол-во объявлений', fontsize=10)\n",
    "plt.show;"
   ]
  },
  {
   "cell_type": "markdown",
   "metadata": {},
   "source": [
    "Левый график описывает общих характер распределения параметра \"Цена объекта\". Так как эти данные предварительно не фильтровались на этапе предобработки, мы можем наблюдать длинный \"хвост\" из очень дорогих редких предложений продажи. Для упрощения восприяти основной массы данных справа представлена часть графика, ограниченная по цене продажы до 15 млн. руб. График распределения стремится к нормальному виду. Наибольшее количество предложений сосредоточено в диапазоне от ~2,5 млн. до ~6 млн. руб.  "
   ]
  },
  {
   "cell_type": "code",
   "execution_count": 54,
   "metadata": {},
   "outputs": [
    {
     "data": {
      "image/png": "[encoded data removed]",
      "text/plain": [
       "<Figure size 432x288 with 1 Axes>"
      ]
     },
     "metadata": {
      "needs_background": "light"
     },
     "output_type": "display_data"
    }
   ],
   "source": [
    "# количество комнат\n",
    "sns.barplot(data=data_new, x=data_new.rooms.value_counts().index, y=data_new.rooms.value_counts(), alpha=.6, edgecolor='.2')\n",
    "plt.ylabel('Кол-во объявлений', fontsize=10)\n",
    "plt.xlabel('Кол-во комнат', fontsize=10);"
   ]
  },
  {
   "cell_type": "markdown",
   "metadata": {},
   "source": [
    "Самый распространенный вариант квартир, выставляемых на продажу - однокомнатные. Следующий по популярности - двухкомнатные. Также в данных представлено порядка 5 тыс. предложений продажи трехкомнатных квартир. Предложения продажи квартир с большим числом комнат встречаются редко (что не удивительно, какие планировки в целом более редкие). "
   ]
  },
  {
   "cell_type": "code",
   "execution_count": 55,
   "metadata": {},
   "outputs": [
    {
     "data": {
      "image/png": "[encoded data removed]",
      "text/plain": [
       "<Figure size 432x288 with 1 Axes>"
      ]
     },
     "metadata": {
      "needs_background": "light"
     },
     "output_type": "display_data"
    }
   ],
   "source": [
    "# высота потолков\n",
    "sns.histplot(data=data_new, x=\"ceiling_height\", kde=True, element=\"step\", color=\"black\", alpha=.3, bins=27)\n",
    "plt.ylabel('Кол-во объявлений', fontsize=10)\n",
    "plt.xlabel('Высота потолков, м', fontsize=10);"
   ]
  },
  {
   "cell_type": "markdown",
   "metadata": {},
   "source": [
    "Наиболее распространенной высотой потолков является значение в 2.7 м. Стоит отметить, правда, что наши данные не отражают реальную картину происходящего, а являются лишь предположением, так как из-за большого количества пропусков в исходных данных (более 9000 незаполеных ячеек \"ceiling_height\"), отсутствующие данные заполняли медианами, которые как раз приходятся на значение 2.7."
   ]
  },
  {
   "cell_type": "code",
   "execution_count": 56,
   "metadata": {},
   "outputs": [
    {
     "data": {
      "image/png": "[encoded data removed]",
      "text/plain": [
       "<Figure size 432x288 with 1 Axes>"
      ]
     },
     "metadata": {
      "needs_background": "light"
     },
     "output_type": "display_data"
    }
   ],
   "source": [
    "# этаж квартиры\n",
    "sns.histplot(data=data_new, x=\"floor\", kde=True, element=\"step\", color=\"pink\", alpha=.5, bins=27)\n",
    "plt.ylabel('Кол-во объявлений', fontsize=10)\n",
    "plt.xlabel('Этаж', fontsize=10);"
   ]
  },
  {
   "cell_type": "markdown",
   "metadata": {},
   "source": [
    "Большая часть квартир, представленных в базе, располагается между 1 и 5 этажами. Дальше, с увеличением номера этажа, количество предложений уменьшается. Определяется это в первую очередь тем, что в нашей базе представлено много предложений о продаже квартир из домов высотой до 10 этажей (см. график \"общее количество этажей в доме\" ниже)."
   ]
  },
  {
   "cell_type": "code",
   "execution_count": 57,
   "metadata": {},
   "outputs": [
    {
     "data": {
      "image/png": "[encoded data removed]",
      "text/plain": [
       "<Figure size 432x288 with 1 Axes>"
      ]
     },
     "metadata": {
      "needs_background": "light"
     },
     "output_type": "display_data"
    }
   ],
   "source": [
    "# тип этажа квартиры («первый», «последний», «другой»)\n",
    "sns.barplot(data=data_new, x=data_new.floor_type.value_counts().index, y=data_new.floor_type.value_counts(), alpha=.7, edgecolor='.2')\n",
    "plt.ylabel('Кол-во объявлений', fontsize=10)\n",
    "plt.xlabel('Тип этажа', fontsize=10);"
   ]
  },
  {
   "cell_type": "markdown",
   "metadata": {},
   "source": [
    "Предложения продажи квартир на первом и на последнем этажах зданий в наших данных представленные практически в равном объеме."
   ]
  },
  {
   "cell_type": "code",
   "execution_count": 58,
   "metadata": {},
   "outputs": [
    {
     "data": {
      "image/png": "[encoded data removed]",
      "text/plain": [
       "<Figure size 432x288 with 1 Axes>"
      ]
     },
     "metadata": {
      "needs_background": "light"
     },
     "output_type": "display_data"
    }
   ],
   "source": [
    "# общее количество этажей в доме\n",
    "sns.histplot(data=data_new, x=\"floors_total\", kde=True, element=\"step\", color=\"brown\", alpha=.3, bins=29)\n",
    "plt.ylabel('Кол-во объявлений', fontsize=10)\n",
    "plt.xlabel('Общее кол-во этажей в доме', fontsize=10);"
   ]
  },
  {
   "cell_type": "markdown",
   "metadata": {},
   "source": [
    "Основная масса квартир на продажу находится в зданиях высотой 5 и 9 этажей. Можно предположить, что это дома старой советской застройки. "
   ]
  },
  {
   "cell_type": "code",
   "execution_count": 59,
   "metadata": {},
   "outputs": [
    {
     "data": {
      "image/png": "[encoded data removed]",
      "text/plain": [
       "<Figure size 432x288 with 1 Axes>"
      ]
     },
     "metadata": {
      "needs_background": "light"
     },
     "output_type": "display_data"
    }
   ],
   "source": [
    "# расстояние до центра города в метрах\n",
    "sns.histplot(data=data_new, x=\"cityCenters_nearest\", kde=True, element=\"step\", color=\"indigo\", alpha=.3)\n",
    "plt.ylabel('Кол-во объявлений', fontsize=10)\n",
    "plt.xlabel('Расстояние до центра города, м', fontsize=10);"
   ]
  },
  {
   "cell_type": "markdown",
   "metadata": {},
   "source": [
    "Большая часть квартир, выставленных на продажу, находится на расстоянии до 20 км от центра Санкт-Петербурга (в черте города)."
   ]
  },
  {
   "cell_type": "code",
   "execution_count": 60,
   "metadata": {},
   "outputs": [
    {
     "data": {
      "image/png": "[encoded data removed]",
      "text/plain": [
       "<Figure size 432x288 with 1 Axes>"
      ]
     },
     "metadata": {
      "needs_background": "light"
     },
     "output_type": "display_data"
    }
   ],
   "source": [
    "# расстояние до ближайшего аэропорта\n",
    "sns.histplot(data=data_new, x=\"airports_nearest\", kde=True, element=\"step\", color=\"blue\", alpha=.3)\n",
    "plt.ylabel('Кол-во объявлений', fontsize=10)\n",
    "plt.xlabel('Расстояние до ближайшего аэропорта, м', fontsize=10);"
   ]
  },
  {
   "cell_type": "markdown",
   "metadata": {},
   "source": [
    "В основном, квартиры из базы имеют близлижайший аэропорт на расстоянии 10-50 км."
   ]
  },
  {
   "cell_type": "code",
   "execution_count": 61,
   "metadata": {},
   "outputs": [
    {
     "data": {
      "image/png": "[encoded data removed]",
      "text/plain": [
       "<Figure size 432x288 with 1 Axes>"
      ]
     },
     "metadata": {
      "needs_background": "light"
     },
     "output_type": "display_data"
    }
   ],
   "source": [
    "# расстояние до ближайшего парка\n",
    "sns.histplot(data=data_new, x=\"parks_nearest\", kde=True, element=\"step\", color=\"violet\", alpha=.3)\n",
    "plt.ylabel('Кол-во объявлений', fontsize=10)\n",
    "plt.xlabel('Расстояние до ближайшего парка, м', fontsize=10);"
   ]
  },
  {
   "cell_type": "markdown",
   "metadata": {},
   "source": [
    "Подавляющее большенство квартир из базы имеют близлижайший парк на расстоянии 200-800 м."
   ]
  },
  {
   "cell_type": "code",
   "execution_count": 62,
   "metadata": {
    "scrolled": true
   },
   "outputs": [
    {
     "data": {
      "image/png": "[encoded data removed]",
      "text/plain": [
       "<Figure size 720x360 with 2 Axes>"
      ]
     },
     "metadata": {
      "needs_background": "light"
     },
     "output_type": "display_data"
    }
   ],
   "source": [
    "# поменяем значения в колонке 'exposition_weekday' с чисел на названия дней недели для удобства чтения графика\n",
    "data_new1 = data_new.replace({'exposition_weekday':{0:'Пн', 1:'Вт', 2:'Ср', 3:'Чт', 4:'Пт', 5:'Сб', 6:'Вс'}})\n",
    "\n",
    "# день недели и месяц публикации объявления\n",
    "f, axes = plt.subplots(1, 2, figsize=(10, 5), sharey=True)\n",
    "g1 = sns.barplot(data=data_new1, x=data_new1.exposition_weekday.value_counts().index, y=data_new1.exposition_weekday.value_counts(), alpha=.6, edgecolor='.2', ax=axes[0])\n",
    "g2 = sns.barplot(data=data_new, x=data_new.exposition_month.value_counts().index, y=data_new.exposition_month.value_counts(), alpha=.7, edgecolor='.2', ax=axes[1])\n",
    "g1.set(xlabel='День недели')\n",
    "g1.set(ylabel=None)\n",
    "g2.set(xlabel='Месяц')\n",
    "g2.set(ylabel=None)\n",
    "f.supylabel('Кол-во объявлений', fontsize=10)\n",
    "plt.show;"
   ]
  },
  {
   "cell_type": "markdown",
   "metadata": {},
   "source": [
    "Пользователи предпочитают выставлять объявления о продаже квартир в будние дни. При этом понедельник является наименее популярным будним днем для заполнения объявления о продаже квартиры среди пользователей. \n",
    "<br>\n",
    "Наибольшее количество предложений о продаже квартир появляется в конце зимы и весной (февраль, марти и апрель). К лету количество новых предложений резко падает. Осенью наблюдается постепенный рост новых предложений продажи квартир. В декабре и январе (предположительно, в связи с празднованием Нового Года) количество объявлений о продаже значительно уменьшается. "
   ]
  },
  {
   "cell_type": "markdown",
   "metadata": {},
   "source": [
    "#### 4.2. Изучите, как быстро продавались квартиры"
   ]
  },
  {
   "cell_type": "code",
   "execution_count": 63,
   "metadata": {},
   "outputs": [
    {
     "data": {
      "image/png": "[encoded data removed]",
      "text/plain": [
       "<Figure size 432x288 with 1 Axes>"
      ]
     },
     "metadata": {
      "needs_background": "light"
     },
     "output_type": "display_data"
    }
   ],
   "source": [
    "# построим гистограму для 'days_exposition'\n",
    "sns.histplot(data=data_new, x=\"days_exposition\", kde=True, element=\"step\", color=\"teal\", alpha=.3)\n",
    "plt.ylabel('Кол-во объектов', fontsize=10)\n",
    "plt.xlabel('Время до снятия объявления, дни', fontsize=10);"
   ]
  },
  {
   "cell_type": "code",
   "execution_count": 64,
   "metadata": {},
   "outputs": [
    {
     "name": "stdout",
     "output_type": "stream",
     "text": [
      "Медиана days_exposition: 91.0 день \n",
      "Среднее days_exposition: 173.49324541653266 дня\n"
     ]
    }
   ],
   "source": [
    "median_days_exposition = data_new.days_exposition.describe()[5]\n",
    "mean_days_exposition = data_new.days_exposition.describe()[1]\n",
    "print(f'Медиана days_exposition: {median_days_exposition} день \\nСреднее days_exposition: {mean_days_exposition} дня')"
   ]
  },
  {
   "cell_type": "markdown",
   "metadata": {},
   "source": [
    "***\n",
    "**ВЫВОД:** Медианное значение времени снятия объявления - 91 день. Это говорит о том, что примерно половина всех квартир к этому времени уже продана (или пользователь снял объявление по другой причине). Таким образом можно считать, что продажи, совершенные быстрее чем за 3 месяца являются быстрыми (Q1 = 44 дня). В свою очередь, если объявление не было снято к 7 месяцу (Q3 = 219 дней), такая продажа является медленной. Если объявление не было снято к ~480 дню, такую продажу можно считать необычайно долгой. "
   ]
  },
  {
   "cell_type": "markdown",
   "metadata": {},
   "source": [
    "#### 4.3. Какие факторы больше всего влияют на общую (полную) стоимость объекта?"
   ]
  },
  {
   "cell_type": "code",
   "execution_count": 65,
   "metadata": {
    "scrolled": true
   },
   "outputs": [
    {
     "data": {
      "text/plain": [
       "total_area      0.681899\n",
       "living_area     0.542528\n",
       "kitchen_area    0.516512\n",
       "rooms           0.397324\n",
       "last_price      1.000000\n",
       "Name: last_price, dtype: float64"
      ]
     },
     "execution_count": 65,
     "metadata": {},
     "output_type": "execute_result"
    }
   ],
   "source": [
    "# для last_price посчитаем корреляции с другими количественными переменными\n",
    "data_corr = data_new[['total_area', 'living_area', 'kitchen_area', 'rooms', 'last_price']]\n",
    "data_corr.corr().last_price"
   ]
  },
  {
   "cell_type": "code",
   "execution_count": 66,
   "metadata": {
    "scrolled": true
   },
   "outputs": [
    {
     "data": {
      "image/png": "[encoded data removed]",
      "text/plain": [
       "<Figure size 804.125x180 with 4 Axes>"
      ]
     },
     "metadata": {
      "needs_background": "light"
     },
     "output_type": "display_data"
    }
   ],
   "source": [
    "# построим графики зависимости параметра 'last_price' от 'total_area', 'living_area', 'kitchen_area' и 'rooms'\n",
    "data_corr = data_corr.rename(columns={'total_area': 'Общая площадь, м2',\n",
    "                                      'living_area': 'Жилая площадь, м2',\n",
    "                                      'kitchen_area': 'Площадь кухни, м2',\n",
    "                                      'rooms':'Кол-во комнат',\n",
    "                                      'last_price': 'Цена, руб.*10^7'})\n",
    "\n",
    "sns.pairplot(\n",
    "    data=data_corr, \n",
    "    hue='Кол-во комнат',\n",
    "    palette='Set2',\n",
    "    x_vars=['Общая площадь, м2', 'Жилая площадь, м2', 'Площадь кухни, м2', 'Кол-во комнат'], \n",
    "    y_vars='Цена, руб.*10^7'\n",
    ");"
   ]
  },
  {
   "cell_type": "markdown",
   "metadata": {},
   "source": [
    "Обнаружена средняя положительная корреляция параметра 'last_price' и параметра 'total_area'; средняя положительная корреляция параметра 'last_price' и параметра 'living_area'; средняя положительная корреляция параметра 'last_price' и параметра 'kitchen_area'; слабая положительная корреляция параметра 'last_price' и параметра 'rooms'."
   ]
  },
  {
   "cell_type": "code",
   "execution_count": 67,
   "metadata": {},
   "outputs": [
    {
     "data": {
      "image/png": "[encoded data removed]",
      "text/plain": [
       "<Figure size 432x288 with 1 Axes>"
      ]
     },
     "metadata": {
      "needs_background": "light"
     },
     "output_type": "display_data"
    }
   ],
   "source": [
    "# построим графики зависомости параметра 'last_price' от 'floor_type'\n",
    "sns.barplot(data=data_new, x='floor_type', y='last_price', alpha=.6, edgecolor='.2')\n",
    "plt.ylabel('Цена, руб.*10^6', fontsize=10)\n",
    "plt.xlabel('Тип этажа', fontsize=10);"
   ]
  },
  {
   "cell_type": "markdown",
   "metadata": {},
   "source": [
    "Из данных на графике видно, что цена квартир, расположенных на первом этаже, меньше, чем у квартир этажами выше. При этом цена квартир на последнем этаже также оказывается меньше, чем цена квартир на других этажах дома (кроме первого). "
   ]
  },
  {
   "cell_type": "code",
   "execution_count": 68,
   "metadata": {},
   "outputs": [
    {
     "data": {
      "image/png": "[encoded data removed]",
      "text/plain": [
       "<Figure size 720x360 with 3 Axes>"
      ]
     },
     "metadata": {
      "needs_background": "light"
     },
     "output_type": "display_data"
    }
   ],
   "source": [
    "# построим графики зависимости параметра 'last_price' от 'exposition_weekday', 'exposition_month' и 'exposition_year'\n",
    "f, axes = plt.subplots(1, 3, figsize=(10, 5), sharey=True)\n",
    "g1 = sns.barplot(data=data_new1, x='exposition_weekday', y='last_price', alpha=.6, edgecolor='.2', ax=axes[0])\n",
    "g2 = sns.barplot(data=data_new, x='exposition_month', y='last_price', alpha=.7, edgecolor='.2', ax=axes[1])\n",
    "g3 = sns.barplot(data=data_new, x='exposition_year', y='last_price', alpha=.6, edgecolor='.2', ax=axes[2])\n",
    "g1.set(xlabel='День недели')\n",
    "g1.set(ylabel=None)\n",
    "g2.set(xlabel='Месяц')\n",
    "g2.set(ylabel=None)\n",
    "g3.set(xlabel='Год')\n",
    "g3.set(ylabel=None)\n",
    "f.supylabel('Цена, руб.*10^6', fontsize=10)\n",
    "plt.show;"
   ]
  },
  {
   "cell_type": "code",
   "execution_count": 69,
   "metadata": {},
   "outputs": [
    {
     "data": {
      "text/plain": [
       "Ttest_indResult(statistic=-5.9810294979571, pvalue=2.290515604759109e-09)"
      ]
     },
     "execution_count": 69,
     "metadata": {},
     "output_type": "execute_result"
    }
   ],
   "source": [
    "# посчитаем t-статистику для средних цен на недвижимость в 2018 и 2019 годах\n",
    "cat1 = data_new[data_new['exposition_year']==2018]\n",
    "cat2 = data_new[data_new['exposition_year']==2019]\n",
    "\n",
    "ttest_ind(cat1['last_price'], cat2['last_price'])\n",
    "# заранее учтем, что предположение о независимости выборок и равенстве дисперсий может быть нарушено"
   ]
  },
  {
   "cell_type": "markdown",
   "metadata": {},
   "source": [
    "Исходя из данных, представленных на графике, видно, что ни день недели, ни месяц, ни год публикации объявления в целом не сильно влияют на цену. Однако, стоит отметить аномально высокую цену на недвижимость в 2014 году. \n",
    "> *Экономический кризис 2014 года можно назвать новым этапом рецессии и продолжением кризиса 2008 года. [ ] Рынок недвижимости отреагировал на очередной виток кризиса так же, как и в предыдущие годы: сокращением спроса, снижением темпов строительства, уменьшением рублевых цен, которые с учетом падения уровня жизни фактически выросли для большинства покупателей.*\n",
    "<br>\n",
    "**Сергей Велесевич** // Три российских кризиса: как падал рынок жилья в 1998, 2008 и 2014 годах.\n",
    "https://realty.rbc.ru/news/5b76c9fb9a79471f1c1c81db\n",
    "\n",
    "<br>\n",
    "В связи с отсутствием в данных информации за 2020 и 2021 года, мы не можем точно утверждать (подтверждая суждения реальными данными), существует ли тренд на увеличение стоимости недвижимости в последние годы (видим <u>статистически значимое увеличение</u> цены в 2019 году по сравнению с 2018).\n",
    "    \n",
    "***\n",
    "**ВЫВОД:** \n",
    "+ Обнаруживается положительная корреляция между площадью квартир (общая площадь, жилая площади, площадь кухни) и полной стоимостью объекта. \n",
    "+ Количество комнат в квартире слабо коррелирует со стоимостью. \n",
    "+ Из данных видно, что квартиры, расположенные не на первом или последнем этажах здания, стоят дороже. \n",
    "+ Дата публикации не оказывает существенного влияния на цену. \n",
    "+ Самым непредсказуемым, но в тоже время одним из наиболее значимых факторов, влияющих на стоимость недвижимости, является экономическая и политическая обстановка в стране, а также экономические кризисы."
   ]
  },
  {
   "cell_type": "markdown",
   "metadata": {},
   "source": [
    "#### 4.4. Посчитайте среднюю цену одного квадратного метра в 10 населённых пунктах с наибольшим числом объявлений"
   ]
  },
  {
   "cell_type": "code",
   "execution_count": 70,
   "metadata": {
    "scrolled": true
   },
   "outputs": [
    {
     "data": {
      "text/html": [
       "<div>\n",
       "<style scoped>\n",
       "    .dataframe tbody tr th:only-of-type {\n",
       "        vertical-align: middle;\n",
       "    }\n",
       "\n",
       "    .dataframe tbody tr th {\n",
       "        vertical-align: top;\n",
       "    }\n",
       "\n",
       "    .dataframe thead th {\n",
       "        text-align: right;\n",
       "    }\n",
       "</style>\n",
       "<table border=\"1\" class=\"dataframe\">\n",
       "  <thead>\n",
       "    <tr style=\"text-align: right;\">\n",
       "      <th></th>\n",
       "      <th>Населенный пункт</th>\n",
       "      <th>Кол-во объявлений</th>\n",
       "      <th>Средняя цена за м2, руб.</th>\n",
       "    </tr>\n",
       "  </thead>\n",
       "  <tbody>\n",
       "    <tr>\n",
       "      <th>0</th>\n",
       "      <td>Санкт-Петербург</td>\n",
       "      <td>13742</td>\n",
       "      <td>108988.43</td>\n",
       "    </tr>\n",
       "    <tr>\n",
       "      <th>1</th>\n",
       "      <td>Мурино</td>\n",
       "      <td>577</td>\n",
       "      <td>86115.62</td>\n",
       "    </tr>\n",
       "    <tr>\n",
       "      <th>2</th>\n",
       "      <td>Кудрово</td>\n",
       "      <td>449</td>\n",
       "      <td>95567.88</td>\n",
       "    </tr>\n",
       "    <tr>\n",
       "      <th>3</th>\n",
       "      <td>Шушары</td>\n",
       "      <td>430</td>\n",
       "      <td>78540.12</td>\n",
       "    </tr>\n",
       "    <tr>\n",
       "      <th>4</th>\n",
       "      <td>Всеволожск</td>\n",
       "      <td>386</td>\n",
       "      <td>68475.96</td>\n",
       "    </tr>\n",
       "    <tr>\n",
       "      <th>5</th>\n",
       "      <td>Колпино</td>\n",
       "      <td>332</td>\n",
       "      <td>75387.72</td>\n",
       "    </tr>\n",
       "    <tr>\n",
       "      <th>6</th>\n",
       "      <td>Пушкин</td>\n",
       "      <td>329</td>\n",
       "      <td>101048.61</td>\n",
       "    </tr>\n",
       "    <tr>\n",
       "      <th>7</th>\n",
       "      <td>Парголово</td>\n",
       "      <td>324</td>\n",
       "      <td>90296.93</td>\n",
       "    </tr>\n",
       "    <tr>\n",
       "      <th>8</th>\n",
       "      <td>Гатчина</td>\n",
       "      <td>299</td>\n",
       "      <td>68870.34</td>\n",
       "    </tr>\n",
       "    <tr>\n",
       "      <th>9</th>\n",
       "      <td>Выборг</td>\n",
       "      <td>215</td>\n",
       "      <td>57992.83</td>\n",
       "    </tr>\n",
       "  </tbody>\n",
       "</table>\n",
       "</div>"
      ],
      "text/plain": [
       "  Населенный пункт  Кол-во объявлений  Средняя цена за м2, руб.\n",
       "0  Санкт-Петербург              13742                 108988.43\n",
       "1           Мурино                577                  86115.62\n",
       "2          Кудрово                449                  95567.88\n",
       "3           Шушары                430                  78540.12\n",
       "4       Всеволожск                386                  68475.96\n",
       "5          Колпино                332                  75387.72\n",
       "6           Пушкин                329                 101048.61\n",
       "7        Парголово                324                  90296.93\n",
       "8          Гатчина                299                  68870.34\n",
       "9           Выборг                215                  57992.83"
      ]
     },
     "metadata": {},
     "output_type": "display_data"
    }
   ],
   "source": [
    "# для решения задачи воспользуемся группировкой и аггрегацией\n",
    "top_locality_name_by_price_per_m2 = data_new\\\n",
    "                                            .groupby('locality_name', as_index=False)\\\n",
    "                                            .agg({'open_plan': 'count','price_per_m2': 'mean'})\\\n",
    "                                            .sort_values(by='open_plan', ascending=False)\\\n",
    "                                            .rename(columns={'locality_name': 'Населенный пункт', \n",
    "                                                             'price_per_m2': 'Средняя цена за м2, руб.', \n",
    "                                                             'open_plan': 'Кол-во объявлений'})\\\n",
    "                                            .round(2)\\\n",
    "                                            .reset_index(drop=True)\\\n",
    "                                            .head(10)\n",
    "\n",
    "display(top_locality_name_by_price_per_m2)"
   ]
  },
  {
   "cell_type": "code",
   "execution_count": 71,
   "metadata": {
    "scrolled": false
   },
   "outputs": [
    {
     "data": {
      "image/png": "[encoded data removed]",
      "text/plain": [
       "<Figure size 432x288 with 1 Axes>"
      ]
     },
     "metadata": {
      "needs_background": "light"
     },
     "output_type": "display_data"
    }
   ],
   "source": [
    "# построим столбчатую диаграмму для найденых 10 населённых пункттов\n",
    "ax = sns.barplot(data=top_locality_name_by_price_per_m2, x='Населенный пункт', y='Средняя цена за м2, руб.', alpha=.6, edgecolor='.2')\n",
    "ax.set_xticklabels(ax.get_xticklabels(), rotation=40, ha=\"right\")\n",
    "plt.tight_layout();"
   ]
  },
  {
   "cell_type": "markdown",
   "metadata": {},
   "source": [
    "На графике можно видеть топ 10 населенных пунктов по количеству объявлений о продаже недвижимости и среднюю стоимость 1 м2 в каждом населенном пункте."
   ]
  },
  {
   "cell_type": "markdown",
   "metadata": {},
   "source": [
    "#### 4.5. Вычислите среднюю цену м2 недвижимости для каждого километра в Санкт-Петербурге"
   ]
  },
  {
   "cell_type": "code",
   "execution_count": 72,
   "metadata": {},
   "outputs": [
    {
     "data": {
      "text/html": [
       "<div>\n",
       "<style scoped>\n",
       "    .dataframe tbody tr th:only-of-type {\n",
       "        vertical-align: middle;\n",
       "    }\n",
       "\n",
       "    .dataframe tbody tr th {\n",
       "        vertical-align: top;\n",
       "    }\n",
       "\n",
       "    .dataframe thead th {\n",
       "        text-align: right;\n",
       "    }\n",
       "</style>\n",
       "<table border=\"1\" class=\"dataframe\">\n",
       "  <thead>\n",
       "    <tr style=\"text-align: right;\">\n",
       "      <th></th>\n",
       "      <th>Расстояние до центра, км</th>\n",
       "      <th>Средняя цена за м2, руб.</th>\n",
       "    </tr>\n",
       "  </thead>\n",
       "  <tbody>\n",
       "    <tr>\n",
       "      <th>0</th>\n",
       "      <td>0.0</td>\n",
       "      <td>179245.55</td>\n",
       "    </tr>\n",
       "    <tr>\n",
       "      <th>1</th>\n",
       "      <td>1.0</td>\n",
       "      <td>134656.65</td>\n",
       "    </tr>\n",
       "    <tr>\n",
       "      <th>2</th>\n",
       "      <td>2.0</td>\n",
       "      <td>140735.73</td>\n",
       "    </tr>\n",
       "    <tr>\n",
       "      <th>3</th>\n",
       "      <td>3.0</td>\n",
       "      <td>116081.01</td>\n",
       "    </tr>\n",
       "    <tr>\n",
       "      <th>4</th>\n",
       "      <td>4.0</td>\n",
       "      <td>125364.74</td>\n",
       "    </tr>\n",
       "    <tr>\n",
       "      <th>5</th>\n",
       "      <td>5.0</td>\n",
       "      <td>133128.29</td>\n",
       "    </tr>\n",
       "    <tr>\n",
       "      <th>6</th>\n",
       "      <td>6.0</td>\n",
       "      <td>131324.91</td>\n",
       "    </tr>\n",
       "    <tr>\n",
       "      <th>7</th>\n",
       "      <td>7.0</td>\n",
       "      <td>130838.37</td>\n",
       "    </tr>\n",
       "    <tr>\n",
       "      <th>8</th>\n",
       "      <td>8.0</td>\n",
       "      <td>120711.69</td>\n",
       "    </tr>\n",
       "    <tr>\n",
       "      <th>9</th>\n",
       "      <td>9.0</td>\n",
       "      <td>110310.02</td>\n",
       "    </tr>\n",
       "    <tr>\n",
       "      <th>10</th>\n",
       "      <td>10.0</td>\n",
       "      <td>110985.28</td>\n",
       "    </tr>\n",
       "    <tr>\n",
       "      <th>11</th>\n",
       "      <td>11.0</td>\n",
       "      <td>106592.03</td>\n",
       "    </tr>\n",
       "    <tr>\n",
       "      <th>12</th>\n",
       "      <td>12.0</td>\n",
       "      <td>107022.06</td>\n",
       "    </tr>\n",
       "    <tr>\n",
       "      <th>13</th>\n",
       "      <td>13.0</td>\n",
       "      <td>107597.28</td>\n",
       "    </tr>\n",
       "    <tr>\n",
       "      <th>14</th>\n",
       "      <td>14.0</td>\n",
       "      <td>103989.46</td>\n",
       "    </tr>\n",
       "    <tr>\n",
       "      <th>15</th>\n",
       "      <td>15.0</td>\n",
       "      <td>103376.43</td>\n",
       "    </tr>\n",
       "    <tr>\n",
       "      <th>16</th>\n",
       "      <td>16.0</td>\n",
       "      <td>99814.66</td>\n",
       "    </tr>\n",
       "    <tr>\n",
       "      <th>17</th>\n",
       "      <td>17.0</td>\n",
       "      <td>96584.66</td>\n",
       "    </tr>\n",
       "    <tr>\n",
       "      <th>18</th>\n",
       "      <td>18.0</td>\n",
       "      <td>96272.27</td>\n",
       "    </tr>\n",
       "    <tr>\n",
       "      <th>19</th>\n",
       "      <td>19.0</td>\n",
       "      <td>98765.05</td>\n",
       "    </tr>\n",
       "    <tr>\n",
       "      <th>20</th>\n",
       "      <td>20.0</td>\n",
       "      <td>87214.90</td>\n",
       "    </tr>\n",
       "    <tr>\n",
       "      <th>21</th>\n",
       "      <td>21.0</td>\n",
       "      <td>93298.60</td>\n",
       "    </tr>\n",
       "    <tr>\n",
       "      <th>22</th>\n",
       "      <td>22.0</td>\n",
       "      <td>91048.83</td>\n",
       "    </tr>\n",
       "    <tr>\n",
       "      <th>23</th>\n",
       "      <td>23.0</td>\n",
       "      <td>92202.93</td>\n",
       "    </tr>\n",
       "    <tr>\n",
       "      <th>24</th>\n",
       "      <td>24.0</td>\n",
       "      <td>85736.90</td>\n",
       "    </tr>\n",
       "    <tr>\n",
       "      <th>25</th>\n",
       "      <td>25.0</td>\n",
       "      <td>92806.91</td>\n",
       "    </tr>\n",
       "    <tr>\n",
       "      <th>26</th>\n",
       "      <td>26.0</td>\n",
       "      <td>87798.87</td>\n",
       "    </tr>\n",
       "    <tr>\n",
       "      <th>27</th>\n",
       "      <td>27.0</td>\n",
       "      <td>70312.50</td>\n",
       "    </tr>\n",
       "    <tr>\n",
       "      <th>28</th>\n",
       "      <td>28.0</td>\n",
       "      <td>81161.92</td>\n",
       "    </tr>\n",
       "    <tr>\n",
       "      <th>29</th>\n",
       "      <td>29.0</td>\n",
       "      <td>76812.43</td>\n",
       "    </tr>\n",
       "  </tbody>\n",
       "</table>\n",
       "</div>"
      ],
      "text/plain": [
       "    Расстояние до центра, км  Средняя цена за м2, руб.\n",
       "0                        0.0                 179245.55\n",
       "1                        1.0                 134656.65\n",
       "2                        2.0                 140735.73\n",
       "3                        3.0                 116081.01\n",
       "4                        4.0                 125364.74\n",
       "5                        5.0                 133128.29\n",
       "6                        6.0                 131324.91\n",
       "7                        7.0                 130838.37\n",
       "8                        8.0                 120711.69\n",
       "9                        9.0                 110310.02\n",
       "10                      10.0                 110985.28\n",
       "11                      11.0                 106592.03\n",
       "12                      12.0                 107022.06\n",
       "13                      13.0                 107597.28\n",
       "14                      14.0                 103989.46\n",
       "15                      15.0                 103376.43\n",
       "16                      16.0                  99814.66\n",
       "17                      17.0                  96584.66\n",
       "18                      18.0                  96272.27\n",
       "19                      19.0                  98765.05\n",
       "20                      20.0                  87214.90\n",
       "21                      21.0                  93298.60\n",
       "22                      22.0                  91048.83\n",
       "23                      23.0                  92202.93\n",
       "24                      24.0                  85736.90\n",
       "25                      25.0                  92806.91\n",
       "26                      26.0                  87798.87\n",
       "27                      27.0                  70312.50\n",
       "28                      28.0                  81161.92\n",
       "29                      29.0                  76812.43"
      ]
     },
     "metadata": {},
     "output_type": "display_data"
    }
   ],
   "source": [
    "# для решения этой задачи построим сводную таблицу\n",
    "mean_km_price = data_new[data_new['locality_name']=='Санкт-Петербург']\\\n",
    "        .rename(columns={'cityCenters_nearest_km': 'Расстояние до центра, км', 'price_per_m2': 'Средняя цена за м2, руб.'})\\\n",
    "        .pivot_table(index='Расстояние до центра, км', values='Средняя цена за м2, руб.', aggfunc='mean')\\\n",
    "        .reset_index()\\\n",
    "        .round(2)\n",
    "\n",
    "display(mean_km_price)"
   ]
  },
  {
   "cell_type": "code",
   "execution_count": 73,
   "metadata": {
    "scrolled": true
   },
   "outputs": [
    {
     "data": {
      "image/png": "[encoded data removed]",
      "text/plain": [
       "<Figure size 432x288 with 1 Axes>"
      ]
     },
     "metadata": {
      "needs_background": "light"
     },
     "output_type": "display_data"
    }
   ],
   "source": [
    "# построим столбчатую диаграмму\n",
    "ax = sns.barplot(data=mean_km_price, x='Расстояние до центра, км', y='Средняя цена за м2, руб.', alpha=.7, edgecolor='.2')\n",
    "ax.set_xticklabels(ax.get_xticklabels(), rotation=80, ha=\"right\")\n",
    "plt.tight_layout();"
   ]
  },
  {
   "cell_type": "markdown",
   "metadata": {},
   "source": [
    "По данным на графике можно наблюдать как изменяется цена 1 м2 недвижимости по мере удаления от центра Санкт-Петербурга."
   ]
  },
  {
   "cell_type": "markdown",
   "metadata": {},
   "source": [
    "### Общий вывод:"
   ]
  },
  {
   "cell_type": "markdown",
   "metadata": {},
   "source": [
    "Предоставленные для анализа данные из архива объявлений о продаже квартир в Санкт-Петербурге и соседних населённых пунктах за несколько лет были предварительно обработаны перед работой: \n",
    "+ удалены строки с пропусками в полях \"общее количество этажей\" и \"название населенного пункта\" (суммарно 135 строк);\n",
    "+ пропукси в колонке  \"количество балконов\" заменены на 0 (11519 значений);\n",
    "+ пропуски значений \"высота потолков\" заполнены медианными значениями для конкретных населенных пунктов (9100 значений);\n",
    "+ пропуски в столбце \"жилая площадь\" заполнены медианным значением в соответствии с количеством комнат в квартире (1903 значения);\n",
    "+ пропущенные значения \"площадь кухни\" заполнены исходя из пересчетного коэффициента 0.174 относительно значений столбца \"общая площадь квартиры\" (2278 значений);\n",
    "+ пропуски в столбце \"является ли апартаментами\" заменены на False (20924 значения);\n",
    "+ удалены 59 неявных дубликата в названиях населенных пунктов;\n",
    "+ в общей сложности, на этапе предобработки потеряно ~9.7% данных.\n",
    "\n",
    "<br>\n",
    "В результате представленного исследования были выделены ключевые параметры, на которые стоит обращать внимание при построении аналитической системы скрининга объявлений:\n",
    "\n",
    "1. **Общая площадь помещения, жилая прощадь, площадь кухни**\n",
    "<br>Данные параметры положительно коррелируют с ценой объекта недвижимости (R>0.5).\n",
    "2. **Населенный пункт и удаленность от центра города**\n",
    "<br>Самые высокие средние цены за м2 обнаружены в г. Санкт-Петербурге, г. Пушкине, г. Кудрово и пос. Парголово (>90 тыс. за м2). Стоимость объекта недвижимости тем выше, чем ближе он располагается к центру города.\n",
    "3. **Количество комнат в квартире**\n",
    "<br>Наибольшая стоимость отмечается у трех- и двухкомнатных квартир, следом идут однокомнатные и четырехкомнатные.\n",
    "4. **Тип этажа, на котором расположена квартира (первый, последний, другой)** \n",
    "<br>Квартиры на первом и последнем этажах стоят меньше.\n",
    "5. **Общая экономическая ситуация в стране**\n",
    "<br>Необходимо изначально определять, существует ли тренд к росту цен на недвижимость в текущем году по сравнению с предыдущими.\n",
    "\n",
    "<br>\n",
    "В ходе проведенного исследования было также обнаружено:\n",
    "\n",
    "+ Большинство квартир, выставленных на продажу, имеют общую площадь от 30 до 50 м2.\n",
    "+ Наибольшее количество предложений сосредоточено в диапазоне от ~2,5 млн. до ~6 млн. руб.\n",
    "+ Ни день недели, ни месяц, ни год публикации объявления не оказывает существенного влияния на цену.\n",
    "+ Наибольшее количество предложений о продаже квартир появляется в конце зимы и весной (февраль, марти и апрель).\n",
    "+ Обнаружено статистически значимое увеличение цены на объекты недвижимости в 2019 году по сравнению с 2018 (p-level t-критерия много меньше 0.05)\n",
    "+ Медианное значение времени снятия объявления - 91 день. Если объявление не было снято к ~480 дню, такую продажу можно считать необычайно долгой."
   ]
  }
 ],
 "metadata": {
  "ExecuteTimeLog": [
   {
    "duration": 1283,
    "start_time": "2022-07-21T19:13:07.573Z"
   },
   {
    "duration": 132,
    "start_time": "2022-07-21T19:13:08.859Z"
   },
   {
    "duration": 18,
    "start_time": "2022-07-21T19:13:08.993Z"
   },
   {
    "duration": 3008,
    "start_time": "2022-07-21T19:13:09.013Z"
   },
   {
    "duration": 32,
    "start_time": "2022-07-21T19:13:12.023Z"
   },
   {
    "duration": 61,
    "start_time": "2022-07-21T19:13:12.057Z"
   },
   {
    "duration": 10,
    "start_time": "2022-07-21T19:13:12.119Z"
   },
   {
    "duration": 4,
    "start_time": "2022-07-21T19:13:12.131Z"
   },
   {
    "duration": 84,
    "start_time": "2022-07-21T19:13:12.137Z"
   },
   {
    "duration": 8,
    "start_time": "2022-07-21T19:13:12.224Z"
   },
   {
    "duration": 15,
    "start_time": "2022-07-21T19:13:12.234Z"
   },
   {
    "duration": 461,
    "start_time": "2022-07-21T19:13:12.251Z"
   },
   {
    "duration": 8,
    "start_time": "2022-07-21T19:13:12.713Z"
   },
   {
    "duration": 4,
    "start_time": "2022-07-21T19:13:12.723Z"
   },
   {
    "duration": 562,
    "start_time": "2022-07-21T19:13:12.729Z"
   },
   {
    "duration": 42,
    "start_time": "2022-07-21T19:13:13.293Z"
   },
   {
    "duration": 3,
    "start_time": "2022-07-21T19:13:13.337Z"
   },
   {
    "duration": 70,
    "start_time": "2022-07-21T19:13:13.342Z"
   },
   {
    "duration": 32,
    "start_time": "2022-07-21T19:13:13.414Z"
   },
   {
    "duration": 13,
    "start_time": "2022-07-21T19:13:13.448Z"
   },
   {
    "duration": 1539,
    "start_time": "2022-07-21T19:13:13.463Z"
   },
   {
    "duration": 10,
    "start_time": "2022-07-21T19:13:15.004Z"
   },
   {
    "duration": 10,
    "start_time": "2022-07-21T19:13:15.016Z"
   },
   {
    "duration": 11,
    "start_time": "2022-07-21T19:13:15.028Z"
   },
   {
    "duration": 10,
    "start_time": "2022-07-21T19:13:15.041Z"
   },
   {
    "duration": 19,
    "start_time": "2022-07-21T19:13:15.053Z"
   },
   {
    "duration": 10,
    "start_time": "2022-07-21T19:13:15.074Z"
   },
   {
    "duration": 4,
    "start_time": "2022-07-21T19:13:15.113Z"
   },
   {
    "duration": 13,
    "start_time": "2022-07-21T19:13:15.119Z"
   },
   {
    "duration": 10,
    "start_time": "2022-07-21T19:13:15.134Z"
   },
   {
    "duration": 26,
    "start_time": "2022-07-21T19:13:15.146Z"
   },
   {
    "duration": 43,
    "start_time": "2022-07-21T19:13:15.174Z"
   },
   {
    "duration": 25,
    "start_time": "2022-07-21T19:13:15.220Z"
   },
   {
    "duration": 191,
    "start_time": "2022-07-21T19:13:15.247Z"
   },
   {
    "duration": 8,
    "start_time": "2022-07-21T19:13:15.440Z"
   },
   {
    "duration": 9,
    "start_time": "2022-07-21T19:13:15.450Z"
   },
   {
    "duration": 8,
    "start_time": "2022-07-21T19:13:15.461Z"
   },
   {
    "duration": 155,
    "start_time": "2022-07-21T19:13:15.471Z"
   },
   {
    "duration": 229,
    "start_time": "2022-07-21T19:13:15.628Z"
   },
   {
    "duration": 12,
    "start_time": "2022-07-21T19:13:15.858Z"
   },
   {
    "duration": 5,
    "start_time": "2022-07-21T19:13:15.872Z"
   },
   {
    "duration": 11,
    "start_time": "2022-07-21T19:13:15.879Z"
   },
   {
    "duration": 27,
    "start_time": "2022-07-21T19:13:15.891Z"
   },
   {
    "duration": 9,
    "start_time": "2022-07-21T19:13:15.920Z"
   },
   {
    "duration": 6,
    "start_time": "2022-07-21T19:13:15.931Z"
   },
   {
    "duration": 18,
    "start_time": "2022-07-21T19:13:15.939Z"
   },
   {
    "duration": 321,
    "start_time": "2022-07-21T19:13:15.959Z"
   },
   {
    "duration": 6,
    "start_time": "2022-07-21T19:13:16.283Z"
   },
   {
    "duration": 28,
    "start_time": "2022-07-21T19:13:16.291Z"
   },
   {
    "duration": 549,
    "start_time": "2022-07-21T19:13:16.321Z"
   },
   {
    "duration": 383,
    "start_time": "2022-07-21T19:13:16.873Z"
   },
   {
    "duration": 413,
    "start_time": "2022-07-21T19:13:17.258Z"
   },
   {
    "duration": 872,
    "start_time": "2022-07-21T19:13:17.673Z"
   },
   {
    "duration": 0,
    "start_time": "2022-07-21T19:13:18.546Z"
   },
   {
    "duration": 0,
    "start_time": "2022-07-21T19:13:18.547Z"
   },
   {
    "duration": 0,
    "start_time": "2022-07-21T19:13:18.549Z"
   },
   {
    "duration": 0,
    "start_time": "2022-07-21T19:13:18.550Z"
   },
   {
    "duration": 0,
    "start_time": "2022-07-21T19:13:18.552Z"
   },
   {
    "duration": 0,
    "start_time": "2022-07-21T19:13:18.553Z"
   },
   {
    "duration": 0,
    "start_time": "2022-07-21T19:13:18.554Z"
   },
   {
    "duration": 0,
    "start_time": "2022-07-21T19:13:18.555Z"
   },
   {
    "duration": 0,
    "start_time": "2022-07-21T19:13:18.556Z"
   },
   {
    "duration": 0,
    "start_time": "2022-07-21T19:13:18.557Z"
   },
   {
    "duration": 0,
    "start_time": "2022-07-21T19:13:18.559Z"
   },
   {
    "duration": 0,
    "start_time": "2022-07-21T19:13:18.560Z"
   },
   {
    "duration": 0,
    "start_time": "2022-07-21T19:13:18.561Z"
   },
   {
    "duration": 0,
    "start_time": "2022-07-21T19:13:18.562Z"
   },
   {
    "duration": 0,
    "start_time": "2022-07-21T19:13:18.563Z"
   },
   {
    "duration": 0,
    "start_time": "2022-07-21T19:13:18.564Z"
   },
   {
    "duration": 0,
    "start_time": "2022-07-21T19:13:18.565Z"
   },
   {
    "duration": 0,
    "start_time": "2022-07-21T19:13:18.566Z"
   },
   {
    "duration": 0,
    "start_time": "2022-07-21T19:13:18.567Z"
   },
   {
    "duration": 0,
    "start_time": "2022-07-21T19:13:18.569Z"
   },
   {
    "duration": 1244,
    "start_time": "2022-07-21T19:39:11.948Z"
   },
   {
    "duration": 627,
    "start_time": "2022-07-21T19:39:13.200Z"
   },
   {
    "duration": 18,
    "start_time": "2022-07-21T19:39:13.829Z"
   },
   {
    "duration": 1995,
    "start_time": "2022-07-21T19:39:13.849Z"
   },
   {
    "duration": 22,
    "start_time": "2022-07-21T19:39:15.846Z"
   },
   {
    "duration": 8,
    "start_time": "2022-07-21T19:39:15.870Z"
   },
   {
    "duration": 8,
    "start_time": "2022-07-21T19:39:15.880Z"
   },
   {
    "duration": 19,
    "start_time": "2022-07-21T19:39:15.890Z"
   },
   {
    "duration": 39,
    "start_time": "2022-07-21T19:39:15.910Z"
   },
   {
    "duration": 7,
    "start_time": "2022-07-21T19:39:15.952Z"
   },
   {
    "duration": 11,
    "start_time": "2022-07-21T19:39:15.960Z"
   },
   {
    "duration": 306,
    "start_time": "2022-07-21T19:39:15.973Z"
   },
   {
    "duration": 7,
    "start_time": "2022-07-21T19:39:16.281Z"
   },
   {
    "duration": 4,
    "start_time": "2022-07-21T19:39:16.300Z"
   },
   {
    "duration": 473,
    "start_time": "2022-07-21T19:39:16.305Z"
   },
   {
    "duration": 38,
    "start_time": "2022-07-21T19:39:16.780Z"
   },
   {
    "duration": 4,
    "start_time": "2022-07-21T19:39:16.820Z"
   },
   {
    "duration": 57,
    "start_time": "2022-07-21T19:39:16.825Z"
   },
   {
    "duration": 42,
    "start_time": "2022-07-21T19:39:16.883Z"
   },
   {
    "duration": 9,
    "start_time": "2022-07-21T19:39:16.927Z"
   },
   {
    "duration": 1344,
    "start_time": "2022-07-21T19:39:16.938Z"
   },
   {
    "duration": 5,
    "start_time": "2022-07-21T19:39:18.284Z"
   },
   {
    "duration": 12,
    "start_time": "2022-07-21T19:39:18.291Z"
   },
   {
    "duration": 6,
    "start_time": "2022-07-21T19:39:18.305Z"
   },
   {
    "duration": 15,
    "start_time": "2022-07-21T19:39:18.313Z"
   },
   {
    "duration": 24,
    "start_time": "2022-07-21T19:39:18.329Z"
   },
   {
    "duration": 9,
    "start_time": "2022-07-21T19:39:18.355Z"
   },
   {
    "duration": 6,
    "start_time": "2022-07-21T19:39:18.369Z"
   },
   {
    "duration": 40,
    "start_time": "2022-07-21T19:39:18.377Z"
   },
   {
    "duration": 20,
    "start_time": "2022-07-21T19:39:18.419Z"
   },
   {
    "duration": 32,
    "start_time": "2022-07-21T19:39:18.440Z"
   },
   {
    "duration": 13,
    "start_time": "2022-07-21T19:39:18.474Z"
   },
   {
    "duration": 22,
    "start_time": "2022-07-21T19:39:18.489Z"
   },
   {
    "duration": 156,
    "start_time": "2022-07-21T19:39:18.513Z"
   },
   {
    "duration": 9,
    "start_time": "2022-07-21T19:39:18.671Z"
   },
   {
    "duration": 29,
    "start_time": "2022-07-21T19:39:18.681Z"
   },
   {
    "duration": 7,
    "start_time": "2022-07-21T19:39:18.711Z"
   },
   {
    "duration": 118,
    "start_time": "2022-07-21T19:39:18.719Z"
   },
   {
    "duration": 186,
    "start_time": "2022-07-21T19:39:18.839Z"
   },
   {
    "duration": 11,
    "start_time": "2022-07-21T19:39:19.026Z"
   },
   {
    "duration": 19,
    "start_time": "2022-07-21T19:39:19.039Z"
   },
   {
    "duration": 14,
    "start_time": "2022-07-21T19:39:19.060Z"
   },
   {
    "duration": 21,
    "start_time": "2022-07-21T19:39:19.075Z"
   },
   {
    "duration": 16,
    "start_time": "2022-07-21T19:39:19.098Z"
   },
   {
    "duration": 29,
    "start_time": "2022-07-21T19:39:19.116Z"
   },
   {
    "duration": 16,
    "start_time": "2022-07-21T19:39:19.146Z"
   },
   {
    "duration": 284,
    "start_time": "2022-07-21T19:39:19.163Z"
   },
   {
    "duration": 5,
    "start_time": "2022-07-21T19:39:19.448Z"
   },
   {
    "duration": 39,
    "start_time": "2022-07-21T19:39:19.454Z"
   },
   {
    "duration": 340,
    "start_time": "2022-07-21T19:39:19.495Z"
   },
   {
    "duration": 418,
    "start_time": "2022-07-21T19:39:19.836Z"
   },
   {
    "duration": 405,
    "start_time": "2022-07-21T19:39:20.256Z"
   },
   {
    "duration": 732,
    "start_time": "2022-07-21T19:39:20.662Z"
   },
   {
    "duration": 0,
    "start_time": "2022-07-21T19:39:21.395Z"
   },
   {
    "duration": 0,
    "start_time": "2022-07-21T19:39:21.400Z"
   },
   {
    "duration": 0,
    "start_time": "2022-07-21T19:39:21.401Z"
   },
   {
    "duration": 0,
    "start_time": "2022-07-21T19:39:21.402Z"
   },
   {
    "duration": 0,
    "start_time": "2022-07-21T19:39:21.403Z"
   },
   {
    "duration": 0,
    "start_time": "2022-07-21T19:39:21.405Z"
   },
   {
    "duration": 0,
    "start_time": "2022-07-21T19:39:21.406Z"
   },
   {
    "duration": 0,
    "start_time": "2022-07-21T19:39:21.407Z"
   },
   {
    "duration": 0,
    "start_time": "2022-07-21T19:39:21.408Z"
   },
   {
    "duration": 0,
    "start_time": "2022-07-21T19:39:21.409Z"
   },
   {
    "duration": 0,
    "start_time": "2022-07-21T19:39:21.410Z"
   },
   {
    "duration": 0,
    "start_time": "2022-07-21T19:39:21.412Z"
   },
   {
    "duration": 0,
    "start_time": "2022-07-21T19:39:21.413Z"
   },
   {
    "duration": 0,
    "start_time": "2022-07-21T19:39:21.414Z"
   },
   {
    "duration": 0,
    "start_time": "2022-07-21T19:39:21.416Z"
   },
   {
    "duration": 0,
    "start_time": "2022-07-21T19:39:21.417Z"
   },
   {
    "duration": 0,
    "start_time": "2022-07-21T19:39:21.419Z"
   },
   {
    "duration": 0,
    "start_time": "2022-07-21T19:39:21.420Z"
   },
   {
    "duration": 0,
    "start_time": "2022-07-21T19:39:21.421Z"
   },
   {
    "duration": 0,
    "start_time": "2022-07-21T19:39:21.423Z"
   },
   {
    "duration": 383,
    "start_time": "2022-07-21T19:42:12.215Z"
   },
   {
    "duration": 724,
    "start_time": "2022-07-21T19:42:46.468Z"
   },
   {
    "duration": 164,
    "start_time": "2022-07-21T19:43:31.324Z"
   },
   {
    "duration": 340,
    "start_time": "2022-07-21T19:43:35.809Z"
   },
   {
    "duration": 369,
    "start_time": "2022-07-21T19:43:38.119Z"
   },
   {
    "duration": 113,
    "start_time": "2022-07-21T19:43:39.728Z"
   },
   {
    "duration": 336,
    "start_time": "2022-07-21T19:43:40.510Z"
   },
   {
    "duration": 380,
    "start_time": "2022-07-21T19:43:41.076Z"
   },
   {
    "duration": 397,
    "start_time": "2022-07-21T19:43:41.486Z"
   },
   {
    "duration": 168,
    "start_time": "2022-07-21T19:43:41.885Z"
   },
   {
    "duration": 290,
    "start_time": "2022-07-21T19:43:42.388Z"
   },
   {
    "duration": 391,
    "start_time": "2022-07-21T19:43:45.471Z"
   },
   {
    "duration": 11,
    "start_time": "2022-07-21T19:43:46.104Z"
   },
   {
    "duration": 9,
    "start_time": "2022-07-21T19:43:47.648Z"
   },
   {
    "duration": 4801,
    "start_time": "2022-07-21T19:43:48.191Z"
   },
   {
    "duration": 262,
    "start_time": "2022-07-21T19:43:52.994Z"
   },
   {
    "duration": 1130,
    "start_time": "2022-07-21T19:43:53.258Z"
   },
   {
    "duration": 0,
    "start_time": "2022-07-21T19:43:54.390Z"
   },
   {
    "duration": 18,
    "start_time": "2022-07-21T19:43:58.169Z"
   },
   {
    "duration": 295,
    "start_time": "2022-07-21T19:44:00.008Z"
   },
   {
    "duration": 22,
    "start_time": "2022-07-21T19:44:02.670Z"
   },
   {
    "duration": 419,
    "start_time": "2022-07-21T19:44:03.415Z"
   },
   {
    "duration": 1138,
    "start_time": "2022-07-21T20:10:46.527Z"
   },
   {
    "duration": 4,
    "start_time": "2022-07-21T20:10:59.365Z"
   },
   {
    "duration": 1102,
    "start_time": "2022-07-21T20:11:10.541Z"
   },
   {
    "duration": 108,
    "start_time": "2022-07-21T20:11:11.645Z"
   },
   {
    "duration": 13,
    "start_time": "2022-07-21T20:11:11.755Z"
   },
   {
    "duration": 1862,
    "start_time": "2022-07-21T20:11:11.770Z"
   },
   {
    "duration": 22,
    "start_time": "2022-07-21T20:11:13.634Z"
   },
   {
    "duration": 11,
    "start_time": "2022-07-21T20:11:13.658Z"
   },
   {
    "duration": 11,
    "start_time": "2022-07-21T20:11:13.671Z"
   },
   {
    "duration": 4,
    "start_time": "2022-07-21T20:11:13.683Z"
   },
   {
    "duration": 31,
    "start_time": "2022-07-21T20:11:13.688Z"
   },
   {
    "duration": 7,
    "start_time": "2022-07-21T20:11:13.723Z"
   },
   {
    "duration": 8,
    "start_time": "2022-07-21T20:11:13.732Z"
   },
   {
    "duration": 349,
    "start_time": "2022-07-21T20:11:13.742Z"
   },
   {
    "duration": 9,
    "start_time": "2022-07-21T20:11:14.092Z"
   },
   {
    "duration": 4,
    "start_time": "2022-07-21T20:11:14.102Z"
   },
   {
    "duration": 527,
    "start_time": "2022-07-21T20:11:14.108Z"
   },
   {
    "duration": 29,
    "start_time": "2022-07-21T20:11:14.637Z"
   },
   {
    "duration": 4,
    "start_time": "2022-07-21T20:11:14.668Z"
   },
   {
    "duration": 67,
    "start_time": "2022-07-21T20:11:14.674Z"
   },
   {
    "duration": 29,
    "start_time": "2022-07-21T20:11:14.742Z"
   },
   {
    "duration": 10,
    "start_time": "2022-07-21T20:11:14.772Z"
   },
   {
    "duration": 1457,
    "start_time": "2022-07-21T20:11:14.784Z"
   },
   {
    "duration": 6,
    "start_time": "2022-07-21T20:11:16.243Z"
   },
   {
    "duration": 12,
    "start_time": "2022-07-21T20:11:16.250Z"
   },
   {
    "duration": 7,
    "start_time": "2022-07-21T20:11:16.264Z"
   },
   {
    "duration": 10,
    "start_time": "2022-07-21T20:11:16.273Z"
   },
   {
    "duration": 23,
    "start_time": "2022-07-21T20:11:16.285Z"
   },
   {
    "duration": 9,
    "start_time": "2022-07-21T20:11:16.310Z"
   },
   {
    "duration": 3,
    "start_time": "2022-07-21T20:11:16.323Z"
   },
   {
    "duration": 14,
    "start_time": "2022-07-21T20:11:16.327Z"
   },
   {
    "duration": 13,
    "start_time": "2022-07-21T20:11:16.343Z"
   },
   {
    "duration": 20,
    "start_time": "2022-07-21T20:11:16.357Z"
   },
   {
    "duration": 29,
    "start_time": "2022-07-21T20:11:16.378Z"
   },
   {
    "duration": 5,
    "start_time": "2022-07-21T20:11:16.409Z"
   },
   {
    "duration": 165,
    "start_time": "2022-07-21T20:11:16.415Z"
   },
   {
    "duration": 7,
    "start_time": "2022-07-21T20:11:16.581Z"
   },
   {
    "duration": 16,
    "start_time": "2022-07-21T20:11:16.589Z"
   },
   {
    "duration": 14,
    "start_time": "2022-07-21T20:11:16.607Z"
   },
   {
    "duration": 117,
    "start_time": "2022-07-21T20:11:16.623Z"
   },
   {
    "duration": 204,
    "start_time": "2022-07-21T20:11:16.742Z"
   },
   {
    "duration": 10,
    "start_time": "2022-07-21T20:11:16.948Z"
   },
   {
    "duration": 4,
    "start_time": "2022-07-21T20:11:16.960Z"
   },
   {
    "duration": 6,
    "start_time": "2022-07-21T20:11:16.966Z"
   },
   {
    "duration": 28,
    "start_time": "2022-07-21T20:11:16.973Z"
   },
   {
    "duration": 6,
    "start_time": "2022-07-21T20:11:17.002Z"
   },
   {
    "duration": 13,
    "start_time": "2022-07-21T20:11:17.009Z"
   },
   {
    "duration": 6,
    "start_time": "2022-07-21T20:11:17.023Z"
   },
   {
    "duration": 283,
    "start_time": "2022-07-21T20:11:17.030Z"
   },
   {
    "duration": 4,
    "start_time": "2022-07-21T20:11:17.315Z"
   },
   {
    "duration": 28,
    "start_time": "2022-07-21T20:11:17.320Z"
   },
   {
    "duration": 387,
    "start_time": "2022-07-21T20:11:17.349Z"
   },
   {
    "duration": 312,
    "start_time": "2022-07-21T20:11:17.738Z"
   },
   {
    "duration": 403,
    "start_time": "2022-07-21T20:11:18.051Z"
   },
   {
    "duration": 819,
    "start_time": "2022-07-21T20:11:18.456Z"
   },
   {
    "duration": 0,
    "start_time": "2022-07-21T20:11:19.277Z"
   },
   {
    "duration": 0,
    "start_time": "2022-07-21T20:11:19.278Z"
   },
   {
    "duration": 0,
    "start_time": "2022-07-21T20:11:19.279Z"
   },
   {
    "duration": 0,
    "start_time": "2022-07-21T20:11:19.280Z"
   },
   {
    "duration": 0,
    "start_time": "2022-07-21T20:11:19.282Z"
   },
   {
    "duration": 0,
    "start_time": "2022-07-21T20:11:19.283Z"
   },
   {
    "duration": 0,
    "start_time": "2022-07-21T20:11:19.284Z"
   },
   {
    "duration": 0,
    "start_time": "2022-07-21T20:11:19.285Z"
   },
   {
    "duration": 0,
    "start_time": "2022-07-21T20:11:19.301Z"
   },
   {
    "duration": 0,
    "start_time": "2022-07-21T20:11:19.302Z"
   },
   {
    "duration": 0,
    "start_time": "2022-07-21T20:11:19.303Z"
   },
   {
    "duration": 0,
    "start_time": "2022-07-21T20:11:19.304Z"
   },
   {
    "duration": 0,
    "start_time": "2022-07-21T20:11:19.305Z"
   },
   {
    "duration": 0,
    "start_time": "2022-07-21T20:11:19.306Z"
   },
   {
    "duration": 0,
    "start_time": "2022-07-21T20:11:19.307Z"
   },
   {
    "duration": 0,
    "start_time": "2022-07-21T20:11:19.308Z"
   },
   {
    "duration": 0,
    "start_time": "2022-07-21T20:11:19.309Z"
   },
   {
    "duration": 0,
    "start_time": "2022-07-21T20:11:19.311Z"
   },
   {
    "duration": 0,
    "start_time": "2022-07-21T20:11:19.313Z"
   },
   {
    "duration": 0,
    "start_time": "2022-07-21T20:11:19.315Z"
   },
   {
    "duration": 56,
    "start_time": "2022-07-21T20:17:35.608Z"
   },
   {
    "duration": 151,
    "start_time": "2022-07-21T20:20:29.371Z"
   },
   {
    "duration": 439,
    "start_time": "2022-07-21T20:20:29.524Z"
   },
   {
    "duration": 387,
    "start_time": "2022-07-21T20:20:29.965Z"
   },
   {
    "duration": 232,
    "start_time": "2022-07-21T20:20:30.354Z"
   },
   {
    "duration": 458,
    "start_time": "2022-07-21T20:20:30.589Z"
   },
   {
    "duration": 433,
    "start_time": "2022-07-21T20:20:31.049Z"
   },
   {
    "duration": 352,
    "start_time": "2022-07-21T20:20:31.484Z"
   },
   {
    "duration": 183,
    "start_time": "2022-07-21T20:20:31.838Z"
   },
   {
    "duration": 319,
    "start_time": "2022-07-21T20:20:32.023Z"
   },
   {
    "duration": 0,
    "start_time": "2022-07-21T20:20:32.344Z"
   },
   {
    "duration": 0,
    "start_time": "2022-07-21T20:20:32.346Z"
   },
   {
    "duration": 0,
    "start_time": "2022-07-21T20:20:32.348Z"
   },
   {
    "duration": 0,
    "start_time": "2022-07-21T20:20:32.350Z"
   },
   {
    "duration": 0,
    "start_time": "2022-07-21T20:20:32.351Z"
   },
   {
    "duration": 0,
    "start_time": "2022-07-21T20:20:32.353Z"
   },
   {
    "duration": 0,
    "start_time": "2022-07-21T20:20:32.354Z"
   },
   {
    "duration": 0,
    "start_time": "2022-07-21T20:20:32.356Z"
   },
   {
    "duration": 0,
    "start_time": "2022-07-21T20:20:32.357Z"
   },
   {
    "duration": 0,
    "start_time": "2022-07-21T20:20:32.359Z"
   },
   {
    "duration": 0,
    "start_time": "2022-07-21T20:20:32.360Z"
   },
   {
    "duration": 474,
    "start_time": "2022-07-21T20:20:55.076Z"
   },
   {
    "duration": 12,
    "start_time": "2022-07-21T20:20:55.552Z"
   },
   {
    "duration": 10,
    "start_time": "2022-07-21T20:20:55.565Z"
   },
   {
    "duration": 4802,
    "start_time": "2022-07-21T20:20:55.577Z"
   },
   {
    "duration": 357,
    "start_time": "2022-07-21T20:21:00.381Z"
   },
   {
    "duration": 1207,
    "start_time": "2022-07-21T20:21:00.740Z"
   },
   {
    "duration": 0,
    "start_time": "2022-07-21T20:21:01.948Z"
   },
   {
    "duration": 0,
    "start_time": "2022-07-21T20:21:01.950Z"
   },
   {
    "duration": 0,
    "start_time": "2022-07-21T20:21:01.952Z"
   },
   {
    "duration": 0,
    "start_time": "2022-07-21T20:21:01.954Z"
   },
   {
    "duration": 0,
    "start_time": "2022-07-21T20:21:01.955Z"
   },
   {
    "duration": 10,
    "start_time": "2022-07-21T20:21:10.491Z"
   },
   {
    "duration": 34,
    "start_time": "2022-07-21T20:21:10.520Z"
   },
   {
    "duration": 306,
    "start_time": "2022-07-21T20:21:10.557Z"
   },
   {
    "duration": 42,
    "start_time": "2022-07-21T20:21:10.865Z"
   },
   {
    "duration": 422,
    "start_time": "2022-07-21T20:21:10.909Z"
   }
  ],
  "kernelspec": {
   "display_name": "Python 3 (ipykernel)",
   "language": "python",
   "name": "python3"
  },
  "language_info": {
   "codemirror_mode": {
    "name": "ipython",
    "version": 3
   },
   "file_extension": ".py",
   "mimetype": "text/x-python",
   "name": "python",
   "nbconvert_exporter": "python",
   "pygments_lexer": "ipython3",
   "version": "3.9.7"
  },
  "toc": {
   "base_numbering": 1,
   "nav_menu": {},
   "number_sections": true,
   "sideBar": true,
   "skip_h1_title": true,
   "title_cell": "Table of Contents",
   "title_sidebar": "Contents",
   "toc_cell": false,
   "toc_position": {
    "height": "calc(100% - 180px)",
    "left": "10px",
    "top": "150px",
    "width": "302.391px"
   },
   "toc_section_display": true,
   "toc_window_display": true
  }
 },
 "nbformat": 4,
 "nbformat_minor": 2
}
